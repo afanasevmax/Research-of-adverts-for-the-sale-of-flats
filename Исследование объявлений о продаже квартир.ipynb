{
 "cells": [
  {
   "cell_type": "markdown",
   "metadata": {
    "id": "-VFbjcb3Awb7"
   },
   "source": [
    "# Исследование объявлений о продаже квартир\n",
    "\n",
    "В вашем распоряжении данные сервиса Яндекс Недвижимость — архив объявлений о продаже квартир в Санкт-Петербурге и соседних населённых пунктах за несколько лет. Вам нужно научиться определять рыночную стоимость объектов недвижимости. Для этого проведите исследовательский анализ данных и установите параметры, влияющие на цену объектов. Это позволит построить автоматизированную систему: она отследит аномалии и мошенническую деятельность.\n",
    "\n",
    "По каждой квартире на продажу доступны два вида данных. Первые вписаны пользователем, вторые — получены автоматически на основе картографических данных. Например, расстояние до центра, аэропорта и других объектов — эти данные автоматически получены из геосервисов. Количество парков и водоёмов также заполняется без участия пользователя."
   ]
  },
  {
   "cell_type": "markdown",
   "metadata": {
    "id": "aeFLH07FAwb9"
   },
   "source": [
    "### Откройте файл с данными и изучите общую информацию"
   ]
  },
  {
   "cell_type": "code",
   "execution_count": 1,
   "metadata": {
    "id": "7MZxY65pAwb9"
   },
   "outputs": [],
   "source": [
    "# Импортирую библиотеку pandas\n",
    "import pandas as pd"
   ]
  },
  {
   "cell_type": "code",
   "execution_count": 2,
   "metadata": {},
   "outputs": [],
   "source": [
    "# Для работы с графиками необходимо подгрузить библиотеку(это понадобится позже)\n",
    "import matplotlib.pyplot as plt"
   ]
  },
  {
   "cell_type": "code",
   "execution_count": 3,
   "metadata": {},
   "outputs": [],
   "source": [
    "# Читаю csv-файл\n",
    "data = pd.read_csv('/datasets/real_estate_data.csv', sep='\\t')"
   ]
  },
  {
   "cell_type": "code",
   "execution_count": 4,
   "metadata": {},
   "outputs": [
    {
     "data": {
      "text/html": [
       "<div>\n",
       "<style scoped>\n",
       "    .dataframe tbody tr th:only-of-type {\n",
       "        vertical-align: middle;\n",
       "    }\n",
       "\n",
       "    .dataframe tbody tr th {\n",
       "        vertical-align: top;\n",
       "    }\n",
       "\n",
       "    .dataframe thead th {\n",
       "        text-align: right;\n",
       "    }\n",
       "</style>\n",
       "<table border=\"1\" class=\"dataframe\">\n",
       "  <thead>\n",
       "    <tr style=\"text-align: right;\">\n",
       "      <th></th>\n",
       "      <th>total_images</th>\n",
       "      <th>last_price</th>\n",
       "      <th>total_area</th>\n",
       "      <th>first_day_exposition</th>\n",
       "      <th>rooms</th>\n",
       "      <th>ceiling_height</th>\n",
       "      <th>floors_total</th>\n",
       "      <th>living_area</th>\n",
       "      <th>floor</th>\n",
       "      <th>is_apartment</th>\n",
       "      <th>...</th>\n",
       "      <th>kitchen_area</th>\n",
       "      <th>balcony</th>\n",
       "      <th>locality_name</th>\n",
       "      <th>airports_nearest</th>\n",
       "      <th>cityCenters_nearest</th>\n",
       "      <th>parks_around3000</th>\n",
       "      <th>parks_nearest</th>\n",
       "      <th>ponds_around3000</th>\n",
       "      <th>ponds_nearest</th>\n",
       "      <th>days_exposition</th>\n",
       "    </tr>\n",
       "  </thead>\n",
       "  <tbody>\n",
       "    <tr>\n",
       "      <th>0</th>\n",
       "      <td>20</td>\n",
       "      <td>13000000.0</td>\n",
       "      <td>108.0</td>\n",
       "      <td>2019-03-07T00:00:00</td>\n",
       "      <td>3</td>\n",
       "      <td>2.70</td>\n",
       "      <td>16.0</td>\n",
       "      <td>51.0</td>\n",
       "      <td>8</td>\n",
       "      <td>NaN</td>\n",
       "      <td>...</td>\n",
       "      <td>25.0</td>\n",
       "      <td>NaN</td>\n",
       "      <td>Санкт-Петербург</td>\n",
       "      <td>18863.0</td>\n",
       "      <td>16028.0</td>\n",
       "      <td>1.0</td>\n",
       "      <td>482.0</td>\n",
       "      <td>2.0</td>\n",
       "      <td>755.0</td>\n",
       "      <td>NaN</td>\n",
       "    </tr>\n",
       "    <tr>\n",
       "      <th>1</th>\n",
       "      <td>7</td>\n",
       "      <td>3350000.0</td>\n",
       "      <td>40.4</td>\n",
       "      <td>2018-12-04T00:00:00</td>\n",
       "      <td>1</td>\n",
       "      <td>NaN</td>\n",
       "      <td>11.0</td>\n",
       "      <td>18.6</td>\n",
       "      <td>1</td>\n",
       "      <td>NaN</td>\n",
       "      <td>...</td>\n",
       "      <td>11.0</td>\n",
       "      <td>2.0</td>\n",
       "      <td>посёлок Шушары</td>\n",
       "      <td>12817.0</td>\n",
       "      <td>18603.0</td>\n",
       "      <td>0.0</td>\n",
       "      <td>NaN</td>\n",
       "      <td>0.0</td>\n",
       "      <td>NaN</td>\n",
       "      <td>81.0</td>\n",
       "    </tr>\n",
       "    <tr>\n",
       "      <th>2</th>\n",
       "      <td>10</td>\n",
       "      <td>5196000.0</td>\n",
       "      <td>56.0</td>\n",
       "      <td>2015-08-20T00:00:00</td>\n",
       "      <td>2</td>\n",
       "      <td>NaN</td>\n",
       "      <td>5.0</td>\n",
       "      <td>34.3</td>\n",
       "      <td>4</td>\n",
       "      <td>NaN</td>\n",
       "      <td>...</td>\n",
       "      <td>8.3</td>\n",
       "      <td>0.0</td>\n",
       "      <td>Санкт-Петербург</td>\n",
       "      <td>21741.0</td>\n",
       "      <td>13933.0</td>\n",
       "      <td>1.0</td>\n",
       "      <td>90.0</td>\n",
       "      <td>2.0</td>\n",
       "      <td>574.0</td>\n",
       "      <td>558.0</td>\n",
       "    </tr>\n",
       "    <tr>\n",
       "      <th>3</th>\n",
       "      <td>0</td>\n",
       "      <td>64900000.0</td>\n",
       "      <td>159.0</td>\n",
       "      <td>2015-07-24T00:00:00</td>\n",
       "      <td>3</td>\n",
       "      <td>NaN</td>\n",
       "      <td>14.0</td>\n",
       "      <td>NaN</td>\n",
       "      <td>9</td>\n",
       "      <td>NaN</td>\n",
       "      <td>...</td>\n",
       "      <td>NaN</td>\n",
       "      <td>0.0</td>\n",
       "      <td>Санкт-Петербург</td>\n",
       "      <td>28098.0</td>\n",
       "      <td>6800.0</td>\n",
       "      <td>2.0</td>\n",
       "      <td>84.0</td>\n",
       "      <td>3.0</td>\n",
       "      <td>234.0</td>\n",
       "      <td>424.0</td>\n",
       "    </tr>\n",
       "    <tr>\n",
       "      <th>4</th>\n",
       "      <td>2</td>\n",
       "      <td>10000000.0</td>\n",
       "      <td>100.0</td>\n",
       "      <td>2018-06-19T00:00:00</td>\n",
       "      <td>2</td>\n",
       "      <td>3.03</td>\n",
       "      <td>14.0</td>\n",
       "      <td>32.0</td>\n",
       "      <td>13</td>\n",
       "      <td>NaN</td>\n",
       "      <td>...</td>\n",
       "      <td>41.0</td>\n",
       "      <td>NaN</td>\n",
       "      <td>Санкт-Петербург</td>\n",
       "      <td>31856.0</td>\n",
       "      <td>8098.0</td>\n",
       "      <td>2.0</td>\n",
       "      <td>112.0</td>\n",
       "      <td>1.0</td>\n",
       "      <td>48.0</td>\n",
       "      <td>121.0</td>\n",
       "    </tr>\n",
       "  </tbody>\n",
       "</table>\n",
       "<p>5 rows × 22 columns</p>\n",
       "</div>"
      ],
      "text/plain": [
       "   total_images  last_price  total_area first_day_exposition  rooms  \\\n",
       "0            20  13000000.0       108.0  2019-03-07T00:00:00      3   \n",
       "1             7   3350000.0        40.4  2018-12-04T00:00:00      1   \n",
       "2            10   5196000.0        56.0  2015-08-20T00:00:00      2   \n",
       "3             0  64900000.0       159.0  2015-07-24T00:00:00      3   \n",
       "4             2  10000000.0       100.0  2018-06-19T00:00:00      2   \n",
       "\n",
       "   ceiling_height  floors_total  living_area  floor is_apartment  ...  \\\n",
       "0            2.70          16.0         51.0      8          NaN  ...   \n",
       "1             NaN          11.0         18.6      1          NaN  ...   \n",
       "2             NaN           5.0         34.3      4          NaN  ...   \n",
       "3             NaN          14.0          NaN      9          NaN  ...   \n",
       "4            3.03          14.0         32.0     13          NaN  ...   \n",
       "\n",
       "   kitchen_area  balcony    locality_name  airports_nearest  \\\n",
       "0          25.0      NaN  Санкт-Петербург           18863.0   \n",
       "1          11.0      2.0   посёлок Шушары           12817.0   \n",
       "2           8.3      0.0  Санкт-Петербург           21741.0   \n",
       "3           NaN      0.0  Санкт-Петербург           28098.0   \n",
       "4          41.0      NaN  Санкт-Петербург           31856.0   \n",
       "\n",
       "  cityCenters_nearest  parks_around3000  parks_nearest  ponds_around3000  \\\n",
       "0             16028.0               1.0          482.0               2.0   \n",
       "1             18603.0               0.0            NaN               0.0   \n",
       "2             13933.0               1.0           90.0               2.0   \n",
       "3              6800.0               2.0           84.0               3.0   \n",
       "4              8098.0               2.0          112.0               1.0   \n",
       "\n",
       "   ponds_nearest  days_exposition  \n",
       "0          755.0              NaN  \n",
       "1            NaN             81.0  \n",
       "2          574.0            558.0  \n",
       "3          234.0            424.0  \n",
       "4           48.0            121.0  \n",
       "\n",
       "[5 rows x 22 columns]"
      ]
     },
     "execution_count": 4,
     "metadata": {},
     "output_type": "execute_result"
    }
   ],
   "source": [
    "# Изучаю данные. вывожу первые 5 строк на экран\n",
    "data.head()"
   ]
  },
  {
   "cell_type": "code",
   "execution_count": 5,
   "metadata": {},
   "outputs": [
    {
     "name": "stdout",
     "output_type": "stream",
     "text": [
      "<class 'pandas.core.frame.DataFrame'>\n",
      "RangeIndex: 23699 entries, 0 to 23698\n",
      "Data columns (total 22 columns):\n",
      " #   Column                Non-Null Count  Dtype  \n",
      "---  ------                --------------  -----  \n",
      " 0   total_images          23699 non-null  int64  \n",
      " 1   last_price            23699 non-null  float64\n",
      " 2   total_area            23699 non-null  float64\n",
      " 3   first_day_exposition  23699 non-null  object \n",
      " 4   rooms                 23699 non-null  int64  \n",
      " 5   ceiling_height        14504 non-null  float64\n",
      " 6   floors_total          23613 non-null  float64\n",
      " 7   living_area           21796 non-null  float64\n",
      " 8   floor                 23699 non-null  int64  \n",
      " 9   is_apartment          2775 non-null   object \n",
      " 10  studio                23699 non-null  bool   \n",
      " 11  open_plan             23699 non-null  bool   \n",
      " 12  kitchen_area          21421 non-null  float64\n",
      " 13  balcony               12180 non-null  float64\n",
      " 14  locality_name         23650 non-null  object \n",
      " 15  airports_nearest      18157 non-null  float64\n",
      " 16  cityCenters_nearest   18180 non-null  float64\n",
      " 17  parks_around3000      18181 non-null  float64\n",
      " 18  parks_nearest         8079 non-null   float64\n",
      " 19  ponds_around3000      18181 non-null  float64\n",
      " 20  ponds_nearest         9110 non-null   float64\n",
      " 21  days_exposition       20518 non-null  float64\n",
      "dtypes: bool(2), float64(14), int64(3), object(3)\n",
      "memory usage: 3.7+ MB\n"
     ]
    }
   ],
   "source": [
    "# Использую info(), что бы увидеть информацию о таблице\n",
    "data.info()"
   ]
  },
  {
   "cell_type": "markdown",
   "metadata": {},
   "source": [
    "В столбцах замечены пропуски и неподходящий тип данных(object).\n",
    "Такой тип данных не подходит для работы, система видит его не как число или строку. Например, с ячейками типа object нельзя производить арифметические операции."
   ]
  },
  {
   "cell_type": "code",
   "execution_count": 6,
   "metadata": {},
   "outputs": [
    {
     "data": {
      "text/plain": [
       "array([[<AxesSubplot:title={'center':'total_images'}>,\n",
       "        <AxesSubplot:title={'center':'last_price'}>,\n",
       "        <AxesSubplot:title={'center':'total_area'}>,\n",
       "        <AxesSubplot:title={'center':'rooms'}>],\n",
       "       [<AxesSubplot:title={'center':'ceiling_height'}>,\n",
       "        <AxesSubplot:title={'center':'floors_total'}>,\n",
       "        <AxesSubplot:title={'center':'living_area'}>,\n",
       "        <AxesSubplot:title={'center':'floor'}>],\n",
       "       [<AxesSubplot:title={'center':'kitchen_area'}>,\n",
       "        <AxesSubplot:title={'center':'balcony'}>,\n",
       "        <AxesSubplot:title={'center':'airports_nearest'}>,\n",
       "        <AxesSubplot:title={'center':'cityCenters_nearest'}>],\n",
       "       [<AxesSubplot:title={'center':'parks_around3000'}>,\n",
       "        <AxesSubplot:title={'center':'parks_nearest'}>,\n",
       "        <AxesSubplot:title={'center':'ponds_around3000'}>,\n",
       "        <AxesSubplot:title={'center':'ponds_nearest'}>],\n",
       "       [<AxesSubplot:title={'center':'days_exposition'}>, <AxesSubplot:>,\n",
       "        <AxesSubplot:>, <AxesSubplot:>]], dtype=object)"
      ]
     },
     "execution_count": 6,
     "metadata": {},
     "output_type": "execute_result"
    },
    {
     "data": {
      "image/png": "[encoded data removed]",
      "text/plain": [
       "<Figure size 1080x1440 with 20 Axes>"
      ]
     },
     "metadata": {
      "needs_background": "light"
     },
     "output_type": "display_data"
    }
   ],
   "source": [
    "# Строю гистограмму по каждому столбцу\n",
    "data.hist(figsize=(15, 20))"
   ]
  },
  {
   "cell_type": "markdown",
   "metadata": {},
   "source": [
    "В столбцах balcony, park_nearest и cityCenters_nearest имеются выбросы. Проверю их в будущем"
   ]
  },
  {
   "cell_type": "markdown",
   "metadata": {
    "id": "-O5NtivEAwb9"
   },
   "source": [
    "### Выполните предобработку данных"
   ]
  },
  {
   "cell_type": "markdown",
   "metadata": {},
   "source": [
    "#### Первым этапом предобработки является выявление пропусков. Займусь этим"
   ]
  },
  {
   "cell_type": "code",
   "execution_count": 7,
   "metadata": {},
   "outputs": [
    {
     "data": {
      "text/plain": [
       "total_images                0\n",
       "last_price                  0\n",
       "total_area                  0\n",
       "first_day_exposition        0\n",
       "rooms                       0\n",
       "ceiling_height           9195\n",
       "floors_total               86\n",
       "living_area              1903\n",
       "floor                       0\n",
       "is_apartment            20924\n",
       "studio                      0\n",
       "open_plan                   0\n",
       "kitchen_area             2278\n",
       "balcony                 11519\n",
       "locality_name              49\n",
       "airports_nearest         5542\n",
       "cityCenters_nearest      5519\n",
       "parks_around3000         5518\n",
       "parks_nearest           15620\n",
       "ponds_around3000         5518\n",
       "ponds_nearest           14589\n",
       "days_exposition          3181\n",
       "dtype: int64"
      ]
     },
     "execution_count": 7,
     "metadata": {},
     "output_type": "execute_result"
    }
   ],
   "source": [
    "# Методы isna() и sum() подсчитывают количетсво пропусков в данных\n",
    "data.isna().sum()"
   ]
  },
  {
   "cell_type": "markdown",
   "metadata": {
    "id": "7v3vAeTuAwb-"
   },
   "source": [
    "Начинаю обрабатывать пропуски\n",
    "Изучу какой столбец за что отвечает(в задании расписан каждый столбец). "
   ]
  },
  {
   "cell_type": "markdown",
   "metadata": {},
   "source": [
    "Заполняю пропуски в столбце balcony. \n",
    "Вероятно, если люди не отметили наличие балкона, значит его просто нет. Можно отметить пропуски как 0"
   ]
  },
  {
   "cell_type": "code",
   "execution_count": 8,
   "metadata": {},
   "outputs": [],
   "source": [
    "data['balcony'] = data['balcony'].fillna(0)"
   ]
  },
  {
   "cell_type": "markdown",
   "metadata": {},
   "source": [
    "Подобно столбцу balcony можно поступить с is_apartment. \n",
    "Скорее всего, если пропустили это значние, значит это помещение изначально недвижимость."
   ]
  },
  {
   "cell_type": "code",
   "execution_count": 9,
   "metadata": {},
   "outputs": [],
   "source": [
    "data['is_apartment'] = data['is_apartment'].fillna('False')"
   ]
  },
  {
   "cell_type": "markdown",
   "metadata": {},
   "source": [
    "В столбцах parks_around3000 и ponds_around3000 одинаковое количество пропусков. \n",
    "Можно предположить, что люди не знают, что в районе 3 километров рядом с ними присутвует парк и водоем. \n",
    "Думаю будет корректно поставить 1 вместо пропусков в этих столбцах. Так как 3 км - это достаточно большое расстояние, указанные категории должны найтись в таком радиусе."
   ]
  },
  {
   "cell_type": "code",
   "execution_count": 10,
   "metadata": {},
   "outputs": [],
   "source": [
    "data[['parks_around3000', 'ponds_around3000']] = data[['parks_around3000', 'ponds_around3000']].fillna('1')"
   ]
  },
  {
   "cell_type": "markdown",
   "metadata": {},
   "source": [
    "Не вижу больше возможности изменить другие столбцы подобным способом.\n",
    "Проверю остались ли ещё пропуски в этих столбцах."
   ]
  },
  {
   "cell_type": "code",
   "execution_count": 11,
   "metadata": {},
   "outputs": [
    {
     "data": {
      "text/plain": [
       "total_images                0\n",
       "last_price                  0\n",
       "total_area                  0\n",
       "first_day_exposition        0\n",
       "rooms                       0\n",
       "ceiling_height           9195\n",
       "floors_total               86\n",
       "living_area              1903\n",
       "floor                       0\n",
       "is_apartment                0\n",
       "studio                      0\n",
       "open_plan                   0\n",
       "kitchen_area             2278\n",
       "balcony                     0\n",
       "locality_name              49\n",
       "airports_nearest         5542\n",
       "cityCenters_nearest      5519\n",
       "parks_around3000            0\n",
       "parks_nearest           15620\n",
       "ponds_around3000            0\n",
       "ponds_nearest           14589\n",
       "days_exposition          3181\n",
       "dtype: int64"
      ]
     },
     "execution_count": 11,
     "metadata": {},
     "output_type": "execute_result"
    }
   ],
   "source": [
    "data.isna().sum()"
   ]
  },
  {
   "cell_type": "markdown",
   "metadata": {},
   "source": [
    "На данном этапе пропуски удалены.\n",
    "Остальные пропуски в данных дупущены из-за халатности заполняющих или ошибки в обработке информации."
   ]
  },
  {
   "cell_type": "markdown",
   "metadata": {},
   "source": [
    "#### Следующий этап. Изменение типов данных"
   ]
  },
  {
   "cell_type": "code",
   "execution_count": 12,
   "metadata": {},
   "outputs": [
    {
     "name": "stdout",
     "output_type": "stream",
     "text": [
      "<class 'pandas.core.frame.DataFrame'>\n",
      "RangeIndex: 23699 entries, 0 to 23698\n",
      "Data columns (total 22 columns):\n",
      " #   Column                Non-Null Count  Dtype  \n",
      "---  ------                --------------  -----  \n",
      " 0   total_images          23699 non-null  int64  \n",
      " 1   last_price            23699 non-null  float64\n",
      " 2   total_area            23699 non-null  float64\n",
      " 3   first_day_exposition  23699 non-null  object \n",
      " 4   rooms                 23699 non-null  int64  \n",
      " 5   ceiling_height        14504 non-null  float64\n",
      " 6   floors_total          23613 non-null  float64\n",
      " 7   living_area           21796 non-null  float64\n",
      " 8   floor                 23699 non-null  int64  \n",
      " 9   is_apartment          23699 non-null  object \n",
      " 10  studio                23699 non-null  bool   \n",
      " 11  open_plan             23699 non-null  bool   \n",
      " 12  kitchen_area          21421 non-null  float64\n",
      " 13  balcony               23699 non-null  float64\n",
      " 14  locality_name         23650 non-null  object \n",
      " 15  airports_nearest      18157 non-null  float64\n",
      " 16  cityCenters_nearest   18180 non-null  float64\n",
      " 17  parks_around3000      23699 non-null  object \n",
      " 18  parks_nearest         8079 non-null   float64\n",
      " 19  ponds_around3000      23699 non-null  object \n",
      " 20  ponds_nearest         9110 non-null   float64\n",
      " 21  days_exposition       20518 non-null  float64\n",
      "dtypes: bool(2), float64(12), int64(3), object(5)\n",
      "memory usage: 3.7+ MB\n"
     ]
    },
    {
     "data": {
      "text/html": [
       "<div>\n",
       "<style scoped>\n",
       "    .dataframe tbody tr th:only-of-type {\n",
       "        vertical-align: middle;\n",
       "    }\n",
       "\n",
       "    .dataframe tbody tr th {\n",
       "        vertical-align: top;\n",
       "    }\n",
       "\n",
       "    .dataframe thead th {\n",
       "        text-align: right;\n",
       "    }\n",
       "</style>\n",
       "<table border=\"1\" class=\"dataframe\">\n",
       "  <thead>\n",
       "    <tr style=\"text-align: right;\">\n",
       "      <th></th>\n",
       "      <th>total_images</th>\n",
       "      <th>last_price</th>\n",
       "      <th>total_area</th>\n",
       "      <th>first_day_exposition</th>\n",
       "      <th>rooms</th>\n",
       "      <th>ceiling_height</th>\n",
       "      <th>floors_total</th>\n",
       "      <th>living_area</th>\n",
       "      <th>floor</th>\n",
       "      <th>is_apartment</th>\n",
       "      <th>...</th>\n",
       "      <th>kitchen_area</th>\n",
       "      <th>balcony</th>\n",
       "      <th>locality_name</th>\n",
       "      <th>airports_nearest</th>\n",
       "      <th>cityCenters_nearest</th>\n",
       "      <th>parks_around3000</th>\n",
       "      <th>parks_nearest</th>\n",
       "      <th>ponds_around3000</th>\n",
       "      <th>ponds_nearest</th>\n",
       "      <th>days_exposition</th>\n",
       "    </tr>\n",
       "  </thead>\n",
       "  <tbody>\n",
       "    <tr>\n",
       "      <th>0</th>\n",
       "      <td>20</td>\n",
       "      <td>13000000.0</td>\n",
       "      <td>108.0</td>\n",
       "      <td>2019-03-07T00:00:00</td>\n",
       "      <td>3</td>\n",
       "      <td>2.70</td>\n",
       "      <td>16.0</td>\n",
       "      <td>51.0</td>\n",
       "      <td>8</td>\n",
       "      <td>False</td>\n",
       "      <td>...</td>\n",
       "      <td>25.0</td>\n",
       "      <td>0.0</td>\n",
       "      <td>Санкт-Петербург</td>\n",
       "      <td>18863.0</td>\n",
       "      <td>16028.0</td>\n",
       "      <td>1.0</td>\n",
       "      <td>482.0</td>\n",
       "      <td>2.0</td>\n",
       "      <td>755.0</td>\n",
       "      <td>NaN</td>\n",
       "    </tr>\n",
       "    <tr>\n",
       "      <th>1</th>\n",
       "      <td>7</td>\n",
       "      <td>3350000.0</td>\n",
       "      <td>40.4</td>\n",
       "      <td>2018-12-04T00:00:00</td>\n",
       "      <td>1</td>\n",
       "      <td>NaN</td>\n",
       "      <td>11.0</td>\n",
       "      <td>18.6</td>\n",
       "      <td>1</td>\n",
       "      <td>False</td>\n",
       "      <td>...</td>\n",
       "      <td>11.0</td>\n",
       "      <td>2.0</td>\n",
       "      <td>посёлок Шушары</td>\n",
       "      <td>12817.0</td>\n",
       "      <td>18603.0</td>\n",
       "      <td>0.0</td>\n",
       "      <td>NaN</td>\n",
       "      <td>0.0</td>\n",
       "      <td>NaN</td>\n",
       "      <td>81.0</td>\n",
       "    </tr>\n",
       "    <tr>\n",
       "      <th>2</th>\n",
       "      <td>10</td>\n",
       "      <td>5196000.0</td>\n",
       "      <td>56.0</td>\n",
       "      <td>2015-08-20T00:00:00</td>\n",
       "      <td>2</td>\n",
       "      <td>NaN</td>\n",
       "      <td>5.0</td>\n",
       "      <td>34.3</td>\n",
       "      <td>4</td>\n",
       "      <td>False</td>\n",
       "      <td>...</td>\n",
       "      <td>8.3</td>\n",
       "      <td>0.0</td>\n",
       "      <td>Санкт-Петербург</td>\n",
       "      <td>21741.0</td>\n",
       "      <td>13933.0</td>\n",
       "      <td>1.0</td>\n",
       "      <td>90.0</td>\n",
       "      <td>2.0</td>\n",
       "      <td>574.0</td>\n",
       "      <td>558.0</td>\n",
       "    </tr>\n",
       "    <tr>\n",
       "      <th>3</th>\n",
       "      <td>0</td>\n",
       "      <td>64900000.0</td>\n",
       "      <td>159.0</td>\n",
       "      <td>2015-07-24T00:00:00</td>\n",
       "      <td>3</td>\n",
       "      <td>NaN</td>\n",
       "      <td>14.0</td>\n",
       "      <td>NaN</td>\n",
       "      <td>9</td>\n",
       "      <td>False</td>\n",
       "      <td>...</td>\n",
       "      <td>NaN</td>\n",
       "      <td>0.0</td>\n",
       "      <td>Санкт-Петербург</td>\n",
       "      <td>28098.0</td>\n",
       "      <td>6800.0</td>\n",
       "      <td>2.0</td>\n",
       "      <td>84.0</td>\n",
       "      <td>3.0</td>\n",
       "      <td>234.0</td>\n",
       "      <td>424.0</td>\n",
       "    </tr>\n",
       "    <tr>\n",
       "      <th>4</th>\n",
       "      <td>2</td>\n",
       "      <td>10000000.0</td>\n",
       "      <td>100.0</td>\n",
       "      <td>2018-06-19T00:00:00</td>\n",
       "      <td>2</td>\n",
       "      <td>3.03</td>\n",
       "      <td>14.0</td>\n",
       "      <td>32.0</td>\n",
       "      <td>13</td>\n",
       "      <td>False</td>\n",
       "      <td>...</td>\n",
       "      <td>41.0</td>\n",
       "      <td>0.0</td>\n",
       "      <td>Санкт-Петербург</td>\n",
       "      <td>31856.0</td>\n",
       "      <td>8098.0</td>\n",
       "      <td>2.0</td>\n",
       "      <td>112.0</td>\n",
       "      <td>1.0</td>\n",
       "      <td>48.0</td>\n",
       "      <td>121.0</td>\n",
       "    </tr>\n",
       "  </tbody>\n",
       "</table>\n",
       "<p>5 rows × 22 columns</p>\n",
       "</div>"
      ],
      "text/plain": [
       "   total_images  last_price  total_area first_day_exposition  rooms  \\\n",
       "0            20  13000000.0       108.0  2019-03-07T00:00:00      3   \n",
       "1             7   3350000.0        40.4  2018-12-04T00:00:00      1   \n",
       "2            10   5196000.0        56.0  2015-08-20T00:00:00      2   \n",
       "3             0  64900000.0       159.0  2015-07-24T00:00:00      3   \n",
       "4             2  10000000.0       100.0  2018-06-19T00:00:00      2   \n",
       "\n",
       "   ceiling_height  floors_total  living_area  floor is_apartment  ...  \\\n",
       "0            2.70          16.0         51.0      8        False  ...   \n",
       "1             NaN          11.0         18.6      1        False  ...   \n",
       "2             NaN           5.0         34.3      4        False  ...   \n",
       "3             NaN          14.0          NaN      9        False  ...   \n",
       "4            3.03          14.0         32.0     13        False  ...   \n",
       "\n",
       "   kitchen_area  balcony    locality_name  airports_nearest  \\\n",
       "0          25.0      0.0  Санкт-Петербург           18863.0   \n",
       "1          11.0      2.0   посёлок Шушары           12817.0   \n",
       "2           8.3      0.0  Санкт-Петербург           21741.0   \n",
       "3           NaN      0.0  Санкт-Петербург           28098.0   \n",
       "4          41.0      0.0  Санкт-Петербург           31856.0   \n",
       "\n",
       "  cityCenters_nearest  parks_around3000  parks_nearest ponds_around3000  \\\n",
       "0             16028.0               1.0          482.0              2.0   \n",
       "1             18603.0               0.0            NaN              0.0   \n",
       "2             13933.0               1.0           90.0              2.0   \n",
       "3              6800.0               2.0           84.0              3.0   \n",
       "4              8098.0               2.0          112.0              1.0   \n",
       "\n",
       "   ponds_nearest days_exposition  \n",
       "0          755.0             NaN  \n",
       "1            NaN            81.0  \n",
       "2          574.0           558.0  \n",
       "3          234.0           424.0  \n",
       "4           48.0           121.0  \n",
       "\n",
       "[5 rows x 22 columns]"
      ]
     },
     "execution_count": 12,
     "metadata": {},
     "output_type": "execute_result"
    }
   ],
   "source": [
    "# Вызову info() и head() что бы не \"бегать\" по проекту\n",
    "data.info()\n",
    "data.head()"
   ]
  },
  {
   "cell_type": "markdown",
   "metadata": {},
   "source": [
    "В датафрейме присутствет 5 типов object. Их стоит изменить, для работы со столбцами. \n",
    "В столбце first_day_exposition следует привести дату и время к подобающему виду."
   ]
  },
  {
   "cell_type": "code",
   "execution_count": 13,
   "metadata": {},
   "outputs": [],
   "source": [
    "data['first_day_exposition'] = pd.to_datetime(data['first_day_exposition'], format='%Y-%m-%dT%H:%M:%S')"
   ]
  },
  {
   "cell_type": "markdown",
   "metadata": {},
   "source": [
    "Столбец is_apartment состоит из True и False. Следует изменить его тип на bool."
   ]
  },
  {
   "cell_type": "code",
   "execution_count": 14,
   "metadata": {},
   "outputs": [],
   "source": [
    "data['is_apartment'] = data['is_apartment'].astype('bool')"
   ]
  },
  {
   "cell_type": "markdown",
   "metadata": {},
   "source": [
    "Столбец locality_name состоит из названий населенных пунктов. Следует изменить его тип на str."
   ]
  },
  {
   "cell_type": "code",
   "execution_count": 15,
   "metadata": {},
   "outputs": [],
   "source": [
    "data['locality_name'] = data['locality_name'].astype('string')"
   ]
  },
  {
   "cell_type": "markdown",
   "metadata": {},
   "source": [
    "Столбцы parks_around3000 и ponds_around3000 так же object. Для их изменения следует воспользоваться методом to_numeric()."
   ]
  },
  {
   "cell_type": "code",
   "execution_count": 16,
   "metadata": {},
   "outputs": [],
   "source": [
    "columns = ['parks_around3000', 'ponds_around3000']\n",
    "\n",
    "for column in columns:\n",
    "    data[column] = pd.to_numeric(data[column], errors='raise')"
   ]
  },
  {
   "cell_type": "code",
   "execution_count": 17,
   "metadata": {},
   "outputs": [
    {
     "name": "stdout",
     "output_type": "stream",
     "text": [
      "<class 'pandas.core.frame.DataFrame'>\n",
      "RangeIndex: 23699 entries, 0 to 23698\n",
      "Data columns (total 22 columns):\n",
      " #   Column                Non-Null Count  Dtype         \n",
      "---  ------                --------------  -----         \n",
      " 0   total_images          23699 non-null  int64         \n",
      " 1   last_price            23699 non-null  float64       \n",
      " 2   total_area            23699 non-null  float64       \n",
      " 3   first_day_exposition  23699 non-null  datetime64[ns]\n",
      " 4   rooms                 23699 non-null  int64         \n",
      " 5   ceiling_height        14504 non-null  float64       \n",
      " 6   floors_total          23613 non-null  float64       \n",
      " 7   living_area           21796 non-null  float64       \n",
      " 8   floor                 23699 non-null  int64         \n",
      " 9   is_apartment          23699 non-null  bool          \n",
      " 10  studio                23699 non-null  bool          \n",
      " 11  open_plan             23699 non-null  bool          \n",
      " 12  kitchen_area          21421 non-null  float64       \n",
      " 13  balcony               23699 non-null  float64       \n",
      " 14  locality_name         23650 non-null  string        \n",
      " 15  airports_nearest      18157 non-null  float64       \n",
      " 16  cityCenters_nearest   18180 non-null  float64       \n",
      " 17  parks_around3000      23699 non-null  float64       \n",
      " 18  parks_nearest         8079 non-null   float64       \n",
      " 19  ponds_around3000      23699 non-null  float64       \n",
      " 20  ponds_nearest         9110 non-null   float64       \n",
      " 21  days_exposition       20518 non-null  float64       \n",
      "dtypes: bool(3), datetime64[ns](1), float64(14), int64(3), string(1)\n",
      "memory usage: 3.5 MB\n"
     ]
    },
    {
     "data": {
      "text/html": [
       "<div>\n",
       "<style scoped>\n",
       "    .dataframe tbody tr th:only-of-type {\n",
       "        vertical-align: middle;\n",
       "    }\n",
       "\n",
       "    .dataframe tbody tr th {\n",
       "        vertical-align: top;\n",
       "    }\n",
       "\n",
       "    .dataframe thead th {\n",
       "        text-align: right;\n",
       "    }\n",
       "</style>\n",
       "<table border=\"1\" class=\"dataframe\">\n",
       "  <thead>\n",
       "    <tr style=\"text-align: right;\">\n",
       "      <th></th>\n",
       "      <th>total_images</th>\n",
       "      <th>last_price</th>\n",
       "      <th>total_area</th>\n",
       "      <th>first_day_exposition</th>\n",
       "      <th>rooms</th>\n",
       "      <th>ceiling_height</th>\n",
       "      <th>floors_total</th>\n",
       "      <th>living_area</th>\n",
       "      <th>floor</th>\n",
       "      <th>is_apartment</th>\n",
       "      <th>...</th>\n",
       "      <th>kitchen_area</th>\n",
       "      <th>balcony</th>\n",
       "      <th>locality_name</th>\n",
       "      <th>airports_nearest</th>\n",
       "      <th>cityCenters_nearest</th>\n",
       "      <th>parks_around3000</th>\n",
       "      <th>parks_nearest</th>\n",
       "      <th>ponds_around3000</th>\n",
       "      <th>ponds_nearest</th>\n",
       "      <th>days_exposition</th>\n",
       "    </tr>\n",
       "  </thead>\n",
       "  <tbody>\n",
       "    <tr>\n",
       "      <th>0</th>\n",
       "      <td>20</td>\n",
       "      <td>13000000.0</td>\n",
       "      <td>108.0</td>\n",
       "      <td>2019-03-07</td>\n",
       "      <td>3</td>\n",
       "      <td>2.70</td>\n",
       "      <td>16.0</td>\n",
       "      <td>51.0</td>\n",
       "      <td>8</td>\n",
       "      <td>True</td>\n",
       "      <td>...</td>\n",
       "      <td>25.0</td>\n",
       "      <td>0.0</td>\n",
       "      <td>Санкт-Петербург</td>\n",
       "      <td>18863.0</td>\n",
       "      <td>16028.0</td>\n",
       "      <td>1.0</td>\n",
       "      <td>482.0</td>\n",
       "      <td>2.0</td>\n",
       "      <td>755.0</td>\n",
       "      <td>NaN</td>\n",
       "    </tr>\n",
       "    <tr>\n",
       "      <th>1</th>\n",
       "      <td>7</td>\n",
       "      <td>3350000.0</td>\n",
       "      <td>40.4</td>\n",
       "      <td>2018-12-04</td>\n",
       "      <td>1</td>\n",
       "      <td>NaN</td>\n",
       "      <td>11.0</td>\n",
       "      <td>18.6</td>\n",
       "      <td>1</td>\n",
       "      <td>True</td>\n",
       "      <td>...</td>\n",
       "      <td>11.0</td>\n",
       "      <td>2.0</td>\n",
       "      <td>посёлок Шушары</td>\n",
       "      <td>12817.0</td>\n",
       "      <td>18603.0</td>\n",
       "      <td>0.0</td>\n",
       "      <td>NaN</td>\n",
       "      <td>0.0</td>\n",
       "      <td>NaN</td>\n",
       "      <td>81.0</td>\n",
       "    </tr>\n",
       "    <tr>\n",
       "      <th>2</th>\n",
       "      <td>10</td>\n",
       "      <td>5196000.0</td>\n",
       "      <td>56.0</td>\n",
       "      <td>2015-08-20</td>\n",
       "      <td>2</td>\n",
       "      <td>NaN</td>\n",
       "      <td>5.0</td>\n",
       "      <td>34.3</td>\n",
       "      <td>4</td>\n",
       "      <td>True</td>\n",
       "      <td>...</td>\n",
       "      <td>8.3</td>\n",
       "      <td>0.0</td>\n",
       "      <td>Санкт-Петербург</td>\n",
       "      <td>21741.0</td>\n",
       "      <td>13933.0</td>\n",
       "      <td>1.0</td>\n",
       "      <td>90.0</td>\n",
       "      <td>2.0</td>\n",
       "      <td>574.0</td>\n",
       "      <td>558.0</td>\n",
       "    </tr>\n",
       "    <tr>\n",
       "      <th>3</th>\n",
       "      <td>0</td>\n",
       "      <td>64900000.0</td>\n",
       "      <td>159.0</td>\n",
       "      <td>2015-07-24</td>\n",
       "      <td>3</td>\n",
       "      <td>NaN</td>\n",
       "      <td>14.0</td>\n",
       "      <td>NaN</td>\n",
       "      <td>9</td>\n",
       "      <td>True</td>\n",
       "      <td>...</td>\n",
       "      <td>NaN</td>\n",
       "      <td>0.0</td>\n",
       "      <td>Санкт-Петербург</td>\n",
       "      <td>28098.0</td>\n",
       "      <td>6800.0</td>\n",
       "      <td>2.0</td>\n",
       "      <td>84.0</td>\n",
       "      <td>3.0</td>\n",
       "      <td>234.0</td>\n",
       "      <td>424.0</td>\n",
       "    </tr>\n",
       "    <tr>\n",
       "      <th>4</th>\n",
       "      <td>2</td>\n",
       "      <td>10000000.0</td>\n",
       "      <td>100.0</td>\n",
       "      <td>2018-06-19</td>\n",
       "      <td>2</td>\n",
       "      <td>3.03</td>\n",
       "      <td>14.0</td>\n",
       "      <td>32.0</td>\n",
       "      <td>13</td>\n",
       "      <td>True</td>\n",
       "      <td>...</td>\n",
       "      <td>41.0</td>\n",
       "      <td>0.0</td>\n",
       "      <td>Санкт-Петербург</td>\n",
       "      <td>31856.0</td>\n",
       "      <td>8098.0</td>\n",
       "      <td>2.0</td>\n",
       "      <td>112.0</td>\n",
       "      <td>1.0</td>\n",
       "      <td>48.0</td>\n",
       "      <td>121.0</td>\n",
       "    </tr>\n",
       "  </tbody>\n",
       "</table>\n",
       "<p>5 rows × 22 columns</p>\n",
       "</div>"
      ],
      "text/plain": [
       "   total_images  last_price  total_area first_day_exposition  rooms  \\\n",
       "0            20  13000000.0       108.0           2019-03-07      3   \n",
       "1             7   3350000.0        40.4           2018-12-04      1   \n",
       "2            10   5196000.0        56.0           2015-08-20      2   \n",
       "3             0  64900000.0       159.0           2015-07-24      3   \n",
       "4             2  10000000.0       100.0           2018-06-19      2   \n",
       "\n",
       "   ceiling_height  floors_total  living_area  floor  is_apartment  ...  \\\n",
       "0            2.70          16.0         51.0      8          True  ...   \n",
       "1             NaN          11.0         18.6      1          True  ...   \n",
       "2             NaN           5.0         34.3      4          True  ...   \n",
       "3             NaN          14.0          NaN      9          True  ...   \n",
       "4            3.03          14.0         32.0     13          True  ...   \n",
       "\n",
       "   kitchen_area  balcony    locality_name  airports_nearest  \\\n",
       "0          25.0      0.0  Санкт-Петербург           18863.0   \n",
       "1          11.0      2.0   посёлок Шушары           12817.0   \n",
       "2           8.3      0.0  Санкт-Петербург           21741.0   \n",
       "3           NaN      0.0  Санкт-Петербург           28098.0   \n",
       "4          41.0      0.0  Санкт-Петербург           31856.0   \n",
       "\n",
       "  cityCenters_nearest  parks_around3000  parks_nearest  ponds_around3000  \\\n",
       "0             16028.0               1.0          482.0               2.0   \n",
       "1             18603.0               0.0            NaN               0.0   \n",
       "2             13933.0               1.0           90.0               2.0   \n",
       "3              6800.0               2.0           84.0               3.0   \n",
       "4              8098.0               2.0          112.0               1.0   \n",
       "\n",
       "   ponds_nearest  days_exposition  \n",
       "0          755.0              NaN  \n",
       "1            NaN             81.0  \n",
       "2          574.0            558.0  \n",
       "3          234.0            424.0  \n",
       "4           48.0            121.0  \n",
       "\n",
       "[5 rows x 22 columns]"
      ]
     },
     "execution_count": 17,
     "metadata": {},
     "output_type": "execute_result"
    }
   ],
   "source": [
    "# Вызову info() и head() для проверки\n",
    "data.info()\n",
    "data.head()"
   ]
  },
  {
   "cell_type": "markdown",
   "metadata": {},
   "source": [
    "Итак, типы данных изменены. Теперь можно приступать к следующему этапу."
   ]
  },
  {
   "cell_type": "markdown",
   "metadata": {},
   "source": [
    "#### Поиск и обработка неявных дубликатов"
   ]
  },
  {
   "cell_type": "code",
   "execution_count": 18,
   "metadata": {},
   "outputs": [
    {
     "data": {
      "text/plain": [
       "<StringArray>\n",
       "[          'Санкт-Петербург',            'посёлок Шушары',\n",
       " 'городской посёлок Янино-1',         'посёлок Парголово',\n",
       "            'посёлок Мурино',                 'Ломоносов',\n",
       "                 'Сертолово',                  'Петергоф',\n",
       "                    'Пушкин',           'деревня Кудрово',\n",
       " ...\n",
       "   'деревня Большое Рейзино',   'деревня Малая Романовка',\n",
       "       'поселок Дружноселье',            'поселок Пчевжа',\n",
       "       'поселок Володарское',            'деревня Нижняя',\n",
       " 'коттеджный посёлок Лесное',         'деревня Тихковицы',\n",
       "    'деревня Борисова Грива',      'посёлок Дзержинского']\n",
       "Length: 365, dtype: string"
      ]
     },
     "execution_count": 18,
     "metadata": {},
     "output_type": "execute_result"
    }
   ],
   "source": [
    "# Посмотрю уникальные значение методом unique()\n",
    "data['locality_name'].unique()"
   ]
  },
  {
   "cell_type": "markdown",
   "metadata": {},
   "source": [
    "Теперь следует привести все наименования столбца к общему(удобному) виду."
   ]
  },
  {
   "cell_type": "code",
   "execution_count": 19,
   "metadata": {},
   "outputs": [],
   "source": [
    "data['locality_name'] = data['locality_name'].str.lower()"
   ]
  },
  {
   "cell_type": "markdown",
   "metadata": {},
   "source": [
    "Обработаю буквы \"е\" и \"ё\", они повторяются в названиях населенных пунктов. Так же, заменю похожие значения на одно конкретное."
   ]
  },
  {
   "cell_type": "code",
   "execution_count": 20,
   "metadata": {},
   "outputs": [],
   "source": [
    "data['locality_name'] = (\n",
    "    data['locality_name']\n",
    "    .str.replace('ё', 'е')\n",
    "    .replace(['посёлок', 'поселок городского типа', 'поселок городского типа ', 'городской поселок', 'коттеджный поселок'], 'поселок', regex=True)\n",
    ") "
   ]
  },
  {
   "cell_type": "markdown",
   "metadata": {},
   "source": [
    "Проверяю итоговый результат."
   ]
  },
  {
   "cell_type": "code",
   "execution_count": 21,
   "metadata": {},
   "outputs": [
    {
     "data": {
      "text/plain": [
       "<StringArray>\n",
       "[          'санкт-петербург',            'поселок шушары',\n",
       " 'городской поселок янино-1',         'поселок парголово',\n",
       "            'поселок мурино',                 'ломоносов',\n",
       "                 'сертолово',                  'петергоф',\n",
       "                    'пушкин',           'деревня кудрово',\n",
       " ...\n",
       "   'деревня большое рейзино',   'деревня малая романовка',\n",
       "       'поселок дружноселье',            'поселок пчевжа',\n",
       "       'поселок володарское',            'деревня нижняя',\n",
       " 'коттеджный поселок лесное',         'деревня тихковицы',\n",
       "    'деревня борисова грива',      'поселок дзержинского']\n",
       "Length: 331, dtype: string"
      ]
     },
     "execution_count": 21,
     "metadata": {},
     "output_type": "execute_result"
    }
   ],
   "source": [
    "# Метод .unique() показывает уникальные значения\n",
    "data['locality_name'].unique()"
   ]
  },
  {
   "cell_type": "markdown",
   "metadata": {},
   "source": [
    "Примечание для ревьюера\n",
    "Уточнил у преподавателя(@svyumedvedeva). Она подтвердила, что код рабоатет корректно и значения заменены на \"поселок\". Согласно методу replace(). Странно, что сейчас эти значнеия остались без изменений..."
   ]
  },
  {
   "cell_type": "markdown",
   "metadata": {},
   "source": [
    "Названия населенных пунктов приведены к общему виду и неявные дубликаты удалены."
   ]
  },
  {
   "cell_type": "markdown",
   "metadata": {},
   "source": [
    "#### Вывод по разделу"
   ]
  },
  {
   "cell_type": "markdown",
   "metadata": {},
   "source": [
    "Я привел названия населенных пунктов к одному виду, это было сделано для более удобной обработки. И избавился от тех дубликатов, которые нашел."
   ]
  },
  {
   "cell_type": "markdown",
   "metadata": {
    "id": "QCcvyY6YAwb-"
   },
   "source": [
    "### Добавьте в таблицу новые столбцы"
   ]
  },
  {
   "cell_type": "markdown",
   "metadata": {},
   "source": [
    "Освежу знания о названии имеющихся столбцов."
   ]
  },
  {
   "cell_type": "code",
   "execution_count": 22,
   "metadata": {
    "id": "Z8eJek3IAwb-"
   },
   "outputs": [
    {
     "data": {
      "text/html": [
       "<div>\n",
       "<style scoped>\n",
       "    .dataframe tbody tr th:only-of-type {\n",
       "        vertical-align: middle;\n",
       "    }\n",
       "\n",
       "    .dataframe tbody tr th {\n",
       "        vertical-align: top;\n",
       "    }\n",
       "\n",
       "    .dataframe thead th {\n",
       "        text-align: right;\n",
       "    }\n",
       "</style>\n",
       "<table border=\"1\" class=\"dataframe\">\n",
       "  <thead>\n",
       "    <tr style=\"text-align: right;\">\n",
       "      <th></th>\n",
       "      <th>total_images</th>\n",
       "      <th>last_price</th>\n",
       "      <th>total_area</th>\n",
       "      <th>first_day_exposition</th>\n",
       "      <th>rooms</th>\n",
       "      <th>ceiling_height</th>\n",
       "      <th>floors_total</th>\n",
       "      <th>living_area</th>\n",
       "      <th>floor</th>\n",
       "      <th>is_apartment</th>\n",
       "      <th>...</th>\n",
       "      <th>kitchen_area</th>\n",
       "      <th>balcony</th>\n",
       "      <th>locality_name</th>\n",
       "      <th>airports_nearest</th>\n",
       "      <th>cityCenters_nearest</th>\n",
       "      <th>parks_around3000</th>\n",
       "      <th>parks_nearest</th>\n",
       "      <th>ponds_around3000</th>\n",
       "      <th>ponds_nearest</th>\n",
       "      <th>days_exposition</th>\n",
       "    </tr>\n",
       "  </thead>\n",
       "  <tbody>\n",
       "    <tr>\n",
       "      <th>0</th>\n",
       "      <td>20</td>\n",
       "      <td>13000000.0</td>\n",
       "      <td>108.0</td>\n",
       "      <td>2019-03-07</td>\n",
       "      <td>3</td>\n",
       "      <td>2.70</td>\n",
       "      <td>16.0</td>\n",
       "      <td>51.0</td>\n",
       "      <td>8</td>\n",
       "      <td>True</td>\n",
       "      <td>...</td>\n",
       "      <td>25.0</td>\n",
       "      <td>0.0</td>\n",
       "      <td>санкт-петербург</td>\n",
       "      <td>18863.0</td>\n",
       "      <td>16028.0</td>\n",
       "      <td>1.0</td>\n",
       "      <td>482.0</td>\n",
       "      <td>2.0</td>\n",
       "      <td>755.0</td>\n",
       "      <td>NaN</td>\n",
       "    </tr>\n",
       "    <tr>\n",
       "      <th>1</th>\n",
       "      <td>7</td>\n",
       "      <td>3350000.0</td>\n",
       "      <td>40.4</td>\n",
       "      <td>2018-12-04</td>\n",
       "      <td>1</td>\n",
       "      <td>NaN</td>\n",
       "      <td>11.0</td>\n",
       "      <td>18.6</td>\n",
       "      <td>1</td>\n",
       "      <td>True</td>\n",
       "      <td>...</td>\n",
       "      <td>11.0</td>\n",
       "      <td>2.0</td>\n",
       "      <td>поселок шушары</td>\n",
       "      <td>12817.0</td>\n",
       "      <td>18603.0</td>\n",
       "      <td>0.0</td>\n",
       "      <td>NaN</td>\n",
       "      <td>0.0</td>\n",
       "      <td>NaN</td>\n",
       "      <td>81.0</td>\n",
       "    </tr>\n",
       "    <tr>\n",
       "      <th>2</th>\n",
       "      <td>10</td>\n",
       "      <td>5196000.0</td>\n",
       "      <td>56.0</td>\n",
       "      <td>2015-08-20</td>\n",
       "      <td>2</td>\n",
       "      <td>NaN</td>\n",
       "      <td>5.0</td>\n",
       "      <td>34.3</td>\n",
       "      <td>4</td>\n",
       "      <td>True</td>\n",
       "      <td>...</td>\n",
       "      <td>8.3</td>\n",
       "      <td>0.0</td>\n",
       "      <td>санкт-петербург</td>\n",
       "      <td>21741.0</td>\n",
       "      <td>13933.0</td>\n",
       "      <td>1.0</td>\n",
       "      <td>90.0</td>\n",
       "      <td>2.0</td>\n",
       "      <td>574.0</td>\n",
       "      <td>558.0</td>\n",
       "    </tr>\n",
       "    <tr>\n",
       "      <th>3</th>\n",
       "      <td>0</td>\n",
       "      <td>64900000.0</td>\n",
       "      <td>159.0</td>\n",
       "      <td>2015-07-24</td>\n",
       "      <td>3</td>\n",
       "      <td>NaN</td>\n",
       "      <td>14.0</td>\n",
       "      <td>NaN</td>\n",
       "      <td>9</td>\n",
       "      <td>True</td>\n",
       "      <td>...</td>\n",
       "      <td>NaN</td>\n",
       "      <td>0.0</td>\n",
       "      <td>санкт-петербург</td>\n",
       "      <td>28098.0</td>\n",
       "      <td>6800.0</td>\n",
       "      <td>2.0</td>\n",
       "      <td>84.0</td>\n",
       "      <td>3.0</td>\n",
       "      <td>234.0</td>\n",
       "      <td>424.0</td>\n",
       "    </tr>\n",
       "    <tr>\n",
       "      <th>4</th>\n",
       "      <td>2</td>\n",
       "      <td>10000000.0</td>\n",
       "      <td>100.0</td>\n",
       "      <td>2018-06-19</td>\n",
       "      <td>2</td>\n",
       "      <td>3.03</td>\n",
       "      <td>14.0</td>\n",
       "      <td>32.0</td>\n",
       "      <td>13</td>\n",
       "      <td>True</td>\n",
       "      <td>...</td>\n",
       "      <td>41.0</td>\n",
       "      <td>0.0</td>\n",
       "      <td>санкт-петербург</td>\n",
       "      <td>31856.0</td>\n",
       "      <td>8098.0</td>\n",
       "      <td>2.0</td>\n",
       "      <td>112.0</td>\n",
       "      <td>1.0</td>\n",
       "      <td>48.0</td>\n",
       "      <td>121.0</td>\n",
       "    </tr>\n",
       "  </tbody>\n",
       "</table>\n",
       "<p>5 rows × 22 columns</p>\n",
       "</div>"
      ],
      "text/plain": [
       "   total_images  last_price  total_area first_day_exposition  rooms  \\\n",
       "0            20  13000000.0       108.0           2019-03-07      3   \n",
       "1             7   3350000.0        40.4           2018-12-04      1   \n",
       "2            10   5196000.0        56.0           2015-08-20      2   \n",
       "3             0  64900000.0       159.0           2015-07-24      3   \n",
       "4             2  10000000.0       100.0           2018-06-19      2   \n",
       "\n",
       "   ceiling_height  floors_total  living_area  floor  is_apartment  ...  \\\n",
       "0            2.70          16.0         51.0      8          True  ...   \n",
       "1             NaN          11.0         18.6      1          True  ...   \n",
       "2             NaN           5.0         34.3      4          True  ...   \n",
       "3             NaN          14.0          NaN      9          True  ...   \n",
       "4            3.03          14.0         32.0     13          True  ...   \n",
       "\n",
       "   kitchen_area  balcony    locality_name  airports_nearest  \\\n",
       "0          25.0      0.0  санкт-петербург           18863.0   \n",
       "1          11.0      2.0   поселок шушары           12817.0   \n",
       "2           8.3      0.0  санкт-петербург           21741.0   \n",
       "3           NaN      0.0  санкт-петербург           28098.0   \n",
       "4          41.0      0.0  санкт-петербург           31856.0   \n",
       "\n",
       "  cityCenters_nearest  parks_around3000  parks_nearest  ponds_around3000  \\\n",
       "0             16028.0               1.0          482.0               2.0   \n",
       "1             18603.0               0.0            NaN               0.0   \n",
       "2             13933.0               1.0           90.0               2.0   \n",
       "3              6800.0               2.0           84.0               3.0   \n",
       "4              8098.0               2.0          112.0               1.0   \n",
       "\n",
       "   ponds_nearest  days_exposition  \n",
       "0          755.0              NaN  \n",
       "1            NaN             81.0  \n",
       "2          574.0            558.0  \n",
       "3          234.0            424.0  \n",
       "4           48.0            121.0  \n",
       "\n",
       "[5 rows x 22 columns]"
      ]
     },
     "execution_count": 22,
     "metadata": {},
     "output_type": "execute_result"
    }
   ],
   "source": [
    "data.head()"
   ]
  },
  {
   "cell_type": "markdown",
   "metadata": {},
   "source": [
    "Добавляю новый столбец в таблицу: Цена за один квадратный метр. Округляю до двух знаков после запятой.\n",
    "Для этого создаю новый столбец, делю стоимость на общую площадь, а метод round() оставит два знака после запятой."
   ]
  },
  {
   "cell_type": "code",
   "execution_count": 23,
   "metadata": {},
   "outputs": [],
   "source": [
    "data['price_per_m2'] = (data['last_price'] / data['total_area']).round(2)"
   ]
  },
  {
   "cell_type": "markdown",
   "metadata": {},
   "source": [
    "Добавляю новые стобцы в таблицу: День недели публикации, Месяц публикации и Год публикации.\n",
    "Для этого использую метод dt.weekday, dt.month и dt.year, соответственно. Эти методы выводят указанное значение."
   ]
  },
  {
   "cell_type": "code",
   "execution_count": 24,
   "metadata": {},
   "outputs": [],
   "source": [
    "data['day_of_publication'] = data['first_day_exposition'].dt.weekday\n",
    "data['month_of_publication'] = data['first_day_exposition'].dt.month\n",
    "data['year_of_publication'] = data['first_day_exposition'].dt.year"
   ]
  },
  {
   "cell_type": "markdown",
   "metadata": {},
   "source": [
    "Смотрю на получившийся результат."
   ]
  },
  {
   "cell_type": "code",
   "execution_count": 25,
   "metadata": {},
   "outputs": [
    {
     "data": {
      "text/html": [
       "<div>\n",
       "<style scoped>\n",
       "    .dataframe tbody tr th:only-of-type {\n",
       "        vertical-align: middle;\n",
       "    }\n",
       "\n",
       "    .dataframe tbody tr th {\n",
       "        vertical-align: top;\n",
       "    }\n",
       "\n",
       "    .dataframe thead th {\n",
       "        text-align: right;\n",
       "    }\n",
       "</style>\n",
       "<table border=\"1\" class=\"dataframe\">\n",
       "  <thead>\n",
       "    <tr style=\"text-align: right;\">\n",
       "      <th></th>\n",
       "      <th>total_images</th>\n",
       "      <th>last_price</th>\n",
       "      <th>total_area</th>\n",
       "      <th>first_day_exposition</th>\n",
       "      <th>rooms</th>\n",
       "      <th>ceiling_height</th>\n",
       "      <th>floors_total</th>\n",
       "      <th>living_area</th>\n",
       "      <th>floor</th>\n",
       "      <th>is_apartment</th>\n",
       "      <th>...</th>\n",
       "      <th>cityCenters_nearest</th>\n",
       "      <th>parks_around3000</th>\n",
       "      <th>parks_nearest</th>\n",
       "      <th>ponds_around3000</th>\n",
       "      <th>ponds_nearest</th>\n",
       "      <th>days_exposition</th>\n",
       "      <th>price_per_m2</th>\n",
       "      <th>day_of_publication</th>\n",
       "      <th>month_of_publication</th>\n",
       "      <th>year_of_publication</th>\n",
       "    </tr>\n",
       "  </thead>\n",
       "  <tbody>\n",
       "    <tr>\n",
       "      <th>0</th>\n",
       "      <td>20</td>\n",
       "      <td>13000000.0</td>\n",
       "      <td>108.0</td>\n",
       "      <td>2019-03-07</td>\n",
       "      <td>3</td>\n",
       "      <td>2.70</td>\n",
       "      <td>16.0</td>\n",
       "      <td>51.0</td>\n",
       "      <td>8</td>\n",
       "      <td>True</td>\n",
       "      <td>...</td>\n",
       "      <td>16028.0</td>\n",
       "      <td>1.0</td>\n",
       "      <td>482.0</td>\n",
       "      <td>2.0</td>\n",
       "      <td>755.0</td>\n",
       "      <td>NaN</td>\n",
       "      <td>120370.37</td>\n",
       "      <td>3</td>\n",
       "      <td>3</td>\n",
       "      <td>2019</td>\n",
       "    </tr>\n",
       "    <tr>\n",
       "      <th>1</th>\n",
       "      <td>7</td>\n",
       "      <td>3350000.0</td>\n",
       "      <td>40.4</td>\n",
       "      <td>2018-12-04</td>\n",
       "      <td>1</td>\n",
       "      <td>NaN</td>\n",
       "      <td>11.0</td>\n",
       "      <td>18.6</td>\n",
       "      <td>1</td>\n",
       "      <td>True</td>\n",
       "      <td>...</td>\n",
       "      <td>18603.0</td>\n",
       "      <td>0.0</td>\n",
       "      <td>NaN</td>\n",
       "      <td>0.0</td>\n",
       "      <td>NaN</td>\n",
       "      <td>81.0</td>\n",
       "      <td>82920.79</td>\n",
       "      <td>1</td>\n",
       "      <td>12</td>\n",
       "      <td>2018</td>\n",
       "    </tr>\n",
       "    <tr>\n",
       "      <th>2</th>\n",
       "      <td>10</td>\n",
       "      <td>5196000.0</td>\n",
       "      <td>56.0</td>\n",
       "      <td>2015-08-20</td>\n",
       "      <td>2</td>\n",
       "      <td>NaN</td>\n",
       "      <td>5.0</td>\n",
       "      <td>34.3</td>\n",
       "      <td>4</td>\n",
       "      <td>True</td>\n",
       "      <td>...</td>\n",
       "      <td>13933.0</td>\n",
       "      <td>1.0</td>\n",
       "      <td>90.0</td>\n",
       "      <td>2.0</td>\n",
       "      <td>574.0</td>\n",
       "      <td>558.0</td>\n",
       "      <td>92785.71</td>\n",
       "      <td>3</td>\n",
       "      <td>8</td>\n",
       "      <td>2015</td>\n",
       "    </tr>\n",
       "    <tr>\n",
       "      <th>3</th>\n",
       "      <td>0</td>\n",
       "      <td>64900000.0</td>\n",
       "      <td>159.0</td>\n",
       "      <td>2015-07-24</td>\n",
       "      <td>3</td>\n",
       "      <td>NaN</td>\n",
       "      <td>14.0</td>\n",
       "      <td>NaN</td>\n",
       "      <td>9</td>\n",
       "      <td>True</td>\n",
       "      <td>...</td>\n",
       "      <td>6800.0</td>\n",
       "      <td>2.0</td>\n",
       "      <td>84.0</td>\n",
       "      <td>3.0</td>\n",
       "      <td>234.0</td>\n",
       "      <td>424.0</td>\n",
       "      <td>408176.10</td>\n",
       "      <td>4</td>\n",
       "      <td>7</td>\n",
       "      <td>2015</td>\n",
       "    </tr>\n",
       "    <tr>\n",
       "      <th>4</th>\n",
       "      <td>2</td>\n",
       "      <td>10000000.0</td>\n",
       "      <td>100.0</td>\n",
       "      <td>2018-06-19</td>\n",
       "      <td>2</td>\n",
       "      <td>3.03</td>\n",
       "      <td>14.0</td>\n",
       "      <td>32.0</td>\n",
       "      <td>13</td>\n",
       "      <td>True</td>\n",
       "      <td>...</td>\n",
       "      <td>8098.0</td>\n",
       "      <td>2.0</td>\n",
       "      <td>112.0</td>\n",
       "      <td>1.0</td>\n",
       "      <td>48.0</td>\n",
       "      <td>121.0</td>\n",
       "      <td>100000.00</td>\n",
       "      <td>1</td>\n",
       "      <td>6</td>\n",
       "      <td>2018</td>\n",
       "    </tr>\n",
       "  </tbody>\n",
       "</table>\n",
       "<p>5 rows × 26 columns</p>\n",
       "</div>"
      ],
      "text/plain": [
       "   total_images  last_price  total_area first_day_exposition  rooms  \\\n",
       "0            20  13000000.0       108.0           2019-03-07      3   \n",
       "1             7   3350000.0        40.4           2018-12-04      1   \n",
       "2            10   5196000.0        56.0           2015-08-20      2   \n",
       "3             0  64900000.0       159.0           2015-07-24      3   \n",
       "4             2  10000000.0       100.0           2018-06-19      2   \n",
       "\n",
       "   ceiling_height  floors_total  living_area  floor  is_apartment  ...  \\\n",
       "0            2.70          16.0         51.0      8          True  ...   \n",
       "1             NaN          11.0         18.6      1          True  ...   \n",
       "2             NaN           5.0         34.3      4          True  ...   \n",
       "3             NaN          14.0          NaN      9          True  ...   \n",
       "4            3.03          14.0         32.0     13          True  ...   \n",
       "\n",
       "   cityCenters_nearest  parks_around3000  parks_nearest  ponds_around3000  \\\n",
       "0              16028.0               1.0          482.0               2.0   \n",
       "1              18603.0               0.0            NaN               0.0   \n",
       "2              13933.0               1.0           90.0               2.0   \n",
       "3               6800.0               2.0           84.0               3.0   \n",
       "4               8098.0               2.0          112.0               1.0   \n",
       "\n",
       "  ponds_nearest  days_exposition  price_per_m2  day_of_publication  \\\n",
       "0         755.0              NaN     120370.37                   3   \n",
       "1           NaN             81.0      82920.79                   1   \n",
       "2         574.0            558.0      92785.71                   3   \n",
       "3         234.0            424.0     408176.10                   4   \n",
       "4          48.0            121.0     100000.00                   1   \n",
       "\n",
       "   month_of_publication  year_of_publication  \n",
       "0                     3                 2019  \n",
       "1                    12                 2018  \n",
       "2                     8                 2015  \n",
       "3                     7                 2015  \n",
       "4                     6                 2018  \n",
       "\n",
       "[5 rows x 26 columns]"
      ]
     },
     "execution_count": 25,
     "metadata": {},
     "output_type": "execute_result"
    }
   ],
   "source": [
    "data.head()"
   ]
  },
  {
   "cell_type": "markdown",
   "metadata": {},
   "source": [
    "Проверяю по первой дате \"2019-03-07\". \n",
    "В столбце \"day_of_publication\" указан номер 3, это четверг. Метод dt.weekday присваивает номера следующим образом: 0 - понедельник, 1 - вторник и тд.\n",
    "В столбцах \"month_of_publication\" и \"year_of_publication\" так же указаны верные данные."
   ]
  },
  {
   "cell_type": "markdown",
   "metadata": {},
   "source": [
    "Добавляю новый стобец в таблицу: Тип этажа квартиры.\n",
    "Думаю, для решения этой задачи следует воспользоваться добавлением функции с row и if-else."
   ]
  },
  {
   "cell_type": "code",
   "execution_count": 26,
   "metadata": {},
   "outputs": [],
   "source": [
    "def determine_floor_type(row):\n",
    "    if row['floor'] == 1:\n",
    "        return 'первый'\n",
    "    elif row['floor'] == row['floors_total']:\n",
    "        return 'последний'\n",
    "    else:\n",
    "        return 'другой'\n",
    "\n",
    "# Указыв axis=1 метод apply() применяет этоу функцию ко всем строкам\n",
    "data['floor_types'] = data.apply(determine_floor_type, axis=1)"
   ]
  },
  {
   "cell_type": "code",
   "execution_count": 27,
   "metadata": {},
   "outputs": [
    {
     "data": {
      "text/html": [
       "<div>\n",
       "<style scoped>\n",
       "    .dataframe tbody tr th:only-of-type {\n",
       "        vertical-align: middle;\n",
       "    }\n",
       "\n",
       "    .dataframe tbody tr th {\n",
       "        vertical-align: top;\n",
       "    }\n",
       "\n",
       "    .dataframe thead th {\n",
       "        text-align: right;\n",
       "    }\n",
       "</style>\n",
       "<table border=\"1\" class=\"dataframe\">\n",
       "  <thead>\n",
       "    <tr style=\"text-align: right;\">\n",
       "      <th></th>\n",
       "      <th>total_images</th>\n",
       "      <th>last_price</th>\n",
       "      <th>total_area</th>\n",
       "      <th>first_day_exposition</th>\n",
       "      <th>rooms</th>\n",
       "      <th>ceiling_height</th>\n",
       "      <th>floors_total</th>\n",
       "      <th>living_area</th>\n",
       "      <th>floor</th>\n",
       "      <th>is_apartment</th>\n",
       "      <th>...</th>\n",
       "      <th>parks_around3000</th>\n",
       "      <th>parks_nearest</th>\n",
       "      <th>ponds_around3000</th>\n",
       "      <th>ponds_nearest</th>\n",
       "      <th>days_exposition</th>\n",
       "      <th>price_per_m2</th>\n",
       "      <th>day_of_publication</th>\n",
       "      <th>month_of_publication</th>\n",
       "      <th>year_of_publication</th>\n",
       "      <th>floor_types</th>\n",
       "    </tr>\n",
       "  </thead>\n",
       "  <tbody>\n",
       "    <tr>\n",
       "      <th>0</th>\n",
       "      <td>20</td>\n",
       "      <td>13000000.0</td>\n",
       "      <td>108.0</td>\n",
       "      <td>2019-03-07</td>\n",
       "      <td>3</td>\n",
       "      <td>2.70</td>\n",
       "      <td>16.0</td>\n",
       "      <td>51.0</td>\n",
       "      <td>8</td>\n",
       "      <td>True</td>\n",
       "      <td>...</td>\n",
       "      <td>1.0</td>\n",
       "      <td>482.0</td>\n",
       "      <td>2.0</td>\n",
       "      <td>755.0</td>\n",
       "      <td>NaN</td>\n",
       "      <td>120370.37</td>\n",
       "      <td>3</td>\n",
       "      <td>3</td>\n",
       "      <td>2019</td>\n",
       "      <td>другой</td>\n",
       "    </tr>\n",
       "    <tr>\n",
       "      <th>1</th>\n",
       "      <td>7</td>\n",
       "      <td>3350000.0</td>\n",
       "      <td>40.4</td>\n",
       "      <td>2018-12-04</td>\n",
       "      <td>1</td>\n",
       "      <td>NaN</td>\n",
       "      <td>11.0</td>\n",
       "      <td>18.6</td>\n",
       "      <td>1</td>\n",
       "      <td>True</td>\n",
       "      <td>...</td>\n",
       "      <td>0.0</td>\n",
       "      <td>NaN</td>\n",
       "      <td>0.0</td>\n",
       "      <td>NaN</td>\n",
       "      <td>81.0</td>\n",
       "      <td>82920.79</td>\n",
       "      <td>1</td>\n",
       "      <td>12</td>\n",
       "      <td>2018</td>\n",
       "      <td>первый</td>\n",
       "    </tr>\n",
       "    <tr>\n",
       "      <th>2</th>\n",
       "      <td>10</td>\n",
       "      <td>5196000.0</td>\n",
       "      <td>56.0</td>\n",
       "      <td>2015-08-20</td>\n",
       "      <td>2</td>\n",
       "      <td>NaN</td>\n",
       "      <td>5.0</td>\n",
       "      <td>34.3</td>\n",
       "      <td>4</td>\n",
       "      <td>True</td>\n",
       "      <td>...</td>\n",
       "      <td>1.0</td>\n",
       "      <td>90.0</td>\n",
       "      <td>2.0</td>\n",
       "      <td>574.0</td>\n",
       "      <td>558.0</td>\n",
       "      <td>92785.71</td>\n",
       "      <td>3</td>\n",
       "      <td>8</td>\n",
       "      <td>2015</td>\n",
       "      <td>другой</td>\n",
       "    </tr>\n",
       "    <tr>\n",
       "      <th>3</th>\n",
       "      <td>0</td>\n",
       "      <td>64900000.0</td>\n",
       "      <td>159.0</td>\n",
       "      <td>2015-07-24</td>\n",
       "      <td>3</td>\n",
       "      <td>NaN</td>\n",
       "      <td>14.0</td>\n",
       "      <td>NaN</td>\n",
       "      <td>9</td>\n",
       "      <td>True</td>\n",
       "      <td>...</td>\n",
       "      <td>2.0</td>\n",
       "      <td>84.0</td>\n",
       "      <td>3.0</td>\n",
       "      <td>234.0</td>\n",
       "      <td>424.0</td>\n",
       "      <td>408176.10</td>\n",
       "      <td>4</td>\n",
       "      <td>7</td>\n",
       "      <td>2015</td>\n",
       "      <td>другой</td>\n",
       "    </tr>\n",
       "    <tr>\n",
       "      <th>4</th>\n",
       "      <td>2</td>\n",
       "      <td>10000000.0</td>\n",
       "      <td>100.0</td>\n",
       "      <td>2018-06-19</td>\n",
       "      <td>2</td>\n",
       "      <td>3.03</td>\n",
       "      <td>14.0</td>\n",
       "      <td>32.0</td>\n",
       "      <td>13</td>\n",
       "      <td>True</td>\n",
       "      <td>...</td>\n",
       "      <td>2.0</td>\n",
       "      <td>112.0</td>\n",
       "      <td>1.0</td>\n",
       "      <td>48.0</td>\n",
       "      <td>121.0</td>\n",
       "      <td>100000.00</td>\n",
       "      <td>1</td>\n",
       "      <td>6</td>\n",
       "      <td>2018</td>\n",
       "      <td>другой</td>\n",
       "    </tr>\n",
       "  </tbody>\n",
       "</table>\n",
       "<p>5 rows × 27 columns</p>\n",
       "</div>"
      ],
      "text/plain": [
       "   total_images  last_price  total_area first_day_exposition  rooms  \\\n",
       "0            20  13000000.0       108.0           2019-03-07      3   \n",
       "1             7   3350000.0        40.4           2018-12-04      1   \n",
       "2            10   5196000.0        56.0           2015-08-20      2   \n",
       "3             0  64900000.0       159.0           2015-07-24      3   \n",
       "4             2  10000000.0       100.0           2018-06-19      2   \n",
       "\n",
       "   ceiling_height  floors_total  living_area  floor  is_apartment  ...  \\\n",
       "0            2.70          16.0         51.0      8          True  ...   \n",
       "1             NaN          11.0         18.6      1          True  ...   \n",
       "2             NaN           5.0         34.3      4          True  ...   \n",
       "3             NaN          14.0          NaN      9          True  ...   \n",
       "4            3.03          14.0         32.0     13          True  ...   \n",
       "\n",
       "   parks_around3000  parks_nearest  ponds_around3000  ponds_nearest  \\\n",
       "0               1.0          482.0               2.0          755.0   \n",
       "1               0.0            NaN               0.0            NaN   \n",
       "2               1.0           90.0               2.0          574.0   \n",
       "3               2.0           84.0               3.0          234.0   \n",
       "4               2.0          112.0               1.0           48.0   \n",
       "\n",
       "  days_exposition  price_per_m2  day_of_publication  month_of_publication  \\\n",
       "0             NaN     120370.37                   3                     3   \n",
       "1            81.0      82920.79                   1                    12   \n",
       "2           558.0      92785.71                   3                     8   \n",
       "3           424.0     408176.10                   4                     7   \n",
       "4           121.0     100000.00                   1                     6   \n",
       "\n",
       "   year_of_publication  floor_types  \n",
       "0                 2019       другой  \n",
       "1                 2018       первый  \n",
       "2                 2015       другой  \n",
       "3                 2015       другой  \n",
       "4                 2018       другой  \n",
       "\n",
       "[5 rows x 27 columns]"
      ]
     },
     "execution_count": 27,
     "metadata": {},
     "output_type": "execute_result"
    }
   ],
   "source": [
    "# Проверяю результат\n",
    "data.head()"
   ]
  },
  {
   "cell_type": "markdown",
   "metadata": {},
   "source": [
    "В таблице указан тип этажа."
   ]
  },
  {
   "cell_type": "markdown",
   "metadata": {},
   "source": [
    "Добавляю новый стобец в таблицу: Расстояние до центра в километрах."
   ]
  },
  {
   "cell_type": "code",
   "execution_count": 28,
   "metadata": {},
   "outputs": [],
   "source": [
    "data['cityCenters_nearest_in_km'] = (data['cityCenters_nearest'] / 1000).round()"
   ]
  },
  {
   "cell_type": "markdown",
   "metadata": {},
   "source": [
    "Проверяю не появилось ли аномальных значений после добавления столбцов."
   ]
  },
  {
   "cell_type": "code",
   "execution_count": 29,
   "metadata": {},
   "outputs": [
    {
     "name": "stdout",
     "output_type": "stream",
     "text": [
      "<class 'pandas.core.frame.DataFrame'>\n",
      "RangeIndex: 23699 entries, 0 to 23698\n",
      "Data columns (total 28 columns):\n",
      " #   Column                     Non-Null Count  Dtype         \n",
      "---  ------                     --------------  -----         \n",
      " 0   total_images               23699 non-null  int64         \n",
      " 1   last_price                 23699 non-null  float64       \n",
      " 2   total_area                 23699 non-null  float64       \n",
      " 3   first_day_exposition       23699 non-null  datetime64[ns]\n",
      " 4   rooms                      23699 non-null  int64         \n",
      " 5   ceiling_height             14504 non-null  float64       \n",
      " 6   floors_total               23613 non-null  float64       \n",
      " 7   living_area                21796 non-null  float64       \n",
      " 8   floor                      23699 non-null  int64         \n",
      " 9   is_apartment               23699 non-null  bool          \n",
      " 10  studio                     23699 non-null  bool          \n",
      " 11  open_plan                  23699 non-null  bool          \n",
      " 12  kitchen_area               21421 non-null  float64       \n",
      " 13  balcony                    23699 non-null  float64       \n",
      " 14  locality_name              23650 non-null  string        \n",
      " 15  airports_nearest           18157 non-null  float64       \n",
      " 16  cityCenters_nearest        18180 non-null  float64       \n",
      " 17  parks_around3000           23699 non-null  float64       \n",
      " 18  parks_nearest              8079 non-null   float64       \n",
      " 19  ponds_around3000           23699 non-null  float64       \n",
      " 20  ponds_nearest              9110 non-null   float64       \n",
      " 21  days_exposition            20518 non-null  float64       \n",
      " 22  price_per_m2               23699 non-null  float64       \n",
      " 23  day_of_publication         23699 non-null  int64         \n",
      " 24  month_of_publication       23699 non-null  int64         \n",
      " 25  year_of_publication        23699 non-null  int64         \n",
      " 26  floor_types                23699 non-null  object        \n",
      " 27  cityCenters_nearest_in_km  18180 non-null  float64       \n",
      "dtypes: bool(3), datetime64[ns](1), float64(16), int64(6), object(1), string(1)\n",
      "memory usage: 4.6+ MB\n"
     ]
    }
   ],
   "source": [
    "data.info()"
   ]
  },
  {
   "cell_type": "markdown",
   "metadata": {},
   "source": [
    "В одном из добавленных мною столбцов тип данных - object. Это нужно исправить."
   ]
  },
  {
   "cell_type": "code",
   "execution_count": 30,
   "metadata": {},
   "outputs": [],
   "source": [
    "# Для этого использую метод astype()\n",
    "data['floor_types'] = data['floor_types'].astype('string')"
   ]
  },
  {
   "cell_type": "markdown",
   "metadata": {},
   "source": [
    "Проверяю корректность данных."
   ]
  },
  {
   "cell_type": "code",
   "execution_count": 31,
   "metadata": {},
   "outputs": [
    {
     "name": "stdout",
     "output_type": "stream",
     "text": [
      "<class 'pandas.core.frame.DataFrame'>\n",
      "RangeIndex: 23699 entries, 0 to 23698\n",
      "Data columns (total 28 columns):\n",
      " #   Column                     Non-Null Count  Dtype         \n",
      "---  ------                     --------------  -----         \n",
      " 0   total_images               23699 non-null  int64         \n",
      " 1   last_price                 23699 non-null  float64       \n",
      " 2   total_area                 23699 non-null  float64       \n",
      " 3   first_day_exposition       23699 non-null  datetime64[ns]\n",
      " 4   rooms                      23699 non-null  int64         \n",
      " 5   ceiling_height             14504 non-null  float64       \n",
      " 6   floors_total               23613 non-null  float64       \n",
      " 7   living_area                21796 non-null  float64       \n",
      " 8   floor                      23699 non-null  int64         \n",
      " 9   is_apartment               23699 non-null  bool          \n",
      " 10  studio                     23699 non-null  bool          \n",
      " 11  open_plan                  23699 non-null  bool          \n",
      " 12  kitchen_area               21421 non-null  float64       \n",
      " 13  balcony                    23699 non-null  float64       \n",
      " 14  locality_name              23650 non-null  string        \n",
      " 15  airports_nearest           18157 non-null  float64       \n",
      " 16  cityCenters_nearest        18180 non-null  float64       \n",
      " 17  parks_around3000           23699 non-null  float64       \n",
      " 18  parks_nearest              8079 non-null   float64       \n",
      " 19  ponds_around3000           23699 non-null  float64       \n",
      " 20  ponds_nearest              9110 non-null   float64       \n",
      " 21  days_exposition            20518 non-null  float64       \n",
      " 22  price_per_m2               23699 non-null  float64       \n",
      " 23  day_of_publication         23699 non-null  int64         \n",
      " 24  month_of_publication       23699 non-null  int64         \n",
      " 25  year_of_publication        23699 non-null  int64         \n",
      " 26  floor_types                23699 non-null  string        \n",
      " 27  cityCenters_nearest_in_km  18180 non-null  float64       \n",
      "dtypes: bool(3), datetime64[ns](1), float64(16), int64(6), string(2)\n",
      "memory usage: 4.6 MB\n"
     ]
    }
   ],
   "source": [
    "data.info()"
   ]
  },
  {
   "cell_type": "markdown",
   "metadata": {},
   "source": [
    "Типы данных записаны верно."
   ]
  },
  {
   "cell_type": "code",
   "execution_count": 32,
   "metadata": {},
   "outputs": [
    {
     "data": {
      "text/html": [
       "<div>\n",
       "<style scoped>\n",
       "    .dataframe tbody tr th:only-of-type {\n",
       "        vertical-align: middle;\n",
       "    }\n",
       "\n",
       "    .dataframe tbody tr th {\n",
       "        vertical-align: top;\n",
       "    }\n",
       "\n",
       "    .dataframe thead th {\n",
       "        text-align: right;\n",
       "    }\n",
       "</style>\n",
       "<table border=\"1\" class=\"dataframe\">\n",
       "  <thead>\n",
       "    <tr style=\"text-align: right;\">\n",
       "      <th></th>\n",
       "      <th>total_images</th>\n",
       "      <th>last_price</th>\n",
       "      <th>total_area</th>\n",
       "      <th>first_day_exposition</th>\n",
       "      <th>rooms</th>\n",
       "      <th>ceiling_height</th>\n",
       "      <th>floors_total</th>\n",
       "      <th>living_area</th>\n",
       "      <th>floor</th>\n",
       "      <th>is_apartment</th>\n",
       "      <th>...</th>\n",
       "      <th>parks_nearest</th>\n",
       "      <th>ponds_around3000</th>\n",
       "      <th>ponds_nearest</th>\n",
       "      <th>days_exposition</th>\n",
       "      <th>price_per_m2</th>\n",
       "      <th>day_of_publication</th>\n",
       "      <th>month_of_publication</th>\n",
       "      <th>year_of_publication</th>\n",
       "      <th>floor_types</th>\n",
       "      <th>cityCenters_nearest_in_km</th>\n",
       "    </tr>\n",
       "  </thead>\n",
       "  <tbody>\n",
       "    <tr>\n",
       "      <th>0</th>\n",
       "      <td>20</td>\n",
       "      <td>13000000.0</td>\n",
       "      <td>108.0</td>\n",
       "      <td>2019-03-07</td>\n",
       "      <td>3</td>\n",
       "      <td>2.70</td>\n",
       "      <td>16.0</td>\n",
       "      <td>51.0</td>\n",
       "      <td>8</td>\n",
       "      <td>True</td>\n",
       "      <td>...</td>\n",
       "      <td>482.0</td>\n",
       "      <td>2.0</td>\n",
       "      <td>755.0</td>\n",
       "      <td>NaN</td>\n",
       "      <td>120370.37</td>\n",
       "      <td>3</td>\n",
       "      <td>3</td>\n",
       "      <td>2019</td>\n",
       "      <td>другой</td>\n",
       "      <td>16.0</td>\n",
       "    </tr>\n",
       "    <tr>\n",
       "      <th>1</th>\n",
       "      <td>7</td>\n",
       "      <td>3350000.0</td>\n",
       "      <td>40.4</td>\n",
       "      <td>2018-12-04</td>\n",
       "      <td>1</td>\n",
       "      <td>NaN</td>\n",
       "      <td>11.0</td>\n",
       "      <td>18.6</td>\n",
       "      <td>1</td>\n",
       "      <td>True</td>\n",
       "      <td>...</td>\n",
       "      <td>NaN</td>\n",
       "      <td>0.0</td>\n",
       "      <td>NaN</td>\n",
       "      <td>81.0</td>\n",
       "      <td>82920.79</td>\n",
       "      <td>1</td>\n",
       "      <td>12</td>\n",
       "      <td>2018</td>\n",
       "      <td>первый</td>\n",
       "      <td>19.0</td>\n",
       "    </tr>\n",
       "    <tr>\n",
       "      <th>2</th>\n",
       "      <td>10</td>\n",
       "      <td>5196000.0</td>\n",
       "      <td>56.0</td>\n",
       "      <td>2015-08-20</td>\n",
       "      <td>2</td>\n",
       "      <td>NaN</td>\n",
       "      <td>5.0</td>\n",
       "      <td>34.3</td>\n",
       "      <td>4</td>\n",
       "      <td>True</td>\n",
       "      <td>...</td>\n",
       "      <td>90.0</td>\n",
       "      <td>2.0</td>\n",
       "      <td>574.0</td>\n",
       "      <td>558.0</td>\n",
       "      <td>92785.71</td>\n",
       "      <td>3</td>\n",
       "      <td>8</td>\n",
       "      <td>2015</td>\n",
       "      <td>другой</td>\n",
       "      <td>14.0</td>\n",
       "    </tr>\n",
       "    <tr>\n",
       "      <th>3</th>\n",
       "      <td>0</td>\n",
       "      <td>64900000.0</td>\n",
       "      <td>159.0</td>\n",
       "      <td>2015-07-24</td>\n",
       "      <td>3</td>\n",
       "      <td>NaN</td>\n",
       "      <td>14.0</td>\n",
       "      <td>NaN</td>\n",
       "      <td>9</td>\n",
       "      <td>True</td>\n",
       "      <td>...</td>\n",
       "      <td>84.0</td>\n",
       "      <td>3.0</td>\n",
       "      <td>234.0</td>\n",
       "      <td>424.0</td>\n",
       "      <td>408176.10</td>\n",
       "      <td>4</td>\n",
       "      <td>7</td>\n",
       "      <td>2015</td>\n",
       "      <td>другой</td>\n",
       "      <td>7.0</td>\n",
       "    </tr>\n",
       "    <tr>\n",
       "      <th>4</th>\n",
       "      <td>2</td>\n",
       "      <td>10000000.0</td>\n",
       "      <td>100.0</td>\n",
       "      <td>2018-06-19</td>\n",
       "      <td>2</td>\n",
       "      <td>3.03</td>\n",
       "      <td>14.0</td>\n",
       "      <td>32.0</td>\n",
       "      <td>13</td>\n",
       "      <td>True</td>\n",
       "      <td>...</td>\n",
       "      <td>112.0</td>\n",
       "      <td>1.0</td>\n",
       "      <td>48.0</td>\n",
       "      <td>121.0</td>\n",
       "      <td>100000.00</td>\n",
       "      <td>1</td>\n",
       "      <td>6</td>\n",
       "      <td>2018</td>\n",
       "      <td>другой</td>\n",
       "      <td>8.0</td>\n",
       "    </tr>\n",
       "  </tbody>\n",
       "</table>\n",
       "<p>5 rows × 28 columns</p>\n",
       "</div>"
      ],
      "text/plain": [
       "   total_images  last_price  total_area first_day_exposition  rooms  \\\n",
       "0            20  13000000.0       108.0           2019-03-07      3   \n",
       "1             7   3350000.0        40.4           2018-12-04      1   \n",
       "2            10   5196000.0        56.0           2015-08-20      2   \n",
       "3             0  64900000.0       159.0           2015-07-24      3   \n",
       "4             2  10000000.0       100.0           2018-06-19      2   \n",
       "\n",
       "   ceiling_height  floors_total  living_area  floor  is_apartment  ...  \\\n",
       "0            2.70          16.0         51.0      8          True  ...   \n",
       "1             NaN          11.0         18.6      1          True  ...   \n",
       "2             NaN           5.0         34.3      4          True  ...   \n",
       "3             NaN          14.0          NaN      9          True  ...   \n",
       "4            3.03          14.0         32.0     13          True  ...   \n",
       "\n",
       "   parks_nearest  ponds_around3000  ponds_nearest  days_exposition  \\\n",
       "0          482.0               2.0          755.0              NaN   \n",
       "1            NaN               0.0            NaN             81.0   \n",
       "2           90.0               2.0          574.0            558.0   \n",
       "3           84.0               3.0          234.0            424.0   \n",
       "4          112.0               1.0           48.0            121.0   \n",
       "\n",
       "  price_per_m2  day_of_publication  month_of_publication  year_of_publication  \\\n",
       "0    120370.37                   3                     3                 2019   \n",
       "1     82920.79                   1                    12                 2018   \n",
       "2     92785.71                   3                     8                 2015   \n",
       "3    408176.10                   4                     7                 2015   \n",
       "4    100000.00                   1                     6                 2018   \n",
       "\n",
       "   floor_types  cityCenters_nearest_in_km  \n",
       "0       другой                       16.0  \n",
       "1       первый                       19.0  \n",
       "2       другой                       14.0  \n",
       "3       другой                        7.0  \n",
       "4       другой                        8.0  \n",
       "\n",
       "[5 rows x 28 columns]"
      ]
     },
     "execution_count": 32,
     "metadata": {},
     "output_type": "execute_result"
    }
   ],
   "source": [
    "# Смотрю итоговый результат\n",
    "data.head()"
   ]
  },
  {
   "cell_type": "markdown",
   "metadata": {},
   "source": [
    "Данные посчитаны и выведены в новые столбцы."
   ]
  },
  {
   "cell_type": "markdown",
   "metadata": {},
   "source": [
    "#### Выводы по разделу"
   ]
  },
  {
   "cell_type": "markdown",
   "metadata": {},
   "source": [
    "Я добавил несколько очень важных столбцов, которые понадобятся в будущем. Например, цена за квадратный метр('price_per_m2') и расстояние до центра в километрах('cityCenters_nearest_in_km'). Остальные столбцы указаны в таблице. Благодаря этой работе я смогу провести последующее исследование гораздо быстрее.\n",
    "Так же, обработал типы данных, для более удобной работы."
   ]
  },
  {
   "cell_type": "markdown",
   "metadata": {
    "id": "pPyxrKWTAwb-"
   },
   "source": [
    "### Проведите исследовательский анализ данных"
   ]
  },
  {
   "cell_type": "markdown",
   "metadata": {},
   "source": [
    "Для более удобной навигации по столбцам, с которыми планирую работать просмотрю их ещё раз."
   ]
  },
  {
   "cell_type": "code",
   "execution_count": 33,
   "metadata": {},
   "outputs": [
    {
     "name": "stdout",
     "output_type": "stream",
     "text": [
      "<class 'pandas.core.frame.DataFrame'>\n",
      "RangeIndex: 23699 entries, 0 to 23698\n",
      "Data columns (total 28 columns):\n",
      " #   Column                     Non-Null Count  Dtype         \n",
      "---  ------                     --------------  -----         \n",
      " 0   total_images               23699 non-null  int64         \n",
      " 1   last_price                 23699 non-null  float64       \n",
      " 2   total_area                 23699 non-null  float64       \n",
      " 3   first_day_exposition       23699 non-null  datetime64[ns]\n",
      " 4   rooms                      23699 non-null  int64         \n",
      " 5   ceiling_height             14504 non-null  float64       \n",
      " 6   floors_total               23613 non-null  float64       \n",
      " 7   living_area                21796 non-null  float64       \n",
      " 8   floor                      23699 non-null  int64         \n",
      " 9   is_apartment               23699 non-null  bool          \n",
      " 10  studio                     23699 non-null  bool          \n",
      " 11  open_plan                  23699 non-null  bool          \n",
      " 12  kitchen_area               21421 non-null  float64       \n",
      " 13  balcony                    23699 non-null  float64       \n",
      " 14  locality_name              23650 non-null  string        \n",
      " 15  airports_nearest           18157 non-null  float64       \n",
      " 16  cityCenters_nearest        18180 non-null  float64       \n",
      " 17  parks_around3000           23699 non-null  float64       \n",
      " 18  parks_nearest              8079 non-null   float64       \n",
      " 19  ponds_around3000           23699 non-null  float64       \n",
      " 20  ponds_nearest              9110 non-null   float64       \n",
      " 21  days_exposition            20518 non-null  float64       \n",
      " 22  price_per_m2               23699 non-null  float64       \n",
      " 23  day_of_publication         23699 non-null  int64         \n",
      " 24  month_of_publication       23699 non-null  int64         \n",
      " 25  year_of_publication        23699 non-null  int64         \n",
      " 26  floor_types                23699 non-null  string        \n",
      " 27  cityCenters_nearest_in_km  18180 non-null  float64       \n",
      "dtypes: bool(3), datetime64[ns](1), float64(16), int64(6), string(2)\n",
      "memory usage: 4.6 MB\n"
     ]
    }
   ],
   "source": [
    "# Вызываю метод info()\n",
    "data.info()"
   ]
  },
  {
   "cell_type": "markdown",
   "metadata": {},
   "source": [
    "Необходимо построить гистограммы для определенных столбцов.\n",
    "Для удобства выведу нужные столбцы в отдельную переменную."
   ]
  },
  {
   "cell_type": "code",
   "execution_count": 34,
   "metadata": {},
   "outputs": [],
   "source": [
    "columns_to_hist = [\n",
    "    'total_area',\n",
    "    'living_area',\n",
    "    'kitchen_area',\n",
    "    'last_price',\n",
    "    'rooms',\n",
    "    'ceiling_height',\n",
    "    'floor_types', \n",
    "    'floors_total',\n",
    "    'cityCenters_nearest',\n",
    "    'parks_nearest'\n",
    "]"
   ]
  },
  {
   "cell_type": "markdown",
   "metadata": {},
   "source": [
    "#### Детально рассмотрю каждый столбец"
   ]
  },
  {
   "cell_type": "markdown",
   "metadata": {},
   "source": [
    "Воспользуюсь matplotlib.pyplot как plt(подгрузил в самом начале работы). Буду строить гистограммы для каждого выделенного столбца."
   ]
  },
  {
   "cell_type": "markdown",
   "metadata": {},
   "source": [
    "Столбец 'total_area'(общая площадь) включает в себя много данных. Следует немного ограничить разброс(сделал это для общей картины, но данные будут учтены и проверены на следующем этапе)."
   ]
  },
  {
   "cell_type": "code",
   "execution_count": 35,
   "metadata": {},
   "outputs": [
    {
     "data": {
      "text/plain": [
       "Text(0, 0.5, 'Количество квартир')"
      ]
     },
     "execution_count": 35,
     "metadata": {},
     "output_type": "execute_result"
    },
    {
     "data": {
      "image/png": "[encoded data removed]",
      "text/plain": [
       "<Figure size 864x432 with 1 Axes>"
      ]
     },
     "metadata": {
      "needs_background": "light"
     },
     "output_type": "display_data"
    }
   ],
   "source": [
    "data['total_area'].hist(bins=50, range=(0, 200),figsize=(12, 6), grid=True)\n",
    "\n",
    "# Выожу названия в отдельные строки\n",
    "plt.title('Распределение общей площади квартир')\n",
    "plt.xlabel('Общая площадь, м²')\n",
    "plt.ylabel('Количество квартир')"
   ]
  },
  {
   "cell_type": "markdown",
   "metadata": {},
   "source": [
    "Данные показывают нестандартную картину, но приемлимую. В ходе работы я осуществвлю более детальную проверку."
   ]
  },
  {
   "cell_type": "markdown",
   "metadata": {},
   "source": [
    "Столбец 'living_area'(жилая площадь) так же включает в себя много данных. Следует немного ограничить разброс(сделал это для общей картины, но данные будут учтены и проверены на следующем этапе)"
   ]
  },
  {
   "cell_type": "code",
   "execution_count": 36,
   "metadata": {},
   "outputs": [
    {
     "data": {
      "text/plain": [
       "Text(0, 0.5, 'Количество квартир')"
      ]
     },
     "execution_count": 36,
     "metadata": {},
     "output_type": "execute_result"
    },
    {
     "data": {
      "image/png": "[encoded data removed]",
      "text/plain": [
       "<Figure size 864x432 with 1 Axes>"
      ]
     },
     "metadata": {
      "needs_background": "light"
     },
     "output_type": "display_data"
    }
   ],
   "source": [
    "data['living_area'].hist(bins=50, range=(0, 100),figsize=(12, 6), grid=True)\n",
    "\n",
    "plt.title('Распределение жилой площади квартир')\n",
    "plt.xlabel('Жилая площадь, м²')\n",
    "plt.ylabel('Количество квартир')"
   ]
  },
  {
   "cell_type": "markdown",
   "metadata": {},
   "source": [
    "Явно есть пропуски в данных. Примрно на 25 и 40 м² присутствуют резкие перепады"
   ]
  },
  {
   "cell_type": "markdown",
   "metadata": {},
   "source": [
    "И со столбцом 'kitchen_area'(площадь кухни) поступлю так же"
   ]
  },
  {
   "cell_type": "code",
   "execution_count": 37,
   "metadata": {},
   "outputs": [
    {
     "data": {
      "text/plain": [
       "Text(0, 0.5, 'Количество квартир')"
      ]
     },
     "execution_count": 37,
     "metadata": {},
     "output_type": "execute_result"
    },
    {
     "data": {
      "image/png": "[encoded data removed]",
      "text/plain": [
       "<Figure size 864x432 with 1 Axes>"
      ]
     },
     "metadata": {
      "needs_background": "light"
     },
     "output_type": "display_data"
    }
   ],
   "source": [
    "data['kitchen_area'].hist(bins=50, range=(0, 40), figsize=(12, 6), grid=True)\n",
    "\n",
    "plt.title('Распределение площади кухни квартир')\n",
    "plt.xlabel('Площадь кухни, м²')\n",
    "plt.ylabel('Количество квартир')"
   ]
  },
  {
   "cell_type": "markdown",
   "metadata": {},
   "source": [
    "Здесь похожая ситуация как с жилой площадью. Есть пропуски и выбитые значения"
   ]
  },
  {
   "cell_type": "markdown",
   "metadata": {},
   "source": [
    "Ограничу таблицу 20 миллионами рублей за квартиру. Да, покажутся не все данные. Но, думаю, этого достаточно для первичного анализа."
   ]
  },
  {
   "cell_type": "code",
   "execution_count": 38,
   "metadata": {},
   "outputs": [
    {
     "data": {
      "text/plain": [
       "Text(0, 0.5, 'Количество квартир')"
      ]
     },
     "execution_count": 38,
     "metadata": {},
     "output_type": "execute_result"
    },
    {
     "data": {
      "image/png": "[encoded data removed]",
      "text/plain": [
       "<Figure size 1080x720 with 1 Axes>"
      ]
     },
     "metadata": {
      "needs_background": "light"
     },
     "output_type": "display_data"
    }
   ],
   "source": [
    "data['last_price'].hist(bins=50, range=(0, 20000000), figsize=(15, 10), grid=True)\n",
    "\n",
    "plt.title('Распределение цен на квартиры')\n",
    "plt.xlabel('Цена (в миллионах)')\n",
    "plt.ylabel('Количество квартир')"
   ]
  },
  {
   "cell_type": "markdown",
   "metadata": {},
   "source": [
    "Наконец данные пришли оптимальный вид"
   ]
  },
  {
   "cell_type": "markdown",
   "metadata": {},
   "source": [
    "Для вывода количества комнат подойдет самая простая гистограмма. Но с ограничением от студии(0) до 6 комнат"
   ]
  },
  {
   "cell_type": "code",
   "execution_count": 39,
   "metadata": {},
   "outputs": [
    {
     "data": {
      "text/plain": [
       "Text(0, 0.5, 'Количество квартир')"
      ]
     },
     "execution_count": 39,
     "metadata": {},
     "output_type": "execute_result"
    },
    {
     "data": {
      "image/png": "[encoded data removed]",
      "text/plain": [
       "<Figure size 432x288 with 1 Axes>"
      ]
     },
     "metadata": {
      "needs_background": "light"
     },
     "output_type": "display_data"
    }
   ],
   "source": [
    "data['rooms'].hist(bins=10, range=(0, 6), grid=True)\n",
    "\n",
    "plt.title('Распределение количества комнат в квартирах')\n",
    "plt.xlabel('количество комнат')\n",
    "plt.ylabel('Количество квартир')"
   ]
  },
  {
   "cell_type": "markdown",
   "metadata": {},
   "source": [
    "Видно, что больше всего объявлений 1 и 2 комнат в квартирах."
   ]
  },
  {
   "cell_type": "markdown",
   "metadata": {},
   "source": [
    "Высота потолков. Ограничу таблицу от 1,5 м до 4. Меньше и выше этих значений считаются аномальными, их проверю позже"
   ]
  },
  {
   "cell_type": "code",
   "execution_count": 40,
   "metadata": {
    "scrolled": true
   },
   "outputs": [
    {
     "data": {
      "text/plain": [
       "Text(0, 0.5, 'Количетсво квартир')"
      ]
     },
     "execution_count": 40,
     "metadata": {},
     "output_type": "execute_result"
    },
    {
     "data": {
      "image/png": "[encoded data removed]",
      "text/plain": [
       "<Figure size 720x360 with 1 Axes>"
      ]
     },
     "metadata": {
      "needs_background": "light"
     },
     "output_type": "display_data"
    }
   ],
   "source": [
    "data['ceiling_height'].hist(bins=10, range=(1.5, 4), figsize=(10, 5), grid=True)\n",
    "\n",
    "plt.title('Распределение высоты потолков в квартирах')\n",
    "plt.xlabel('Высота потолков')\n",
    "plt.ylabel('Количетсво квартир')"
   ]
  },
  {
   "cell_type": "code",
   "execution_count": 41,
   "metadata": {},
   "outputs": [
    {
     "data": {
      "text/plain": [
       "Text(0, 0.5, 'Количетсво объявлений')"
      ]
     },
     "execution_count": 41,
     "metadata": {},
     "output_type": "execute_result"
    },
    {
     "data": {
      "image/png": "[encoded data removed]",
      "text/plain": [
       "<Figure size 432x288 with 1 Axes>"
      ]
     },
     "metadata": {
      "needs_background": "light"
     },
     "output_type": "display_data"
    }
   ],
   "source": [
    "data['floor_types'].hist(bins=10, grid=True)\n",
    "\n",
    "# Выожу названия в отдельные строки\n",
    "plt.title('Распределение типа этажей в квартирах')\n",
    "plt.xlabel('Тип этажа')\n",
    "plt.ylabel('Количетсво объявлений')"
   ]
  },
  {
   "cell_type": "markdown",
   "metadata": {},
   "source": [
    "Количетсво объявлений не первого и последнего этажа сильно выше, чем других"
   ]
  },
  {
   "cell_type": "markdown",
   "metadata": {},
   "source": [
    "Для количества этажей выведу данные от 2 до 30 этажей. Иные типы либо частные дома, либо аномальное значение."
   ]
  },
  {
   "cell_type": "code",
   "execution_count": 42,
   "metadata": {},
   "outputs": [
    {
     "data": {
      "text/plain": [
       "Text(0, 0.5, 'Количетсво объявлений')"
      ]
     },
     "execution_count": 42,
     "metadata": {},
     "output_type": "execute_result"
    },
    {
     "data": {
      "image/png": "[encoded data removed]",
      "text/plain": [
       "<Figure size 720x360 with 1 Axes>"
      ]
     },
     "metadata": {
      "needs_background": "light"
     },
     "output_type": "display_data"
    }
   ],
   "source": [
    "data['floors_total'].hist(bins=10, range=(2, 30), figsize=(10, 5), grid=True)\n",
    "\n",
    "plt.title('Распределение общего количества этажей')\n",
    "plt.xlabel('Количетсво этажей')\n",
    "plt.ylabel('Количетсво объявлений')"
   ]
  },
  {
   "cell_type": "raw",
   "metadata": {},
   "source": [
    "В будущем я буду использовать столбец с расстоянием в километрах. Но по заданию нужно посмотреть этот столбец. Ограничусь 30 километрами."
   ]
  },
  {
   "cell_type": "code",
   "execution_count": 43,
   "metadata": {},
   "outputs": [
    {
     "data": {
      "text/plain": [
       "Text(0, 0.5, 'Количество квартир')"
      ]
     },
     "execution_count": 43,
     "metadata": {},
     "output_type": "execute_result"
    },
    {
     "data": {
      "image/png": "[encoded data removed]",
      "text/plain": [
       "<Figure size 1080x720 with 1 Axes>"
      ]
     },
     "metadata": {
      "needs_background": "light"
     },
     "output_type": "display_data"
    }
   ],
   "source": [
    "data['cityCenters_nearest'].hist(bins=50, range=(0, 30000), figsize=(15, 10), grid=True)\n",
    "\n",
    "plt.title('Распределение расстояния от центра, м')\n",
    "plt.xlabel('Расстояние, м')\n",
    "plt.ylabel('Количество квартир')"
   ]
  },
  {
   "cell_type": "markdown",
   "metadata": {},
   "source": [
    "Видно, что присутствуют выбросы и пропуски. Но, к сожалению, я не смогу их запонить."
   ]
  },
  {
   "cell_type": "code",
   "execution_count": 44,
   "metadata": {},
   "outputs": [
    {
     "data": {
      "text/plain": [
       "Text(0, 0.5, 'Количество квартир')"
      ]
     },
     "execution_count": 44,
     "metadata": {},
     "output_type": "execute_result"
    },
    {
     "data": {
      "image/png": "[encoded data removed]",
      "text/plain": [
       "<Figure size 1080x720 with 1 Axes>"
      ]
     },
     "metadata": {
      "needs_background": "light"
     },
     "output_type": "display_data"
    }
   ],
   "source": [
    "data['parks_nearest'].hist(bins=100, range=(0, 3000), figsize=(15, 10), grid=True)\n",
    "\n",
    "plt.title('Распределение расстояние до парка, м')\n",
    "plt.xlabel('Расстояние, м')\n",
    "plt.ylabel('Количество квартир')"
   ]
  },
  {
   "cell_type": "markdown",
   "metadata": {},
   "source": [
    "В этом столбце присутсвет множество пропусков. Это видно по количеству объявлений"
   ]
  },
  {
   "cell_type": "markdown",
   "metadata": {},
   "source": [
    "Итак, я получил общую информацию о заднных столбцах по гистограммам. Вижу, что во многих есть выбитые значения"
   ]
  },
  {
   "cell_type": "markdown",
   "metadata": {},
   "source": [
    "#### Теперь следует заняться столбцами по отдельности"
   ]
  },
  {
   "cell_type": "markdown",
   "metadata": {},
   "source": [
    "Посмотрю почему в столбце total_area есть выбитые значнения"
   ]
  },
  {
   "cell_type": "code",
   "execution_count": 45,
   "metadata": {},
   "outputs": [
    {
     "data": {
      "text/html": [
       "<div>\n",
       "<style scoped>\n",
       "    .dataframe tbody tr th:only-of-type {\n",
       "        vertical-align: middle;\n",
       "    }\n",
       "\n",
       "    .dataframe tbody tr th {\n",
       "        vertical-align: top;\n",
       "    }\n",
       "\n",
       "    .dataframe thead th {\n",
       "        text-align: right;\n",
       "    }\n",
       "</style>\n",
       "<table border=\"1\" class=\"dataframe\">\n",
       "  <thead>\n",
       "    <tr style=\"text-align: right;\">\n",
       "      <th></th>\n",
       "      <th>total_images</th>\n",
       "      <th>last_price</th>\n",
       "      <th>total_area</th>\n",
       "      <th>first_day_exposition</th>\n",
       "      <th>rooms</th>\n",
       "      <th>ceiling_height</th>\n",
       "      <th>floors_total</th>\n",
       "      <th>living_area</th>\n",
       "      <th>floor</th>\n",
       "      <th>is_apartment</th>\n",
       "      <th>...</th>\n",
       "      <th>parks_nearest</th>\n",
       "      <th>ponds_around3000</th>\n",
       "      <th>ponds_nearest</th>\n",
       "      <th>days_exposition</th>\n",
       "      <th>price_per_m2</th>\n",
       "      <th>day_of_publication</th>\n",
       "      <th>month_of_publication</th>\n",
       "      <th>year_of_publication</th>\n",
       "      <th>floor_types</th>\n",
       "      <th>cityCenters_nearest_in_km</th>\n",
       "    </tr>\n",
       "  </thead>\n",
       "  <tbody>\n",
       "    <tr>\n",
       "      <th>0</th>\n",
       "      <td>20</td>\n",
       "      <td>13000000.0</td>\n",
       "      <td>108.00</td>\n",
       "      <td>2019-03-07</td>\n",
       "      <td>3</td>\n",
       "      <td>2.70</td>\n",
       "      <td>16.0</td>\n",
       "      <td>51.0</td>\n",
       "      <td>8</td>\n",
       "      <td>True</td>\n",
       "      <td>...</td>\n",
       "      <td>482.0</td>\n",
       "      <td>2.0</td>\n",
       "      <td>755.0</td>\n",
       "      <td>NaN</td>\n",
       "      <td>120370.37</td>\n",
       "      <td>3</td>\n",
       "      <td>3</td>\n",
       "      <td>2019</td>\n",
       "      <td>другой</td>\n",
       "      <td>16.0</td>\n",
       "    </tr>\n",
       "    <tr>\n",
       "      <th>3</th>\n",
       "      <td>0</td>\n",
       "      <td>64900000.0</td>\n",
       "      <td>159.00</td>\n",
       "      <td>2015-07-24</td>\n",
       "      <td>3</td>\n",
       "      <td>NaN</td>\n",
       "      <td>14.0</td>\n",
       "      <td>NaN</td>\n",
       "      <td>9</td>\n",
       "      <td>True</td>\n",
       "      <td>...</td>\n",
       "      <td>84.0</td>\n",
       "      <td>3.0</td>\n",
       "      <td>234.0</td>\n",
       "      <td>424.0</td>\n",
       "      <td>408176.10</td>\n",
       "      <td>4</td>\n",
       "      <td>7</td>\n",
       "      <td>2015</td>\n",
       "      <td>другой</td>\n",
       "      <td>7.0</td>\n",
       "    </tr>\n",
       "    <tr>\n",
       "      <th>19</th>\n",
       "      <td>16</td>\n",
       "      <td>14200000.0</td>\n",
       "      <td>121.00</td>\n",
       "      <td>2019-01-09</td>\n",
       "      <td>3</td>\n",
       "      <td>2.75</td>\n",
       "      <td>16.0</td>\n",
       "      <td>76.0</td>\n",
       "      <td>8</td>\n",
       "      <td>True</td>\n",
       "      <td>...</td>\n",
       "      <td>NaN</td>\n",
       "      <td>0.0</td>\n",
       "      <td>NaN</td>\n",
       "      <td>97.0</td>\n",
       "      <td>117355.37</td>\n",
       "      <td>2</td>\n",
       "      <td>1</td>\n",
       "      <td>2019</td>\n",
       "      <td>другой</td>\n",
       "      <td>13.0</td>\n",
       "    </tr>\n",
       "    <tr>\n",
       "      <th>35</th>\n",
       "      <td>6</td>\n",
       "      <td>15500000.0</td>\n",
       "      <td>149.00</td>\n",
       "      <td>2017-06-26</td>\n",
       "      <td>5</td>\n",
       "      <td>NaN</td>\n",
       "      <td>5.0</td>\n",
       "      <td>104.0</td>\n",
       "      <td>4</td>\n",
       "      <td>True</td>\n",
       "      <td>...</td>\n",
       "      <td>NaN</td>\n",
       "      <td>1.0</td>\n",
       "      <td>779.0</td>\n",
       "      <td>644.0</td>\n",
       "      <td>104026.85</td>\n",
       "      <td>0</td>\n",
       "      <td>6</td>\n",
       "      <td>2017</td>\n",
       "      <td>другой</td>\n",
       "      <td>4.0</td>\n",
       "    </tr>\n",
       "    <tr>\n",
       "      <th>42</th>\n",
       "      <td>13</td>\n",
       "      <td>22000000.0</td>\n",
       "      <td>161.80</td>\n",
       "      <td>2015-07-08</td>\n",
       "      <td>4</td>\n",
       "      <td>2.80</td>\n",
       "      <td>4.0</td>\n",
       "      <td>80.9</td>\n",
       "      <td>2</td>\n",
       "      <td>False</td>\n",
       "      <td>...</td>\n",
       "      <td>47.0</td>\n",
       "      <td>1.0</td>\n",
       "      <td>907.0</td>\n",
       "      <td>987.0</td>\n",
       "      <td>135970.33</td>\n",
       "      <td>2</td>\n",
       "      <td>7</td>\n",
       "      <td>2015</td>\n",
       "      <td>другой</td>\n",
       "      <td>31.0</td>\n",
       "    </tr>\n",
       "    <tr>\n",
       "      <th>...</th>\n",
       "      <td>...</td>\n",
       "      <td>...</td>\n",
       "      <td>...</td>\n",
       "      <td>...</td>\n",
       "      <td>...</td>\n",
       "      <td>...</td>\n",
       "      <td>...</td>\n",
       "      <td>...</td>\n",
       "      <td>...</td>\n",
       "      <td>...</td>\n",
       "      <td>...</td>\n",
       "      <td>...</td>\n",
       "      <td>...</td>\n",
       "      <td>...</td>\n",
       "      <td>...</td>\n",
       "      <td>...</td>\n",
       "      <td>...</td>\n",
       "      <td>...</td>\n",
       "      <td>...</td>\n",
       "      <td>...</td>\n",
       "      <td>...</td>\n",
       "    </tr>\n",
       "    <tr>\n",
       "      <th>23631</th>\n",
       "      <td>17</td>\n",
       "      <td>14799000.0</td>\n",
       "      <td>104.00</td>\n",
       "      <td>2018-11-18</td>\n",
       "      <td>3</td>\n",
       "      <td>3.10</td>\n",
       "      <td>4.0</td>\n",
       "      <td>66.0</td>\n",
       "      <td>2</td>\n",
       "      <td>True</td>\n",
       "      <td>...</td>\n",
       "      <td>NaN</td>\n",
       "      <td>1.0</td>\n",
       "      <td>553.0</td>\n",
       "      <td>90.0</td>\n",
       "      <td>142298.08</td>\n",
       "      <td>6</td>\n",
       "      <td>11</td>\n",
       "      <td>2018</td>\n",
       "      <td>другой</td>\n",
       "      <td>14.0</td>\n",
       "    </tr>\n",
       "    <tr>\n",
       "      <th>23664</th>\n",
       "      <td>5</td>\n",
       "      <td>9000000.0</td>\n",
       "      <td>110.00</td>\n",
       "      <td>2015-12-10</td>\n",
       "      <td>4</td>\n",
       "      <td>3.36</td>\n",
       "      <td>7.0</td>\n",
       "      <td>64.6</td>\n",
       "      <td>5</td>\n",
       "      <td>True</td>\n",
       "      <td>...</td>\n",
       "      <td>417.0</td>\n",
       "      <td>1.0</td>\n",
       "      <td>118.0</td>\n",
       "      <td>816.0</td>\n",
       "      <td>81818.18</td>\n",
       "      <td>3</td>\n",
       "      <td>12</td>\n",
       "      <td>2015</td>\n",
       "      <td>другой</td>\n",
       "      <td>5.0</td>\n",
       "    </tr>\n",
       "    <tr>\n",
       "      <th>23684</th>\n",
       "      <td>20</td>\n",
       "      <td>21400000.0</td>\n",
       "      <td>145.00</td>\n",
       "      <td>2018-11-02</td>\n",
       "      <td>4</td>\n",
       "      <td>3.00</td>\n",
       "      <td>26.0</td>\n",
       "      <td>71.4</td>\n",
       "      <td>17</td>\n",
       "      <td>True</td>\n",
       "      <td>...</td>\n",
       "      <td>NaN</td>\n",
       "      <td>0.0</td>\n",
       "      <td>NaN</td>\n",
       "      <td>NaN</td>\n",
       "      <td>147586.21</td>\n",
       "      <td>4</td>\n",
       "      <td>11</td>\n",
       "      <td>2018</td>\n",
       "      <td>другой</td>\n",
       "      <td>11.0</td>\n",
       "    </tr>\n",
       "    <tr>\n",
       "      <th>23688</th>\n",
       "      <td>19</td>\n",
       "      <td>9200000.0</td>\n",
       "      <td>101.00</td>\n",
       "      <td>2019-04-01</td>\n",
       "      <td>3</td>\n",
       "      <td>3.05</td>\n",
       "      <td>15.0</td>\n",
       "      <td>63.0</td>\n",
       "      <td>12</td>\n",
       "      <td>True</td>\n",
       "      <td>...</td>\n",
       "      <td>NaN</td>\n",
       "      <td>0.0</td>\n",
       "      <td>NaN</td>\n",
       "      <td>23.0</td>\n",
       "      <td>91089.11</td>\n",
       "      <td>0</td>\n",
       "      <td>4</td>\n",
       "      <td>2019</td>\n",
       "      <td>другой</td>\n",
       "      <td>14.0</td>\n",
       "    </tr>\n",
       "    <tr>\n",
       "      <th>23694</th>\n",
       "      <td>9</td>\n",
       "      <td>9700000.0</td>\n",
       "      <td>133.81</td>\n",
       "      <td>2017-03-21</td>\n",
       "      <td>3</td>\n",
       "      <td>3.70</td>\n",
       "      <td>5.0</td>\n",
       "      <td>73.3</td>\n",
       "      <td>3</td>\n",
       "      <td>True</td>\n",
       "      <td>...</td>\n",
       "      <td>796.0</td>\n",
       "      <td>3.0</td>\n",
       "      <td>381.0</td>\n",
       "      <td>NaN</td>\n",
       "      <td>72490.85</td>\n",
       "      <td>1</td>\n",
       "      <td>3</td>\n",
       "      <td>2017</td>\n",
       "      <td>другой</td>\n",
       "      <td>4.0</td>\n",
       "    </tr>\n",
       "  </tbody>\n",
       "</table>\n",
       "<p>1836 rows × 28 columns</p>\n",
       "</div>"
      ],
      "text/plain": [
       "       total_images  last_price  total_area first_day_exposition  rooms  \\\n",
       "0                20  13000000.0      108.00           2019-03-07      3   \n",
       "3                 0  64900000.0      159.00           2015-07-24      3   \n",
       "19               16  14200000.0      121.00           2019-01-09      3   \n",
       "35                6  15500000.0      149.00           2017-06-26      5   \n",
       "42               13  22000000.0      161.80           2015-07-08      4   \n",
       "...             ...         ...         ...                  ...    ...   \n",
       "23631            17  14799000.0      104.00           2018-11-18      3   \n",
       "23664             5   9000000.0      110.00           2015-12-10      4   \n",
       "23684            20  21400000.0      145.00           2018-11-02      4   \n",
       "23688            19   9200000.0      101.00           2019-04-01      3   \n",
       "23694             9   9700000.0      133.81           2017-03-21      3   \n",
       "\n",
       "       ceiling_height  floors_total  living_area  floor  is_apartment  ...  \\\n",
       "0                2.70          16.0         51.0      8          True  ...   \n",
       "3                 NaN          14.0          NaN      9          True  ...   \n",
       "19               2.75          16.0         76.0      8          True  ...   \n",
       "35                NaN           5.0        104.0      4          True  ...   \n",
       "42               2.80           4.0         80.9      2         False  ...   \n",
       "...               ...           ...          ...    ...           ...  ...   \n",
       "23631            3.10           4.0         66.0      2          True  ...   \n",
       "23664            3.36           7.0         64.6      5          True  ...   \n",
       "23684            3.00          26.0         71.4     17          True  ...   \n",
       "23688            3.05          15.0         63.0     12          True  ...   \n",
       "23694            3.70           5.0         73.3      3          True  ...   \n",
       "\n",
       "       parks_nearest  ponds_around3000  ponds_nearest  days_exposition  \\\n",
       "0              482.0               2.0          755.0              NaN   \n",
       "3               84.0               3.0          234.0            424.0   \n",
       "19               NaN               0.0            NaN             97.0   \n",
       "35               NaN               1.0          779.0            644.0   \n",
       "42              47.0               1.0          907.0            987.0   \n",
       "...              ...               ...            ...              ...   \n",
       "23631            NaN               1.0          553.0             90.0   \n",
       "23664          417.0               1.0          118.0            816.0   \n",
       "23684            NaN               0.0            NaN              NaN   \n",
       "23688            NaN               0.0            NaN             23.0   \n",
       "23694          796.0               3.0          381.0              NaN   \n",
       "\n",
       "      price_per_m2  day_of_publication  month_of_publication  \\\n",
       "0        120370.37                   3                     3   \n",
       "3        408176.10                   4                     7   \n",
       "19       117355.37                   2                     1   \n",
       "35       104026.85                   0                     6   \n",
       "42       135970.33                   2                     7   \n",
       "...            ...                 ...                   ...   \n",
       "23631    142298.08                   6                    11   \n",
       "23664     81818.18                   3                    12   \n",
       "23684    147586.21                   4                    11   \n",
       "23688     91089.11                   0                     4   \n",
       "23694     72490.85                   1                     3   \n",
       "\n",
       "       year_of_publication  floor_types  cityCenters_nearest_in_km  \n",
       "0                     2019       другой                       16.0  \n",
       "3                     2015       другой                        7.0  \n",
       "19                    2019       другой                       13.0  \n",
       "35                    2017       другой                        4.0  \n",
       "42                    2015       другой                       31.0  \n",
       "...                    ...          ...                        ...  \n",
       "23631                 2018       другой                       14.0  \n",
       "23664                 2015       другой                        5.0  \n",
       "23684                 2018       другой                       11.0  \n",
       "23688                 2019       другой                       14.0  \n",
       "23694                 2017       другой                        4.0  \n",
       "\n",
       "[1836 rows x 28 columns]"
      ]
     },
     "execution_count": 45,
     "metadata": {},
     "output_type": "execute_result"
    }
   ],
   "source": [
    "data[data['total_area'] > 100]"
   ]
  },
  {
   "cell_type": "markdown",
   "metadata": {},
   "source": [
    "Проверил значения обзей площади больше 100 м2. Кажется, что это много, но если посмотреть на столбец living_area, то эти данные соотносятся с общей площадью.\n",
    "Проверю значения больше 200"
   ]
  },
  {
   "cell_type": "code",
   "execution_count": 46,
   "metadata": {},
   "outputs": [
    {
     "data": {
      "text/html": [
       "<div>\n",
       "<style scoped>\n",
       "    .dataframe tbody tr th:only-of-type {\n",
       "        vertical-align: middle;\n",
       "    }\n",
       "\n",
       "    .dataframe tbody tr th {\n",
       "        vertical-align: top;\n",
       "    }\n",
       "\n",
       "    .dataframe thead th {\n",
       "        text-align: right;\n",
       "    }\n",
       "</style>\n",
       "<table border=\"1\" class=\"dataframe\">\n",
       "  <thead>\n",
       "    <tr style=\"text-align: right;\">\n",
       "      <th></th>\n",
       "      <th>total_images</th>\n",
       "      <th>last_price</th>\n",
       "      <th>total_area</th>\n",
       "      <th>first_day_exposition</th>\n",
       "      <th>rooms</th>\n",
       "      <th>ceiling_height</th>\n",
       "      <th>floors_total</th>\n",
       "      <th>living_area</th>\n",
       "      <th>floor</th>\n",
       "      <th>is_apartment</th>\n",
       "      <th>...</th>\n",
       "      <th>parks_nearest</th>\n",
       "      <th>ponds_around3000</th>\n",
       "      <th>ponds_nearest</th>\n",
       "      <th>days_exposition</th>\n",
       "      <th>price_per_m2</th>\n",
       "      <th>day_of_publication</th>\n",
       "      <th>month_of_publication</th>\n",
       "      <th>year_of_publication</th>\n",
       "      <th>floor_types</th>\n",
       "      <th>cityCenters_nearest_in_km</th>\n",
       "    </tr>\n",
       "  </thead>\n",
       "  <tbody>\n",
       "    <tr>\n",
       "      <th>155</th>\n",
       "      <td>8</td>\n",
       "      <td>96000000.0</td>\n",
       "      <td>317.0</td>\n",
       "      <td>2017-07-07</td>\n",
       "      <td>4</td>\n",
       "      <td>3.50</td>\n",
       "      <td>3.0</td>\n",
       "      <td>183.0</td>\n",
       "      <td>3</td>\n",
       "      <td>True</td>\n",
       "      <td>...</td>\n",
       "      <td>508.0</td>\n",
       "      <td>3.0</td>\n",
       "      <td>366.0</td>\n",
       "      <td>62.0</td>\n",
       "      <td>302839.12</td>\n",
       "      <td>4</td>\n",
       "      <td>7</td>\n",
       "      <td>2017</td>\n",
       "      <td>последний</td>\n",
       "      <td>2.0</td>\n",
       "    </tr>\n",
       "    <tr>\n",
       "      <th>464</th>\n",
       "      <td>15</td>\n",
       "      <td>66571000.0</td>\n",
       "      <td>280.3</td>\n",
       "      <td>2015-06-11</td>\n",
       "      <td>6</td>\n",
       "      <td>5.20</td>\n",
       "      <td>8.0</td>\n",
       "      <td>159.5</td>\n",
       "      <td>7</td>\n",
       "      <td>True</td>\n",
       "      <td>...</td>\n",
       "      <td>187.0</td>\n",
       "      <td>1.0</td>\n",
       "      <td>616.0</td>\n",
       "      <td>578.0</td>\n",
       "      <td>237499.11</td>\n",
       "      <td>3</td>\n",
       "      <td>6</td>\n",
       "      <td>2015</td>\n",
       "      <td>другой</td>\n",
       "      <td>7.0</td>\n",
       "    </tr>\n",
       "    <tr>\n",
       "      <th>492</th>\n",
       "      <td>18</td>\n",
       "      <td>95000000.0</td>\n",
       "      <td>216.0</td>\n",
       "      <td>2017-12-05</td>\n",
       "      <td>4</td>\n",
       "      <td>3.00</td>\n",
       "      <td>5.0</td>\n",
       "      <td>86.0</td>\n",
       "      <td>4</td>\n",
       "      <td>True</td>\n",
       "      <td>...</td>\n",
       "      <td>138.0</td>\n",
       "      <td>3.0</td>\n",
       "      <td>620.0</td>\n",
       "      <td>14.0</td>\n",
       "      <td>439814.81</td>\n",
       "      <td>1</td>\n",
       "      <td>12</td>\n",
       "      <td>2017</td>\n",
       "      <td>другой</td>\n",
       "      <td>0.0</td>\n",
       "    </tr>\n",
       "    <tr>\n",
       "      <th>509</th>\n",
       "      <td>5</td>\n",
       "      <td>90000000.0</td>\n",
       "      <td>225.0</td>\n",
       "      <td>2016-06-26</td>\n",
       "      <td>6</td>\n",
       "      <td>NaN</td>\n",
       "      <td>4.0</td>\n",
       "      <td>134.0</td>\n",
       "      <td>2</td>\n",
       "      <td>True</td>\n",
       "      <td>...</td>\n",
       "      <td>NaN</td>\n",
       "      <td>2.0</td>\n",
       "      <td>519.0</td>\n",
       "      <td>416.0</td>\n",
       "      <td>400000.00</td>\n",
       "      <td>6</td>\n",
       "      <td>6</td>\n",
       "      <td>2016</td>\n",
       "      <td>другой</td>\n",
       "      <td>6.0</td>\n",
       "    </tr>\n",
       "    <tr>\n",
       "      <th>521</th>\n",
       "      <td>20</td>\n",
       "      <td>25717300.0</td>\n",
       "      <td>230.1</td>\n",
       "      <td>2015-01-21</td>\n",
       "      <td>3</td>\n",
       "      <td>NaN</td>\n",
       "      <td>3.0</td>\n",
       "      <td>130.0</td>\n",
       "      <td>1</td>\n",
       "      <td>True</td>\n",
       "      <td>...</td>\n",
       "      <td>676.0</td>\n",
       "      <td>3.0</td>\n",
       "      <td>278.0</td>\n",
       "      <td>1441.0</td>\n",
       "      <td>111765.75</td>\n",
       "      <td>2</td>\n",
       "      <td>1</td>\n",
       "      <td>2015</td>\n",
       "      <td>первый</td>\n",
       "      <td>29.0</td>\n",
       "    </tr>\n",
       "    <tr>\n",
       "      <th>...</th>\n",
       "      <td>...</td>\n",
       "      <td>...</td>\n",
       "      <td>...</td>\n",
       "      <td>...</td>\n",
       "      <td>...</td>\n",
       "      <td>...</td>\n",
       "      <td>...</td>\n",
       "      <td>...</td>\n",
       "      <td>...</td>\n",
       "      <td>...</td>\n",
       "      <td>...</td>\n",
       "      <td>...</td>\n",
       "      <td>...</td>\n",
       "      <td>...</td>\n",
       "      <td>...</td>\n",
       "      <td>...</td>\n",
       "      <td>...</td>\n",
       "      <td>...</td>\n",
       "      <td>...</td>\n",
       "      <td>...</td>\n",
       "      <td>...</td>\n",
       "    </tr>\n",
       "    <tr>\n",
       "      <th>23005</th>\n",
       "      <td>20</td>\n",
       "      <td>30750000.0</td>\n",
       "      <td>297.5</td>\n",
       "      <td>2018-09-09</td>\n",
       "      <td>6</td>\n",
       "      <td>3.14</td>\n",
       "      <td>4.0</td>\n",
       "      <td>181.8</td>\n",
       "      <td>2</td>\n",
       "      <td>True</td>\n",
       "      <td>...</td>\n",
       "      <td>189.0</td>\n",
       "      <td>3.0</td>\n",
       "      <td>40.0</td>\n",
       "      <td>42.0</td>\n",
       "      <td>103361.34</td>\n",
       "      <td>6</td>\n",
       "      <td>9</td>\n",
       "      <td>2018</td>\n",
       "      <td>другой</td>\n",
       "      <td>1.0</td>\n",
       "    </tr>\n",
       "    <tr>\n",
       "      <th>23281</th>\n",
       "      <td>20</td>\n",
       "      <td>24800000.0</td>\n",
       "      <td>231.2</td>\n",
       "      <td>2015-01-21</td>\n",
       "      <td>6</td>\n",
       "      <td>3.10</td>\n",
       "      <td>5.0</td>\n",
       "      <td>99.8</td>\n",
       "      <td>4</td>\n",
       "      <td>True</td>\n",
       "      <td>...</td>\n",
       "      <td>75.0</td>\n",
       "      <td>1.0</td>\n",
       "      <td>795.0</td>\n",
       "      <td>NaN</td>\n",
       "      <td>107266.44</td>\n",
       "      <td>2</td>\n",
       "      <td>1</td>\n",
       "      <td>2015</td>\n",
       "      <td>другой</td>\n",
       "      <td>2.0</td>\n",
       "    </tr>\n",
       "    <tr>\n",
       "      <th>23327</th>\n",
       "      <td>19</td>\n",
       "      <td>34400000.0</td>\n",
       "      <td>215.0</td>\n",
       "      <td>2019-03-15</td>\n",
       "      <td>5</td>\n",
       "      <td>2.75</td>\n",
       "      <td>4.0</td>\n",
       "      <td>82.4</td>\n",
       "      <td>4</td>\n",
       "      <td>True</td>\n",
       "      <td>...</td>\n",
       "      <td>NaN</td>\n",
       "      <td>0.0</td>\n",
       "      <td>NaN</td>\n",
       "      <td>NaN</td>\n",
       "      <td>160000.00</td>\n",
       "      <td>4</td>\n",
       "      <td>3</td>\n",
       "      <td>2019</td>\n",
       "      <td>последний</td>\n",
       "      <td>15.0</td>\n",
       "    </tr>\n",
       "    <tr>\n",
       "      <th>23400</th>\n",
       "      <td>17</td>\n",
       "      <td>30000000.0</td>\n",
       "      <td>213.0</td>\n",
       "      <td>2017-09-28</td>\n",
       "      <td>7</td>\n",
       "      <td>3.40</td>\n",
       "      <td>5.0</td>\n",
       "      <td>151.4</td>\n",
       "      <td>5</td>\n",
       "      <td>True</td>\n",
       "      <td>...</td>\n",
       "      <td>342.0</td>\n",
       "      <td>3.0</td>\n",
       "      <td>30.0</td>\n",
       "      <td>299.0</td>\n",
       "      <td>140845.07</td>\n",
       "      <td>3</td>\n",
       "      <td>9</td>\n",
       "      <td>2017</td>\n",
       "      <td>последний</td>\n",
       "      <td>1.0</td>\n",
       "    </tr>\n",
       "    <tr>\n",
       "      <th>23491</th>\n",
       "      <td>20</td>\n",
       "      <td>21800000.0</td>\n",
       "      <td>250.0</td>\n",
       "      <td>2017-09-16</td>\n",
       "      <td>3</td>\n",
       "      <td>NaN</td>\n",
       "      <td>12.0</td>\n",
       "      <td>104.0</td>\n",
       "      <td>7</td>\n",
       "      <td>True</td>\n",
       "      <td>...</td>\n",
       "      <td>NaN</td>\n",
       "      <td>0.0</td>\n",
       "      <td>NaN</td>\n",
       "      <td>49.0</td>\n",
       "      <td>87200.00</td>\n",
       "      <td>5</td>\n",
       "      <td>9</td>\n",
       "      <td>2017</td>\n",
       "      <td>другой</td>\n",
       "      <td>13.0</td>\n",
       "    </tr>\n",
       "  </tbody>\n",
       "</table>\n",
       "<p>227 rows × 28 columns</p>\n",
       "</div>"
      ],
      "text/plain": [
       "       total_images  last_price  total_area first_day_exposition  rooms  \\\n",
       "155               8  96000000.0       317.0           2017-07-07      4   \n",
       "464              15  66571000.0       280.3           2015-06-11      6   \n",
       "492              18  95000000.0       216.0           2017-12-05      4   \n",
       "509               5  90000000.0       225.0           2016-06-26      6   \n",
       "521              20  25717300.0       230.1           2015-01-21      3   \n",
       "...             ...         ...         ...                  ...    ...   \n",
       "23005            20  30750000.0       297.5           2018-09-09      6   \n",
       "23281            20  24800000.0       231.2           2015-01-21      6   \n",
       "23327            19  34400000.0       215.0           2019-03-15      5   \n",
       "23400            17  30000000.0       213.0           2017-09-28      7   \n",
       "23491            20  21800000.0       250.0           2017-09-16      3   \n",
       "\n",
       "       ceiling_height  floors_total  living_area  floor  is_apartment  ...  \\\n",
       "155              3.50           3.0        183.0      3          True  ...   \n",
       "464              5.20           8.0        159.5      7          True  ...   \n",
       "492              3.00           5.0         86.0      4          True  ...   \n",
       "509               NaN           4.0        134.0      2          True  ...   \n",
       "521               NaN           3.0        130.0      1          True  ...   \n",
       "...               ...           ...          ...    ...           ...  ...   \n",
       "23005            3.14           4.0        181.8      2          True  ...   \n",
       "23281            3.10           5.0         99.8      4          True  ...   \n",
       "23327            2.75           4.0         82.4      4          True  ...   \n",
       "23400            3.40           5.0        151.4      5          True  ...   \n",
       "23491             NaN          12.0        104.0      7          True  ...   \n",
       "\n",
       "       parks_nearest  ponds_around3000  ponds_nearest  days_exposition  \\\n",
       "155            508.0               3.0          366.0             62.0   \n",
       "464            187.0               1.0          616.0            578.0   \n",
       "492            138.0               3.0          620.0             14.0   \n",
       "509              NaN               2.0          519.0            416.0   \n",
       "521            676.0               3.0          278.0           1441.0   \n",
       "...              ...               ...            ...              ...   \n",
       "23005          189.0               3.0           40.0             42.0   \n",
       "23281           75.0               1.0          795.0              NaN   \n",
       "23327            NaN               0.0            NaN              NaN   \n",
       "23400          342.0               3.0           30.0            299.0   \n",
       "23491            NaN               0.0            NaN             49.0   \n",
       "\n",
       "      price_per_m2  day_of_publication  month_of_publication  \\\n",
       "155      302839.12                   4                     7   \n",
       "464      237499.11                   3                     6   \n",
       "492      439814.81                   1                    12   \n",
       "509      400000.00                   6                     6   \n",
       "521      111765.75                   2                     1   \n",
       "...            ...                 ...                   ...   \n",
       "23005    103361.34                   6                     9   \n",
       "23281    107266.44                   2                     1   \n",
       "23327    160000.00                   4                     3   \n",
       "23400    140845.07                   3                     9   \n",
       "23491     87200.00                   5                     9   \n",
       "\n",
       "       year_of_publication  floor_types  cityCenters_nearest_in_km  \n",
       "155                   2017    последний                        2.0  \n",
       "464                   2015       другой                        7.0  \n",
       "492                   2017       другой                        0.0  \n",
       "509                   2016       другой                        6.0  \n",
       "521                   2015       первый                       29.0  \n",
       "...                    ...          ...                        ...  \n",
       "23005                 2018       другой                        1.0  \n",
       "23281                 2015       другой                        2.0  \n",
       "23327                 2019    последний                       15.0  \n",
       "23400                 2017    последний                        1.0  \n",
       "23491                 2017       другой                       13.0  \n",
       "\n",
       "[227 rows x 28 columns]"
      ]
     },
     "execution_count": 46,
     "metadata": {},
     "output_type": "execute_result"
    }
   ],
   "source": [
    "data[data['total_area'] > 200]"
   ]
  },
  {
   "cell_type": "markdown",
   "metadata": {},
   "source": [
    "Сразу видно, что не все строки заполненны корректно. Например, 492 строка. Общая площадь 216 м2, а жилая 86 м2. Слишком большая разница. Но, к сожалению, я не могу заменить данные в этих столбцах. Так как не знаю какие данные корректны"
   ]
  },
  {
   "cell_type": "markdown",
   "metadata": {},
   "source": [
    "В столбце ceiling_height присутствует аномалия. Высота потолков выше 4,5 метра выглядит странно, проверю"
   ]
  },
  {
   "cell_type": "code",
   "execution_count": 47,
   "metadata": {},
   "outputs": [
    {
     "data": {
      "text/html": [
       "<div>\n",
       "<style scoped>\n",
       "    .dataframe tbody tr th:only-of-type {\n",
       "        vertical-align: middle;\n",
       "    }\n",
       "\n",
       "    .dataframe tbody tr th {\n",
       "        vertical-align: top;\n",
       "    }\n",
       "\n",
       "    .dataframe thead th {\n",
       "        text-align: right;\n",
       "    }\n",
       "</style>\n",
       "<table border=\"1\" class=\"dataframe\">\n",
       "  <thead>\n",
       "    <tr style=\"text-align: right;\">\n",
       "      <th></th>\n",
       "      <th>total_images</th>\n",
       "      <th>last_price</th>\n",
       "      <th>total_area</th>\n",
       "      <th>first_day_exposition</th>\n",
       "      <th>rooms</th>\n",
       "      <th>ceiling_height</th>\n",
       "      <th>floors_total</th>\n",
       "      <th>living_area</th>\n",
       "      <th>floor</th>\n",
       "      <th>is_apartment</th>\n",
       "      <th>...</th>\n",
       "      <th>parks_nearest</th>\n",
       "      <th>ponds_around3000</th>\n",
       "      <th>ponds_nearest</th>\n",
       "      <th>days_exposition</th>\n",
       "      <th>price_per_m2</th>\n",
       "      <th>day_of_publication</th>\n",
       "      <th>month_of_publication</th>\n",
       "      <th>year_of_publication</th>\n",
       "      <th>floor_types</th>\n",
       "      <th>cityCenters_nearest_in_km</th>\n",
       "    </tr>\n",
       "  </thead>\n",
       "  <tbody>\n",
       "    <tr>\n",
       "      <th>355</th>\n",
       "      <td>17</td>\n",
       "      <td>3600000.0</td>\n",
       "      <td>55.2</td>\n",
       "      <td>2018-07-12</td>\n",
       "      <td>2</td>\n",
       "      <td>25.00</td>\n",
       "      <td>5.0</td>\n",
       "      <td>32.0</td>\n",
       "      <td>2</td>\n",
       "      <td>False</td>\n",
       "      <td>...</td>\n",
       "      <td>NaN</td>\n",
       "      <td>1.0</td>\n",
       "      <td>NaN</td>\n",
       "      <td>259.0</td>\n",
       "      <td>65217.39</td>\n",
       "      <td>3</td>\n",
       "      <td>7</td>\n",
       "      <td>2018</td>\n",
       "      <td>другой</td>\n",
       "      <td>NaN</td>\n",
       "    </tr>\n",
       "    <tr>\n",
       "      <th>464</th>\n",
       "      <td>15</td>\n",
       "      <td>66571000.0</td>\n",
       "      <td>280.3</td>\n",
       "      <td>2015-06-11</td>\n",
       "      <td>6</td>\n",
       "      <td>5.20</td>\n",
       "      <td>8.0</td>\n",
       "      <td>159.5</td>\n",
       "      <td>7</td>\n",
       "      <td>True</td>\n",
       "      <td>...</td>\n",
       "      <td>187.0</td>\n",
       "      <td>1.0</td>\n",
       "      <td>616.0</td>\n",
       "      <td>578.0</td>\n",
       "      <td>237499.11</td>\n",
       "      <td>3</td>\n",
       "      <td>6</td>\n",
       "      <td>2015</td>\n",
       "      <td>другой</td>\n",
       "      <td>7.0</td>\n",
       "    </tr>\n",
       "    <tr>\n",
       "      <th>1026</th>\n",
       "      <td>20</td>\n",
       "      <td>155000000.0</td>\n",
       "      <td>310.0</td>\n",
       "      <td>2018-10-12</td>\n",
       "      <td>5</td>\n",
       "      <td>5.30</td>\n",
       "      <td>3.0</td>\n",
       "      <td>190.0</td>\n",
       "      <td>3</td>\n",
       "      <td>True</td>\n",
       "      <td>...</td>\n",
       "      <td>NaN</td>\n",
       "      <td>1.0</td>\n",
       "      <td>603.0</td>\n",
       "      <td>NaN</td>\n",
       "      <td>500000.00</td>\n",
       "      <td>4</td>\n",
       "      <td>10</td>\n",
       "      <td>2018</td>\n",
       "      <td>последний</td>\n",
       "      <td>5.0</td>\n",
       "    </tr>\n",
       "    <tr>\n",
       "      <th>1053</th>\n",
       "      <td>13</td>\n",
       "      <td>550000.0</td>\n",
       "      <td>29.0</td>\n",
       "      <td>2018-02-01</td>\n",
       "      <td>1</td>\n",
       "      <td>5.00</td>\n",
       "      <td>3.0</td>\n",
       "      <td>NaN</td>\n",
       "      <td>1</td>\n",
       "      <td>False</td>\n",
       "      <td>...</td>\n",
       "      <td>NaN</td>\n",
       "      <td>1.0</td>\n",
       "      <td>NaN</td>\n",
       "      <td>6.0</td>\n",
       "      <td>18965.52</td>\n",
       "      <td>3</td>\n",
       "      <td>2</td>\n",
       "      <td>2018</td>\n",
       "      <td>первый</td>\n",
       "      <td>NaN</td>\n",
       "    </tr>\n",
       "    <tr>\n",
       "      <th>1300</th>\n",
       "      <td>14</td>\n",
       "      <td>120000000.0</td>\n",
       "      <td>280.0</td>\n",
       "      <td>2018-07-12</td>\n",
       "      <td>5</td>\n",
       "      <td>4.70</td>\n",
       "      <td>4.0</td>\n",
       "      <td>162.0</td>\n",
       "      <td>3</td>\n",
       "      <td>True</td>\n",
       "      <td>...</td>\n",
       "      <td>464.0</td>\n",
       "      <td>3.0</td>\n",
       "      <td>339.0</td>\n",
       "      <td>225.0</td>\n",
       "      <td>428571.43</td>\n",
       "      <td>3</td>\n",
       "      <td>7</td>\n",
       "      <td>2018</td>\n",
       "      <td>другой</td>\n",
       "      <td>4.0</td>\n",
       "    </tr>\n",
       "    <tr>\n",
       "      <th>1388</th>\n",
       "      <td>20</td>\n",
       "      <td>59800000.0</td>\n",
       "      <td>399.0</td>\n",
       "      <td>2015-01-21</td>\n",
       "      <td>5</td>\n",
       "      <td>5.60</td>\n",
       "      <td>6.0</td>\n",
       "      <td>NaN</td>\n",
       "      <td>6</td>\n",
       "      <td>True</td>\n",
       "      <td>...</td>\n",
       "      <td>149.0</td>\n",
       "      <td>2.0</td>\n",
       "      <td>577.0</td>\n",
       "      <td>719.0</td>\n",
       "      <td>149874.69</td>\n",
       "      <td>2</td>\n",
       "      <td>1</td>\n",
       "      <td>2015</td>\n",
       "      <td>последний</td>\n",
       "      <td>7.0</td>\n",
       "    </tr>\n",
       "    <tr>\n",
       "      <th>2802</th>\n",
       "      <td>7</td>\n",
       "      <td>14950000.0</td>\n",
       "      <td>50.0</td>\n",
       "      <td>2016-03-06</td>\n",
       "      <td>2</td>\n",
       "      <td>4.80</td>\n",
       "      <td>3.0</td>\n",
       "      <td>30.0</td>\n",
       "      <td>2</td>\n",
       "      <td>True</td>\n",
       "      <td>...</td>\n",
       "      <td>589.0</td>\n",
       "      <td>3.0</td>\n",
       "      <td>161.0</td>\n",
       "      <td>160.0</td>\n",
       "      <td>299000.00</td>\n",
       "      <td>6</td>\n",
       "      <td>3</td>\n",
       "      <td>2016</td>\n",
       "      <td>другой</td>\n",
       "      <td>2.0</td>\n",
       "    </tr>\n",
       "    <tr>\n",
       "      <th>3148</th>\n",
       "      <td>14</td>\n",
       "      <td>2900000.0</td>\n",
       "      <td>75.0</td>\n",
       "      <td>2018-11-12</td>\n",
       "      <td>3</td>\n",
       "      <td>32.00</td>\n",
       "      <td>3.0</td>\n",
       "      <td>53.0</td>\n",
       "      <td>2</td>\n",
       "      <td>True</td>\n",
       "      <td>...</td>\n",
       "      <td>NaN</td>\n",
       "      <td>1.0</td>\n",
       "      <td>NaN</td>\n",
       "      <td>NaN</td>\n",
       "      <td>38666.67</td>\n",
       "      <td>0</td>\n",
       "      <td>11</td>\n",
       "      <td>2018</td>\n",
       "      <td>другой</td>\n",
       "      <td>NaN</td>\n",
       "    </tr>\n",
       "    <tr>\n",
       "      <th>3474</th>\n",
       "      <td>3</td>\n",
       "      <td>1400000.0</td>\n",
       "      <td>30.0</td>\n",
       "      <td>2018-03-16</td>\n",
       "      <td>1</td>\n",
       "      <td>8.00</td>\n",
       "      <td>5.0</td>\n",
       "      <td>15.3</td>\n",
       "      <td>2</td>\n",
       "      <td>False</td>\n",
       "      <td>...</td>\n",
       "      <td>NaN</td>\n",
       "      <td>1.0</td>\n",
       "      <td>NaN</td>\n",
       "      <td>125.0</td>\n",
       "      <td>46666.67</td>\n",
       "      <td>4</td>\n",
       "      <td>3</td>\n",
       "      <td>2018</td>\n",
       "      <td>другой</td>\n",
       "      <td>NaN</td>\n",
       "    </tr>\n",
       "    <tr>\n",
       "      <th>4643</th>\n",
       "      <td>0</td>\n",
       "      <td>4300000.0</td>\n",
       "      <td>45.0</td>\n",
       "      <td>2018-02-01</td>\n",
       "      <td>2</td>\n",
       "      <td>25.00</td>\n",
       "      <td>9.0</td>\n",
       "      <td>30.0</td>\n",
       "      <td>2</td>\n",
       "      <td>True</td>\n",
       "      <td>...</td>\n",
       "      <td>658.0</td>\n",
       "      <td>1.0</td>\n",
       "      <td>331.0</td>\n",
       "      <td>181.0</td>\n",
       "      <td>95555.56</td>\n",
       "      <td>3</td>\n",
       "      <td>2</td>\n",
       "      <td>2018</td>\n",
       "      <td>другой</td>\n",
       "      <td>13.0</td>\n",
       "    </tr>\n",
       "    <tr>\n",
       "      <th>4876</th>\n",
       "      <td>7</td>\n",
       "      <td>3000000.0</td>\n",
       "      <td>25.0</td>\n",
       "      <td>2017-09-27</td>\n",
       "      <td>0</td>\n",
       "      <td>27.00</td>\n",
       "      <td>25.0</td>\n",
       "      <td>17.0</td>\n",
       "      <td>17</td>\n",
       "      <td>True</td>\n",
       "      <td>...</td>\n",
       "      <td>NaN</td>\n",
       "      <td>1.0</td>\n",
       "      <td>NaN</td>\n",
       "      <td>28.0</td>\n",
       "      <td>120000.00</td>\n",
       "      <td>2</td>\n",
       "      <td>9</td>\n",
       "      <td>2017</td>\n",
       "      <td>другой</td>\n",
       "      <td>NaN</td>\n",
       "    </tr>\n",
       "    <tr>\n",
       "      <th>5076</th>\n",
       "      <td>0</td>\n",
       "      <td>3850000.0</td>\n",
       "      <td>30.5</td>\n",
       "      <td>2018-10-03</td>\n",
       "      <td>1</td>\n",
       "      <td>24.00</td>\n",
       "      <td>5.0</td>\n",
       "      <td>19.5</td>\n",
       "      <td>1</td>\n",
       "      <td>True</td>\n",
       "      <td>...</td>\n",
       "      <td>397.0</td>\n",
       "      <td>1.0</td>\n",
       "      <td>578.0</td>\n",
       "      <td>7.0</td>\n",
       "      <td>126229.51</td>\n",
       "      <td>2</td>\n",
       "      <td>10</td>\n",
       "      <td>2018</td>\n",
       "      <td>первый</td>\n",
       "      <td>8.0</td>\n",
       "    </tr>\n",
       "    <tr>\n",
       "      <th>5246</th>\n",
       "      <td>0</td>\n",
       "      <td>2500000.0</td>\n",
       "      <td>54.0</td>\n",
       "      <td>2017-10-13</td>\n",
       "      <td>2</td>\n",
       "      <td>27.00</td>\n",
       "      <td>5.0</td>\n",
       "      <td>30.0</td>\n",
       "      <td>3</td>\n",
       "      <td>True</td>\n",
       "      <td>...</td>\n",
       "      <td>NaN</td>\n",
       "      <td>1.0</td>\n",
       "      <td>NaN</td>\n",
       "      <td>540.0</td>\n",
       "      <td>46296.30</td>\n",
       "      <td>4</td>\n",
       "      <td>10</td>\n",
       "      <td>2017</td>\n",
       "      <td>другой</td>\n",
       "      <td>NaN</td>\n",
       "    </tr>\n",
       "    <tr>\n",
       "      <th>5669</th>\n",
       "      <td>4</td>\n",
       "      <td>4400000.0</td>\n",
       "      <td>50.0</td>\n",
       "      <td>2017-08-08</td>\n",
       "      <td>2</td>\n",
       "      <td>26.00</td>\n",
       "      <td>9.0</td>\n",
       "      <td>21.3</td>\n",
       "      <td>3</td>\n",
       "      <td>True</td>\n",
       "      <td>...</td>\n",
       "      <td>305.0</td>\n",
       "      <td>0.0</td>\n",
       "      <td>NaN</td>\n",
       "      <td>267.0</td>\n",
       "      <td>88000.00</td>\n",
       "      <td>1</td>\n",
       "      <td>8</td>\n",
       "      <td>2017</td>\n",
       "      <td>другой</td>\n",
       "      <td>11.0</td>\n",
       "    </tr>\n",
       "    <tr>\n",
       "      <th>5807</th>\n",
       "      <td>17</td>\n",
       "      <td>8150000.0</td>\n",
       "      <td>80.0</td>\n",
       "      <td>2019-01-09</td>\n",
       "      <td>2</td>\n",
       "      <td>27.00</td>\n",
       "      <td>36.0</td>\n",
       "      <td>41.0</td>\n",
       "      <td>13</td>\n",
       "      <td>True</td>\n",
       "      <td>...</td>\n",
       "      <td>NaN</td>\n",
       "      <td>3.0</td>\n",
       "      <td>80.0</td>\n",
       "      <td>38.0</td>\n",
       "      <td>101875.00</td>\n",
       "      <td>2</td>\n",
       "      <td>1</td>\n",
       "      <td>2019</td>\n",
       "      <td>другой</td>\n",
       "      <td>20.0</td>\n",
       "    </tr>\n",
       "    <tr>\n",
       "      <th>5863</th>\n",
       "      <td>20</td>\n",
       "      <td>5650000.0</td>\n",
       "      <td>45.0</td>\n",
       "      <td>2018-08-15</td>\n",
       "      <td>1</td>\n",
       "      <td>8.30</td>\n",
       "      <td>16.0</td>\n",
       "      <td>19.3</td>\n",
       "      <td>14</td>\n",
       "      <td>True</td>\n",
       "      <td>...</td>\n",
       "      <td>NaN</td>\n",
       "      <td>1.0</td>\n",
       "      <td>613.0</td>\n",
       "      <td>14.0</td>\n",
       "      <td>125555.56</td>\n",
       "      <td>2</td>\n",
       "      <td>8</td>\n",
       "      <td>2018</td>\n",
       "      <td>другой</td>\n",
       "      <td>11.0</td>\n",
       "    </tr>\n",
       "    <tr>\n",
       "      <th>6246</th>\n",
       "      <td>6</td>\n",
       "      <td>3300000.0</td>\n",
       "      <td>44.4</td>\n",
       "      <td>2019-03-25</td>\n",
       "      <td>2</td>\n",
       "      <td>25.00</td>\n",
       "      <td>5.0</td>\n",
       "      <td>31.3</td>\n",
       "      <td>5</td>\n",
       "      <td>True</td>\n",
       "      <td>...</td>\n",
       "      <td>417.0</td>\n",
       "      <td>2.0</td>\n",
       "      <td>73.0</td>\n",
       "      <td>NaN</td>\n",
       "      <td>74324.32</td>\n",
       "      <td>0</td>\n",
       "      <td>3</td>\n",
       "      <td>2019</td>\n",
       "      <td>последний</td>\n",
       "      <td>51.0</td>\n",
       "    </tr>\n",
       "    <tr>\n",
       "      <th>7578</th>\n",
       "      <td>17</td>\n",
       "      <td>38000000.0</td>\n",
       "      <td>143.0</td>\n",
       "      <td>2017-11-02</td>\n",
       "      <td>3</td>\n",
       "      <td>5.50</td>\n",
       "      <td>5.0</td>\n",
       "      <td>83.0</td>\n",
       "      <td>5</td>\n",
       "      <td>True</td>\n",
       "      <td>...</td>\n",
       "      <td>479.0</td>\n",
       "      <td>0.0</td>\n",
       "      <td>NaN</td>\n",
       "      <td>NaN</td>\n",
       "      <td>265734.27</td>\n",
       "      <td>3</td>\n",
       "      <td>11</td>\n",
       "      <td>2017</td>\n",
       "      <td>последний</td>\n",
       "      <td>6.0</td>\n",
       "    </tr>\n",
       "    <tr>\n",
       "      <th>9379</th>\n",
       "      <td>5</td>\n",
       "      <td>3950000.0</td>\n",
       "      <td>42.0</td>\n",
       "      <td>2017-03-26</td>\n",
       "      <td>3</td>\n",
       "      <td>25.00</td>\n",
       "      <td>5.0</td>\n",
       "      <td>30.0</td>\n",
       "      <td>2</td>\n",
       "      <td>True</td>\n",
       "      <td>...</td>\n",
       "      <td>NaN</td>\n",
       "      <td>0.0</td>\n",
       "      <td>NaN</td>\n",
       "      <td>NaN</td>\n",
       "      <td>94047.62</td>\n",
       "      <td>6</td>\n",
       "      <td>3</td>\n",
       "      <td>2017</td>\n",
       "      <td>другой</td>\n",
       "      <td>14.0</td>\n",
       "    </tr>\n",
       "    <tr>\n",
       "      <th>10773</th>\n",
       "      <td>8</td>\n",
       "      <td>3800000.0</td>\n",
       "      <td>58.0</td>\n",
       "      <td>2017-10-13</td>\n",
       "      <td>2</td>\n",
       "      <td>27.00</td>\n",
       "      <td>10.0</td>\n",
       "      <td>30.1</td>\n",
       "      <td>3</td>\n",
       "      <td>False</td>\n",
       "      <td>...</td>\n",
       "      <td>NaN</td>\n",
       "      <td>1.0</td>\n",
       "      <td>NaN</td>\n",
       "      <td>71.0</td>\n",
       "      <td>65517.24</td>\n",
       "      <td>4</td>\n",
       "      <td>10</td>\n",
       "      <td>2017</td>\n",
       "      <td>другой</td>\n",
       "      <td>NaN</td>\n",
       "    </tr>\n",
       "    <tr>\n",
       "      <th>11285</th>\n",
       "      <td>0</td>\n",
       "      <td>1950000.0</td>\n",
       "      <td>37.0</td>\n",
       "      <td>2019-03-20</td>\n",
       "      <td>1</td>\n",
       "      <td>25.00</td>\n",
       "      <td>5.0</td>\n",
       "      <td>17.0</td>\n",
       "      <td>4</td>\n",
       "      <td>False</td>\n",
       "      <td>...</td>\n",
       "      <td>NaN</td>\n",
       "      <td>1.0</td>\n",
       "      <td>NaN</td>\n",
       "      <td>18.0</td>\n",
       "      <td>52702.70</td>\n",
       "      <td>2</td>\n",
       "      <td>3</td>\n",
       "      <td>2019</td>\n",
       "      <td>другой</td>\n",
       "      <td>NaN</td>\n",
       "    </tr>\n",
       "    <tr>\n",
       "      <th>12401</th>\n",
       "      <td>20</td>\n",
       "      <td>91500000.0</td>\n",
       "      <td>495.0</td>\n",
       "      <td>2017-06-19</td>\n",
       "      <td>7</td>\n",
       "      <td>4.65</td>\n",
       "      <td>7.0</td>\n",
       "      <td>347.5</td>\n",
       "      <td>7</td>\n",
       "      <td>True</td>\n",
       "      <td>...</td>\n",
       "      <td>110.0</td>\n",
       "      <td>0.0</td>\n",
       "      <td>NaN</td>\n",
       "      <td>14.0</td>\n",
       "      <td>184848.48</td>\n",
       "      <td>0</td>\n",
       "      <td>6</td>\n",
       "      <td>2017</td>\n",
       "      <td>последний</td>\n",
       "      <td>6.0</td>\n",
       "    </tr>\n",
       "    <tr>\n",
       "      <th>12628</th>\n",
       "      <td>14</td>\n",
       "      <td>3900000.0</td>\n",
       "      <td>50.0</td>\n",
       "      <td>2018-03-29</td>\n",
       "      <td>1</td>\n",
       "      <td>5.30</td>\n",
       "      <td>5.0</td>\n",
       "      <td>NaN</td>\n",
       "      <td>5</td>\n",
       "      <td>True</td>\n",
       "      <td>...</td>\n",
       "      <td>505.0</td>\n",
       "      <td>1.0</td>\n",
       "      <td>92.0</td>\n",
       "      <td>8.0</td>\n",
       "      <td>78000.00</td>\n",
       "      <td>3</td>\n",
       "      <td>3</td>\n",
       "      <td>2018</td>\n",
       "      <td>последний</td>\n",
       "      <td>4.0</td>\n",
       "    </tr>\n",
       "    <tr>\n",
       "      <th>14382</th>\n",
       "      <td>9</td>\n",
       "      <td>1700000.0</td>\n",
       "      <td>35.0</td>\n",
       "      <td>2015-12-04</td>\n",
       "      <td>1</td>\n",
       "      <td>25.00</td>\n",
       "      <td>5.0</td>\n",
       "      <td>20.0</td>\n",
       "      <td>2</td>\n",
       "      <td>False</td>\n",
       "      <td>...</td>\n",
       "      <td>NaN</td>\n",
       "      <td>1.0</td>\n",
       "      <td>NaN</td>\n",
       "      <td>206.0</td>\n",
       "      <td>48571.43</td>\n",
       "      <td>4</td>\n",
       "      <td>12</td>\n",
       "      <td>2015</td>\n",
       "      <td>другой</td>\n",
       "      <td>NaN</td>\n",
       "    </tr>\n",
       "    <tr>\n",
       "      <th>15061</th>\n",
       "      <td>19</td>\n",
       "      <td>5600000.0</td>\n",
       "      <td>56.4</td>\n",
       "      <td>2018-05-11</td>\n",
       "      <td>2</td>\n",
       "      <td>14.00</td>\n",
       "      <td>14.0</td>\n",
       "      <td>32.4</td>\n",
       "      <td>5</td>\n",
       "      <td>True</td>\n",
       "      <td>...</td>\n",
       "      <td>NaN</td>\n",
       "      <td>0.0</td>\n",
       "      <td>NaN</td>\n",
       "      <td>315.0</td>\n",
       "      <td>99290.78</td>\n",
       "      <td>4</td>\n",
       "      <td>5</td>\n",
       "      <td>2018</td>\n",
       "      <td>другой</td>\n",
       "      <td>14.0</td>\n",
       "    </tr>\n",
       "    <tr>\n",
       "      <th>15743</th>\n",
       "      <td>14</td>\n",
       "      <td>5600000.0</td>\n",
       "      <td>67.0</td>\n",
       "      <td>2016-11-11</td>\n",
       "      <td>3</td>\n",
       "      <td>8.00</td>\n",
       "      <td>16.0</td>\n",
       "      <td>41.0</td>\n",
       "      <td>1</td>\n",
       "      <td>True</td>\n",
       "      <td>...</td>\n",
       "      <td>723.0</td>\n",
       "      <td>0.0</td>\n",
       "      <td>NaN</td>\n",
       "      <td>474.0</td>\n",
       "      <td>83582.09</td>\n",
       "      <td>4</td>\n",
       "      <td>11</td>\n",
       "      <td>2016</td>\n",
       "      <td>первый</td>\n",
       "      <td>11.0</td>\n",
       "    </tr>\n",
       "    <tr>\n",
       "      <th>17442</th>\n",
       "      <td>0</td>\n",
       "      <td>5350000.0</td>\n",
       "      <td>54.0</td>\n",
       "      <td>2015-06-16</td>\n",
       "      <td>2</td>\n",
       "      <td>8.00</td>\n",
       "      <td>5.0</td>\n",
       "      <td>29.0</td>\n",
       "      <td>2</td>\n",
       "      <td>True</td>\n",
       "      <td>...</td>\n",
       "      <td>NaN</td>\n",
       "      <td>0.0</td>\n",
       "      <td>NaN</td>\n",
       "      <td>469.0</td>\n",
       "      <td>99074.07</td>\n",
       "      <td>1</td>\n",
       "      <td>6</td>\n",
       "      <td>2015</td>\n",
       "      <td>другой</td>\n",
       "      <td>28.0</td>\n",
       "    </tr>\n",
       "    <tr>\n",
       "      <th>17496</th>\n",
       "      <td>15</td>\n",
       "      <td>6700000.0</td>\n",
       "      <td>92.9</td>\n",
       "      <td>2019-02-19</td>\n",
       "      <td>3</td>\n",
       "      <td>20.00</td>\n",
       "      <td>17.0</td>\n",
       "      <td>53.2</td>\n",
       "      <td>14</td>\n",
       "      <td>True</td>\n",
       "      <td>...</td>\n",
       "      <td>967.0</td>\n",
       "      <td>0.0</td>\n",
       "      <td>NaN</td>\n",
       "      <td>NaN</td>\n",
       "      <td>72120.56</td>\n",
       "      <td>1</td>\n",
       "      <td>2</td>\n",
       "      <td>2019</td>\n",
       "      <td>другой</td>\n",
       "      <td>15.0</td>\n",
       "    </tr>\n",
       "    <tr>\n",
       "      <th>17857</th>\n",
       "      <td>1</td>\n",
       "      <td>3900000.0</td>\n",
       "      <td>56.0</td>\n",
       "      <td>2017-12-22</td>\n",
       "      <td>3</td>\n",
       "      <td>27.00</td>\n",
       "      <td>5.0</td>\n",
       "      <td>33.0</td>\n",
       "      <td>4</td>\n",
       "      <td>False</td>\n",
       "      <td>...</td>\n",
       "      <td>NaN</td>\n",
       "      <td>0.0</td>\n",
       "      <td>NaN</td>\n",
       "      <td>73.0</td>\n",
       "      <td>69642.86</td>\n",
       "      <td>4</td>\n",
       "      <td>12</td>\n",
       "      <td>2017</td>\n",
       "      <td>другой</td>\n",
       "      <td>16.0</td>\n",
       "    </tr>\n",
       "    <tr>\n",
       "      <th>18545</th>\n",
       "      <td>6</td>\n",
       "      <td>3750000.0</td>\n",
       "      <td>43.0</td>\n",
       "      <td>2019-03-18</td>\n",
       "      <td>2</td>\n",
       "      <td>25.00</td>\n",
       "      <td>5.0</td>\n",
       "      <td>29.0</td>\n",
       "      <td>3</td>\n",
       "      <td>False</td>\n",
       "      <td>...</td>\n",
       "      <td>540.0</td>\n",
       "      <td>0.0</td>\n",
       "      <td>NaN</td>\n",
       "      <td>12.0</td>\n",
       "      <td>87209.30</td>\n",
       "      <td>0</td>\n",
       "      <td>3</td>\n",
       "      <td>2019</td>\n",
       "      <td>другой</td>\n",
       "      <td>8.0</td>\n",
       "    </tr>\n",
       "    <tr>\n",
       "      <th>19142</th>\n",
       "      <td>10</td>\n",
       "      <td>8650000.0</td>\n",
       "      <td>87.7</td>\n",
       "      <td>2017-07-18</td>\n",
       "      <td>2</td>\n",
       "      <td>4.70</td>\n",
       "      <td>26.0</td>\n",
       "      <td>57.4</td>\n",
       "      <td>26</td>\n",
       "      <td>True</td>\n",
       "      <td>...</td>\n",
       "      <td>1248.0</td>\n",
       "      <td>0.0</td>\n",
       "      <td>NaN</td>\n",
       "      <td>15.0</td>\n",
       "      <td>98631.70</td>\n",
       "      <td>1</td>\n",
       "      <td>7</td>\n",
       "      <td>2017</td>\n",
       "      <td>последний</td>\n",
       "      <td>10.0</td>\n",
       "    </tr>\n",
       "    <tr>\n",
       "      <th>20264</th>\n",
       "      <td>17</td>\n",
       "      <td>119000000.0</td>\n",
       "      <td>187.6</td>\n",
       "      <td>2017-07-10</td>\n",
       "      <td>4</td>\n",
       "      <td>6.00</td>\n",
       "      <td>7.0</td>\n",
       "      <td>147.0</td>\n",
       "      <td>7</td>\n",
       "      <td>True</td>\n",
       "      <td>...</td>\n",
       "      <td>484.0</td>\n",
       "      <td>1.0</td>\n",
       "      <td>305.0</td>\n",
       "      <td>259.0</td>\n",
       "      <td>634328.36</td>\n",
       "      <td>0</td>\n",
       "      <td>7</td>\n",
       "      <td>2017</td>\n",
       "      <td>последний</td>\n",
       "      <td>6.0</td>\n",
       "    </tr>\n",
       "    <tr>\n",
       "      <th>20478</th>\n",
       "      <td>11</td>\n",
       "      <td>8000000.0</td>\n",
       "      <td>45.0</td>\n",
       "      <td>2017-07-18</td>\n",
       "      <td>1</td>\n",
       "      <td>27.00</td>\n",
       "      <td>4.0</td>\n",
       "      <td>22.0</td>\n",
       "      <td>2</td>\n",
       "      <td>True</td>\n",
       "      <td>...</td>\n",
       "      <td>NaN</td>\n",
       "      <td>3.0</td>\n",
       "      <td>449.0</td>\n",
       "      <td>429.0</td>\n",
       "      <td>177777.78</td>\n",
       "      <td>1</td>\n",
       "      <td>7</td>\n",
       "      <td>2017</td>\n",
       "      <td>другой</td>\n",
       "      <td>3.0</td>\n",
       "    </tr>\n",
       "    <tr>\n",
       "      <th>20507</th>\n",
       "      <td>12</td>\n",
       "      <td>5950000.0</td>\n",
       "      <td>60.0</td>\n",
       "      <td>2018-02-19</td>\n",
       "      <td>2</td>\n",
       "      <td>22.60</td>\n",
       "      <td>14.0</td>\n",
       "      <td>35.0</td>\n",
       "      <td>11</td>\n",
       "      <td>True</td>\n",
       "      <td>...</td>\n",
       "      <td>NaN</td>\n",
       "      <td>0.0</td>\n",
       "      <td>NaN</td>\n",
       "      <td>40.0</td>\n",
       "      <td>99166.67</td>\n",
       "      <td>0</td>\n",
       "      <td>2</td>\n",
       "      <td>2018</td>\n",
       "      <td>другой</td>\n",
       "      <td>13.0</td>\n",
       "    </tr>\n",
       "    <tr>\n",
       "      <th>21227</th>\n",
       "      <td>0</td>\n",
       "      <td>8200000.0</td>\n",
       "      <td>71.0</td>\n",
       "      <td>2017-07-21</td>\n",
       "      <td>0</td>\n",
       "      <td>5.80</td>\n",
       "      <td>5.0</td>\n",
       "      <td>68.0</td>\n",
       "      <td>5</td>\n",
       "      <td>True</td>\n",
       "      <td>...</td>\n",
       "      <td>295.0</td>\n",
       "      <td>3.0</td>\n",
       "      <td>366.0</td>\n",
       "      <td>30.0</td>\n",
       "      <td>115492.96</td>\n",
       "      <td>4</td>\n",
       "      <td>7</td>\n",
       "      <td>2017</td>\n",
       "      <td>последний</td>\n",
       "      <td>1.0</td>\n",
       "    </tr>\n",
       "    <tr>\n",
       "      <th>21377</th>\n",
       "      <td>19</td>\n",
       "      <td>4900000.0</td>\n",
       "      <td>42.0</td>\n",
       "      <td>2017-04-18</td>\n",
       "      <td>1</td>\n",
       "      <td>27.50</td>\n",
       "      <td>24.0</td>\n",
       "      <td>37.7</td>\n",
       "      <td>19</td>\n",
       "      <td>False</td>\n",
       "      <td>...</td>\n",
       "      <td>NaN</td>\n",
       "      <td>0.0</td>\n",
       "      <td>NaN</td>\n",
       "      <td>61.0</td>\n",
       "      <td>116666.67</td>\n",
       "      <td>1</td>\n",
       "      <td>4</td>\n",
       "      <td>2017</td>\n",
       "      <td>другой</td>\n",
       "      <td>10.0</td>\n",
       "    </tr>\n",
       "    <tr>\n",
       "      <th>21824</th>\n",
       "      <td>20</td>\n",
       "      <td>2450000.0</td>\n",
       "      <td>44.0</td>\n",
       "      <td>2019-02-12</td>\n",
       "      <td>2</td>\n",
       "      <td>27.00</td>\n",
       "      <td>2.0</td>\n",
       "      <td>38.0</td>\n",
       "      <td>2</td>\n",
       "      <td>False</td>\n",
       "      <td>...</td>\n",
       "      <td>NaN</td>\n",
       "      <td>1.0</td>\n",
       "      <td>NaN</td>\n",
       "      <td>NaN</td>\n",
       "      <td>55681.82</td>\n",
       "      <td>1</td>\n",
       "      <td>2</td>\n",
       "      <td>2019</td>\n",
       "      <td>последний</td>\n",
       "      <td>NaN</td>\n",
       "    </tr>\n",
       "    <tr>\n",
       "      <th>21923</th>\n",
       "      <td>10</td>\n",
       "      <td>115490000.0</td>\n",
       "      <td>235.0</td>\n",
       "      <td>2017-04-09</td>\n",
       "      <td>5</td>\n",
       "      <td>4.90</td>\n",
       "      <td>5.0</td>\n",
       "      <td>140.0</td>\n",
       "      <td>5</td>\n",
       "      <td>True</td>\n",
       "      <td>...</td>\n",
       "      <td>652.0</td>\n",
       "      <td>3.0</td>\n",
       "      <td>253.0</td>\n",
       "      <td>351.0</td>\n",
       "      <td>491446.81</td>\n",
       "      <td>6</td>\n",
       "      <td>4</td>\n",
       "      <td>2017</td>\n",
       "      <td>последний</td>\n",
       "      <td>1.0</td>\n",
       "    </tr>\n",
       "    <tr>\n",
       "      <th>22309</th>\n",
       "      <td>20</td>\n",
       "      <td>5300000.0</td>\n",
       "      <td>45.0</td>\n",
       "      <td>2017-09-30</td>\n",
       "      <td>1</td>\n",
       "      <td>10.30</td>\n",
       "      <td>16.0</td>\n",
       "      <td>15.5</td>\n",
       "      <td>15</td>\n",
       "      <td>True</td>\n",
       "      <td>...</td>\n",
       "      <td>440.0</td>\n",
       "      <td>2.0</td>\n",
       "      <td>450.0</td>\n",
       "      <td>136.0</td>\n",
       "      <td>117777.78</td>\n",
       "      <td>5</td>\n",
       "      <td>9</td>\n",
       "      <td>2017</td>\n",
       "      <td>другой</td>\n",
       "      <td>12.0</td>\n",
       "    </tr>\n",
       "    <tr>\n",
       "      <th>22336</th>\n",
       "      <td>19</td>\n",
       "      <td>9999000.0</td>\n",
       "      <td>92.4</td>\n",
       "      <td>2019-04-05</td>\n",
       "      <td>2</td>\n",
       "      <td>32.00</td>\n",
       "      <td>6.0</td>\n",
       "      <td>55.5</td>\n",
       "      <td>5</td>\n",
       "      <td>False</td>\n",
       "      <td>...</td>\n",
       "      <td>NaN</td>\n",
       "      <td>3.0</td>\n",
       "      <td>511.0</td>\n",
       "      <td>NaN</td>\n",
       "      <td>108214.29</td>\n",
       "      <td>4</td>\n",
       "      <td>4</td>\n",
       "      <td>2019</td>\n",
       "      <td>другой</td>\n",
       "      <td>4.0</td>\n",
       "    </tr>\n",
       "    <tr>\n",
       "      <th>22869</th>\n",
       "      <td>0</td>\n",
       "      <td>15000000.0</td>\n",
       "      <td>25.0</td>\n",
       "      <td>2018-07-25</td>\n",
       "      <td>1</td>\n",
       "      <td>100.00</td>\n",
       "      <td>5.0</td>\n",
       "      <td>14.0</td>\n",
       "      <td>5</td>\n",
       "      <td>True</td>\n",
       "      <td>...</td>\n",
       "      <td>223.0</td>\n",
       "      <td>3.0</td>\n",
       "      <td>30.0</td>\n",
       "      <td>19.0</td>\n",
       "      <td>600000.00</td>\n",
       "      <td>2</td>\n",
       "      <td>7</td>\n",
       "      <td>2018</td>\n",
       "      <td>последний</td>\n",
       "      <td>8.0</td>\n",
       "    </tr>\n",
       "    <tr>\n",
       "      <th>22938</th>\n",
       "      <td>14</td>\n",
       "      <td>4000000.0</td>\n",
       "      <td>98.0</td>\n",
       "      <td>2018-03-15</td>\n",
       "      <td>4</td>\n",
       "      <td>27.00</td>\n",
       "      <td>2.0</td>\n",
       "      <td>73.0</td>\n",
       "      <td>2</td>\n",
       "      <td>True</td>\n",
       "      <td>...</td>\n",
       "      <td>NaN</td>\n",
       "      <td>1.0</td>\n",
       "      <td>NaN</td>\n",
       "      <td>27.0</td>\n",
       "      <td>40816.33</td>\n",
       "      <td>3</td>\n",
       "      <td>3</td>\n",
       "      <td>2018</td>\n",
       "      <td>последний</td>\n",
       "      <td>NaN</td>\n",
       "    </tr>\n",
       "  </tbody>\n",
       "</table>\n",
       "<p>42 rows × 28 columns</p>\n",
       "</div>"
      ],
      "text/plain": [
       "       total_images   last_price  total_area first_day_exposition  rooms  \\\n",
       "355              17    3600000.0        55.2           2018-07-12      2   \n",
       "464              15   66571000.0       280.3           2015-06-11      6   \n",
       "1026             20  155000000.0       310.0           2018-10-12      5   \n",
       "1053             13     550000.0        29.0           2018-02-01      1   \n",
       "1300             14  120000000.0       280.0           2018-07-12      5   \n",
       "1388             20   59800000.0       399.0           2015-01-21      5   \n",
       "2802              7   14950000.0        50.0           2016-03-06      2   \n",
       "3148             14    2900000.0        75.0           2018-11-12      3   \n",
       "3474              3    1400000.0        30.0           2018-03-16      1   \n",
       "4643              0    4300000.0        45.0           2018-02-01      2   \n",
       "4876              7    3000000.0        25.0           2017-09-27      0   \n",
       "5076              0    3850000.0        30.5           2018-10-03      1   \n",
       "5246              0    2500000.0        54.0           2017-10-13      2   \n",
       "5669              4    4400000.0        50.0           2017-08-08      2   \n",
       "5807             17    8150000.0        80.0           2019-01-09      2   \n",
       "5863             20    5650000.0        45.0           2018-08-15      1   \n",
       "6246              6    3300000.0        44.4           2019-03-25      2   \n",
       "7578             17   38000000.0       143.0           2017-11-02      3   \n",
       "9379              5    3950000.0        42.0           2017-03-26      3   \n",
       "10773             8    3800000.0        58.0           2017-10-13      2   \n",
       "11285             0    1950000.0        37.0           2019-03-20      1   \n",
       "12401            20   91500000.0       495.0           2017-06-19      7   \n",
       "12628            14    3900000.0        50.0           2018-03-29      1   \n",
       "14382             9    1700000.0        35.0           2015-12-04      1   \n",
       "15061            19    5600000.0        56.4           2018-05-11      2   \n",
       "15743            14    5600000.0        67.0           2016-11-11      3   \n",
       "17442             0    5350000.0        54.0           2015-06-16      2   \n",
       "17496            15    6700000.0        92.9           2019-02-19      3   \n",
       "17857             1    3900000.0        56.0           2017-12-22      3   \n",
       "18545             6    3750000.0        43.0           2019-03-18      2   \n",
       "19142            10    8650000.0        87.7           2017-07-18      2   \n",
       "20264            17  119000000.0       187.6           2017-07-10      4   \n",
       "20478            11    8000000.0        45.0           2017-07-18      1   \n",
       "20507            12    5950000.0        60.0           2018-02-19      2   \n",
       "21227             0    8200000.0        71.0           2017-07-21      0   \n",
       "21377            19    4900000.0        42.0           2017-04-18      1   \n",
       "21824            20    2450000.0        44.0           2019-02-12      2   \n",
       "21923            10  115490000.0       235.0           2017-04-09      5   \n",
       "22309            20    5300000.0        45.0           2017-09-30      1   \n",
       "22336            19    9999000.0        92.4           2019-04-05      2   \n",
       "22869             0   15000000.0        25.0           2018-07-25      1   \n",
       "22938            14    4000000.0        98.0           2018-03-15      4   \n",
       "\n",
       "       ceiling_height  floors_total  living_area  floor  is_apartment  ...  \\\n",
       "355             25.00           5.0         32.0      2         False  ...   \n",
       "464              5.20           8.0        159.5      7          True  ...   \n",
       "1026             5.30           3.0        190.0      3          True  ...   \n",
       "1053             5.00           3.0          NaN      1         False  ...   \n",
       "1300             4.70           4.0        162.0      3          True  ...   \n",
       "1388             5.60           6.0          NaN      6          True  ...   \n",
       "2802             4.80           3.0         30.0      2          True  ...   \n",
       "3148            32.00           3.0         53.0      2          True  ...   \n",
       "3474             8.00           5.0         15.3      2         False  ...   \n",
       "4643            25.00           9.0         30.0      2          True  ...   \n",
       "4876            27.00          25.0         17.0     17          True  ...   \n",
       "5076            24.00           5.0         19.5      1          True  ...   \n",
       "5246            27.00           5.0         30.0      3          True  ...   \n",
       "5669            26.00           9.0         21.3      3          True  ...   \n",
       "5807            27.00          36.0         41.0     13          True  ...   \n",
       "5863             8.30          16.0         19.3     14          True  ...   \n",
       "6246            25.00           5.0         31.3      5          True  ...   \n",
       "7578             5.50           5.0         83.0      5          True  ...   \n",
       "9379            25.00           5.0         30.0      2          True  ...   \n",
       "10773           27.00          10.0         30.1      3         False  ...   \n",
       "11285           25.00           5.0         17.0      4         False  ...   \n",
       "12401            4.65           7.0        347.5      7          True  ...   \n",
       "12628            5.30           5.0          NaN      5          True  ...   \n",
       "14382           25.00           5.0         20.0      2         False  ...   \n",
       "15061           14.00          14.0         32.4      5          True  ...   \n",
       "15743            8.00          16.0         41.0      1          True  ...   \n",
       "17442            8.00           5.0         29.0      2          True  ...   \n",
       "17496           20.00          17.0         53.2     14          True  ...   \n",
       "17857           27.00           5.0         33.0      4         False  ...   \n",
       "18545           25.00           5.0         29.0      3         False  ...   \n",
       "19142            4.70          26.0         57.4     26          True  ...   \n",
       "20264            6.00           7.0        147.0      7          True  ...   \n",
       "20478           27.00           4.0         22.0      2          True  ...   \n",
       "20507           22.60          14.0         35.0     11          True  ...   \n",
       "21227            5.80           5.0         68.0      5          True  ...   \n",
       "21377           27.50          24.0         37.7     19         False  ...   \n",
       "21824           27.00           2.0         38.0      2         False  ...   \n",
       "21923            4.90           5.0        140.0      5          True  ...   \n",
       "22309           10.30          16.0         15.5     15          True  ...   \n",
       "22336           32.00           6.0         55.5      5         False  ...   \n",
       "22869          100.00           5.0         14.0      5          True  ...   \n",
       "22938           27.00           2.0         73.0      2          True  ...   \n",
       "\n",
       "       parks_nearest  ponds_around3000  ponds_nearest  days_exposition  \\\n",
       "355              NaN               1.0            NaN            259.0   \n",
       "464            187.0               1.0          616.0            578.0   \n",
       "1026             NaN               1.0          603.0              NaN   \n",
       "1053             NaN               1.0            NaN              6.0   \n",
       "1300           464.0               3.0          339.0            225.0   \n",
       "1388           149.0               2.0          577.0            719.0   \n",
       "2802           589.0               3.0          161.0            160.0   \n",
       "3148             NaN               1.0            NaN              NaN   \n",
       "3474             NaN               1.0            NaN            125.0   \n",
       "4643           658.0               1.0          331.0            181.0   \n",
       "4876             NaN               1.0            NaN             28.0   \n",
       "5076           397.0               1.0          578.0              7.0   \n",
       "5246             NaN               1.0            NaN            540.0   \n",
       "5669           305.0               0.0            NaN            267.0   \n",
       "5807             NaN               3.0           80.0             38.0   \n",
       "5863             NaN               1.0          613.0             14.0   \n",
       "6246           417.0               2.0           73.0              NaN   \n",
       "7578           479.0               0.0            NaN              NaN   \n",
       "9379             NaN               0.0            NaN              NaN   \n",
       "10773            NaN               1.0            NaN             71.0   \n",
       "11285            NaN               1.0            NaN             18.0   \n",
       "12401          110.0               0.0            NaN             14.0   \n",
       "12628          505.0               1.0           92.0              8.0   \n",
       "14382            NaN               1.0            NaN            206.0   \n",
       "15061            NaN               0.0            NaN            315.0   \n",
       "15743          723.0               0.0            NaN            474.0   \n",
       "17442            NaN               0.0            NaN            469.0   \n",
       "17496          967.0               0.0            NaN              NaN   \n",
       "17857            NaN               0.0            NaN             73.0   \n",
       "18545          540.0               0.0            NaN             12.0   \n",
       "19142         1248.0               0.0            NaN             15.0   \n",
       "20264          484.0               1.0          305.0            259.0   \n",
       "20478            NaN               3.0          449.0            429.0   \n",
       "20507            NaN               0.0            NaN             40.0   \n",
       "21227          295.0               3.0          366.0             30.0   \n",
       "21377            NaN               0.0            NaN             61.0   \n",
       "21824            NaN               1.0            NaN              NaN   \n",
       "21923          652.0               3.0          253.0            351.0   \n",
       "22309          440.0               2.0          450.0            136.0   \n",
       "22336            NaN               3.0          511.0              NaN   \n",
       "22869          223.0               3.0           30.0             19.0   \n",
       "22938            NaN               1.0            NaN             27.0   \n",
       "\n",
       "      price_per_m2  day_of_publication  month_of_publication  \\\n",
       "355       65217.39                   3                     7   \n",
       "464      237499.11                   3                     6   \n",
       "1026     500000.00                   4                    10   \n",
       "1053      18965.52                   3                     2   \n",
       "1300     428571.43                   3                     7   \n",
       "1388     149874.69                   2                     1   \n",
       "2802     299000.00                   6                     3   \n",
       "3148      38666.67                   0                    11   \n",
       "3474      46666.67                   4                     3   \n",
       "4643      95555.56                   3                     2   \n",
       "4876     120000.00                   2                     9   \n",
       "5076     126229.51                   2                    10   \n",
       "5246      46296.30                   4                    10   \n",
       "5669      88000.00                   1                     8   \n",
       "5807     101875.00                   2                     1   \n",
       "5863     125555.56                   2                     8   \n",
       "6246      74324.32                   0                     3   \n",
       "7578     265734.27                   3                    11   \n",
       "9379      94047.62                   6                     3   \n",
       "10773     65517.24                   4                    10   \n",
       "11285     52702.70                   2                     3   \n",
       "12401    184848.48                   0                     6   \n",
       "12628     78000.00                   3                     3   \n",
       "14382     48571.43                   4                    12   \n",
       "15061     99290.78                   4                     5   \n",
       "15743     83582.09                   4                    11   \n",
       "17442     99074.07                   1                     6   \n",
       "17496     72120.56                   1                     2   \n",
       "17857     69642.86                   4                    12   \n",
       "18545     87209.30                   0                     3   \n",
       "19142     98631.70                   1                     7   \n",
       "20264    634328.36                   0                     7   \n",
       "20478    177777.78                   1                     7   \n",
       "20507     99166.67                   0                     2   \n",
       "21227    115492.96                   4                     7   \n",
       "21377    116666.67                   1                     4   \n",
       "21824     55681.82                   1                     2   \n",
       "21923    491446.81                   6                     4   \n",
       "22309    117777.78                   5                     9   \n",
       "22336    108214.29                   4                     4   \n",
       "22869    600000.00                   2                     7   \n",
       "22938     40816.33                   3                     3   \n",
       "\n",
       "       year_of_publication  floor_types  cityCenters_nearest_in_km  \n",
       "355                   2018       другой                        NaN  \n",
       "464                   2015       другой                        7.0  \n",
       "1026                  2018    последний                        5.0  \n",
       "1053                  2018       первый                        NaN  \n",
       "1300                  2018       другой                        4.0  \n",
       "1388                  2015    последний                        7.0  \n",
       "2802                  2016       другой                        2.0  \n",
       "3148                  2018       другой                        NaN  \n",
       "3474                  2018       другой                        NaN  \n",
       "4643                  2018       другой                       13.0  \n",
       "4876                  2017       другой                        NaN  \n",
       "5076                  2018       первый                        8.0  \n",
       "5246                  2017       другой                        NaN  \n",
       "5669                  2017       другой                       11.0  \n",
       "5807                  2019       другой                       20.0  \n",
       "5863                  2018       другой                       11.0  \n",
       "6246                  2019    последний                       51.0  \n",
       "7578                  2017    последний                        6.0  \n",
       "9379                  2017       другой                       14.0  \n",
       "10773                 2017       другой                        NaN  \n",
       "11285                 2019       другой                        NaN  \n",
       "12401                 2017    последний                        6.0  \n",
       "12628                 2018    последний                        4.0  \n",
       "14382                 2015       другой                        NaN  \n",
       "15061                 2018       другой                       14.0  \n",
       "15743                 2016       первый                       11.0  \n",
       "17442                 2015       другой                       28.0  \n",
       "17496                 2019       другой                       15.0  \n",
       "17857                 2017       другой                       16.0  \n",
       "18545                 2019       другой                        8.0  \n",
       "19142                 2017    последний                       10.0  \n",
       "20264                 2017    последний                        6.0  \n",
       "20478                 2017       другой                        3.0  \n",
       "20507                 2018       другой                       13.0  \n",
       "21227                 2017    последний                        1.0  \n",
       "21377                 2017       другой                       10.0  \n",
       "21824                 2019    последний                        NaN  \n",
       "21923                 2017    последний                        1.0  \n",
       "22309                 2017       другой                       12.0  \n",
       "22336                 2019       другой                        4.0  \n",
       "22869                 2018    последний                        8.0  \n",
       "22938                 2018    последний                        NaN  \n",
       "\n",
       "[42 rows x 28 columns]"
      ]
     },
     "execution_count": 47,
     "metadata": {},
     "output_type": "execute_result"
    }
   ],
   "source": [
    "data[data['ceiling_height'] > 4.5]"
   ]
  },
  {
   "cell_type": "markdown",
   "metadata": {},
   "source": [
    "42 аномальных значения. Для начала обработую двухзначные. Они выглядят очень странно"
   ]
  },
  {
   "cell_type": "code",
   "execution_count": 48,
   "metadata": {},
   "outputs": [
    {
     "data": {
      "text/html": [
       "<div>\n",
       "<style scoped>\n",
       "    .dataframe tbody tr th:only-of-type {\n",
       "        vertical-align: middle;\n",
       "    }\n",
       "\n",
       "    .dataframe tbody tr th {\n",
       "        vertical-align: top;\n",
       "    }\n",
       "\n",
       "    .dataframe thead th {\n",
       "        text-align: right;\n",
       "    }\n",
       "</style>\n",
       "<table border=\"1\" class=\"dataframe\">\n",
       "  <thead>\n",
       "    <tr style=\"text-align: right;\">\n",
       "      <th></th>\n",
       "      <th>total_images</th>\n",
       "      <th>last_price</th>\n",
       "      <th>total_area</th>\n",
       "      <th>first_day_exposition</th>\n",
       "      <th>rooms</th>\n",
       "      <th>ceiling_height</th>\n",
       "      <th>floors_total</th>\n",
       "      <th>living_area</th>\n",
       "      <th>floor</th>\n",
       "      <th>is_apartment</th>\n",
       "      <th>...</th>\n",
       "      <th>parks_nearest</th>\n",
       "      <th>ponds_around3000</th>\n",
       "      <th>ponds_nearest</th>\n",
       "      <th>days_exposition</th>\n",
       "      <th>price_per_m2</th>\n",
       "      <th>day_of_publication</th>\n",
       "      <th>month_of_publication</th>\n",
       "      <th>year_of_publication</th>\n",
       "      <th>floor_types</th>\n",
       "      <th>cityCenters_nearest_in_km</th>\n",
       "    </tr>\n",
       "  </thead>\n",
       "  <tbody>\n",
       "    <tr>\n",
       "      <th>355</th>\n",
       "      <td>17</td>\n",
       "      <td>3600000.0</td>\n",
       "      <td>55.2</td>\n",
       "      <td>2018-07-12</td>\n",
       "      <td>2</td>\n",
       "      <td>25.0</td>\n",
       "      <td>5.0</td>\n",
       "      <td>32.0</td>\n",
       "      <td>2</td>\n",
       "      <td>False</td>\n",
       "      <td>...</td>\n",
       "      <td>NaN</td>\n",
       "      <td>1.0</td>\n",
       "      <td>NaN</td>\n",
       "      <td>259.0</td>\n",
       "      <td>65217.39</td>\n",
       "      <td>3</td>\n",
       "      <td>7</td>\n",
       "      <td>2018</td>\n",
       "      <td>другой</td>\n",
       "      <td>NaN</td>\n",
       "    </tr>\n",
       "    <tr>\n",
       "      <th>3148</th>\n",
       "      <td>14</td>\n",
       "      <td>2900000.0</td>\n",
       "      <td>75.0</td>\n",
       "      <td>2018-11-12</td>\n",
       "      <td>3</td>\n",
       "      <td>32.0</td>\n",
       "      <td>3.0</td>\n",
       "      <td>53.0</td>\n",
       "      <td>2</td>\n",
       "      <td>True</td>\n",
       "      <td>...</td>\n",
       "      <td>NaN</td>\n",
       "      <td>1.0</td>\n",
       "      <td>NaN</td>\n",
       "      <td>NaN</td>\n",
       "      <td>38666.67</td>\n",
       "      <td>0</td>\n",
       "      <td>11</td>\n",
       "      <td>2018</td>\n",
       "      <td>другой</td>\n",
       "      <td>NaN</td>\n",
       "    </tr>\n",
       "    <tr>\n",
       "      <th>4643</th>\n",
       "      <td>0</td>\n",
       "      <td>4300000.0</td>\n",
       "      <td>45.0</td>\n",
       "      <td>2018-02-01</td>\n",
       "      <td>2</td>\n",
       "      <td>25.0</td>\n",
       "      <td>9.0</td>\n",
       "      <td>30.0</td>\n",
       "      <td>2</td>\n",
       "      <td>True</td>\n",
       "      <td>...</td>\n",
       "      <td>658.0</td>\n",
       "      <td>1.0</td>\n",
       "      <td>331.0</td>\n",
       "      <td>181.0</td>\n",
       "      <td>95555.56</td>\n",
       "      <td>3</td>\n",
       "      <td>2</td>\n",
       "      <td>2018</td>\n",
       "      <td>другой</td>\n",
       "      <td>13.0</td>\n",
       "    </tr>\n",
       "    <tr>\n",
       "      <th>4876</th>\n",
       "      <td>7</td>\n",
       "      <td>3000000.0</td>\n",
       "      <td>25.0</td>\n",
       "      <td>2017-09-27</td>\n",
       "      <td>0</td>\n",
       "      <td>27.0</td>\n",
       "      <td>25.0</td>\n",
       "      <td>17.0</td>\n",
       "      <td>17</td>\n",
       "      <td>True</td>\n",
       "      <td>...</td>\n",
       "      <td>NaN</td>\n",
       "      <td>1.0</td>\n",
       "      <td>NaN</td>\n",
       "      <td>28.0</td>\n",
       "      <td>120000.00</td>\n",
       "      <td>2</td>\n",
       "      <td>9</td>\n",
       "      <td>2017</td>\n",
       "      <td>другой</td>\n",
       "      <td>NaN</td>\n",
       "    </tr>\n",
       "    <tr>\n",
       "      <th>5076</th>\n",
       "      <td>0</td>\n",
       "      <td>3850000.0</td>\n",
       "      <td>30.5</td>\n",
       "      <td>2018-10-03</td>\n",
       "      <td>1</td>\n",
       "      <td>24.0</td>\n",
       "      <td>5.0</td>\n",
       "      <td>19.5</td>\n",
       "      <td>1</td>\n",
       "      <td>True</td>\n",
       "      <td>...</td>\n",
       "      <td>397.0</td>\n",
       "      <td>1.0</td>\n",
       "      <td>578.0</td>\n",
       "      <td>7.0</td>\n",
       "      <td>126229.51</td>\n",
       "      <td>2</td>\n",
       "      <td>10</td>\n",
       "      <td>2018</td>\n",
       "      <td>первый</td>\n",
       "      <td>8.0</td>\n",
       "    </tr>\n",
       "    <tr>\n",
       "      <th>5246</th>\n",
       "      <td>0</td>\n",
       "      <td>2500000.0</td>\n",
       "      <td>54.0</td>\n",
       "      <td>2017-10-13</td>\n",
       "      <td>2</td>\n",
       "      <td>27.0</td>\n",
       "      <td>5.0</td>\n",
       "      <td>30.0</td>\n",
       "      <td>3</td>\n",
       "      <td>True</td>\n",
       "      <td>...</td>\n",
       "      <td>NaN</td>\n",
       "      <td>1.0</td>\n",
       "      <td>NaN</td>\n",
       "      <td>540.0</td>\n",
       "      <td>46296.30</td>\n",
       "      <td>4</td>\n",
       "      <td>10</td>\n",
       "      <td>2017</td>\n",
       "      <td>другой</td>\n",
       "      <td>NaN</td>\n",
       "    </tr>\n",
       "    <tr>\n",
       "      <th>5669</th>\n",
       "      <td>4</td>\n",
       "      <td>4400000.0</td>\n",
       "      <td>50.0</td>\n",
       "      <td>2017-08-08</td>\n",
       "      <td>2</td>\n",
       "      <td>26.0</td>\n",
       "      <td>9.0</td>\n",
       "      <td>21.3</td>\n",
       "      <td>3</td>\n",
       "      <td>True</td>\n",
       "      <td>...</td>\n",
       "      <td>305.0</td>\n",
       "      <td>0.0</td>\n",
       "      <td>NaN</td>\n",
       "      <td>267.0</td>\n",
       "      <td>88000.00</td>\n",
       "      <td>1</td>\n",
       "      <td>8</td>\n",
       "      <td>2017</td>\n",
       "      <td>другой</td>\n",
       "      <td>11.0</td>\n",
       "    </tr>\n",
       "    <tr>\n",
       "      <th>5807</th>\n",
       "      <td>17</td>\n",
       "      <td>8150000.0</td>\n",
       "      <td>80.0</td>\n",
       "      <td>2019-01-09</td>\n",
       "      <td>2</td>\n",
       "      <td>27.0</td>\n",
       "      <td>36.0</td>\n",
       "      <td>41.0</td>\n",
       "      <td>13</td>\n",
       "      <td>True</td>\n",
       "      <td>...</td>\n",
       "      <td>NaN</td>\n",
       "      <td>3.0</td>\n",
       "      <td>80.0</td>\n",
       "      <td>38.0</td>\n",
       "      <td>101875.00</td>\n",
       "      <td>2</td>\n",
       "      <td>1</td>\n",
       "      <td>2019</td>\n",
       "      <td>другой</td>\n",
       "      <td>20.0</td>\n",
       "    </tr>\n",
       "    <tr>\n",
       "      <th>6246</th>\n",
       "      <td>6</td>\n",
       "      <td>3300000.0</td>\n",
       "      <td>44.4</td>\n",
       "      <td>2019-03-25</td>\n",
       "      <td>2</td>\n",
       "      <td>25.0</td>\n",
       "      <td>5.0</td>\n",
       "      <td>31.3</td>\n",
       "      <td>5</td>\n",
       "      <td>True</td>\n",
       "      <td>...</td>\n",
       "      <td>417.0</td>\n",
       "      <td>2.0</td>\n",
       "      <td>73.0</td>\n",
       "      <td>NaN</td>\n",
       "      <td>74324.32</td>\n",
       "      <td>0</td>\n",
       "      <td>3</td>\n",
       "      <td>2019</td>\n",
       "      <td>последний</td>\n",
       "      <td>51.0</td>\n",
       "    </tr>\n",
       "    <tr>\n",
       "      <th>9379</th>\n",
       "      <td>5</td>\n",
       "      <td>3950000.0</td>\n",
       "      <td>42.0</td>\n",
       "      <td>2017-03-26</td>\n",
       "      <td>3</td>\n",
       "      <td>25.0</td>\n",
       "      <td>5.0</td>\n",
       "      <td>30.0</td>\n",
       "      <td>2</td>\n",
       "      <td>True</td>\n",
       "      <td>...</td>\n",
       "      <td>NaN</td>\n",
       "      <td>0.0</td>\n",
       "      <td>NaN</td>\n",
       "      <td>NaN</td>\n",
       "      <td>94047.62</td>\n",
       "      <td>6</td>\n",
       "      <td>3</td>\n",
       "      <td>2017</td>\n",
       "      <td>другой</td>\n",
       "      <td>14.0</td>\n",
       "    </tr>\n",
       "    <tr>\n",
       "      <th>10773</th>\n",
       "      <td>8</td>\n",
       "      <td>3800000.0</td>\n",
       "      <td>58.0</td>\n",
       "      <td>2017-10-13</td>\n",
       "      <td>2</td>\n",
       "      <td>27.0</td>\n",
       "      <td>10.0</td>\n",
       "      <td>30.1</td>\n",
       "      <td>3</td>\n",
       "      <td>False</td>\n",
       "      <td>...</td>\n",
       "      <td>NaN</td>\n",
       "      <td>1.0</td>\n",
       "      <td>NaN</td>\n",
       "      <td>71.0</td>\n",
       "      <td>65517.24</td>\n",
       "      <td>4</td>\n",
       "      <td>10</td>\n",
       "      <td>2017</td>\n",
       "      <td>другой</td>\n",
       "      <td>NaN</td>\n",
       "    </tr>\n",
       "    <tr>\n",
       "      <th>11285</th>\n",
       "      <td>0</td>\n",
       "      <td>1950000.0</td>\n",
       "      <td>37.0</td>\n",
       "      <td>2019-03-20</td>\n",
       "      <td>1</td>\n",
       "      <td>25.0</td>\n",
       "      <td>5.0</td>\n",
       "      <td>17.0</td>\n",
       "      <td>4</td>\n",
       "      <td>False</td>\n",
       "      <td>...</td>\n",
       "      <td>NaN</td>\n",
       "      <td>1.0</td>\n",
       "      <td>NaN</td>\n",
       "      <td>18.0</td>\n",
       "      <td>52702.70</td>\n",
       "      <td>2</td>\n",
       "      <td>3</td>\n",
       "      <td>2019</td>\n",
       "      <td>другой</td>\n",
       "      <td>NaN</td>\n",
       "    </tr>\n",
       "    <tr>\n",
       "      <th>14382</th>\n",
       "      <td>9</td>\n",
       "      <td>1700000.0</td>\n",
       "      <td>35.0</td>\n",
       "      <td>2015-12-04</td>\n",
       "      <td>1</td>\n",
       "      <td>25.0</td>\n",
       "      <td>5.0</td>\n",
       "      <td>20.0</td>\n",
       "      <td>2</td>\n",
       "      <td>False</td>\n",
       "      <td>...</td>\n",
       "      <td>NaN</td>\n",
       "      <td>1.0</td>\n",
       "      <td>NaN</td>\n",
       "      <td>206.0</td>\n",
       "      <td>48571.43</td>\n",
       "      <td>4</td>\n",
       "      <td>12</td>\n",
       "      <td>2015</td>\n",
       "      <td>другой</td>\n",
       "      <td>NaN</td>\n",
       "    </tr>\n",
       "    <tr>\n",
       "      <th>15061</th>\n",
       "      <td>19</td>\n",
       "      <td>5600000.0</td>\n",
       "      <td>56.4</td>\n",
       "      <td>2018-05-11</td>\n",
       "      <td>2</td>\n",
       "      <td>14.0</td>\n",
       "      <td>14.0</td>\n",
       "      <td>32.4</td>\n",
       "      <td>5</td>\n",
       "      <td>True</td>\n",
       "      <td>...</td>\n",
       "      <td>NaN</td>\n",
       "      <td>0.0</td>\n",
       "      <td>NaN</td>\n",
       "      <td>315.0</td>\n",
       "      <td>99290.78</td>\n",
       "      <td>4</td>\n",
       "      <td>5</td>\n",
       "      <td>2018</td>\n",
       "      <td>другой</td>\n",
       "      <td>14.0</td>\n",
       "    </tr>\n",
       "    <tr>\n",
       "      <th>17496</th>\n",
       "      <td>15</td>\n",
       "      <td>6700000.0</td>\n",
       "      <td>92.9</td>\n",
       "      <td>2019-02-19</td>\n",
       "      <td>3</td>\n",
       "      <td>20.0</td>\n",
       "      <td>17.0</td>\n",
       "      <td>53.2</td>\n",
       "      <td>14</td>\n",
       "      <td>True</td>\n",
       "      <td>...</td>\n",
       "      <td>967.0</td>\n",
       "      <td>0.0</td>\n",
       "      <td>NaN</td>\n",
       "      <td>NaN</td>\n",
       "      <td>72120.56</td>\n",
       "      <td>1</td>\n",
       "      <td>2</td>\n",
       "      <td>2019</td>\n",
       "      <td>другой</td>\n",
       "      <td>15.0</td>\n",
       "    </tr>\n",
       "    <tr>\n",
       "      <th>17857</th>\n",
       "      <td>1</td>\n",
       "      <td>3900000.0</td>\n",
       "      <td>56.0</td>\n",
       "      <td>2017-12-22</td>\n",
       "      <td>3</td>\n",
       "      <td>27.0</td>\n",
       "      <td>5.0</td>\n",
       "      <td>33.0</td>\n",
       "      <td>4</td>\n",
       "      <td>False</td>\n",
       "      <td>...</td>\n",
       "      <td>NaN</td>\n",
       "      <td>0.0</td>\n",
       "      <td>NaN</td>\n",
       "      <td>73.0</td>\n",
       "      <td>69642.86</td>\n",
       "      <td>4</td>\n",
       "      <td>12</td>\n",
       "      <td>2017</td>\n",
       "      <td>другой</td>\n",
       "      <td>16.0</td>\n",
       "    </tr>\n",
       "    <tr>\n",
       "      <th>18545</th>\n",
       "      <td>6</td>\n",
       "      <td>3750000.0</td>\n",
       "      <td>43.0</td>\n",
       "      <td>2019-03-18</td>\n",
       "      <td>2</td>\n",
       "      <td>25.0</td>\n",
       "      <td>5.0</td>\n",
       "      <td>29.0</td>\n",
       "      <td>3</td>\n",
       "      <td>False</td>\n",
       "      <td>...</td>\n",
       "      <td>540.0</td>\n",
       "      <td>0.0</td>\n",
       "      <td>NaN</td>\n",
       "      <td>12.0</td>\n",
       "      <td>87209.30</td>\n",
       "      <td>0</td>\n",
       "      <td>3</td>\n",
       "      <td>2019</td>\n",
       "      <td>другой</td>\n",
       "      <td>8.0</td>\n",
       "    </tr>\n",
       "    <tr>\n",
       "      <th>20478</th>\n",
       "      <td>11</td>\n",
       "      <td>8000000.0</td>\n",
       "      <td>45.0</td>\n",
       "      <td>2017-07-18</td>\n",
       "      <td>1</td>\n",
       "      <td>27.0</td>\n",
       "      <td>4.0</td>\n",
       "      <td>22.0</td>\n",
       "      <td>2</td>\n",
       "      <td>True</td>\n",
       "      <td>...</td>\n",
       "      <td>NaN</td>\n",
       "      <td>3.0</td>\n",
       "      <td>449.0</td>\n",
       "      <td>429.0</td>\n",
       "      <td>177777.78</td>\n",
       "      <td>1</td>\n",
       "      <td>7</td>\n",
       "      <td>2017</td>\n",
       "      <td>другой</td>\n",
       "      <td>3.0</td>\n",
       "    </tr>\n",
       "    <tr>\n",
       "      <th>20507</th>\n",
       "      <td>12</td>\n",
       "      <td>5950000.0</td>\n",
       "      <td>60.0</td>\n",
       "      <td>2018-02-19</td>\n",
       "      <td>2</td>\n",
       "      <td>22.6</td>\n",
       "      <td>14.0</td>\n",
       "      <td>35.0</td>\n",
       "      <td>11</td>\n",
       "      <td>True</td>\n",
       "      <td>...</td>\n",
       "      <td>NaN</td>\n",
       "      <td>0.0</td>\n",
       "      <td>NaN</td>\n",
       "      <td>40.0</td>\n",
       "      <td>99166.67</td>\n",
       "      <td>0</td>\n",
       "      <td>2</td>\n",
       "      <td>2018</td>\n",
       "      <td>другой</td>\n",
       "      <td>13.0</td>\n",
       "    </tr>\n",
       "    <tr>\n",
       "      <th>21377</th>\n",
       "      <td>19</td>\n",
       "      <td>4900000.0</td>\n",
       "      <td>42.0</td>\n",
       "      <td>2017-04-18</td>\n",
       "      <td>1</td>\n",
       "      <td>27.5</td>\n",
       "      <td>24.0</td>\n",
       "      <td>37.7</td>\n",
       "      <td>19</td>\n",
       "      <td>False</td>\n",
       "      <td>...</td>\n",
       "      <td>NaN</td>\n",
       "      <td>0.0</td>\n",
       "      <td>NaN</td>\n",
       "      <td>61.0</td>\n",
       "      <td>116666.67</td>\n",
       "      <td>1</td>\n",
       "      <td>4</td>\n",
       "      <td>2017</td>\n",
       "      <td>другой</td>\n",
       "      <td>10.0</td>\n",
       "    </tr>\n",
       "    <tr>\n",
       "      <th>21824</th>\n",
       "      <td>20</td>\n",
       "      <td>2450000.0</td>\n",
       "      <td>44.0</td>\n",
       "      <td>2019-02-12</td>\n",
       "      <td>2</td>\n",
       "      <td>27.0</td>\n",
       "      <td>2.0</td>\n",
       "      <td>38.0</td>\n",
       "      <td>2</td>\n",
       "      <td>False</td>\n",
       "      <td>...</td>\n",
       "      <td>NaN</td>\n",
       "      <td>1.0</td>\n",
       "      <td>NaN</td>\n",
       "      <td>NaN</td>\n",
       "      <td>55681.82</td>\n",
       "      <td>1</td>\n",
       "      <td>2</td>\n",
       "      <td>2019</td>\n",
       "      <td>последний</td>\n",
       "      <td>NaN</td>\n",
       "    </tr>\n",
       "    <tr>\n",
       "      <th>22309</th>\n",
       "      <td>20</td>\n",
       "      <td>5300000.0</td>\n",
       "      <td>45.0</td>\n",
       "      <td>2017-09-30</td>\n",
       "      <td>1</td>\n",
       "      <td>10.3</td>\n",
       "      <td>16.0</td>\n",
       "      <td>15.5</td>\n",
       "      <td>15</td>\n",
       "      <td>True</td>\n",
       "      <td>...</td>\n",
       "      <td>440.0</td>\n",
       "      <td>2.0</td>\n",
       "      <td>450.0</td>\n",
       "      <td>136.0</td>\n",
       "      <td>117777.78</td>\n",
       "      <td>5</td>\n",
       "      <td>9</td>\n",
       "      <td>2017</td>\n",
       "      <td>другой</td>\n",
       "      <td>12.0</td>\n",
       "    </tr>\n",
       "    <tr>\n",
       "      <th>22336</th>\n",
       "      <td>19</td>\n",
       "      <td>9999000.0</td>\n",
       "      <td>92.4</td>\n",
       "      <td>2019-04-05</td>\n",
       "      <td>2</td>\n",
       "      <td>32.0</td>\n",
       "      <td>6.0</td>\n",
       "      <td>55.5</td>\n",
       "      <td>5</td>\n",
       "      <td>False</td>\n",
       "      <td>...</td>\n",
       "      <td>NaN</td>\n",
       "      <td>3.0</td>\n",
       "      <td>511.0</td>\n",
       "      <td>NaN</td>\n",
       "      <td>108214.29</td>\n",
       "      <td>4</td>\n",
       "      <td>4</td>\n",
       "      <td>2019</td>\n",
       "      <td>другой</td>\n",
       "      <td>4.0</td>\n",
       "    </tr>\n",
       "    <tr>\n",
       "      <th>22869</th>\n",
       "      <td>0</td>\n",
       "      <td>15000000.0</td>\n",
       "      <td>25.0</td>\n",
       "      <td>2018-07-25</td>\n",
       "      <td>1</td>\n",
       "      <td>100.0</td>\n",
       "      <td>5.0</td>\n",
       "      <td>14.0</td>\n",
       "      <td>5</td>\n",
       "      <td>True</td>\n",
       "      <td>...</td>\n",
       "      <td>223.0</td>\n",
       "      <td>3.0</td>\n",
       "      <td>30.0</td>\n",
       "      <td>19.0</td>\n",
       "      <td>600000.00</td>\n",
       "      <td>2</td>\n",
       "      <td>7</td>\n",
       "      <td>2018</td>\n",
       "      <td>последний</td>\n",
       "      <td>8.0</td>\n",
       "    </tr>\n",
       "    <tr>\n",
       "      <th>22938</th>\n",
       "      <td>14</td>\n",
       "      <td>4000000.0</td>\n",
       "      <td>98.0</td>\n",
       "      <td>2018-03-15</td>\n",
       "      <td>4</td>\n",
       "      <td>27.0</td>\n",
       "      <td>2.0</td>\n",
       "      <td>73.0</td>\n",
       "      <td>2</td>\n",
       "      <td>True</td>\n",
       "      <td>...</td>\n",
       "      <td>NaN</td>\n",
       "      <td>1.0</td>\n",
       "      <td>NaN</td>\n",
       "      <td>27.0</td>\n",
       "      <td>40816.33</td>\n",
       "      <td>3</td>\n",
       "      <td>3</td>\n",
       "      <td>2018</td>\n",
       "      <td>последний</td>\n",
       "      <td>NaN</td>\n",
       "    </tr>\n",
       "  </tbody>\n",
       "</table>\n",
       "<p>25 rows × 28 columns</p>\n",
       "</div>"
      ],
      "text/plain": [
       "       total_images  last_price  total_area first_day_exposition  rooms  \\\n",
       "355              17   3600000.0        55.2           2018-07-12      2   \n",
       "3148             14   2900000.0        75.0           2018-11-12      3   \n",
       "4643              0   4300000.0        45.0           2018-02-01      2   \n",
       "4876              7   3000000.0        25.0           2017-09-27      0   \n",
       "5076              0   3850000.0        30.5           2018-10-03      1   \n",
       "5246              0   2500000.0        54.0           2017-10-13      2   \n",
       "5669              4   4400000.0        50.0           2017-08-08      2   \n",
       "5807             17   8150000.0        80.0           2019-01-09      2   \n",
       "6246              6   3300000.0        44.4           2019-03-25      2   \n",
       "9379              5   3950000.0        42.0           2017-03-26      3   \n",
       "10773             8   3800000.0        58.0           2017-10-13      2   \n",
       "11285             0   1950000.0        37.0           2019-03-20      1   \n",
       "14382             9   1700000.0        35.0           2015-12-04      1   \n",
       "15061            19   5600000.0        56.4           2018-05-11      2   \n",
       "17496            15   6700000.0        92.9           2019-02-19      3   \n",
       "17857             1   3900000.0        56.0           2017-12-22      3   \n",
       "18545             6   3750000.0        43.0           2019-03-18      2   \n",
       "20478            11   8000000.0        45.0           2017-07-18      1   \n",
       "20507            12   5950000.0        60.0           2018-02-19      2   \n",
       "21377            19   4900000.0        42.0           2017-04-18      1   \n",
       "21824            20   2450000.0        44.0           2019-02-12      2   \n",
       "22309            20   5300000.0        45.0           2017-09-30      1   \n",
       "22336            19   9999000.0        92.4           2019-04-05      2   \n",
       "22869             0  15000000.0        25.0           2018-07-25      1   \n",
       "22938            14   4000000.0        98.0           2018-03-15      4   \n",
       "\n",
       "       ceiling_height  floors_total  living_area  floor  is_apartment  ...  \\\n",
       "355              25.0           5.0         32.0      2         False  ...   \n",
       "3148             32.0           3.0         53.0      2          True  ...   \n",
       "4643             25.0           9.0         30.0      2          True  ...   \n",
       "4876             27.0          25.0         17.0     17          True  ...   \n",
       "5076             24.0           5.0         19.5      1          True  ...   \n",
       "5246             27.0           5.0         30.0      3          True  ...   \n",
       "5669             26.0           9.0         21.3      3          True  ...   \n",
       "5807             27.0          36.0         41.0     13          True  ...   \n",
       "6246             25.0           5.0         31.3      5          True  ...   \n",
       "9379             25.0           5.0         30.0      2          True  ...   \n",
       "10773            27.0          10.0         30.1      3         False  ...   \n",
       "11285            25.0           5.0         17.0      4         False  ...   \n",
       "14382            25.0           5.0         20.0      2         False  ...   \n",
       "15061            14.0          14.0         32.4      5          True  ...   \n",
       "17496            20.0          17.0         53.2     14          True  ...   \n",
       "17857            27.0           5.0         33.0      4         False  ...   \n",
       "18545            25.0           5.0         29.0      3         False  ...   \n",
       "20478            27.0           4.0         22.0      2          True  ...   \n",
       "20507            22.6          14.0         35.0     11          True  ...   \n",
       "21377            27.5          24.0         37.7     19         False  ...   \n",
       "21824            27.0           2.0         38.0      2         False  ...   \n",
       "22309            10.3          16.0         15.5     15          True  ...   \n",
       "22336            32.0           6.0         55.5      5         False  ...   \n",
       "22869           100.0           5.0         14.0      5          True  ...   \n",
       "22938            27.0           2.0         73.0      2          True  ...   \n",
       "\n",
       "       parks_nearest  ponds_around3000  ponds_nearest  days_exposition  \\\n",
       "355              NaN               1.0            NaN            259.0   \n",
       "3148             NaN               1.0            NaN              NaN   \n",
       "4643           658.0               1.0          331.0            181.0   \n",
       "4876             NaN               1.0            NaN             28.0   \n",
       "5076           397.0               1.0          578.0              7.0   \n",
       "5246             NaN               1.0            NaN            540.0   \n",
       "5669           305.0               0.0            NaN            267.0   \n",
       "5807             NaN               3.0           80.0             38.0   \n",
       "6246           417.0               2.0           73.0              NaN   \n",
       "9379             NaN               0.0            NaN              NaN   \n",
       "10773            NaN               1.0            NaN             71.0   \n",
       "11285            NaN               1.0            NaN             18.0   \n",
       "14382            NaN               1.0            NaN            206.0   \n",
       "15061            NaN               0.0            NaN            315.0   \n",
       "17496          967.0               0.0            NaN              NaN   \n",
       "17857            NaN               0.0            NaN             73.0   \n",
       "18545          540.0               0.0            NaN             12.0   \n",
       "20478            NaN               3.0          449.0            429.0   \n",
       "20507            NaN               0.0            NaN             40.0   \n",
       "21377            NaN               0.0            NaN             61.0   \n",
       "21824            NaN               1.0            NaN              NaN   \n",
       "22309          440.0               2.0          450.0            136.0   \n",
       "22336            NaN               3.0          511.0              NaN   \n",
       "22869          223.0               3.0           30.0             19.0   \n",
       "22938            NaN               1.0            NaN             27.0   \n",
       "\n",
       "      price_per_m2  day_of_publication  month_of_publication  \\\n",
       "355       65217.39                   3                     7   \n",
       "3148      38666.67                   0                    11   \n",
       "4643      95555.56                   3                     2   \n",
       "4876     120000.00                   2                     9   \n",
       "5076     126229.51                   2                    10   \n",
       "5246      46296.30                   4                    10   \n",
       "5669      88000.00                   1                     8   \n",
       "5807     101875.00                   2                     1   \n",
       "6246      74324.32                   0                     3   \n",
       "9379      94047.62                   6                     3   \n",
       "10773     65517.24                   4                    10   \n",
       "11285     52702.70                   2                     3   \n",
       "14382     48571.43                   4                    12   \n",
       "15061     99290.78                   4                     5   \n",
       "17496     72120.56                   1                     2   \n",
       "17857     69642.86                   4                    12   \n",
       "18545     87209.30                   0                     3   \n",
       "20478    177777.78                   1                     7   \n",
       "20507     99166.67                   0                     2   \n",
       "21377    116666.67                   1                     4   \n",
       "21824     55681.82                   1                     2   \n",
       "22309    117777.78                   5                     9   \n",
       "22336    108214.29                   4                     4   \n",
       "22869    600000.00                   2                     7   \n",
       "22938     40816.33                   3                     3   \n",
       "\n",
       "       year_of_publication  floor_types  cityCenters_nearest_in_km  \n",
       "355                   2018       другой                        NaN  \n",
       "3148                  2018       другой                        NaN  \n",
       "4643                  2018       другой                       13.0  \n",
       "4876                  2017       другой                        NaN  \n",
       "5076                  2018       первый                        8.0  \n",
       "5246                  2017       другой                        NaN  \n",
       "5669                  2017       другой                       11.0  \n",
       "5807                  2019       другой                       20.0  \n",
       "6246                  2019    последний                       51.0  \n",
       "9379                  2017       другой                       14.0  \n",
       "10773                 2017       другой                        NaN  \n",
       "11285                 2019       другой                        NaN  \n",
       "14382                 2015       другой                        NaN  \n",
       "15061                 2018       другой                       14.0  \n",
       "17496                 2019       другой                       15.0  \n",
       "17857                 2017       другой                       16.0  \n",
       "18545                 2019       другой                        8.0  \n",
       "20478                 2017       другой                        3.0  \n",
       "20507                 2018       другой                       13.0  \n",
       "21377                 2017       другой                       10.0  \n",
       "21824                 2019    последний                        NaN  \n",
       "22309                 2017       другой                       12.0  \n",
       "22336                 2019       другой                        4.0  \n",
       "22869                 2018    последний                        8.0  \n",
       "22938                 2018    последний                        NaN  \n",
       "\n",
       "[25 rows x 28 columns]"
      ]
     },
     "execution_count": 48,
     "metadata": {},
     "output_type": "execute_result"
    }
   ],
   "source": [
    "data[data['ceiling_height'] > 10]"
   ]
  },
  {
   "cell_type": "markdown",
   "metadata": {},
   "source": [
    "Для этого подойдет индексация. Выделяю столбец, который мне нужен, прописываю условие, что бы значения были больше 10 и делю их на 10. Таким образом например 27 м станет 2,7 м, что уже похоже на правду"
   ]
  },
  {
   "cell_type": "code",
   "execution_count": 49,
   "metadata": {},
   "outputs": [],
   "source": [
    "data.loc[data['ceiling_height'] > 10, 'ceiling_height'] = data['ceiling_height'] / 10"
   ]
  },
  {
   "cell_type": "code",
   "execution_count": 50,
   "metadata": {},
   "outputs": [
    {
     "data": {
      "text/html": [
       "<div>\n",
       "<style scoped>\n",
       "    .dataframe tbody tr th:only-of-type {\n",
       "        vertical-align: middle;\n",
       "    }\n",
       "\n",
       "    .dataframe tbody tr th {\n",
       "        vertical-align: top;\n",
       "    }\n",
       "\n",
       "    .dataframe thead th {\n",
       "        text-align: right;\n",
       "    }\n",
       "</style>\n",
       "<table border=\"1\" class=\"dataframe\">\n",
       "  <thead>\n",
       "    <tr style=\"text-align: right;\">\n",
       "      <th></th>\n",
       "      <th>total_images</th>\n",
       "      <th>last_price</th>\n",
       "      <th>total_area</th>\n",
       "      <th>first_day_exposition</th>\n",
       "      <th>rooms</th>\n",
       "      <th>ceiling_height</th>\n",
       "      <th>floors_total</th>\n",
       "      <th>living_area</th>\n",
       "      <th>floor</th>\n",
       "      <th>is_apartment</th>\n",
       "      <th>...</th>\n",
       "      <th>parks_nearest</th>\n",
       "      <th>ponds_around3000</th>\n",
       "      <th>ponds_nearest</th>\n",
       "      <th>days_exposition</th>\n",
       "      <th>price_per_m2</th>\n",
       "      <th>day_of_publication</th>\n",
       "      <th>month_of_publication</th>\n",
       "      <th>year_of_publication</th>\n",
       "      <th>floor_types</th>\n",
       "      <th>cityCenters_nearest_in_km</th>\n",
       "    </tr>\n",
       "  </thead>\n",
       "  <tbody>\n",
       "    <tr>\n",
       "      <th>464</th>\n",
       "      <td>15</td>\n",
       "      <td>66571000.0</td>\n",
       "      <td>280.3</td>\n",
       "      <td>2015-06-11</td>\n",
       "      <td>6</td>\n",
       "      <td>5.20</td>\n",
       "      <td>8.0</td>\n",
       "      <td>159.5</td>\n",
       "      <td>7</td>\n",
       "      <td>True</td>\n",
       "      <td>...</td>\n",
       "      <td>187.0</td>\n",
       "      <td>1.0</td>\n",
       "      <td>616.0</td>\n",
       "      <td>578.0</td>\n",
       "      <td>237499.11</td>\n",
       "      <td>3</td>\n",
       "      <td>6</td>\n",
       "      <td>2015</td>\n",
       "      <td>другой</td>\n",
       "      <td>7.0</td>\n",
       "    </tr>\n",
       "    <tr>\n",
       "      <th>1026</th>\n",
       "      <td>20</td>\n",
       "      <td>155000000.0</td>\n",
       "      <td>310.0</td>\n",
       "      <td>2018-10-12</td>\n",
       "      <td>5</td>\n",
       "      <td>5.30</td>\n",
       "      <td>3.0</td>\n",
       "      <td>190.0</td>\n",
       "      <td>3</td>\n",
       "      <td>True</td>\n",
       "      <td>...</td>\n",
       "      <td>NaN</td>\n",
       "      <td>1.0</td>\n",
       "      <td>603.0</td>\n",
       "      <td>NaN</td>\n",
       "      <td>500000.00</td>\n",
       "      <td>4</td>\n",
       "      <td>10</td>\n",
       "      <td>2018</td>\n",
       "      <td>последний</td>\n",
       "      <td>5.0</td>\n",
       "    </tr>\n",
       "    <tr>\n",
       "      <th>1053</th>\n",
       "      <td>13</td>\n",
       "      <td>550000.0</td>\n",
       "      <td>29.0</td>\n",
       "      <td>2018-02-01</td>\n",
       "      <td>1</td>\n",
       "      <td>5.00</td>\n",
       "      <td>3.0</td>\n",
       "      <td>NaN</td>\n",
       "      <td>1</td>\n",
       "      <td>False</td>\n",
       "      <td>...</td>\n",
       "      <td>NaN</td>\n",
       "      <td>1.0</td>\n",
       "      <td>NaN</td>\n",
       "      <td>6.0</td>\n",
       "      <td>18965.52</td>\n",
       "      <td>3</td>\n",
       "      <td>2</td>\n",
       "      <td>2018</td>\n",
       "      <td>первый</td>\n",
       "      <td>NaN</td>\n",
       "    </tr>\n",
       "    <tr>\n",
       "      <th>1300</th>\n",
       "      <td>14</td>\n",
       "      <td>120000000.0</td>\n",
       "      <td>280.0</td>\n",
       "      <td>2018-07-12</td>\n",
       "      <td>5</td>\n",
       "      <td>4.70</td>\n",
       "      <td>4.0</td>\n",
       "      <td>162.0</td>\n",
       "      <td>3</td>\n",
       "      <td>True</td>\n",
       "      <td>...</td>\n",
       "      <td>464.0</td>\n",
       "      <td>3.0</td>\n",
       "      <td>339.0</td>\n",
       "      <td>225.0</td>\n",
       "      <td>428571.43</td>\n",
       "      <td>3</td>\n",
       "      <td>7</td>\n",
       "      <td>2018</td>\n",
       "      <td>другой</td>\n",
       "      <td>4.0</td>\n",
       "    </tr>\n",
       "    <tr>\n",
       "      <th>1388</th>\n",
       "      <td>20</td>\n",
       "      <td>59800000.0</td>\n",
       "      <td>399.0</td>\n",
       "      <td>2015-01-21</td>\n",
       "      <td>5</td>\n",
       "      <td>5.60</td>\n",
       "      <td>6.0</td>\n",
       "      <td>NaN</td>\n",
       "      <td>6</td>\n",
       "      <td>True</td>\n",
       "      <td>...</td>\n",
       "      <td>149.0</td>\n",
       "      <td>2.0</td>\n",
       "      <td>577.0</td>\n",
       "      <td>719.0</td>\n",
       "      <td>149874.69</td>\n",
       "      <td>2</td>\n",
       "      <td>1</td>\n",
       "      <td>2015</td>\n",
       "      <td>последний</td>\n",
       "      <td>7.0</td>\n",
       "    </tr>\n",
       "    <tr>\n",
       "      <th>2802</th>\n",
       "      <td>7</td>\n",
       "      <td>14950000.0</td>\n",
       "      <td>50.0</td>\n",
       "      <td>2016-03-06</td>\n",
       "      <td>2</td>\n",
       "      <td>4.80</td>\n",
       "      <td>3.0</td>\n",
       "      <td>30.0</td>\n",
       "      <td>2</td>\n",
       "      <td>True</td>\n",
       "      <td>...</td>\n",
       "      <td>589.0</td>\n",
       "      <td>3.0</td>\n",
       "      <td>161.0</td>\n",
       "      <td>160.0</td>\n",
       "      <td>299000.00</td>\n",
       "      <td>6</td>\n",
       "      <td>3</td>\n",
       "      <td>2016</td>\n",
       "      <td>другой</td>\n",
       "      <td>2.0</td>\n",
       "    </tr>\n",
       "    <tr>\n",
       "      <th>3474</th>\n",
       "      <td>3</td>\n",
       "      <td>1400000.0</td>\n",
       "      <td>30.0</td>\n",
       "      <td>2018-03-16</td>\n",
       "      <td>1</td>\n",
       "      <td>8.00</td>\n",
       "      <td>5.0</td>\n",
       "      <td>15.3</td>\n",
       "      <td>2</td>\n",
       "      <td>False</td>\n",
       "      <td>...</td>\n",
       "      <td>NaN</td>\n",
       "      <td>1.0</td>\n",
       "      <td>NaN</td>\n",
       "      <td>125.0</td>\n",
       "      <td>46666.67</td>\n",
       "      <td>4</td>\n",
       "      <td>3</td>\n",
       "      <td>2018</td>\n",
       "      <td>другой</td>\n",
       "      <td>NaN</td>\n",
       "    </tr>\n",
       "    <tr>\n",
       "      <th>5863</th>\n",
       "      <td>20</td>\n",
       "      <td>5650000.0</td>\n",
       "      <td>45.0</td>\n",
       "      <td>2018-08-15</td>\n",
       "      <td>1</td>\n",
       "      <td>8.30</td>\n",
       "      <td>16.0</td>\n",
       "      <td>19.3</td>\n",
       "      <td>14</td>\n",
       "      <td>True</td>\n",
       "      <td>...</td>\n",
       "      <td>NaN</td>\n",
       "      <td>1.0</td>\n",
       "      <td>613.0</td>\n",
       "      <td>14.0</td>\n",
       "      <td>125555.56</td>\n",
       "      <td>2</td>\n",
       "      <td>8</td>\n",
       "      <td>2018</td>\n",
       "      <td>другой</td>\n",
       "      <td>11.0</td>\n",
       "    </tr>\n",
       "    <tr>\n",
       "      <th>7578</th>\n",
       "      <td>17</td>\n",
       "      <td>38000000.0</td>\n",
       "      <td>143.0</td>\n",
       "      <td>2017-11-02</td>\n",
       "      <td>3</td>\n",
       "      <td>5.50</td>\n",
       "      <td>5.0</td>\n",
       "      <td>83.0</td>\n",
       "      <td>5</td>\n",
       "      <td>True</td>\n",
       "      <td>...</td>\n",
       "      <td>479.0</td>\n",
       "      <td>0.0</td>\n",
       "      <td>NaN</td>\n",
       "      <td>NaN</td>\n",
       "      <td>265734.27</td>\n",
       "      <td>3</td>\n",
       "      <td>11</td>\n",
       "      <td>2017</td>\n",
       "      <td>последний</td>\n",
       "      <td>6.0</td>\n",
       "    </tr>\n",
       "    <tr>\n",
       "      <th>12401</th>\n",
       "      <td>20</td>\n",
       "      <td>91500000.0</td>\n",
       "      <td>495.0</td>\n",
       "      <td>2017-06-19</td>\n",
       "      <td>7</td>\n",
       "      <td>4.65</td>\n",
       "      <td>7.0</td>\n",
       "      <td>347.5</td>\n",
       "      <td>7</td>\n",
       "      <td>True</td>\n",
       "      <td>...</td>\n",
       "      <td>110.0</td>\n",
       "      <td>0.0</td>\n",
       "      <td>NaN</td>\n",
       "      <td>14.0</td>\n",
       "      <td>184848.48</td>\n",
       "      <td>0</td>\n",
       "      <td>6</td>\n",
       "      <td>2017</td>\n",
       "      <td>последний</td>\n",
       "      <td>6.0</td>\n",
       "    </tr>\n",
       "    <tr>\n",
       "      <th>12628</th>\n",
       "      <td>14</td>\n",
       "      <td>3900000.0</td>\n",
       "      <td>50.0</td>\n",
       "      <td>2018-03-29</td>\n",
       "      <td>1</td>\n",
       "      <td>5.30</td>\n",
       "      <td>5.0</td>\n",
       "      <td>NaN</td>\n",
       "      <td>5</td>\n",
       "      <td>True</td>\n",
       "      <td>...</td>\n",
       "      <td>505.0</td>\n",
       "      <td>1.0</td>\n",
       "      <td>92.0</td>\n",
       "      <td>8.0</td>\n",
       "      <td>78000.00</td>\n",
       "      <td>3</td>\n",
       "      <td>3</td>\n",
       "      <td>2018</td>\n",
       "      <td>последний</td>\n",
       "      <td>4.0</td>\n",
       "    </tr>\n",
       "    <tr>\n",
       "      <th>15743</th>\n",
       "      <td>14</td>\n",
       "      <td>5600000.0</td>\n",
       "      <td>67.0</td>\n",
       "      <td>2016-11-11</td>\n",
       "      <td>3</td>\n",
       "      <td>8.00</td>\n",
       "      <td>16.0</td>\n",
       "      <td>41.0</td>\n",
       "      <td>1</td>\n",
       "      <td>True</td>\n",
       "      <td>...</td>\n",
       "      <td>723.0</td>\n",
       "      <td>0.0</td>\n",
       "      <td>NaN</td>\n",
       "      <td>474.0</td>\n",
       "      <td>83582.09</td>\n",
       "      <td>4</td>\n",
       "      <td>11</td>\n",
       "      <td>2016</td>\n",
       "      <td>первый</td>\n",
       "      <td>11.0</td>\n",
       "    </tr>\n",
       "    <tr>\n",
       "      <th>17442</th>\n",
       "      <td>0</td>\n",
       "      <td>5350000.0</td>\n",
       "      <td>54.0</td>\n",
       "      <td>2015-06-16</td>\n",
       "      <td>2</td>\n",
       "      <td>8.00</td>\n",
       "      <td>5.0</td>\n",
       "      <td>29.0</td>\n",
       "      <td>2</td>\n",
       "      <td>True</td>\n",
       "      <td>...</td>\n",
       "      <td>NaN</td>\n",
       "      <td>0.0</td>\n",
       "      <td>NaN</td>\n",
       "      <td>469.0</td>\n",
       "      <td>99074.07</td>\n",
       "      <td>1</td>\n",
       "      <td>6</td>\n",
       "      <td>2015</td>\n",
       "      <td>другой</td>\n",
       "      <td>28.0</td>\n",
       "    </tr>\n",
       "    <tr>\n",
       "      <th>19142</th>\n",
       "      <td>10</td>\n",
       "      <td>8650000.0</td>\n",
       "      <td>87.7</td>\n",
       "      <td>2017-07-18</td>\n",
       "      <td>2</td>\n",
       "      <td>4.70</td>\n",
       "      <td>26.0</td>\n",
       "      <td>57.4</td>\n",
       "      <td>26</td>\n",
       "      <td>True</td>\n",
       "      <td>...</td>\n",
       "      <td>1248.0</td>\n",
       "      <td>0.0</td>\n",
       "      <td>NaN</td>\n",
       "      <td>15.0</td>\n",
       "      <td>98631.70</td>\n",
       "      <td>1</td>\n",
       "      <td>7</td>\n",
       "      <td>2017</td>\n",
       "      <td>последний</td>\n",
       "      <td>10.0</td>\n",
       "    </tr>\n",
       "    <tr>\n",
       "      <th>20264</th>\n",
       "      <td>17</td>\n",
       "      <td>119000000.0</td>\n",
       "      <td>187.6</td>\n",
       "      <td>2017-07-10</td>\n",
       "      <td>4</td>\n",
       "      <td>6.00</td>\n",
       "      <td>7.0</td>\n",
       "      <td>147.0</td>\n",
       "      <td>7</td>\n",
       "      <td>True</td>\n",
       "      <td>...</td>\n",
       "      <td>484.0</td>\n",
       "      <td>1.0</td>\n",
       "      <td>305.0</td>\n",
       "      <td>259.0</td>\n",
       "      <td>634328.36</td>\n",
       "      <td>0</td>\n",
       "      <td>7</td>\n",
       "      <td>2017</td>\n",
       "      <td>последний</td>\n",
       "      <td>6.0</td>\n",
       "    </tr>\n",
       "    <tr>\n",
       "      <th>21227</th>\n",
       "      <td>0</td>\n",
       "      <td>8200000.0</td>\n",
       "      <td>71.0</td>\n",
       "      <td>2017-07-21</td>\n",
       "      <td>0</td>\n",
       "      <td>5.80</td>\n",
       "      <td>5.0</td>\n",
       "      <td>68.0</td>\n",
       "      <td>5</td>\n",
       "      <td>True</td>\n",
       "      <td>...</td>\n",
       "      <td>295.0</td>\n",
       "      <td>3.0</td>\n",
       "      <td>366.0</td>\n",
       "      <td>30.0</td>\n",
       "      <td>115492.96</td>\n",
       "      <td>4</td>\n",
       "      <td>7</td>\n",
       "      <td>2017</td>\n",
       "      <td>последний</td>\n",
       "      <td>1.0</td>\n",
       "    </tr>\n",
       "    <tr>\n",
       "      <th>21923</th>\n",
       "      <td>10</td>\n",
       "      <td>115490000.0</td>\n",
       "      <td>235.0</td>\n",
       "      <td>2017-04-09</td>\n",
       "      <td>5</td>\n",
       "      <td>4.90</td>\n",
       "      <td>5.0</td>\n",
       "      <td>140.0</td>\n",
       "      <td>5</td>\n",
       "      <td>True</td>\n",
       "      <td>...</td>\n",
       "      <td>652.0</td>\n",
       "      <td>3.0</td>\n",
       "      <td>253.0</td>\n",
       "      <td>351.0</td>\n",
       "      <td>491446.81</td>\n",
       "      <td>6</td>\n",
       "      <td>4</td>\n",
       "      <td>2017</td>\n",
       "      <td>последний</td>\n",
       "      <td>1.0</td>\n",
       "    </tr>\n",
       "    <tr>\n",
       "      <th>22869</th>\n",
       "      <td>0</td>\n",
       "      <td>15000000.0</td>\n",
       "      <td>25.0</td>\n",
       "      <td>2018-07-25</td>\n",
       "      <td>1</td>\n",
       "      <td>10.00</td>\n",
       "      <td>5.0</td>\n",
       "      <td>14.0</td>\n",
       "      <td>5</td>\n",
       "      <td>True</td>\n",
       "      <td>...</td>\n",
       "      <td>223.0</td>\n",
       "      <td>3.0</td>\n",
       "      <td>30.0</td>\n",
       "      <td>19.0</td>\n",
       "      <td>600000.00</td>\n",
       "      <td>2</td>\n",
       "      <td>7</td>\n",
       "      <td>2018</td>\n",
       "      <td>последний</td>\n",
       "      <td>8.0</td>\n",
       "    </tr>\n",
       "  </tbody>\n",
       "</table>\n",
       "<p>18 rows × 28 columns</p>\n",
       "</div>"
      ],
      "text/plain": [
       "       total_images   last_price  total_area first_day_exposition  rooms  \\\n",
       "464              15   66571000.0       280.3           2015-06-11      6   \n",
       "1026             20  155000000.0       310.0           2018-10-12      5   \n",
       "1053             13     550000.0        29.0           2018-02-01      1   \n",
       "1300             14  120000000.0       280.0           2018-07-12      5   \n",
       "1388             20   59800000.0       399.0           2015-01-21      5   \n",
       "2802              7   14950000.0        50.0           2016-03-06      2   \n",
       "3474              3    1400000.0        30.0           2018-03-16      1   \n",
       "5863             20    5650000.0        45.0           2018-08-15      1   \n",
       "7578             17   38000000.0       143.0           2017-11-02      3   \n",
       "12401            20   91500000.0       495.0           2017-06-19      7   \n",
       "12628            14    3900000.0        50.0           2018-03-29      1   \n",
       "15743            14    5600000.0        67.0           2016-11-11      3   \n",
       "17442             0    5350000.0        54.0           2015-06-16      2   \n",
       "19142            10    8650000.0        87.7           2017-07-18      2   \n",
       "20264            17  119000000.0       187.6           2017-07-10      4   \n",
       "21227             0    8200000.0        71.0           2017-07-21      0   \n",
       "21923            10  115490000.0       235.0           2017-04-09      5   \n",
       "22869             0   15000000.0        25.0           2018-07-25      1   \n",
       "\n",
       "       ceiling_height  floors_total  living_area  floor  is_apartment  ...  \\\n",
       "464              5.20           8.0        159.5      7          True  ...   \n",
       "1026             5.30           3.0        190.0      3          True  ...   \n",
       "1053             5.00           3.0          NaN      1         False  ...   \n",
       "1300             4.70           4.0        162.0      3          True  ...   \n",
       "1388             5.60           6.0          NaN      6          True  ...   \n",
       "2802             4.80           3.0         30.0      2          True  ...   \n",
       "3474             8.00           5.0         15.3      2         False  ...   \n",
       "5863             8.30          16.0         19.3     14          True  ...   \n",
       "7578             5.50           5.0         83.0      5          True  ...   \n",
       "12401            4.65           7.0        347.5      7          True  ...   \n",
       "12628            5.30           5.0          NaN      5          True  ...   \n",
       "15743            8.00          16.0         41.0      1          True  ...   \n",
       "17442            8.00           5.0         29.0      2          True  ...   \n",
       "19142            4.70          26.0         57.4     26          True  ...   \n",
       "20264            6.00           7.0        147.0      7          True  ...   \n",
       "21227            5.80           5.0         68.0      5          True  ...   \n",
       "21923            4.90           5.0        140.0      5          True  ...   \n",
       "22869           10.00           5.0         14.0      5          True  ...   \n",
       "\n",
       "       parks_nearest  ponds_around3000  ponds_nearest  days_exposition  \\\n",
       "464            187.0               1.0          616.0            578.0   \n",
       "1026             NaN               1.0          603.0              NaN   \n",
       "1053             NaN               1.0            NaN              6.0   \n",
       "1300           464.0               3.0          339.0            225.0   \n",
       "1388           149.0               2.0          577.0            719.0   \n",
       "2802           589.0               3.0          161.0            160.0   \n",
       "3474             NaN               1.0            NaN            125.0   \n",
       "5863             NaN               1.0          613.0             14.0   \n",
       "7578           479.0               0.0            NaN              NaN   \n",
       "12401          110.0               0.0            NaN             14.0   \n",
       "12628          505.0               1.0           92.0              8.0   \n",
       "15743          723.0               0.0            NaN            474.0   \n",
       "17442            NaN               0.0            NaN            469.0   \n",
       "19142         1248.0               0.0            NaN             15.0   \n",
       "20264          484.0               1.0          305.0            259.0   \n",
       "21227          295.0               3.0          366.0             30.0   \n",
       "21923          652.0               3.0          253.0            351.0   \n",
       "22869          223.0               3.0           30.0             19.0   \n",
       "\n",
       "      price_per_m2  day_of_publication  month_of_publication  \\\n",
       "464      237499.11                   3                     6   \n",
       "1026     500000.00                   4                    10   \n",
       "1053      18965.52                   3                     2   \n",
       "1300     428571.43                   3                     7   \n",
       "1388     149874.69                   2                     1   \n",
       "2802     299000.00                   6                     3   \n",
       "3474      46666.67                   4                     3   \n",
       "5863     125555.56                   2                     8   \n",
       "7578     265734.27                   3                    11   \n",
       "12401    184848.48                   0                     6   \n",
       "12628     78000.00                   3                     3   \n",
       "15743     83582.09                   4                    11   \n",
       "17442     99074.07                   1                     6   \n",
       "19142     98631.70                   1                     7   \n",
       "20264    634328.36                   0                     7   \n",
       "21227    115492.96                   4                     7   \n",
       "21923    491446.81                   6                     4   \n",
       "22869    600000.00                   2                     7   \n",
       "\n",
       "       year_of_publication  floor_types  cityCenters_nearest_in_km  \n",
       "464                   2015       другой                        7.0  \n",
       "1026                  2018    последний                        5.0  \n",
       "1053                  2018       первый                        NaN  \n",
       "1300                  2018       другой                        4.0  \n",
       "1388                  2015    последний                        7.0  \n",
       "2802                  2016       другой                        2.0  \n",
       "3474                  2018       другой                        NaN  \n",
       "5863                  2018       другой                       11.0  \n",
       "7578                  2017    последний                        6.0  \n",
       "12401                 2017    последний                        6.0  \n",
       "12628                 2018    последний                        4.0  \n",
       "15743                 2016       первый                       11.0  \n",
       "17442                 2015       другой                       28.0  \n",
       "19142                 2017    последний                       10.0  \n",
       "20264                 2017    последний                        6.0  \n",
       "21227                 2017    последний                        1.0  \n",
       "21923                 2017    последний                        1.0  \n",
       "22869                 2018    последний                        8.0  \n",
       "\n",
       "[18 rows x 28 columns]"
      ]
     },
     "execution_count": 50,
     "metadata": {},
     "output_type": "execute_result"
    }
   ],
   "source": [
    "# Проверяю значения выше 4,5 метра\n",
    "data[data['ceiling_height'] > 4.5]"
   ]
  },
  {
   "cell_type": "markdown",
   "metadata": {},
   "source": [
    "Всё ещё остались выбитые значения, но, к сожалению, не вижу способа как их обработать. Придется оставить как есть"
   ]
  },
  {
   "cell_type": "code",
   "execution_count": 51,
   "metadata": {},
   "outputs": [
    {
     "data": {
      "text/plain": [
       "Text(0, 0.5, 'Количетсво квартир')"
      ]
     },
     "execution_count": 51,
     "metadata": {},
     "output_type": "execute_result"
    },
    {
     "data": {
      "image/png": "[encoded data removed]",
      "text/plain": [
       "<Figure size 720x360 with 1 Axes>"
      ]
     },
     "metadata": {
      "needs_background": "light"
     },
     "output_type": "display_data"
    }
   ],
   "source": [
    "# Проверю результат\n",
    "data[data['ceiling_height'] > 4.5]\n",
    "data['ceiling_height'].hist(bins=10, range=(1.5, 5), figsize=(10, 5))\n",
    "\n",
    "plt.title('Распределение высоты потолков в квартирах')\n",
    "plt.xlabel('Высота потолков')\n",
    "plt.ylabel('Количетсво квартир')"
   ]
  },
  {
   "cell_type": "markdown",
   "metadata": {},
   "source": [
    "Это уже больше похоже на распределение Пуассона. Жаль, что не удалось обработать все выбитые значения"
   ]
  },
  {
   "cell_type": "markdown",
   "metadata": {},
   "source": [
    "Нужно понять как быстро продавались квартиры"
   ]
  },
  {
   "cell_type": "code",
   "execution_count": 52,
   "metadata": {},
   "outputs": [
    {
     "data": {
      "text/plain": [
       "Text(0, 0.5, 'Количество квартир')"
      ]
     },
     "execution_count": 52,
     "metadata": {},
     "output_type": "execute_result"
    },
    {
     "data": {
      "image/png": "[encoded data removed]",
      "text/plain": [
       "<Figure size 1080x720 with 1 Axes>"
      ]
     },
     "metadata": {
      "needs_background": "light"
     },
     "output_type": "display_data"
    }
   ],
   "source": [
    "# Строю гистограмму\n",
    "data['days_exposition'].hist(bins=50, range=(0, 1600), figsize=(15, 10), grid=True)\n",
    "\n",
    "plt.title('Распределение времени продажи квартиры')\n",
    "plt.xlabel('Количество дней')\n",
    "plt.ylabel('Количество квартир')"
   ]
  },
  {
   "cell_type": "markdown",
   "metadata": {},
   "source": [
    "Есть аномальное значение, посмотрю строку таблицы"
   ]
  },
  {
   "cell_type": "code",
   "execution_count": 53,
   "metadata": {},
   "outputs": [
    {
     "data": {
      "text/html": [
       "<div>\n",
       "<style scoped>\n",
       "    .dataframe tbody tr th:only-of-type {\n",
       "        vertical-align: middle;\n",
       "    }\n",
       "\n",
       "    .dataframe tbody tr th {\n",
       "        vertical-align: top;\n",
       "    }\n",
       "\n",
       "    .dataframe thead th {\n",
       "        text-align: right;\n",
       "    }\n",
       "</style>\n",
       "<table border=\"1\" class=\"dataframe\">\n",
       "  <thead>\n",
       "    <tr style=\"text-align: right;\">\n",
       "      <th></th>\n",
       "      <th>total_images</th>\n",
       "      <th>last_price</th>\n",
       "      <th>total_area</th>\n",
       "      <th>first_day_exposition</th>\n",
       "      <th>rooms</th>\n",
       "      <th>ceiling_height</th>\n",
       "      <th>floors_total</th>\n",
       "      <th>living_area</th>\n",
       "      <th>floor</th>\n",
       "      <th>is_apartment</th>\n",
       "      <th>...</th>\n",
       "      <th>parks_nearest</th>\n",
       "      <th>ponds_around3000</th>\n",
       "      <th>ponds_nearest</th>\n",
       "      <th>days_exposition</th>\n",
       "      <th>price_per_m2</th>\n",
       "      <th>day_of_publication</th>\n",
       "      <th>month_of_publication</th>\n",
       "      <th>year_of_publication</th>\n",
       "      <th>floor_types</th>\n",
       "      <th>cityCenters_nearest_in_km</th>\n",
       "    </tr>\n",
       "  </thead>\n",
       "  <tbody>\n",
       "    <tr>\n",
       "      <th>109</th>\n",
       "      <td>2</td>\n",
       "      <td>7497600.0</td>\n",
       "      <td>62.5</td>\n",
       "      <td>2015-12-08</td>\n",
       "      <td>2</td>\n",
       "      <td>NaN</td>\n",
       "      <td>5.0</td>\n",
       "      <td>35.5</td>\n",
       "      <td>5</td>\n",
       "      <td>True</td>\n",
       "      <td>...</td>\n",
       "      <td>517.0</td>\n",
       "      <td>0.0</td>\n",
       "      <td>NaN</td>\n",
       "      <td>1048.0</td>\n",
       "      <td>119961.60</td>\n",
       "      <td>1</td>\n",
       "      <td>12</td>\n",
       "      <td>2015</td>\n",
       "      <td>последний</td>\n",
       "      <td>27.0</td>\n",
       "    </tr>\n",
       "    <tr>\n",
       "      <th>353</th>\n",
       "      <td>4</td>\n",
       "      <td>5990000.0</td>\n",
       "      <td>43.5</td>\n",
       "      <td>2015-05-08</td>\n",
       "      <td>1</td>\n",
       "      <td>3.00</td>\n",
       "      <td>5.0</td>\n",
       "      <td>25.0</td>\n",
       "      <td>4</td>\n",
       "      <td>True</td>\n",
       "      <td>...</td>\n",
       "      <td>93.0</td>\n",
       "      <td>0.0</td>\n",
       "      <td>NaN</td>\n",
       "      <td>1292.0</td>\n",
       "      <td>137701.15</td>\n",
       "      <td>4</td>\n",
       "      <td>5</td>\n",
       "      <td>2015</td>\n",
       "      <td>другой</td>\n",
       "      <td>10.0</td>\n",
       "    </tr>\n",
       "    <tr>\n",
       "      <th>398</th>\n",
       "      <td>7</td>\n",
       "      <td>12789000.0</td>\n",
       "      <td>79.3</td>\n",
       "      <td>2014-12-09</td>\n",
       "      <td>2</td>\n",
       "      <td>3.00</td>\n",
       "      <td>8.0</td>\n",
       "      <td>43.1</td>\n",
       "      <td>5</td>\n",
       "      <td>False</td>\n",
       "      <td>...</td>\n",
       "      <td>537.0</td>\n",
       "      <td>0.0</td>\n",
       "      <td>NaN</td>\n",
       "      <td>1345.0</td>\n",
       "      <td>161273.64</td>\n",
       "      <td>1</td>\n",
       "      <td>12</td>\n",
       "      <td>2014</td>\n",
       "      <td>другой</td>\n",
       "      <td>11.0</td>\n",
       "    </tr>\n",
       "    <tr>\n",
       "      <th>437</th>\n",
       "      <td>12</td>\n",
       "      <td>3350000.0</td>\n",
       "      <td>37.0</td>\n",
       "      <td>2015-02-24</td>\n",
       "      <td>1</td>\n",
       "      <td>2.55</td>\n",
       "      <td>6.0</td>\n",
       "      <td>17.8</td>\n",
       "      <td>6</td>\n",
       "      <td>True</td>\n",
       "      <td>...</td>\n",
       "      <td>185.0</td>\n",
       "      <td>1.0</td>\n",
       "      <td>755.0</td>\n",
       "      <td>1273.0</td>\n",
       "      <td>90540.54</td>\n",
       "      <td>1</td>\n",
       "      <td>2</td>\n",
       "      <td>2015</td>\n",
       "      <td>последний</td>\n",
       "      <td>34.0</td>\n",
       "    </tr>\n",
       "    <tr>\n",
       "      <th>459</th>\n",
       "      <td>13</td>\n",
       "      <td>5200000.0</td>\n",
       "      <td>51.0</td>\n",
       "      <td>2016-03-02</td>\n",
       "      <td>2</td>\n",
       "      <td>2.55</td>\n",
       "      <td>9.0</td>\n",
       "      <td>32.0</td>\n",
       "      <td>5</td>\n",
       "      <td>True</td>\n",
       "      <td>...</td>\n",
       "      <td>NaN</td>\n",
       "      <td>0.0</td>\n",
       "      <td>NaN</td>\n",
       "      <td>1153.0</td>\n",
       "      <td>101960.78</td>\n",
       "      <td>2</td>\n",
       "      <td>3</td>\n",
       "      <td>2016</td>\n",
       "      <td>другой</td>\n",
       "      <td>16.0</td>\n",
       "    </tr>\n",
       "    <tr>\n",
       "      <th>...</th>\n",
       "      <td>...</td>\n",
       "      <td>...</td>\n",
       "      <td>...</td>\n",
       "      <td>...</td>\n",
       "      <td>...</td>\n",
       "      <td>...</td>\n",
       "      <td>...</td>\n",
       "      <td>...</td>\n",
       "      <td>...</td>\n",
       "      <td>...</td>\n",
       "      <td>...</td>\n",
       "      <td>...</td>\n",
       "      <td>...</td>\n",
       "      <td>...</td>\n",
       "      <td>...</td>\n",
       "      <td>...</td>\n",
       "      <td>...</td>\n",
       "      <td>...</td>\n",
       "      <td>...</td>\n",
       "      <td>...</td>\n",
       "      <td>...</td>\n",
       "    </tr>\n",
       "    <tr>\n",
       "      <th>23248</th>\n",
       "      <td>5</td>\n",
       "      <td>4900000.0</td>\n",
       "      <td>80.0</td>\n",
       "      <td>2014-12-25</td>\n",
       "      <td>3</td>\n",
       "      <td>NaN</td>\n",
       "      <td>15.0</td>\n",
       "      <td>47.0</td>\n",
       "      <td>14</td>\n",
       "      <td>True</td>\n",
       "      <td>...</td>\n",
       "      <td>NaN</td>\n",
       "      <td>1.0</td>\n",
       "      <td>NaN</td>\n",
       "      <td>1187.0</td>\n",
       "      <td>61250.00</td>\n",
       "      <td>3</td>\n",
       "      <td>12</td>\n",
       "      <td>2014</td>\n",
       "      <td>другой</td>\n",
       "      <td>NaN</td>\n",
       "    </tr>\n",
       "    <tr>\n",
       "      <th>23318</th>\n",
       "      <td>6</td>\n",
       "      <td>5620020.0</td>\n",
       "      <td>82.3</td>\n",
       "      <td>2015-03-10</td>\n",
       "      <td>3</td>\n",
       "      <td>2.70</td>\n",
       "      <td>21.0</td>\n",
       "      <td>45.6</td>\n",
       "      <td>12</td>\n",
       "      <td>True</td>\n",
       "      <td>...</td>\n",
       "      <td>NaN</td>\n",
       "      <td>1.0</td>\n",
       "      <td>31.0</td>\n",
       "      <td>1200.0</td>\n",
       "      <td>68287.00</td>\n",
       "      <td>1</td>\n",
       "      <td>3</td>\n",
       "      <td>2015</td>\n",
       "      <td>другой</td>\n",
       "      <td>17.0</td>\n",
       "    </tr>\n",
       "    <tr>\n",
       "      <th>23389</th>\n",
       "      <td>6</td>\n",
       "      <td>2850000.0</td>\n",
       "      <td>40.0</td>\n",
       "      <td>2015-01-26</td>\n",
       "      <td>1</td>\n",
       "      <td>2.60</td>\n",
       "      <td>10.0</td>\n",
       "      <td>19.0</td>\n",
       "      <td>8</td>\n",
       "      <td>False</td>\n",
       "      <td>...</td>\n",
       "      <td>NaN</td>\n",
       "      <td>1.0</td>\n",
       "      <td>NaN</td>\n",
       "      <td>1012.0</td>\n",
       "      <td>71250.00</td>\n",
       "      <td>0</td>\n",
       "      <td>1</td>\n",
       "      <td>2015</td>\n",
       "      <td>другой</td>\n",
       "      <td>NaN</td>\n",
       "    </tr>\n",
       "    <tr>\n",
       "      <th>23426</th>\n",
       "      <td>17</td>\n",
       "      <td>8778000.0</td>\n",
       "      <td>47.5</td>\n",
       "      <td>2014-12-29</td>\n",
       "      <td>1</td>\n",
       "      <td>3.00</td>\n",
       "      <td>7.0</td>\n",
       "      <td>NaN</td>\n",
       "      <td>4</td>\n",
       "      <td>True</td>\n",
       "      <td>...</td>\n",
       "      <td>1424.0</td>\n",
       "      <td>3.0</td>\n",
       "      <td>204.0</td>\n",
       "      <td>1360.0</td>\n",
       "      <td>184800.00</td>\n",
       "      <td>0</td>\n",
       "      <td>12</td>\n",
       "      <td>2014</td>\n",
       "      <td>другой</td>\n",
       "      <td>10.0</td>\n",
       "    </tr>\n",
       "    <tr>\n",
       "      <th>23540</th>\n",
       "      <td>10</td>\n",
       "      <td>1500000.0</td>\n",
       "      <td>43.7</td>\n",
       "      <td>2016-06-28</td>\n",
       "      <td>2</td>\n",
       "      <td>2.55</td>\n",
       "      <td>3.0</td>\n",
       "      <td>28.0</td>\n",
       "      <td>2</td>\n",
       "      <td>True</td>\n",
       "      <td>...</td>\n",
       "      <td>NaN</td>\n",
       "      <td>1.0</td>\n",
       "      <td>NaN</td>\n",
       "      <td>1007.0</td>\n",
       "      <td>34324.94</td>\n",
       "      <td>1</td>\n",
       "      <td>6</td>\n",
       "      <td>2016</td>\n",
       "      <td>другой</td>\n",
       "      <td>NaN</td>\n",
       "    </tr>\n",
       "  </tbody>\n",
       "</table>\n",
       "<p>276 rows × 28 columns</p>\n",
       "</div>"
      ],
      "text/plain": [
       "       total_images  last_price  total_area first_day_exposition  rooms  \\\n",
       "109               2   7497600.0        62.5           2015-12-08      2   \n",
       "353               4   5990000.0        43.5           2015-05-08      1   \n",
       "398               7  12789000.0        79.3           2014-12-09      2   \n",
       "437              12   3350000.0        37.0           2015-02-24      1   \n",
       "459              13   5200000.0        51.0           2016-03-02      2   \n",
       "...             ...         ...         ...                  ...    ...   \n",
       "23248             5   4900000.0        80.0           2014-12-25      3   \n",
       "23318             6   5620020.0        82.3           2015-03-10      3   \n",
       "23389             6   2850000.0        40.0           2015-01-26      1   \n",
       "23426            17   8778000.0        47.5           2014-12-29      1   \n",
       "23540            10   1500000.0        43.7           2016-06-28      2   \n",
       "\n",
       "       ceiling_height  floors_total  living_area  floor  is_apartment  ...  \\\n",
       "109               NaN           5.0         35.5      5          True  ...   \n",
       "353              3.00           5.0         25.0      4          True  ...   \n",
       "398              3.00           8.0         43.1      5         False  ...   \n",
       "437              2.55           6.0         17.8      6          True  ...   \n",
       "459              2.55           9.0         32.0      5          True  ...   \n",
       "...               ...           ...          ...    ...           ...  ...   \n",
       "23248             NaN          15.0         47.0     14          True  ...   \n",
       "23318            2.70          21.0         45.6     12          True  ...   \n",
       "23389            2.60          10.0         19.0      8         False  ...   \n",
       "23426            3.00           7.0          NaN      4          True  ...   \n",
       "23540            2.55           3.0         28.0      2          True  ...   \n",
       "\n",
       "       parks_nearest  ponds_around3000  ponds_nearest  days_exposition  \\\n",
       "109            517.0               0.0            NaN           1048.0   \n",
       "353             93.0               0.0            NaN           1292.0   \n",
       "398            537.0               0.0            NaN           1345.0   \n",
       "437            185.0               1.0          755.0           1273.0   \n",
       "459              NaN               0.0            NaN           1153.0   \n",
       "...              ...               ...            ...              ...   \n",
       "23248            NaN               1.0            NaN           1187.0   \n",
       "23318            NaN               1.0           31.0           1200.0   \n",
       "23389            NaN               1.0            NaN           1012.0   \n",
       "23426         1424.0               3.0          204.0           1360.0   \n",
       "23540            NaN               1.0            NaN           1007.0   \n",
       "\n",
       "      price_per_m2  day_of_publication  month_of_publication  \\\n",
       "109      119961.60                   1                    12   \n",
       "353      137701.15                   4                     5   \n",
       "398      161273.64                   1                    12   \n",
       "437       90540.54                   1                     2   \n",
       "459      101960.78                   2                     3   \n",
       "...            ...                 ...                   ...   \n",
       "23248     61250.00                   3                    12   \n",
       "23318     68287.00                   1                     3   \n",
       "23389     71250.00                   0                     1   \n",
       "23426    184800.00                   0                    12   \n",
       "23540     34324.94                   1                     6   \n",
       "\n",
       "       year_of_publication  floor_types  cityCenters_nearest_in_km  \n",
       "109                   2015    последний                       27.0  \n",
       "353                   2015       другой                       10.0  \n",
       "398                   2014       другой                       11.0  \n",
       "437                   2015    последний                       34.0  \n",
       "459                   2016       другой                       16.0  \n",
       "...                    ...          ...                        ...  \n",
       "23248                 2014       другой                        NaN  \n",
       "23318                 2015       другой                       17.0  \n",
       "23389                 2015       другой                        NaN  \n",
       "23426                 2014       другой                       10.0  \n",
       "23540                 2016       другой                        NaN  \n",
       "\n",
       "[276 rows x 28 columns]"
      ]
     },
     "execution_count": 53,
     "metadata": {},
     "output_type": "execute_result"
    }
   ],
   "source": [
    "data[data['days_exposition'] > 1000]"
   ]
  },
  {
   "cell_type": "markdown",
   "metadata": {},
   "source": [
    "Не выглядит, что допустили ошибку в данных. Квартиры дейсвтительно могут продаваться больше трех, а то и четырех лет"
   ]
  },
  {
   "cell_type": "markdown",
   "metadata": {},
   "source": [
    "#### Подведение итогов анализа"
   ]
  },
  {
   "cell_type": "markdown",
   "metadata": {},
   "source": [
    "Расчитаю медиану и среднее значения по этому столбцу"
   ]
  },
  {
   "cell_type": "code",
   "execution_count": 54,
   "metadata": {},
   "outputs": [
    {
     "name": "stdout",
     "output_type": "stream",
     "text": [
      "Медианное значение: 95.00\n",
      "Среднее значение: 181.00\n"
     ]
    }
   ],
   "source": [
    "median = data['days_exposition'].median()\n",
    "mean = data['days_exposition'].mean().round()\n",
    "\n",
    "# Использую print(), что бы строка вывелась без ковычек\n",
    "print(f'Медианное значение: {median:.2f}')\n",
    "print(f'Среднее значение: {mean:.2f}')"
   ]
  },
  {
   "cell_type": "markdown",
   "metadata": {},
   "source": [
    "Медианное значение - 95 дней. То есть это нормальный срок продажи квартир. Хотя в среднем квартиры продавались за 181 день\n",
    "\n",
    "Исходя из гистограммы можно сделать вывод, что квартиры, проданные за меньше, чем 50 дней относятся к быстрым продажам\n",
    "\n",
    "А квартиры, которые \"висят\" дольше 300 дней, относятся к долгим продажам. А что продается дольше 1100 дней, уже экстримально долгие продажи"
   ]
  },
  {
   "cell_type": "markdown",
   "metadata": {},
   "source": [
    "#### Посиск факторов, влияющих на стоимость и расчет корреляции"
   ]
  },
  {
   "cell_type": "markdown",
   "metadata": {},
   "source": [
    "Для определения факторов, которые больше всего влияют на общую (полную) стоимость объекта следует воспользоваться методом pivot_table()"
   ]
  },
  {
   "cell_type": "code",
   "execution_count": 55,
   "metadata": {},
   "outputs": [
    {
     "name": "stdout",
     "output_type": "stream",
     "text": [
      "<class 'pandas.core.frame.DataFrame'>\n",
      "RangeIndex: 23699 entries, 0 to 23698\n",
      "Data columns (total 28 columns):\n",
      " #   Column                     Non-Null Count  Dtype         \n",
      "---  ------                     --------------  -----         \n",
      " 0   total_images               23699 non-null  int64         \n",
      " 1   last_price                 23699 non-null  float64       \n",
      " 2   total_area                 23699 non-null  float64       \n",
      " 3   first_day_exposition       23699 non-null  datetime64[ns]\n",
      " 4   rooms                      23699 non-null  int64         \n",
      " 5   ceiling_height             14504 non-null  float64       \n",
      " 6   floors_total               23613 non-null  float64       \n",
      " 7   living_area                21796 non-null  float64       \n",
      " 8   floor                      23699 non-null  int64         \n",
      " 9   is_apartment               23699 non-null  bool          \n",
      " 10  studio                     23699 non-null  bool          \n",
      " 11  open_plan                  23699 non-null  bool          \n",
      " 12  kitchen_area               21421 non-null  float64       \n",
      " 13  balcony                    23699 non-null  float64       \n",
      " 14  locality_name              23650 non-null  string        \n",
      " 15  airports_nearest           18157 non-null  float64       \n",
      " 16  cityCenters_nearest        18180 non-null  float64       \n",
      " 17  parks_around3000           23699 non-null  float64       \n",
      " 18  parks_nearest              8079 non-null   float64       \n",
      " 19  ponds_around3000           23699 non-null  float64       \n",
      " 20  ponds_nearest              9110 non-null   float64       \n",
      " 21  days_exposition            20518 non-null  float64       \n",
      " 22  price_per_m2               23699 non-null  float64       \n",
      " 23  day_of_publication         23699 non-null  int64         \n",
      " 24  month_of_publication       23699 non-null  int64         \n",
      " 25  year_of_publication        23699 non-null  int64         \n",
      " 26  floor_types                23699 non-null  string        \n",
      " 27  cityCenters_nearest_in_km  18180 non-null  float64       \n",
      "dtypes: bool(3), datetime64[ns](1), float64(16), int64(6), string(2)\n",
      "memory usage: 4.6 MB\n"
     ]
    }
   ],
   "source": [
    "# Вызову info() что бы определить нужные колонки\n",
    "data.info()"
   ]
  },
  {
   "cell_type": "markdown",
   "metadata": {},
   "source": [
    "В задании указаны следующие столбцы: 'total_area', 'living_area', 'kitchen_area', 'rooms', 'floor_types', 'day_of_publication', 'month_of_publication', 'year_of_publication' и 'last_price'\n",
    "\n",
    "Думаю, провести аналитику по всем столбцам сразу невозможно, следует их разделить"
   ]
  },
  {
   "cell_type": "markdown",
   "metadata": {},
   "source": [
    "Начну с количества комнат. Высчитывать буду медианное значение"
   ]
  },
  {
   "cell_type": "code",
   "execution_count": 56,
   "metadata": {},
   "outputs": [
    {
     "data": {
      "text/html": [
       "<div>\n",
       "<style scoped>\n",
       "    .dataframe tbody tr th:only-of-type {\n",
       "        vertical-align: middle;\n",
       "    }\n",
       "\n",
       "    .dataframe tbody tr th {\n",
       "        vertical-align: top;\n",
       "    }\n",
       "\n",
       "    .dataframe thead th {\n",
       "        text-align: right;\n",
       "    }\n",
       "</style>\n",
       "<table border=\"1\" class=\"dataframe\">\n",
       "  <thead>\n",
       "    <tr style=\"text-align: right;\">\n",
       "      <th></th>\n",
       "      <th>last_price</th>\n",
       "    </tr>\n",
       "    <tr>\n",
       "      <th>rooms</th>\n",
       "      <th></th>\n",
       "    </tr>\n",
       "  </thead>\n",
       "  <tbody>\n",
       "    <tr>\n",
       "      <th>0</th>\n",
       "      <td>2700000.0</td>\n",
       "    </tr>\n",
       "    <tr>\n",
       "      <th>1</th>\n",
       "      <td>3600000.0</td>\n",
       "    </tr>\n",
       "    <tr>\n",
       "      <th>2</th>\n",
       "      <td>4770169.0</td>\n",
       "    </tr>\n",
       "    <tr>\n",
       "      <th>3</th>\n",
       "      <td>6200000.0</td>\n",
       "    </tr>\n",
       "    <tr>\n",
       "      <th>4</th>\n",
       "      <td>9000000.0</td>\n",
       "    </tr>\n",
       "    <tr>\n",
       "      <th>5</th>\n",
       "      <td>14000000.0</td>\n",
       "    </tr>\n",
       "    <tr>\n",
       "      <th>6</th>\n",
       "      <td>19000000.0</td>\n",
       "    </tr>\n",
       "    <tr>\n",
       "      <th>7</th>\n",
       "      <td>24900000.0</td>\n",
       "    </tr>\n",
       "    <tr>\n",
       "      <th>8</th>\n",
       "      <td>23095000.0</td>\n",
       "    </tr>\n",
       "    <tr>\n",
       "      <th>9</th>\n",
       "      <td>23750000.0</td>\n",
       "    </tr>\n",
       "    <tr>\n",
       "      <th>10</th>\n",
       "      <td>23000000.0</td>\n",
       "    </tr>\n",
       "    <tr>\n",
       "      <th>11</th>\n",
       "      <td>25250000.0</td>\n",
       "    </tr>\n",
       "    <tr>\n",
       "      <th>12</th>\n",
       "      <td>420000000.0</td>\n",
       "    </tr>\n",
       "    <tr>\n",
       "      <th>14</th>\n",
       "      <td>26829500.0</td>\n",
       "    </tr>\n",
       "    <tr>\n",
       "      <th>15</th>\n",
       "      <td>65000000.0</td>\n",
       "    </tr>\n",
       "    <tr>\n",
       "      <th>16</th>\n",
       "      <td>28500000.0</td>\n",
       "    </tr>\n",
       "    <tr>\n",
       "      <th>19</th>\n",
       "      <td>32250000.0</td>\n",
       "    </tr>\n",
       "  </tbody>\n",
       "</table>\n",
       "</div>"
      ],
      "text/plain": [
       "        last_price\n",
       "rooms             \n",
       "0        2700000.0\n",
       "1        3600000.0\n",
       "2        4770169.0\n",
       "3        6200000.0\n",
       "4        9000000.0\n",
       "5       14000000.0\n",
       "6       19000000.0\n",
       "7       24900000.0\n",
       "8       23095000.0\n",
       "9       23750000.0\n",
       "10      23000000.0\n",
       "11      25250000.0\n",
       "12     420000000.0\n",
       "14      26829500.0\n",
       "15      65000000.0\n",
       "16      28500000.0\n",
       "19      32250000.0"
      ]
     },
     "execution_count": 56,
     "metadata": {},
     "output_type": "execute_result"
    }
   ],
   "source": [
    "rooms_pivot = pd.pivot_table(data, values='last_price', index='rooms', aggfunc='median')\n",
    "\n",
    "rooms_pivot"
   ]
  },
  {
   "cell_type": "markdown",
   "metadata": {},
   "source": [
    "Логично, что с увеличением количества комнат растет цена. Эти данные понадобятся позже.\n",
    "В квартирах, где 12 и 15 комнат явно есть выбитое значния. Но, думаю, я не могу их изменить. Это ключевой фактор в объявлении, его должны были заполнить корректно"
   ]
  },
  {
   "cell_type": "code",
   "execution_count": 57,
   "metadata": {},
   "outputs": [
    {
     "data": {
      "text/html": [
       "<div>\n",
       "<style scoped>\n",
       "    .dataframe tbody tr th:only-of-type {\n",
       "        vertical-align: middle;\n",
       "    }\n",
       "\n",
       "    .dataframe tbody tr th {\n",
       "        vertical-align: top;\n",
       "    }\n",
       "\n",
       "    .dataframe thead th {\n",
       "        text-align: right;\n",
       "    }\n",
       "</style>\n",
       "<table border=\"1\" class=\"dataframe\">\n",
       "  <thead>\n",
       "    <tr style=\"text-align: right;\">\n",
       "      <th>floor_types</th>\n",
       "      <th>другой</th>\n",
       "      <th>первый</th>\n",
       "      <th>последний</th>\n",
       "    </tr>\n",
       "    <tr>\n",
       "      <th>rooms</th>\n",
       "      <th></th>\n",
       "      <th></th>\n",
       "      <th></th>\n",
       "    </tr>\n",
       "  </thead>\n",
       "  <tbody>\n",
       "    <tr>\n",
       "      <th>0</th>\n",
       "      <td>2775000</td>\n",
       "      <td>2183000</td>\n",
       "      <td>3100000</td>\n",
       "    </tr>\n",
       "    <tr>\n",
       "      <th>1</th>\n",
       "      <td>3700000</td>\n",
       "      <td>3070000</td>\n",
       "      <td>3200000</td>\n",
       "    </tr>\n",
       "    <tr>\n",
       "      <th>2</th>\n",
       "      <td>5140000</td>\n",
       "      <td>3850000</td>\n",
       "      <td>4100000</td>\n",
       "    </tr>\n",
       "    <tr>\n",
       "      <th>3</th>\n",
       "      <td>6500000</td>\n",
       "      <td>5000000</td>\n",
       "      <td>5700000</td>\n",
       "    </tr>\n",
       "    <tr>\n",
       "      <th>4</th>\n",
       "      <td>9800000</td>\n",
       "      <td>6500000</td>\n",
       "      <td>9600000</td>\n",
       "    </tr>\n",
       "    <tr>\n",
       "      <th>5</th>\n",
       "      <td>14000000</td>\n",
       "      <td>9925000</td>\n",
       "      <td>17000000</td>\n",
       "    </tr>\n",
       "    <tr>\n",
       "      <th>6</th>\n",
       "      <td>18888500</td>\n",
       "      <td>13351000</td>\n",
       "      <td>21250000</td>\n",
       "    </tr>\n",
       "    <tr>\n",
       "      <th>7</th>\n",
       "      <td>24900000</td>\n",
       "      <td>29500000</td>\n",
       "      <td>23000000</td>\n",
       "    </tr>\n",
       "    <tr>\n",
       "      <th>8</th>\n",
       "      <td>19900000</td>\n",
       "      <td>22190000</td>\n",
       "      <td>46000000</td>\n",
       "    </tr>\n",
       "    <tr>\n",
       "      <th>9</th>\n",
       "      <td>23750000</td>\n",
       "      <td>68984450</td>\n",
       "      <td>20875000</td>\n",
       "    </tr>\n",
       "    <tr>\n",
       "      <th>10</th>\n",
       "      <td>15500000</td>\n",
       "      <td>0</td>\n",
       "      <td>31500000</td>\n",
       "    </tr>\n",
       "    <tr>\n",
       "      <th>11</th>\n",
       "      <td>33000000</td>\n",
       "      <td>0</td>\n",
       "      <td>17500000</td>\n",
       "    </tr>\n",
       "    <tr>\n",
       "      <th>12</th>\n",
       "      <td>0</td>\n",
       "      <td>0</td>\n",
       "      <td>420000000</td>\n",
       "    </tr>\n",
       "    <tr>\n",
       "      <th>14</th>\n",
       "      <td>26829500</td>\n",
       "      <td>0</td>\n",
       "      <td>0</td>\n",
       "    </tr>\n",
       "    <tr>\n",
       "      <th>15</th>\n",
       "      <td>65000000</td>\n",
       "      <td>0</td>\n",
       "      <td>0</td>\n",
       "    </tr>\n",
       "    <tr>\n",
       "      <th>16</th>\n",
       "      <td>0</td>\n",
       "      <td>0</td>\n",
       "      <td>28500000</td>\n",
       "    </tr>\n",
       "    <tr>\n",
       "      <th>19</th>\n",
       "      <td>32250000</td>\n",
       "      <td>0</td>\n",
       "      <td>0</td>\n",
       "    </tr>\n",
       "  </tbody>\n",
       "</table>\n",
       "</div>"
      ],
      "text/plain": [
       "floor_types    другой    первый  последний\n",
       "rooms                                     \n",
       "0             2775000   2183000    3100000\n",
       "1             3700000   3070000    3200000\n",
       "2             5140000   3850000    4100000\n",
       "3             6500000   5000000    5700000\n",
       "4             9800000   6500000    9600000\n",
       "5            14000000   9925000   17000000\n",
       "6            18888500  13351000   21250000\n",
       "7            24900000  29500000   23000000\n",
       "8            19900000  22190000   46000000\n",
       "9            23750000  68984450   20875000\n",
       "10           15500000         0   31500000\n",
       "11           33000000         0   17500000\n",
       "12                  0         0  420000000\n",
       "14           26829500         0          0\n",
       "15           65000000         0          0\n",
       "16                  0         0   28500000\n",
       "19           32250000         0          0"
      ]
     },
     "execution_count": 57,
     "metadata": {},
     "output_type": "execute_result"
    }
   ],
   "source": [
    "# Посмотрю как на эти данные влияет этаж квартиры\n",
    "rooms_floor_pivot = pd.pivot_table(data, values='last_price', index='rooms', columns='floor_types', aggfunc='median',\n",
    "    fill_value=0\n",
    ")\n",
    "\n",
    "rooms_floor_pivot"
   ]
  },
  {
   "cell_type": "markdown",
   "metadata": {},
   "source": [
    "0 в данных, это отсутствие объявлений\n",
    "\n",
    "Поэтапно рассмотрю количетсво комнат. Начну от 1 до 4. Квартиры показывают логичный результат. Первый и последний этаж дешевле остальных. Так как первый влечет риск ограбления, а на последнем могут быть проблемы с крышей\n",
    "\n",
    "Но дальше встречаются аномальные значения. Например, 6 комнат, самая высокая цена на превом этаже, подобное встречается и в других строках. Скорее всего, на это влияют другие факторы..."
   ]
  },
  {
   "cell_type": "markdown",
   "metadata": {},
   "source": [
    "В предыдущей строке, кода я попробовал добавить площадь к расчету, но этот параметр добавил хаоса. Решил вывести в отдельный код"
   ]
  },
  {
   "cell_type": "code",
   "execution_count": 58,
   "metadata": {},
   "outputs": [
    {
     "data": {
      "text/html": [
       "<div>\n",
       "<style scoped>\n",
       "    .dataframe tbody tr th:only-of-type {\n",
       "        vertical-align: middle;\n",
       "    }\n",
       "\n",
       "    .dataframe tbody tr th {\n",
       "        vertical-align: top;\n",
       "    }\n",
       "\n",
       "    .dataframe thead th {\n",
       "        text-align: right;\n",
       "    }\n",
       "</style>\n",
       "<table border=\"1\" class=\"dataframe\">\n",
       "  <thead>\n",
       "    <tr style=\"text-align: right;\">\n",
       "      <th></th>\n",
       "      <th>last_price</th>\n",
       "    </tr>\n",
       "    <tr>\n",
       "      <th>total_area</th>\n",
       "      <th></th>\n",
       "    </tr>\n",
       "  </thead>\n",
       "  <tbody>\n",
       "    <tr>\n",
       "      <th>12.0</th>\n",
       "      <td>2400000.0</td>\n",
       "    </tr>\n",
       "    <tr>\n",
       "      <th>13.0</th>\n",
       "      <td>1850000.0</td>\n",
       "    </tr>\n",
       "    <tr>\n",
       "      <th>13.2</th>\n",
       "      <td>1686000.0</td>\n",
       "    </tr>\n",
       "    <tr>\n",
       "      <th>14.0</th>\n",
       "      <td>1190000.0</td>\n",
       "    </tr>\n",
       "    <tr>\n",
       "      <th>15.0</th>\n",
       "      <td>1725000.0</td>\n",
       "    </tr>\n",
       "    <tr>\n",
       "      <th>...</th>\n",
       "      <td>...</td>\n",
       "    </tr>\n",
       "    <tr>\n",
       "      <th>590.0</th>\n",
       "      <td>65000000.0</td>\n",
       "    </tr>\n",
       "    <tr>\n",
       "      <th>618.0</th>\n",
       "      <td>300000000.0</td>\n",
       "    </tr>\n",
       "    <tr>\n",
       "      <th>631.0</th>\n",
       "      <td>140000000.0</td>\n",
       "    </tr>\n",
       "    <tr>\n",
       "      <th>631.2</th>\n",
       "      <td>140000000.0</td>\n",
       "    </tr>\n",
       "    <tr>\n",
       "      <th>900.0</th>\n",
       "      <td>420000000.0</td>\n",
       "    </tr>\n",
       "  </tbody>\n",
       "</table>\n",
       "<p>2182 rows × 1 columns</p>\n",
       "</div>"
      ],
      "text/plain": [
       "             last_price\n",
       "total_area             \n",
       "12.0          2400000.0\n",
       "13.0          1850000.0\n",
       "13.2          1686000.0\n",
       "14.0          1190000.0\n",
       "15.0          1725000.0\n",
       "...                 ...\n",
       "590.0        65000000.0\n",
       "618.0       300000000.0\n",
       "631.0       140000000.0\n",
       "631.2       140000000.0\n",
       "900.0       420000000.0\n",
       "\n",
       "[2182 rows x 1 columns]"
      ]
     },
     "execution_count": 58,
     "metadata": {},
     "output_type": "execute_result"
    }
   ],
   "source": [
    "# Как площадб влияет на стоимость\n",
    "area_pivot = pd.pivot_table(data, values='last_price', index='total_area', aggfunc='median')\n",
    "\n",
    "area_pivot"
   ]
  },
  {
   "cell_type": "markdown",
   "metadata": {},
   "source": [
    "Видно, что чем больше площадь, тем больше стоимость(что логично)\n",
    "\n",
    "Но есть аномальное значение у площади 12 или 14 м2. Видимо, на эти значения влияют другие факторы"
   ]
  },
  {
   "cell_type": "code",
   "execution_count": 59,
   "metadata": {},
   "outputs": [
    {
     "data": {
      "text/html": [
       "<div>\n",
       "<style scoped>\n",
       "    .dataframe tbody tr th:only-of-type {\n",
       "        vertical-align: middle;\n",
       "    }\n",
       "\n",
       "    .dataframe tbody tr th {\n",
       "        vertical-align: top;\n",
       "    }\n",
       "\n",
       "    .dataframe thead th {\n",
       "        text-align: right;\n",
       "    }\n",
       "</style>\n",
       "<table border=\"1\" class=\"dataframe\">\n",
       "  <thead>\n",
       "    <tr style=\"text-align: right;\">\n",
       "      <th></th>\n",
       "      <th>last_price</th>\n",
       "    </tr>\n",
       "    <tr>\n",
       "      <th>year_of_publication</th>\n",
       "      <th></th>\n",
       "    </tr>\n",
       "  </thead>\n",
       "  <tbody>\n",
       "    <tr>\n",
       "      <th>2014</th>\n",
       "      <td>7700000.0</td>\n",
       "    </tr>\n",
       "    <tr>\n",
       "      <th>2015</th>\n",
       "      <td>5350000.0</td>\n",
       "    </tr>\n",
       "    <tr>\n",
       "      <th>2016</th>\n",
       "      <td>4550000.0</td>\n",
       "    </tr>\n",
       "    <tr>\n",
       "      <th>2017</th>\n",
       "      <td>4500000.0</td>\n",
       "    </tr>\n",
       "    <tr>\n",
       "      <th>2018</th>\n",
       "      <td>4550000.0</td>\n",
       "    </tr>\n",
       "    <tr>\n",
       "      <th>2019</th>\n",
       "      <td>5050000.0</td>\n",
       "    </tr>\n",
       "  </tbody>\n",
       "</table>\n",
       "</div>"
      ],
      "text/plain": [
       "                     last_price\n",
       "year_of_publication            \n",
       "2014                  7700000.0\n",
       "2015                  5350000.0\n",
       "2016                  4550000.0\n",
       "2017                  4500000.0\n",
       "2018                  4550000.0\n",
       "2019                  5050000.0"
      ]
     },
     "execution_count": 59,
     "metadata": {},
     "output_type": "execute_result"
    }
   ],
   "source": [
    "# Стоит посмотреть как год публикации влияет на цену\n",
    "year_pivot = pd.pivot_table(data, values='last_price', index='year_of_publication', aggfunc='median')\n",
    "\n",
    "year_pivot"
   ]
  },
  {
   "cell_type": "markdown",
   "metadata": {},
   "source": [
    "В задании предложено посмотреть влияет ли день недели и месяц на цену. Но, мне кажется, что каких-то существенных изменений эти параметры не внесут. Поэтому, решил оставить только год\n",
    "\n",
    "График показывает, что до 2018 года было падение цены и в 2019 снова рост"
   ]
  },
  {
   "cell_type": "markdown",
   "metadata": {},
   "source": [
    "Для подведения итогов следует провести корреляцию\n",
    "\n",
    "И здесь имеет смысл добавить колонки 'living_area' и 'kitchen_area'\n",
    "\n",
    "Корреляцию провожу по столбцу 'last_price'"
   ]
  },
  {
   "cell_type": "code",
   "execution_count": 60,
   "metadata": {},
   "outputs": [
    {
     "data": {
      "text/plain": [
       "last_price             1.000000\n",
       "total_area             0.653675\n",
       "living_area            0.566492\n",
       "kitchen_area           0.519869\n",
       "rooms                  0.363343\n",
       "year_of_publication   -0.043089\n",
       "Name: last_price, dtype: float64"
      ]
     },
     "execution_count": 60,
     "metadata": {},
     "output_type": "execute_result"
    }
   ],
   "source": [
    "numeric_columns = ['last_price', 'rooms', 'floor_types', 'total_area', 'living_area', 'kitchen_area', 'year_of_publication']\n",
    "correlation = data[numeric_columns].corr()['last_price'].sort_values(ascending=False)\n",
    "\n",
    "correlation"
   ]
  },
  {
   "cell_type": "markdown",
   "metadata": {},
   "source": [
    "#### Вывод по факторам и корреляции"
   ]
  },
  {
   "cell_type": "markdown",
   "metadata": {},
   "source": [
    "По итогу, на инзменение цен больше всего вляет общая площадь квартиры. Из заданных параметров, меньше всего влияет год публикации объявления.\n",
    "\n",
    "Если не брать в расчет год, то меньше всего влияет колличество комнат. Видимо, другие параметры, например, наличие парка или расстояние до центра влияют сильнее. Но в этом исследовании я их не использовал.\n",
    "\n",
    "Отрицательная корреляция - это не ошибка. Она показывает, что на рынке недвижимости присутствует тренд спада цен(за указанный период)."
   ]
  },
  {
   "cell_type": "markdown",
   "metadata": {},
   "source": [
    "#### Следующая задача: Посчитайте среднюю цену одного квадратного метра в 10 населённых пунктах с наибольшим числом объявлений"
   ]
  },
  {
   "cell_type": "markdown",
   "metadata": {},
   "source": [
    "Для начала отберу необходимые столбцы: 'price_per_m2' и 'locality_name'"
   ]
  },
  {
   "cell_type": "code",
   "execution_count": 61,
   "metadata": {},
   "outputs": [],
   "source": [
    "# Сторою сводную таблицу\n",
    "price_pivot = pd.pivot_table(data, values='price_per_m2', index='locality_name', aggfunc=['mean', 'count'])\n",
    "\n",
    "# 'mean', 'count' отвечают за подсчет среднего значения и покажет количество объявлений, соответсвенно"
   ]
  },
  {
   "cell_type": "markdown",
   "metadata": {},
   "source": [
    "В отдельную переменную сохраняю топ-10 населенных пунктов по количеству объявлений"
   ]
  },
  {
   "cell_type": "code",
   "execution_count": 62,
   "metadata": {},
   "outputs": [],
   "source": [
    "top_10 = price_pivot.sort_values(('count', 'price_per_m2'), ascending=False).head(10)"
   ]
  },
  {
   "cell_type": "markdown",
   "metadata": {},
   "source": [
    "И выделю только нужные столбцы для вывода. Перезапишу названия столбцов для удобства просмотра рузельтата"
   ]
  },
  {
   "cell_type": "code",
   "execution_count": 63,
   "metadata": {},
   "outputs": [
    {
     "data": {
      "text/html": [
       "<div>\n",
       "<style scoped>\n",
       "    .dataframe tbody tr th:only-of-type {\n",
       "        vertical-align: middle;\n",
       "    }\n",
       "\n",
       "    .dataframe tbody tr th {\n",
       "        vertical-align: top;\n",
       "    }\n",
       "\n",
       "    .dataframe thead th {\n",
       "        text-align: right;\n",
       "    }\n",
       "</style>\n",
       "<table border=\"1\" class=\"dataframe\">\n",
       "  <thead>\n",
       "    <tr style=\"text-align: right;\">\n",
       "      <th></th>\n",
       "      <th>Средняя цена за м²</th>\n",
       "      <th>Количество объявлений</th>\n",
       "    </tr>\n",
       "    <tr>\n",
       "      <th>locality_name</th>\n",
       "      <th></th>\n",
       "      <th></th>\n",
       "    </tr>\n",
       "  </thead>\n",
       "  <tbody>\n",
       "    <tr>\n",
       "      <th>санкт-петербург</th>\n",
       "      <td>114849.008793</td>\n",
       "      <td>15721</td>\n",
       "    </tr>\n",
       "    <tr>\n",
       "      <th>поселок мурино</th>\n",
       "      <td>85681.762572</td>\n",
       "      <td>556</td>\n",
       "    </tr>\n",
       "    <tr>\n",
       "      <th>поселок шушары</th>\n",
       "      <td>78677.364318</td>\n",
       "      <td>440</td>\n",
       "    </tr>\n",
       "    <tr>\n",
       "      <th>всеволожск</th>\n",
       "      <td>68654.473970</td>\n",
       "      <td>398</td>\n",
       "    </tr>\n",
       "    <tr>\n",
       "      <th>пушкин</th>\n",
       "      <td>103125.819377</td>\n",
       "      <td>369</td>\n",
       "    </tr>\n",
       "    <tr>\n",
       "      <th>колпино</th>\n",
       "      <td>75424.579112</td>\n",
       "      <td>338</td>\n",
       "    </tr>\n",
       "    <tr>\n",
       "      <th>поселок парголово</th>\n",
       "      <td>90175.913089</td>\n",
       "      <td>327</td>\n",
       "    </tr>\n",
       "    <tr>\n",
       "      <th>гатчина</th>\n",
       "      <td>68746.146515</td>\n",
       "      <td>307</td>\n",
       "    </tr>\n",
       "    <tr>\n",
       "      <th>деревня кудрово</th>\n",
       "      <td>92473.547559</td>\n",
       "      <td>299</td>\n",
       "    </tr>\n",
       "    <tr>\n",
       "      <th>выборг</th>\n",
       "      <td>58141.909325</td>\n",
       "      <td>237</td>\n",
       "    </tr>\n",
       "  </tbody>\n",
       "</table>\n",
       "</div>"
      ],
      "text/plain": [
       "                   Средняя цена за м²  Количество объявлений\n",
       "locality_name                                               \n",
       "санкт-петербург         114849.008793                  15721\n",
       "поселок мурино           85681.762572                    556\n",
       "поселок шушары           78677.364318                    440\n",
       "всеволожск               68654.473970                    398\n",
       "пушкин                  103125.819377                    369\n",
       "колпино                  75424.579112                    338\n",
       "поселок парголово        90175.913089                    327\n",
       "гатчина                  68746.146515                    307\n",
       "деревня кудрово          92473.547559                    299\n",
       "выборг                   58141.909325                    237"
      ]
     },
     "execution_count": 63,
     "metadata": {},
     "output_type": "execute_result"
    }
   ],
   "source": [
    "top_10.columns = ['Средняя цена за м²', 'Количество объявлений']\n",
    "top_10"
   ]
  },
  {
   "cell_type": "markdown",
   "metadata": {},
   "source": [
    "Видно, что в Санкт-Петербурге наибольшее количество объявлений и наибольшая средняя стоимость(Столбец выводится по уменьшению количетсва объявлений)"
   ]
  },
  {
   "cell_type": "markdown",
   "metadata": {},
   "source": [
    "Считаю максимальные и минимальные средния знаяние цен"
   ]
  },
  {
   "cell_type": "code",
   "execution_count": 64,
   "metadata": {},
   "outputs": [],
   "source": [
    "max_price = top_10['Средняя цена за м²'].max()\n",
    "min_price = top_10['Средняя цена за м²'].min()"
   ]
  },
  {
   "cell_type": "code",
   "execution_count": 65,
   "metadata": {},
   "outputs": [
    {
     "name": "stdout",
     "output_type": "stream",
     "text": [
      "Максимальная средняя цена за м2 в Санкт-Петербурге: 114849.01\n",
      "Минимальная средняя цена за м2 в Выборге: 58141.91\n"
     ]
    }
   ],
   "source": [
    "# Здесь снова воспользуюсь print() для более удобного вывода\n",
    "print(f\"Максимальная средняя цена за м2 в Санкт-Петербурге: {max_price:.2f}\")\n",
    "print(f\"Минимальная средняя цена за м2 в Выборге: {min_price:.2f}\")"
   ]
  },
  {
   "cell_type": "markdown",
   "metadata": {},
   "source": [
    "В Санкт-Петербурге нибольшая стоимость за м2, а в городе Выборг наименьшая. (Я использовал данные только top_10 по количеству объявлений)"
   ]
  },
  {
   "cell_type": "markdown",
   "metadata": {},
   "source": [
    "#### Следующая задачу: Узнать как расстояние до центра влияет на стоимость квартиры"
   ]
  },
  {
   "cell_type": "markdown",
   "metadata": {},
   "source": [
    "Фильтрую данные по Санкт-Петербургу и вывожу таблицу для просмотра."
   ]
  },
  {
   "cell_type": "code",
   "execution_count": 66,
   "metadata": {},
   "outputs": [
    {
     "data": {
      "text/html": [
       "<div>\n",
       "<style scoped>\n",
       "    .dataframe tbody tr th:only-of-type {\n",
       "        vertical-align: middle;\n",
       "    }\n",
       "\n",
       "    .dataframe tbody tr th {\n",
       "        vertical-align: top;\n",
       "    }\n",
       "\n",
       "    .dataframe thead th {\n",
       "        text-align: right;\n",
       "    }\n",
       "</style>\n",
       "<table border=\"1\" class=\"dataframe\">\n",
       "  <thead>\n",
       "    <tr style=\"text-align: right;\">\n",
       "      <th></th>\n",
       "      <th>total_images</th>\n",
       "      <th>last_price</th>\n",
       "      <th>total_area</th>\n",
       "      <th>first_day_exposition</th>\n",
       "      <th>rooms</th>\n",
       "      <th>ceiling_height</th>\n",
       "      <th>floors_total</th>\n",
       "      <th>living_area</th>\n",
       "      <th>floor</th>\n",
       "      <th>is_apartment</th>\n",
       "      <th>...</th>\n",
       "      <th>parks_nearest</th>\n",
       "      <th>ponds_around3000</th>\n",
       "      <th>ponds_nearest</th>\n",
       "      <th>days_exposition</th>\n",
       "      <th>price_per_m2</th>\n",
       "      <th>day_of_publication</th>\n",
       "      <th>month_of_publication</th>\n",
       "      <th>year_of_publication</th>\n",
       "      <th>floor_types</th>\n",
       "      <th>cityCenters_nearest_in_km</th>\n",
       "    </tr>\n",
       "  </thead>\n",
       "  <tbody>\n",
       "    <tr>\n",
       "      <th>0</th>\n",
       "      <td>20</td>\n",
       "      <td>13000000.0</td>\n",
       "      <td>108.00</td>\n",
       "      <td>2019-03-07</td>\n",
       "      <td>3</td>\n",
       "      <td>2.70</td>\n",
       "      <td>16.0</td>\n",
       "      <td>51.0</td>\n",
       "      <td>8</td>\n",
       "      <td>True</td>\n",
       "      <td>...</td>\n",
       "      <td>482.0</td>\n",
       "      <td>2.0</td>\n",
       "      <td>755.0</td>\n",
       "      <td>NaN</td>\n",
       "      <td>120370.37</td>\n",
       "      <td>3</td>\n",
       "      <td>3</td>\n",
       "      <td>2019</td>\n",
       "      <td>другой</td>\n",
       "      <td>16.0</td>\n",
       "    </tr>\n",
       "    <tr>\n",
       "      <th>2</th>\n",
       "      <td>10</td>\n",
       "      <td>5196000.0</td>\n",
       "      <td>56.00</td>\n",
       "      <td>2015-08-20</td>\n",
       "      <td>2</td>\n",
       "      <td>NaN</td>\n",
       "      <td>5.0</td>\n",
       "      <td>34.3</td>\n",
       "      <td>4</td>\n",
       "      <td>True</td>\n",
       "      <td>...</td>\n",
       "      <td>90.0</td>\n",
       "      <td>2.0</td>\n",
       "      <td>574.0</td>\n",
       "      <td>558.0</td>\n",
       "      <td>92785.71</td>\n",
       "      <td>3</td>\n",
       "      <td>8</td>\n",
       "      <td>2015</td>\n",
       "      <td>другой</td>\n",
       "      <td>14.0</td>\n",
       "    </tr>\n",
       "    <tr>\n",
       "      <th>3</th>\n",
       "      <td>0</td>\n",
       "      <td>64900000.0</td>\n",
       "      <td>159.00</td>\n",
       "      <td>2015-07-24</td>\n",
       "      <td>3</td>\n",
       "      <td>NaN</td>\n",
       "      <td>14.0</td>\n",
       "      <td>NaN</td>\n",
       "      <td>9</td>\n",
       "      <td>True</td>\n",
       "      <td>...</td>\n",
       "      <td>84.0</td>\n",
       "      <td>3.0</td>\n",
       "      <td>234.0</td>\n",
       "      <td>424.0</td>\n",
       "      <td>408176.10</td>\n",
       "      <td>4</td>\n",
       "      <td>7</td>\n",
       "      <td>2015</td>\n",
       "      <td>другой</td>\n",
       "      <td>7.0</td>\n",
       "    </tr>\n",
       "    <tr>\n",
       "      <th>4</th>\n",
       "      <td>2</td>\n",
       "      <td>10000000.0</td>\n",
       "      <td>100.00</td>\n",
       "      <td>2018-06-19</td>\n",
       "      <td>2</td>\n",
       "      <td>3.03</td>\n",
       "      <td>14.0</td>\n",
       "      <td>32.0</td>\n",
       "      <td>13</td>\n",
       "      <td>True</td>\n",
       "      <td>...</td>\n",
       "      <td>112.0</td>\n",
       "      <td>1.0</td>\n",
       "      <td>48.0</td>\n",
       "      <td>121.0</td>\n",
       "      <td>100000.00</td>\n",
       "      <td>1</td>\n",
       "      <td>6</td>\n",
       "      <td>2018</td>\n",
       "      <td>другой</td>\n",
       "      <td>8.0</td>\n",
       "    </tr>\n",
       "    <tr>\n",
       "      <th>7</th>\n",
       "      <td>5</td>\n",
       "      <td>7915000.0</td>\n",
       "      <td>71.60</td>\n",
       "      <td>2019-04-18</td>\n",
       "      <td>2</td>\n",
       "      <td>NaN</td>\n",
       "      <td>24.0</td>\n",
       "      <td>NaN</td>\n",
       "      <td>22</td>\n",
       "      <td>True</td>\n",
       "      <td>...</td>\n",
       "      <td>NaN</td>\n",
       "      <td>0.0</td>\n",
       "      <td>NaN</td>\n",
       "      <td>NaN</td>\n",
       "      <td>110544.69</td>\n",
       "      <td>3</td>\n",
       "      <td>4</td>\n",
       "      <td>2019</td>\n",
       "      <td>другой</td>\n",
       "      <td>12.0</td>\n",
       "    </tr>\n",
       "    <tr>\n",
       "      <th>...</th>\n",
       "      <td>...</td>\n",
       "      <td>...</td>\n",
       "      <td>...</td>\n",
       "      <td>...</td>\n",
       "      <td>...</td>\n",
       "      <td>...</td>\n",
       "      <td>...</td>\n",
       "      <td>...</td>\n",
       "      <td>...</td>\n",
       "      <td>...</td>\n",
       "      <td>...</td>\n",
       "      <td>...</td>\n",
       "      <td>...</td>\n",
       "      <td>...</td>\n",
       "      <td>...</td>\n",
       "      <td>...</td>\n",
       "      <td>...</td>\n",
       "      <td>...</td>\n",
       "      <td>...</td>\n",
       "      <td>...</td>\n",
       "      <td>...</td>\n",
       "    </tr>\n",
       "    <tr>\n",
       "      <th>23689</th>\n",
       "      <td>13</td>\n",
       "      <td>3550000.0</td>\n",
       "      <td>35.30</td>\n",
       "      <td>2018-02-28</td>\n",
       "      <td>1</td>\n",
       "      <td>2.86</td>\n",
       "      <td>15.0</td>\n",
       "      <td>16.3</td>\n",
       "      <td>4</td>\n",
       "      <td>True</td>\n",
       "      <td>...</td>\n",
       "      <td>353.0</td>\n",
       "      <td>2.0</td>\n",
       "      <td>652.0</td>\n",
       "      <td>29.0</td>\n",
       "      <td>100566.57</td>\n",
       "      <td>2</td>\n",
       "      <td>2</td>\n",
       "      <td>2018</td>\n",
       "      <td>другой</td>\n",
       "      <td>16.0</td>\n",
       "    </tr>\n",
       "    <tr>\n",
       "      <th>23690</th>\n",
       "      <td>3</td>\n",
       "      <td>5500000.0</td>\n",
       "      <td>52.00</td>\n",
       "      <td>2018-07-19</td>\n",
       "      <td>2</td>\n",
       "      <td>NaN</td>\n",
       "      <td>5.0</td>\n",
       "      <td>31.0</td>\n",
       "      <td>2</td>\n",
       "      <td>True</td>\n",
       "      <td>...</td>\n",
       "      <td>300.0</td>\n",
       "      <td>0.0</td>\n",
       "      <td>NaN</td>\n",
       "      <td>15.0</td>\n",
       "      <td>105769.23</td>\n",
       "      <td>3</td>\n",
       "      <td>7</td>\n",
       "      <td>2018</td>\n",
       "      <td>другой</td>\n",
       "      <td>6.0</td>\n",
       "    </tr>\n",
       "    <tr>\n",
       "      <th>23691</th>\n",
       "      <td>11</td>\n",
       "      <td>9470000.0</td>\n",
       "      <td>72.90</td>\n",
       "      <td>2016-10-13</td>\n",
       "      <td>2</td>\n",
       "      <td>2.75</td>\n",
       "      <td>25.0</td>\n",
       "      <td>40.3</td>\n",
       "      <td>7</td>\n",
       "      <td>True</td>\n",
       "      <td>...</td>\n",
       "      <td>NaN</td>\n",
       "      <td>1.0</td>\n",
       "      <td>806.0</td>\n",
       "      <td>519.0</td>\n",
       "      <td>129903.98</td>\n",
       "      <td>3</td>\n",
       "      <td>10</td>\n",
       "      <td>2016</td>\n",
       "      <td>другой</td>\n",
       "      <td>4.0</td>\n",
       "    </tr>\n",
       "    <tr>\n",
       "      <th>23694</th>\n",
       "      <td>9</td>\n",
       "      <td>9700000.0</td>\n",
       "      <td>133.81</td>\n",
       "      <td>2017-03-21</td>\n",
       "      <td>3</td>\n",
       "      <td>3.70</td>\n",
       "      <td>5.0</td>\n",
       "      <td>73.3</td>\n",
       "      <td>3</td>\n",
       "      <td>True</td>\n",
       "      <td>...</td>\n",
       "      <td>796.0</td>\n",
       "      <td>3.0</td>\n",
       "      <td>381.0</td>\n",
       "      <td>NaN</td>\n",
       "      <td>72490.85</td>\n",
       "      <td>1</td>\n",
       "      <td>3</td>\n",
       "      <td>2017</td>\n",
       "      <td>другой</td>\n",
       "      <td>4.0</td>\n",
       "    </tr>\n",
       "    <tr>\n",
       "      <th>23697</th>\n",
       "      <td>13</td>\n",
       "      <td>11475000.0</td>\n",
       "      <td>76.75</td>\n",
       "      <td>2017-03-28</td>\n",
       "      <td>2</td>\n",
       "      <td>3.00</td>\n",
       "      <td>17.0</td>\n",
       "      <td>NaN</td>\n",
       "      <td>12</td>\n",
       "      <td>True</td>\n",
       "      <td>...</td>\n",
       "      <td>173.0</td>\n",
       "      <td>3.0</td>\n",
       "      <td>196.0</td>\n",
       "      <td>602.0</td>\n",
       "      <td>149511.40</td>\n",
       "      <td>1</td>\n",
       "      <td>3</td>\n",
       "      <td>2017</td>\n",
       "      <td>другой</td>\n",
       "      <td>10.0</td>\n",
       "    </tr>\n",
       "  </tbody>\n",
       "</table>\n",
       "<p>15721 rows × 28 columns</p>\n",
       "</div>"
      ],
      "text/plain": [
       "       total_images  last_price  total_area first_day_exposition  rooms  \\\n",
       "0                20  13000000.0      108.00           2019-03-07      3   \n",
       "2                10   5196000.0       56.00           2015-08-20      2   \n",
       "3                 0  64900000.0      159.00           2015-07-24      3   \n",
       "4                 2  10000000.0      100.00           2018-06-19      2   \n",
       "7                 5   7915000.0       71.60           2019-04-18      2   \n",
       "...             ...         ...         ...                  ...    ...   \n",
       "23689            13   3550000.0       35.30           2018-02-28      1   \n",
       "23690             3   5500000.0       52.00           2018-07-19      2   \n",
       "23691            11   9470000.0       72.90           2016-10-13      2   \n",
       "23694             9   9700000.0      133.81           2017-03-21      3   \n",
       "23697            13  11475000.0       76.75           2017-03-28      2   \n",
       "\n",
       "       ceiling_height  floors_total  living_area  floor  is_apartment  ...  \\\n",
       "0                2.70          16.0         51.0      8          True  ...   \n",
       "2                 NaN           5.0         34.3      4          True  ...   \n",
       "3                 NaN          14.0          NaN      9          True  ...   \n",
       "4                3.03          14.0         32.0     13          True  ...   \n",
       "7                 NaN          24.0          NaN     22          True  ...   \n",
       "...               ...           ...          ...    ...           ...  ...   \n",
       "23689            2.86          15.0         16.3      4          True  ...   \n",
       "23690             NaN           5.0         31.0      2          True  ...   \n",
       "23691            2.75          25.0         40.3      7          True  ...   \n",
       "23694            3.70           5.0         73.3      3          True  ...   \n",
       "23697            3.00          17.0          NaN     12          True  ...   \n",
       "\n",
       "       parks_nearest  ponds_around3000  ponds_nearest  days_exposition  \\\n",
       "0              482.0               2.0          755.0              NaN   \n",
       "2               90.0               2.0          574.0            558.0   \n",
       "3               84.0               3.0          234.0            424.0   \n",
       "4              112.0               1.0           48.0            121.0   \n",
       "7                NaN               0.0            NaN              NaN   \n",
       "...              ...               ...            ...              ...   \n",
       "23689          353.0               2.0          652.0             29.0   \n",
       "23690          300.0               0.0            NaN             15.0   \n",
       "23691            NaN               1.0          806.0            519.0   \n",
       "23694          796.0               3.0          381.0              NaN   \n",
       "23697          173.0               3.0          196.0            602.0   \n",
       "\n",
       "      price_per_m2  day_of_publication  month_of_publication  \\\n",
       "0        120370.37                   3                     3   \n",
       "2         92785.71                   3                     8   \n",
       "3        408176.10                   4                     7   \n",
       "4        100000.00                   1                     6   \n",
       "7        110544.69                   3                     4   \n",
       "...            ...                 ...                   ...   \n",
       "23689    100566.57                   2                     2   \n",
       "23690    105769.23                   3                     7   \n",
       "23691    129903.98                   3                    10   \n",
       "23694     72490.85                   1                     3   \n",
       "23697    149511.40                   1                     3   \n",
       "\n",
       "       year_of_publication  floor_types  cityCenters_nearest_in_km  \n",
       "0                     2019       другой                       16.0  \n",
       "2                     2015       другой                       14.0  \n",
       "3                     2015       другой                        7.0  \n",
       "4                     2018       другой                        8.0  \n",
       "7                     2019       другой                       12.0  \n",
       "...                    ...          ...                        ...  \n",
       "23689                 2018       другой                       16.0  \n",
       "23690                 2018       другой                        6.0  \n",
       "23691                 2016       другой                        4.0  \n",
       "23694                 2017       другой                        4.0  \n",
       "23697                 2017       другой                       10.0  \n",
       "\n",
       "[15721 rows x 28 columns]"
      ]
     },
     "execution_count": 66,
     "metadata": {},
     "output_type": "execute_result"
    }
   ],
   "source": [
    "spb_data = data[data['locality_name'] == 'санкт-петербург']\n",
    "spb_data"
   ]
  },
  {
   "cell_type": "markdown",
   "metadata": {},
   "source": [
    "Расчитываю среднее значение по расстоянию до центра."
   ]
  },
  {
   "cell_type": "code",
   "execution_count": 67,
   "metadata": {},
   "outputs": [],
   "source": [
    "# reset_index() использую, что бы данные обновлись корректно, а не стали индексами\n",
    "average_price = spb_data.groupby('cityCenters_nearest_in_km')['price_per_m2'].mean().reset_index()"
   ]
  },
  {
   "cell_type": "markdown",
   "metadata": {},
   "source": [
    "Строю график."
   ]
  },
  {
   "cell_type": "code",
   "execution_count": 68,
   "metadata": {},
   "outputs": [
    {
     "data": {
      "image/png": "[encoded data removed]",
      "text/plain": [
       "<Figure size 864x432 with 1 Axes>"
      ]
     },
     "metadata": {
      "needs_background": "light"
     },
     "output_type": "display_data"
    }
   ],
   "source": [
    "# По оси х данные из cityCenters_nearest_in_km, по оси у данные из price_per_m2, стиль о- рисует линии с точками, параметр figsize отвечает за размеры графика, xlim указывает границы графика и grid за сетку, для удобства просмотра\n",
    "average_price.plot(x='cityCenters_nearest_in_km', y='price_per_m2', style='o-', figsize=(12, 6), xlim=(-1, 30), grid=True)\n",
    "\n",
    "# Вывожу график через plt\n",
    "plt.title('Отношение расстояния до центра к цене за квартиру')\n",
    "plt.xlabel('Расстояние до центра, км')\n",
    "plt.ylabel('Стоимость квартир')\n",
    "plt.show()"
   ]
  },
  {
   "cell_type": "markdown",
   "metadata": {},
   "source": [
    "По графику видно, что в общем, чем дадльше от цетра, тем ниже стоимость. Но есть исключения: 6 и 26 километры от центра, там присутсвтует аномальный рост цены.\n",
    "\n",
    "Видимо на цену в этих местах влияют другие факторы."
   ]
  },
  {
   "cell_type": "markdown",
   "metadata": {
    "id": "h7VpzkIDAwb-"
   },
   "source": [
    "### Напишите общий вывод\n",
    "\n",
    "Исследование завершено.\n",
    "По окончанию всех задач могу сказать следующее. В данных присутствует много пропусков. У меня получилось исправить некоторые, но не все, к сожалению. Возможно, если бы данные были полными изначально, исследование показало бы лучшие рузельтаты.\n",
    "Моё исследование показало как обработать пропуски, привести таблицы и данные к общему виду и найти нужные значения.\n",
    "\n",
    "Пройдусь по каождому блоку:\n",
    "1. Осмотр данных и изучение:\n",
    "    Мало что можно сказать, это был лишь просмотр;\n",
    "2. Предобработка данных:\n",
    "    В этой части работы я обрабатывал пропуски, искал дубликаты и менял типы данных. В процессе работы я делал заметки для понимания;\n",
    "3. Добавление новых столбцов:\n",
    "    Новые столбцы помогли работать в следующей части работы;\n",
    "4. Исследовательский анализ:\n",
    "    Самая объемная и интересная часть работы. Здесь я по заданиям проводил анализ данных. \n",
    "    - Работа показала как быстро продавались квартиры(медианное значение 95 дней, среднее занчение 181 день);\n",
    "    - Определил, что больше всего на формирование стоимости влияет общая площадь жилья(0,65 от стоимости);\n",
    "    - Узнал, что из 10 отобранных населенных пунктов по количеству объявлений максимальная средняя цена за м2 в Санкт-Петербурге: 114849 рублей, а минимальная средняя цена за м2 в Выборге: 58141 рублей; \n",
    "    - И завершающей задачей было понять как отдаленность от центра в Санкт-Питербурге влияет на стоимость квартир. График показал, что, чем дальше, тем дешевле. Но присутсвуют аномальные значения(6 и 26 километры от центра), видимо, на эти данные влияют другие факторы или неполнота данных.\n",
    "\n",
    "В общем, скажу, что пропуски и ошибки в данных ни к чему хорошему не приводят. Хорошо, если бы их не было :)"
   ]
  }
 ],
 "metadata": {
  "ExecuteTimeLog": [
   {
    "duration": 4,
    "start_time": "2025-05-05T06:13:30.635Z"
   },
   {
    "duration": 384,
    "start_time": "2025-05-05T06:14:54.935Z"
   },
   {
    "duration": 91,
    "start_time": "2025-05-05T06:14:55.415Z"
   },
   {
    "duration": 91,
    "start_time": "2025-05-05T06:15:19.828Z"
   },
   {
    "duration": 104,
    "start_time": "2025-05-05T06:15:54.767Z"
   },
   {
    "duration": 15,
    "start_time": "2025-05-05T06:16:48.150Z"
   },
   {
    "duration": 3,
    "start_time": "2025-05-05T06:16:53.728Z"
   },
   {
    "duration": 85,
    "start_time": "2025-05-05T06:16:54.100Z"
   },
   {
    "duration": 9,
    "start_time": "2025-05-05T06:16:54.787Z"
   },
   {
    "duration": 14,
    "start_time": "2025-05-05T06:19:25.288Z"
   },
   {
    "duration": 116,
    "start_time": "2025-05-05T06:22:46.084Z"
   },
   {
    "duration": 15,
    "start_time": "2025-05-05T06:22:46.678Z"
   },
   {
    "duration": 73,
    "start_time": "2025-05-05T06:22:53.886Z"
   },
   {
    "duration": 34,
    "start_time": "2025-05-05T06:22:55.646Z"
   },
   {
    "duration": 94,
    "start_time": "2025-05-05T06:23:01.628Z"
   },
   {
    "duration": 14,
    "start_time": "2025-05-05T06:23:02.461Z"
   },
   {
    "duration": 3,
    "start_time": "2025-05-05T06:28:18.441Z"
   },
   {
    "duration": 86,
    "start_time": "2025-05-05T06:28:18.837Z"
   },
   {
    "duration": 13,
    "start_time": "2025-05-05T06:28:19.566Z"
   },
   {
    "duration": 7,
    "start_time": "2025-05-05T06:29:02.360Z"
   },
   {
    "duration": 106,
    "start_time": "2025-05-05T06:53:52.977Z"
   },
   {
    "duration": 35,
    "start_time": "2025-05-05T06:53:59.630Z"
   },
   {
    "duration": 7,
    "start_time": "2025-05-05T06:54:00.717Z"
   },
   {
    "duration": 86,
    "start_time": "2025-05-05T06:54:12.436Z"
   },
   {
    "duration": 7,
    "start_time": "2025-05-05T06:54:13.904Z"
   },
   {
    "duration": 57,
    "start_time": "2025-05-05T07:00:55.759Z"
   },
   {
    "duration": 13,
    "start_time": "2025-05-05T07:01:24.184Z"
   },
   {
    "duration": 47,
    "start_time": "2025-05-05T07:01:36.754Z"
   },
   {
    "duration": 86,
    "start_time": "2025-05-05T07:01:47.049Z"
   },
   {
    "duration": 7,
    "start_time": "2025-05-05T07:01:49.252Z"
   },
   {
    "duration": 100,
    "start_time": "2025-05-05T07:06:12.401Z"
   },
   {
    "duration": 29,
    "start_time": "2025-05-05T07:06:12.828Z"
   },
   {
    "duration": 38,
    "start_time": "2025-05-05T07:07:47.668Z"
   },
   {
    "duration": 31,
    "start_time": "2025-05-05T07:08:05.309Z"
   },
   {
    "duration": 26,
    "start_time": "2025-05-05T07:08:14.100Z"
   },
   {
    "duration": 23,
    "start_time": "2025-05-05T07:09:39.236Z"
   },
   {
    "duration": 3,
    "start_time": "2025-05-05T07:20:19.904Z"
   },
   {
    "duration": 12,
    "start_time": "2025-05-05T07:21:08.920Z"
   },
   {
    "duration": 2,
    "start_time": "2025-05-05T07:22:28.741Z"
   },
   {
    "duration": 2614,
    "start_time": "2025-05-05T07:22:32.407Z"
   },
   {
    "duration": 6,
    "start_time": "2025-05-05T07:27:30.749Z"
   },
   {
    "duration": 5,
    "start_time": "2025-05-05T07:28:11.916Z"
   },
   {
    "duration": 6,
    "start_time": "2025-05-05T07:28:36.820Z"
   },
   {
    "duration": 6,
    "start_time": "2025-05-05T07:29:46.907Z"
   },
   {
    "duration": 5,
    "start_time": "2025-05-05T07:30:03.602Z"
   },
   {
    "duration": 5,
    "start_time": "2025-05-05T07:31:31.446Z"
   },
   {
    "duration": 7,
    "start_time": "2025-05-05T07:37:19.146Z"
   },
   {
    "duration": 5,
    "start_time": "2025-05-05T07:46:39.977Z"
   },
   {
    "duration": 5,
    "start_time": "2025-05-05T07:46:47.404Z"
   },
   {
    "duration": 6,
    "start_time": "2025-05-05T07:47:40.967Z"
   },
   {
    "duration": 82,
    "start_time": "2025-05-05T07:50:30.374Z"
   },
   {
    "duration": 8,
    "start_time": "2025-05-05T07:50:34.152Z"
   },
   {
    "duration": 6,
    "start_time": "2025-05-05T07:52:38.552Z"
   },
   {
    "duration": 10,
    "start_time": "2025-05-05T07:52:46.143Z"
   },
   {
    "duration": 1036,
    "start_time": "2025-05-05T08:29:28.904Z"
   },
   {
    "duration": 9,
    "start_time": "2025-05-05T08:29:46.258Z"
   },
   {
    "duration": 16,
    "start_time": "2025-05-05T08:31:51.530Z"
   },
   {
    "duration": 5,
    "start_time": "2025-05-05T08:31:58.992Z"
   },
   {
    "duration": 8,
    "start_time": "2025-05-05T08:32:04.045Z"
   },
   {
    "duration": 20,
    "start_time": "2025-05-05T08:32:08.927Z"
   },
   {
    "duration": 4,
    "start_time": "2025-05-05T08:32:21.250Z"
   },
   {
    "duration": 3,
    "start_time": "2025-05-05T08:32:24.676Z"
   },
   {
    "duration": 7,
    "start_time": "2025-05-05T08:32:25.834Z"
   },
   {
    "duration": 7,
    "start_time": "2025-05-05T08:32:32.345Z"
   },
   {
    "duration": 41,
    "start_time": "2025-05-05T08:33:26.236Z"
   },
   {
    "duration": 11,
    "start_time": "2025-05-05T08:35:33.791Z"
   },
   {
    "duration": 19,
    "start_time": "2025-05-05T08:36:56.694Z"
   },
   {
    "duration": 11,
    "start_time": "2025-05-05T08:36:59.162Z"
   },
   {
    "duration": 13,
    "start_time": "2025-05-05T08:36:59.604Z"
   },
   {
    "duration": 8,
    "start_time": "2025-05-05T08:37:18.844Z"
   },
   {
    "duration": 13,
    "start_time": "2025-05-05T08:37:19.655Z"
   },
   {
    "duration": 19,
    "start_time": "2025-05-05T08:39:02.831Z"
   },
   {
    "duration": 8,
    "start_time": "2025-05-05T08:39:10.730Z"
   },
   {
    "duration": 8,
    "start_time": "2025-05-05T08:39:13.155Z"
   },
   {
    "duration": 13,
    "start_time": "2025-05-05T08:39:13.778Z"
   },
   {
    "duration": 3,
    "start_time": "2025-05-05T08:39:25.241Z"
   },
   {
    "duration": 115,
    "start_time": "2025-05-05T08:39:25.832Z"
   },
   {
    "duration": 31,
    "start_time": "2025-05-05T08:39:26.456Z"
   },
   {
    "duration": 17,
    "start_time": "2025-05-05T08:39:27.322Z"
   },
   {
    "duration": 3,
    "start_time": "2025-05-05T08:39:28.021Z"
   },
   {
    "duration": 2151,
    "start_time": "2025-05-05T08:39:28.854Z"
   },
   {
    "duration": 2,
    "start_time": "2025-05-05T08:39:31.008Z"
   },
   {
    "duration": 10,
    "start_time": "2025-05-05T08:39:33.730Z"
   },
   {
    "duration": 7,
    "start_time": "2025-05-05T08:39:34.600Z"
   },
   {
    "duration": 7,
    "start_time": "2025-05-05T08:39:35.680Z"
   },
   {
    "duration": 14,
    "start_time": "2025-05-05T08:39:36.239Z"
   },
   {
    "duration": 10,
    "start_time": "2025-05-05T08:39:37.406Z"
   },
   {
    "duration": 16,
    "start_time": "2025-05-05T08:41:08.630Z"
   },
   {
    "duration": 11,
    "start_time": "2025-05-05T08:41:10.773Z"
   },
   {
    "duration": 13,
    "start_time": "2025-05-05T08:41:11.654Z"
   },
   {
    "duration": 5,
    "start_time": "2025-05-05T08:41:35.762Z"
   },
   {
    "duration": 5,
    "start_time": "2025-05-05T08:41:43.606Z"
   },
   {
    "duration": 5,
    "start_time": "2025-05-05T08:41:44.065Z"
   },
   {
    "duration": 10,
    "start_time": "2025-05-05T08:41:44.563Z"
   },
   {
    "duration": 12,
    "start_time": "2025-05-05T08:41:45.522Z"
   },
   {
    "duration": 13,
    "start_time": "2025-05-05T08:43:27.949Z"
   },
   {
    "duration": 103,
    "start_time": "2025-05-05T08:46:31.492Z"
   },
   {
    "duration": 3,
    "start_time": "2025-05-05T08:46:50.782Z"
   },
   {
    "duration": 3,
    "start_time": "2025-05-05T08:53:50.785Z"
   },
   {
    "duration": 2,
    "start_time": "2025-05-05T08:54:16.772Z"
   },
   {
    "duration": 19,
    "start_time": "2025-05-05T08:54:49.561Z"
   },
   {
    "duration": 44,
    "start_time": "2025-05-05T09:43:49.215Z"
   },
   {
    "duration": 940,
    "start_time": "2025-05-05T09:47:22.999Z"
   },
   {
    "duration": 541,
    "start_time": "2025-05-05T09:47:39.793Z"
   },
   {
    "duration": 11,
    "start_time": "2025-05-05T09:50:09.622Z"
   },
   {
    "duration": 13,
    "start_time": "2025-05-05T09:50:17.485Z"
   },
   {
    "duration": 53,
    "start_time": "2025-05-05T09:50:21.631Z"
   },
   {
    "duration": 12,
    "start_time": "2025-05-05T09:50:29.290Z"
   },
   {
    "duration": 8,
    "start_time": "2025-05-05T09:53:07.902Z"
   },
   {
    "duration": 4,
    "start_time": "2025-05-05T09:53:17.398Z"
   },
   {
    "duration": 43,
    "start_time": "2025-05-05T09:53:26.157Z"
   },
   {
    "duration": 4,
    "start_time": "2025-05-05T09:53:36.546Z"
   },
   {
    "duration": 728,
    "start_time": "2025-05-05T09:57:46.183Z"
   },
   {
    "duration": 13,
    "start_time": "2025-05-05T09:58:01.937Z"
   },
   {
    "duration": 11,
    "start_time": "2025-05-05T09:59:04.049Z"
   },
   {
    "duration": 563,
    "start_time": "2025-05-05T10:05:16.910Z"
   },
   {
    "duration": 14,
    "start_time": "2025-05-05T10:06:24.740Z"
   },
   {
    "duration": 5,
    "start_time": "2025-05-05T10:07:17.377Z"
   },
   {
    "duration": 8,
    "start_time": "2025-05-05T10:08:39.712Z"
   },
   {
    "duration": 14,
    "start_time": "2025-05-05T10:08:46.572Z"
   },
   {
    "duration": 4,
    "start_time": "2025-05-05T10:09:09.349Z"
   },
   {
    "duration": 13,
    "start_time": "2025-05-05T10:09:12.095Z"
   },
   {
    "duration": 3,
    "start_time": "2025-05-05T10:09:12.577Z"
   },
   {
    "duration": 4,
    "start_time": "2025-05-05T10:09:13.252Z"
   },
   {
    "duration": 4,
    "start_time": "2025-05-05T10:09:14.037Z"
   },
   {
    "duration": 4,
    "start_time": "2025-05-05T10:09:15.951Z"
   },
   {
    "duration": 39,
    "start_time": "2025-05-05T10:09:28.466Z"
   },
   {
    "duration": 3,
    "start_time": "2025-05-05T10:10:26.962Z"
   },
   {
    "duration": 4,
    "start_time": "2025-05-05T10:10:27.357Z"
   },
   {
    "duration": 38,
    "start_time": "2025-05-05T10:10:28.006Z"
   },
   {
    "duration": 4,
    "start_time": "2025-05-05T10:10:37.815Z"
   },
   {
    "duration": 38,
    "start_time": "2025-05-05T10:10:39.534Z"
   },
   {
    "duration": 3,
    "start_time": "2025-05-05T10:14:21.261Z"
   },
   {
    "duration": 5,
    "start_time": "2025-05-05T10:14:21.869Z"
   },
   {
    "duration": 37,
    "start_time": "2025-05-05T10:14:25.068Z"
   },
   {
    "duration": 4,
    "start_time": "2025-05-05T10:15:13.665Z"
   },
   {
    "duration": 40,
    "start_time": "2025-05-05T10:15:31.834Z"
   },
   {
    "duration": 5,
    "start_time": "2025-05-05T10:16:25.965Z"
   },
   {
    "duration": 4,
    "start_time": "2025-05-05T10:16:26.333Z"
   },
   {
    "duration": 37,
    "start_time": "2025-05-05T10:16:26.867Z"
   },
   {
    "duration": 4,
    "start_time": "2025-05-05T10:17:02.648Z"
   },
   {
    "duration": 6,
    "start_time": "2025-05-05T10:17:07.562Z"
   },
   {
    "duration": 6,
    "start_time": "2025-05-05T10:17:16.364Z"
   },
   {
    "duration": 5,
    "start_time": "2025-05-05T10:17:20.673Z"
   },
   {
    "duration": 4,
    "start_time": "2025-05-05T10:17:28.675Z"
   },
   {
    "duration": 6,
    "start_time": "2025-05-05T10:17:54.299Z"
   },
   {
    "duration": 4,
    "start_time": "2025-05-05T10:18:04.265Z"
   },
   {
    "duration": 5,
    "start_time": "2025-05-05T10:18:08.611Z"
   },
   {
    "duration": 4,
    "start_time": "2025-05-05T10:20:16.942Z"
   },
   {
    "duration": 13,
    "start_time": "2025-05-05T10:20:37.973Z"
   },
   {
    "duration": 5,
    "start_time": "2025-05-05T10:20:50.071Z"
   },
   {
    "duration": 5,
    "start_time": "2025-05-05T10:21:02.542Z"
   },
   {
    "duration": 4,
    "start_time": "2025-05-05T10:21:07.228Z"
   },
   {
    "duration": 5,
    "start_time": "2025-05-05T10:21:11.045Z"
   },
   {
    "duration": 6,
    "start_time": "2025-05-05T10:22:17.778Z"
   },
   {
    "duration": 5,
    "start_time": "2025-05-05T10:22:24.702Z"
   },
   {
    "duration": 5,
    "start_time": "2025-05-05T10:22:25.202Z"
   },
   {
    "duration": 44,
    "start_time": "2025-05-05T10:22:25.846Z"
   },
   {
    "duration": 25,
    "start_time": "2025-05-05T10:26:55.266Z"
   },
   {
    "duration": 24,
    "start_time": "2025-05-05T10:27:10.608Z"
   },
   {
    "duration": 6,
    "start_time": "2025-05-05T10:28:02.533Z"
   },
   {
    "duration": 6,
    "start_time": "2025-05-05T10:29:16.564Z"
   },
   {
    "duration": 6,
    "start_time": "2025-05-05T10:31:09.389Z"
   },
   {
    "duration": 6,
    "start_time": "2025-05-05T10:31:20.662Z"
   },
   {
    "duration": 9,
    "start_time": "2025-05-05T10:32:21.495Z"
   },
   {
    "duration": 2,
    "start_time": "2025-05-05T10:36:00.209Z"
   },
   {
    "duration": 15,
    "start_time": "2025-05-05T10:36:52.237Z"
   },
   {
    "duration": 10,
    "start_time": "2025-05-05T10:37:03.163Z"
   },
   {
    "duration": 16,
    "start_time": "2025-05-05T10:38:17.050Z"
   },
   {
    "duration": 10,
    "start_time": "2025-05-05T10:38:17.474Z"
   },
   {
    "duration": 10,
    "start_time": "2025-05-05T11:33:55.652Z"
   },
   {
    "duration": 11,
    "start_time": "2025-05-05T11:35:33.598Z"
   },
   {
    "duration": 10,
    "start_time": "2025-05-05T11:36:04.060Z"
   },
   {
    "duration": 24,
    "start_time": "2025-05-05T11:36:09.525Z"
   },
   {
    "duration": 39,
    "start_time": "2025-05-05T11:36:29.130Z"
   },
   {
    "duration": 15,
    "start_time": "2025-05-05T11:37:15.919Z"
   },
   {
    "duration": 8,
    "start_time": "2025-05-05T11:49:20.847Z"
   },
   {
    "duration": 6,
    "start_time": "2025-05-05T11:49:25.673Z"
   },
   {
    "duration": 6,
    "start_time": "2025-05-05T11:52:33.973Z"
   },
   {
    "duration": 5,
    "start_time": "2025-05-05T11:52:54.152Z"
   },
   {
    "duration": 6,
    "start_time": "2025-05-05T11:53:00.077Z"
   },
   {
    "duration": 8,
    "start_time": "2025-05-05T11:55:45.827Z"
   },
   {
    "duration": 3,
    "start_time": "2025-05-05T11:57:39.741Z"
   },
   {
    "duration": 91,
    "start_time": "2025-05-05T11:57:40.851Z"
   },
   {
    "duration": 25,
    "start_time": "2025-05-05T11:57:41.725Z"
   },
   {
    "duration": 16,
    "start_time": "2025-05-05T11:57:42.840Z"
   },
   {
    "duration": 2,
    "start_time": "2025-05-05T11:57:43.810Z"
   },
   {
    "duration": 1998,
    "start_time": "2025-05-05T11:57:44.469Z"
   },
   {
    "duration": 3,
    "start_time": "2025-05-05T11:57:46.476Z"
   },
   {
    "duration": 11,
    "start_time": "2025-05-05T11:57:47.608Z"
   },
   {
    "duration": 4,
    "start_time": "2025-05-05T11:57:49.090Z"
   },
   {
    "duration": 5,
    "start_time": "2025-05-05T11:57:53.295Z"
   },
   {
    "duration": 15,
    "start_time": "2025-05-05T11:57:54.958Z"
   },
   {
    "duration": 12,
    "start_time": "2025-05-05T11:57:55.733Z"
   },
   {
    "duration": 3,
    "start_time": "2025-05-05T11:57:56.412Z"
   },
   {
    "duration": 41,
    "start_time": "2025-05-05T11:57:57.088Z"
   },
   {
    "duration": 8,
    "start_time": "2025-05-05T11:57:59.350Z"
   },
   {
    "duration": 4,
    "start_time": "2025-05-05T11:58:00.583Z"
   },
   {
    "duration": 5,
    "start_time": "2025-05-05T11:58:01.023Z"
   },
   {
    "duration": 12,
    "start_time": "2025-05-05T11:58:01.385Z"
   },
   {
    "duration": 39,
    "start_time": "2025-05-05T11:58:02.099Z"
   },
   {
    "duration": 3,
    "start_time": "2025-05-05T11:58:02.888Z"
   },
   {
    "duration": 11,
    "start_time": "2025-05-05T11:58:03.627Z"
   },
   {
    "duration": 9,
    "start_time": "2025-05-05T11:59:40.204Z"
   },
   {
    "duration": 15,
    "start_time": "2025-05-05T11:59:41.495Z"
   },
   {
    "duration": 18,
    "start_time": "2025-05-05T11:59:42.990Z"
   },
   {
    "duration": 13,
    "start_time": "2025-05-05T11:59:43.716Z"
   },
   {
    "duration": 7,
    "start_time": "2025-05-05T12:00:28.142Z"
   },
   {
    "duration": 5,
    "start_time": "2025-05-05T12:00:35.219Z"
   },
   {
    "duration": 5,
    "start_time": "2025-05-05T12:11:12.394Z"
   },
   {
    "duration": 6,
    "start_time": "2025-05-05T12:11:15.636Z"
   },
   {
    "duration": 7,
    "start_time": "2025-05-05T12:11:21.478Z"
   },
   {
    "duration": 37,
    "start_time": "2025-05-05T12:11:31.844Z"
   },
   {
    "duration": 3,
    "start_time": "2025-05-05T12:11:32.440Z"
   },
   {
    "duration": 7,
    "start_time": "2025-05-05T12:11:33.111Z"
   },
   {
    "duration": 3,
    "start_time": "2025-05-05T12:11:33.901Z"
   },
   {
    "duration": 6,
    "start_time": "2025-05-05T12:11:34.456Z"
   },
   {
    "duration": 6,
    "start_time": "2025-05-05T12:11:34.952Z"
   },
   {
    "duration": 8,
    "start_time": "2025-05-05T12:11:35.540Z"
   },
   {
    "duration": 6,
    "start_time": "2025-05-05T12:11:36.268Z"
   },
   {
    "duration": 424,
    "start_time": "2025-05-06T03:39:24.856Z"
   },
   {
    "duration": 86,
    "start_time": "2025-05-06T03:39:25.282Z"
   },
   {
    "duration": 30,
    "start_time": "2025-05-06T03:39:25.370Z"
   },
   {
    "duration": 17,
    "start_time": "2025-05-06T03:39:25.401Z"
   },
   {
    "duration": 3,
    "start_time": "2025-05-06T03:39:25.420Z"
   },
   {
    "duration": 2570,
    "start_time": "2025-05-06T03:39:25.425Z"
   },
   {
    "duration": 3,
    "start_time": "2025-05-06T03:39:27.997Z"
   },
   {
    "duration": 10,
    "start_time": "2025-05-06T03:39:28.002Z"
   },
   {
    "duration": 3,
    "start_time": "2025-05-06T03:39:28.014Z"
   },
   {
    "duration": 15,
    "start_time": "2025-05-06T03:39:28.018Z"
   },
   {
    "duration": 16,
    "start_time": "2025-05-06T03:39:28.034Z"
   },
   {
    "duration": 11,
    "start_time": "2025-05-06T03:39:28.052Z"
   },
   {
    "duration": 3,
    "start_time": "2025-05-06T03:39:28.064Z"
   },
   {
    "duration": 40,
    "start_time": "2025-05-06T03:39:28.070Z"
   },
   {
    "duration": 8,
    "start_time": "2025-05-06T03:39:28.112Z"
   },
   {
    "duration": 5,
    "start_time": "2025-05-06T03:39:28.122Z"
   },
   {
    "duration": 11,
    "start_time": "2025-05-06T03:39:28.128Z"
   },
   {
    "duration": 12,
    "start_time": "2025-05-06T03:39:28.163Z"
   },
   {
    "duration": 78,
    "start_time": "2025-05-06T03:39:28.177Z"
   },
   {
    "duration": 3,
    "start_time": "2025-05-06T03:39:28.256Z"
   },
   {
    "duration": 11,
    "start_time": "2025-05-06T03:39:28.260Z"
   },
   {
    "duration": 14,
    "start_time": "2025-05-06T03:39:28.273Z"
   },
   {
    "duration": 19,
    "start_time": "2025-05-06T03:39:28.288Z"
   },
   {
    "duration": 14,
    "start_time": "2025-05-06T03:39:28.309Z"
   },
   {
    "duration": 8,
    "start_time": "2025-05-06T03:39:28.324Z"
   },
   {
    "duration": 30,
    "start_time": "2025-05-06T03:39:28.333Z"
   },
   {
    "duration": 82,
    "start_time": "2025-05-06T03:40:35.038Z"
   },
   {
    "duration": 9,
    "start_time": "2025-05-06T03:40:52.659Z"
   },
   {
    "duration": 8,
    "start_time": "2025-05-06T03:41:05.724Z"
   },
   {
    "duration": 398,
    "start_time": "2025-05-06T03:41:12.461Z"
   },
   {
    "duration": 85,
    "start_time": "2025-05-06T03:41:12.861Z"
   },
   {
    "duration": 30,
    "start_time": "2025-05-06T03:41:12.947Z"
   },
   {
    "duration": 15,
    "start_time": "2025-05-06T03:41:12.979Z"
   },
   {
    "duration": 3,
    "start_time": "2025-05-06T03:41:12.996Z"
   },
   {
    "duration": 2122,
    "start_time": "2025-05-06T03:41:13.001Z"
   },
   {
    "duration": 3,
    "start_time": "2025-05-06T03:41:15.124Z"
   },
   {
    "duration": 63,
    "start_time": "2025-05-06T03:41:15.129Z"
   },
   {
    "duration": 29,
    "start_time": "2025-05-06T03:41:15.194Z"
   },
   {
    "duration": 15,
    "start_time": "2025-05-06T03:41:15.224Z"
   },
   {
    "duration": 25,
    "start_time": "2025-05-06T03:41:15.242Z"
   },
   {
    "duration": 12,
    "start_time": "2025-05-06T03:41:15.268Z"
   },
   {
    "duration": 23,
    "start_time": "2025-05-06T03:41:15.282Z"
   },
   {
    "duration": 62,
    "start_time": "2025-05-06T03:41:15.308Z"
   },
   {
    "duration": 8,
    "start_time": "2025-05-06T03:41:15.371Z"
   },
   {
    "duration": 13,
    "start_time": "2025-05-06T03:41:15.381Z"
   },
   {
    "duration": 22,
    "start_time": "2025-05-06T03:41:15.396Z"
   },
   {
    "duration": 26,
    "start_time": "2025-05-06T03:41:15.420Z"
   },
   {
    "duration": 35,
    "start_time": "2025-05-06T03:41:15.448Z"
   },
   {
    "duration": 3,
    "start_time": "2025-05-06T03:41:15.484Z"
   },
   {
    "duration": 11,
    "start_time": "2025-05-06T03:41:15.488Z"
   },
   {
    "duration": 21,
    "start_time": "2025-05-06T03:41:15.501Z"
   },
   {
    "duration": 25,
    "start_time": "2025-05-06T03:41:15.523Z"
   },
   {
    "duration": 30,
    "start_time": "2025-05-06T03:41:15.550Z"
   },
   {
    "duration": 89,
    "start_time": "2025-05-06T03:41:15.582Z"
   },
   {
    "duration": 27,
    "start_time": "2025-05-06T03:41:15.673Z"
   },
   {
    "duration": 3,
    "start_time": "2025-05-06T03:43:31.169Z"
   },
   {
    "duration": 9,
    "start_time": "2025-05-06T03:43:31.605Z"
   },
   {
    "duration": 405,
    "start_time": "2025-05-06T03:43:36.472Z"
   },
   {
    "duration": 86,
    "start_time": "2025-05-06T03:43:36.879Z"
   },
   {
    "duration": 31,
    "start_time": "2025-05-06T03:43:36.967Z"
   },
   {
    "duration": 16,
    "start_time": "2025-05-06T03:43:37.000Z"
   },
   {
    "duration": 6,
    "start_time": "2025-05-06T03:43:37.019Z"
   },
   {
    "duration": 2177,
    "start_time": "2025-05-06T03:43:37.026Z"
   },
   {
    "duration": 3,
    "start_time": "2025-05-06T03:43:39.204Z"
   },
   {
    "duration": 13,
    "start_time": "2025-05-06T03:43:39.208Z"
   },
   {
    "duration": 31,
    "start_time": "2025-05-06T03:43:39.222Z"
   },
   {
    "duration": 5,
    "start_time": "2025-05-06T03:43:39.255Z"
   },
   {
    "duration": 35,
    "start_time": "2025-05-06T03:43:39.261Z"
   },
   {
    "duration": 11,
    "start_time": "2025-05-06T03:43:39.298Z"
   },
   {
    "duration": 17,
    "start_time": "2025-05-06T03:43:39.310Z"
   },
   {
    "duration": 50,
    "start_time": "2025-05-06T03:43:39.330Z"
   },
   {
    "duration": 7,
    "start_time": "2025-05-06T03:43:39.381Z"
   },
   {
    "duration": 5,
    "start_time": "2025-05-06T03:43:39.390Z"
   },
   {
    "duration": 14,
    "start_time": "2025-05-06T03:43:39.396Z"
   },
   {
    "duration": 21,
    "start_time": "2025-05-06T03:43:39.412Z"
   },
   {
    "duration": 46,
    "start_time": "2025-05-06T03:43:39.434Z"
   },
   {
    "duration": 2,
    "start_time": "2025-05-06T03:43:39.482Z"
   },
   {
    "duration": 38,
    "start_time": "2025-05-06T03:43:39.485Z"
   },
   {
    "duration": 13,
    "start_time": "2025-05-06T03:43:39.524Z"
   },
   {
    "duration": 29,
    "start_time": "2025-05-06T03:43:39.538Z"
   },
   {
    "duration": 15,
    "start_time": "2025-05-06T03:43:39.569Z"
   },
   {
    "duration": 7,
    "start_time": "2025-05-06T03:43:39.585Z"
   },
   {
    "duration": 78,
    "start_time": "2025-05-06T03:43:39.594Z"
   },
   {
    "duration": 407,
    "start_time": "2025-05-06T03:46:08.367Z"
   },
   {
    "duration": 85,
    "start_time": "2025-05-06T03:46:08.776Z"
   },
   {
    "duration": 31,
    "start_time": "2025-05-06T03:46:08.874Z"
   },
   {
    "duration": 18,
    "start_time": "2025-05-06T03:46:08.907Z"
   },
   {
    "duration": 10,
    "start_time": "2025-05-06T03:46:08.927Z"
   },
   {
    "duration": 2185,
    "start_time": "2025-05-06T03:46:08.938Z"
   },
   {
    "duration": 2,
    "start_time": "2025-05-06T03:46:11.125Z"
   },
   {
    "duration": 21,
    "start_time": "2025-05-06T03:46:11.129Z"
   },
   {
    "duration": 3,
    "start_time": "2025-05-06T03:46:11.151Z"
   },
   {
    "duration": 10,
    "start_time": "2025-05-06T03:46:11.155Z"
   },
   {
    "duration": 16,
    "start_time": "2025-05-06T03:46:11.174Z"
   },
   {
    "duration": 11,
    "start_time": "2025-05-06T03:46:11.192Z"
   },
   {
    "duration": 2,
    "start_time": "2025-05-06T03:46:11.205Z"
   },
   {
    "duration": 38,
    "start_time": "2025-05-06T03:46:11.209Z"
   },
   {
    "duration": 32,
    "start_time": "2025-05-06T03:46:11.249Z"
   },
   {
    "duration": 5,
    "start_time": "2025-05-06T03:46:11.282Z"
   },
   {
    "duration": 11,
    "start_time": "2025-05-06T03:46:11.288Z"
   },
   {
    "duration": 11,
    "start_time": "2025-05-06T03:46:11.300Z"
   },
   {
    "duration": 39,
    "start_time": "2025-05-06T03:46:11.313Z"
   },
   {
    "duration": 2,
    "start_time": "2025-05-06T03:46:11.353Z"
   },
   {
    "duration": 18,
    "start_time": "2025-05-06T03:46:11.356Z"
   },
   {
    "duration": 11,
    "start_time": "2025-05-06T03:46:11.376Z"
   },
   {
    "duration": 21,
    "start_time": "2025-05-06T03:46:11.389Z"
   },
   {
    "duration": 15,
    "start_time": "2025-05-06T03:46:11.411Z"
   },
   {
    "duration": 7,
    "start_time": "2025-05-06T03:46:11.427Z"
   },
   {
    "duration": 27,
    "start_time": "2025-05-06T03:46:11.436Z"
   },
   {
    "duration": 419,
    "start_time": "2025-05-06T04:49:04.940Z"
   },
   {
    "duration": 86,
    "start_time": "2025-05-06T04:49:05.361Z"
   },
   {
    "duration": 30,
    "start_time": "2025-05-06T04:49:05.449Z"
   },
   {
    "duration": 16,
    "start_time": "2025-05-06T04:49:05.480Z"
   },
   {
    "duration": 2,
    "start_time": "2025-05-06T04:49:05.498Z"
   },
   {
    "duration": 2021,
    "start_time": "2025-05-06T04:49:05.502Z"
   },
   {
    "duration": 3,
    "start_time": "2025-05-06T04:49:07.524Z"
   },
   {
    "duration": 14,
    "start_time": "2025-05-06T04:49:07.528Z"
   },
   {
    "duration": 3,
    "start_time": "2025-05-06T04:49:07.543Z"
   },
   {
    "duration": 13,
    "start_time": "2025-05-06T04:49:07.548Z"
   },
   {
    "duration": 36,
    "start_time": "2025-05-06T04:49:07.563Z"
   },
   {
    "duration": 12,
    "start_time": "2025-05-06T04:49:07.601Z"
   },
   {
    "duration": 3,
    "start_time": "2025-05-06T04:49:07.614Z"
   },
   {
    "duration": 40,
    "start_time": "2025-05-06T04:49:07.619Z"
   },
   {
    "duration": 8,
    "start_time": "2025-05-06T04:49:07.661Z"
   },
   {
    "duration": 18,
    "start_time": "2025-05-06T04:49:07.670Z"
   },
   {
    "duration": 16,
    "start_time": "2025-05-06T04:49:07.690Z"
   },
   {
    "duration": 20,
    "start_time": "2025-05-06T04:49:07.708Z"
   },
   {
    "duration": 37,
    "start_time": "2025-05-06T04:49:07.730Z"
   },
   {
    "duration": 2,
    "start_time": "2025-05-06T04:49:07.769Z"
   },
   {
    "duration": 24,
    "start_time": "2025-05-06T04:49:07.773Z"
   },
   {
    "duration": 23,
    "start_time": "2025-05-06T04:49:07.799Z"
   },
   {
    "duration": 124,
    "start_time": "2025-05-06T04:49:07.824Z"
   },
   {
    "duration": 88,
    "start_time": "2025-05-06T04:49:07.950Z"
   },
   {
    "duration": 8,
    "start_time": "2025-05-06T04:49:08.040Z"
   },
   {
    "duration": 9,
    "start_time": "2025-05-06T04:49:08.049Z"
   },
   {
    "duration": 4,
    "start_time": "2025-05-06T04:51:18.547Z"
   },
   {
    "duration": 6,
    "start_time": "2025-05-06T04:51:19.297Z"
   },
   {
    "duration": 5,
    "start_time": "2025-05-06T04:51:20.015Z"
   },
   {
    "duration": 7,
    "start_time": "2025-05-06T04:51:21.017Z"
   },
   {
    "duration": 355,
    "start_time": "2025-05-06T04:51:26.816Z"
   },
   {
    "duration": 85,
    "start_time": "2025-05-06T04:51:27.172Z"
   },
   {
    "duration": 30,
    "start_time": "2025-05-06T04:51:27.259Z"
   },
   {
    "duration": 15,
    "start_time": "2025-05-06T04:51:27.291Z"
   },
   {
    "duration": 3,
    "start_time": "2025-05-06T04:51:27.307Z"
   },
   {
    "duration": 2148,
    "start_time": "2025-05-06T04:51:27.311Z"
   },
   {
    "duration": 3,
    "start_time": "2025-05-06T04:51:29.461Z"
   },
   {
    "duration": 11,
    "start_time": "2025-05-06T04:51:29.466Z"
   },
   {
    "duration": 4,
    "start_time": "2025-05-06T04:51:29.478Z"
   },
   {
    "duration": 5,
    "start_time": "2025-05-06T04:51:29.484Z"
   },
   {
    "duration": 17,
    "start_time": "2025-05-06T04:51:29.491Z"
   },
   {
    "duration": 12,
    "start_time": "2025-05-06T04:51:29.510Z"
   },
   {
    "duration": 38,
    "start_time": "2025-05-06T04:51:29.524Z"
   },
   {
    "duration": 41,
    "start_time": "2025-05-06T04:51:29.566Z"
   },
   {
    "duration": 8,
    "start_time": "2025-05-06T04:51:29.609Z"
   },
   {
    "duration": 7,
    "start_time": "2025-05-06T04:51:29.619Z"
   },
   {
    "duration": 21,
    "start_time": "2025-05-06T04:51:29.627Z"
   },
   {
    "duration": 12,
    "start_time": "2025-05-06T04:51:29.661Z"
   },
   {
    "duration": 33,
    "start_time": "2025-05-06T04:51:29.674Z"
   },
   {
    "duration": 2,
    "start_time": "2025-05-06T04:51:29.709Z"
   },
   {
    "duration": 19,
    "start_time": "2025-05-06T04:51:29.712Z"
   },
   {
    "duration": 14,
    "start_time": "2025-05-06T04:51:29.733Z"
   },
   {
    "duration": 18,
    "start_time": "2025-05-06T04:51:29.761Z"
   },
   {
    "duration": 16,
    "start_time": "2025-05-06T04:51:29.780Z"
   },
   {
    "duration": 9,
    "start_time": "2025-05-06T04:51:29.797Z"
   },
   {
    "duration": 9,
    "start_time": "2025-05-06T04:51:29.807Z"
   },
   {
    "duration": 3,
    "start_time": "2025-05-06T04:52:11.040Z"
   },
   {
    "duration": 4,
    "start_time": "2025-05-06T04:52:11.430Z"
   },
   {
    "duration": 4,
    "start_time": "2025-05-06T04:52:11.850Z"
   },
   {
    "duration": 7,
    "start_time": "2025-05-06T04:52:12.271Z"
   },
   {
    "duration": 5,
    "start_time": "2025-05-06T04:52:12.692Z"
   },
   {
    "duration": 368,
    "start_time": "2025-05-06T04:53:51.003Z"
   },
   {
    "duration": 86,
    "start_time": "2025-05-06T04:53:51.372Z"
   },
   {
    "duration": 31,
    "start_time": "2025-05-06T04:53:51.460Z"
   },
   {
    "duration": 15,
    "start_time": "2025-05-06T04:53:51.493Z"
   },
   {
    "duration": 3,
    "start_time": "2025-05-06T04:53:51.511Z"
   },
   {
    "duration": 2099,
    "start_time": "2025-05-06T04:53:51.516Z"
   },
   {
    "duration": 3,
    "start_time": "2025-05-06T04:53:53.617Z"
   },
   {
    "duration": 11,
    "start_time": "2025-05-06T04:53:53.622Z"
   },
   {
    "duration": 4,
    "start_time": "2025-05-06T04:53:53.635Z"
   },
   {
    "duration": 6,
    "start_time": "2025-05-06T04:53:53.640Z"
   },
   {
    "duration": 23,
    "start_time": "2025-05-06T04:53:53.648Z"
   },
   {
    "duration": 13,
    "start_time": "2025-05-06T04:53:53.672Z"
   },
   {
    "duration": 3,
    "start_time": "2025-05-06T04:53:53.686Z"
   },
   {
    "duration": 36,
    "start_time": "2025-05-06T04:53:53.691Z"
   },
   {
    "duration": 8,
    "start_time": "2025-05-06T04:53:53.728Z"
   },
   {
    "duration": 29,
    "start_time": "2025-05-06T04:53:53.737Z"
   },
   {
    "duration": 9,
    "start_time": "2025-05-06T04:53:53.767Z"
   },
   {
    "duration": 14,
    "start_time": "2025-05-06T04:53:53.777Z"
   },
   {
    "duration": 35,
    "start_time": "2025-05-06T04:53:53.792Z"
   },
   {
    "duration": 2,
    "start_time": "2025-05-06T04:53:53.829Z"
   },
   {
    "duration": 103,
    "start_time": "2025-05-06T04:53:53.833Z"
   },
   {
    "duration": 116,
    "start_time": "2025-05-06T04:53:53.938Z"
   },
   {
    "duration": 21,
    "start_time": "2025-05-06T04:53:54.056Z"
   },
   {
    "duration": 13,
    "start_time": "2025-05-06T04:53:54.079Z"
   },
   {
    "duration": 6,
    "start_time": "2025-05-06T04:53:54.094Z"
   },
   {
    "duration": 5,
    "start_time": "2025-05-06T04:53:54.101Z"
   },
   {
    "duration": 356,
    "start_time": "2025-05-06T04:55:14.916Z"
   },
   {
    "duration": 90,
    "start_time": "2025-05-06T04:55:15.274Z"
   },
   {
    "duration": 29,
    "start_time": "2025-05-06T04:55:15.366Z"
   },
   {
    "duration": 25,
    "start_time": "2025-05-06T04:55:15.397Z"
   },
   {
    "duration": 22,
    "start_time": "2025-05-06T04:55:15.423Z"
   },
   {
    "duration": 2101,
    "start_time": "2025-05-06T04:55:15.446Z"
   },
   {
    "duration": 3,
    "start_time": "2025-05-06T04:55:17.548Z"
   },
   {
    "duration": 27,
    "start_time": "2025-05-06T04:55:17.552Z"
   },
   {
    "duration": 4,
    "start_time": "2025-05-06T04:55:17.580Z"
   },
   {
    "duration": 5,
    "start_time": "2025-05-06T04:55:17.586Z"
   },
   {
    "duration": 24,
    "start_time": "2025-05-06T04:55:17.592Z"
   },
   {
    "duration": 11,
    "start_time": "2025-05-06T04:55:17.617Z"
   },
   {
    "duration": 4,
    "start_time": "2025-05-06T04:55:17.630Z"
   },
   {
    "duration": 52,
    "start_time": "2025-05-06T04:55:17.637Z"
   },
   {
    "duration": 8,
    "start_time": "2025-05-06T04:55:17.690Z"
   },
   {
    "duration": 5,
    "start_time": "2025-05-06T04:55:17.699Z"
   },
   {
    "duration": 15,
    "start_time": "2025-05-06T04:55:17.706Z"
   },
   {
    "duration": 16,
    "start_time": "2025-05-06T04:55:17.722Z"
   },
   {
    "duration": 37,
    "start_time": "2025-05-06T04:55:17.740Z"
   },
   {
    "duration": 2,
    "start_time": "2025-05-06T04:55:17.779Z"
   },
   {
    "duration": 14,
    "start_time": "2025-05-06T04:55:17.783Z"
   },
   {
    "duration": 14,
    "start_time": "2025-05-06T04:55:17.798Z"
   },
   {
    "duration": 19,
    "start_time": "2025-05-06T04:55:17.813Z"
   },
   {
    "duration": 56,
    "start_time": "2025-05-06T04:55:17.833Z"
   },
   {
    "duration": 33,
    "start_time": "2025-05-06T04:55:17.891Z"
   },
   {
    "duration": 17,
    "start_time": "2025-05-06T04:55:17.927Z"
   },
   {
    "duration": 26,
    "start_time": "2025-05-06T05:20:46.713Z"
   },
   {
    "duration": 5,
    "start_time": "2025-05-06T05:21:40.100Z"
   },
   {
    "duration": 24,
    "start_time": "2025-05-06T05:21:52.548Z"
   },
   {
    "duration": 26,
    "start_time": "2025-05-06T05:22:55.709Z"
   },
   {
    "duration": 25,
    "start_time": "2025-05-06T05:23:03.358Z"
   },
   {
    "duration": 27,
    "start_time": "2025-05-06T05:23:03.974Z"
   },
   {
    "duration": 25,
    "start_time": "2025-05-06T05:23:13.871Z"
   },
   {
    "duration": 393,
    "start_time": "2025-05-06T05:23:26.028Z"
   },
   {
    "duration": 98,
    "start_time": "2025-05-06T05:23:26.423Z"
   },
   {
    "duration": 29,
    "start_time": "2025-05-06T05:23:26.522Z"
   },
   {
    "duration": 20,
    "start_time": "2025-05-06T05:23:26.553Z"
   },
   {
    "duration": 2,
    "start_time": "2025-05-06T05:23:26.575Z"
   },
   {
    "duration": 2112,
    "start_time": "2025-05-06T05:23:26.579Z"
   },
   {
    "duration": 3,
    "start_time": "2025-05-06T05:23:28.692Z"
   },
   {
    "duration": 14,
    "start_time": "2025-05-06T05:23:28.696Z"
   },
   {
    "duration": 4,
    "start_time": "2025-05-06T05:23:28.712Z"
   },
   {
    "duration": 5,
    "start_time": "2025-05-06T05:23:28.717Z"
   },
   {
    "duration": 20,
    "start_time": "2025-05-06T05:23:28.724Z"
   },
   {
    "duration": 20,
    "start_time": "2025-05-06T05:23:28.745Z"
   },
   {
    "duration": 2,
    "start_time": "2025-05-06T05:23:28.767Z"
   },
   {
    "duration": 40,
    "start_time": "2025-05-06T05:23:28.771Z"
   },
   {
    "duration": 7,
    "start_time": "2025-05-06T05:23:28.813Z"
   },
   {
    "duration": 42,
    "start_time": "2025-05-06T05:23:28.822Z"
   },
   {
    "duration": 10,
    "start_time": "2025-05-06T05:23:28.866Z"
   },
   {
    "duration": 12,
    "start_time": "2025-05-06T05:23:28.878Z"
   },
   {
    "duration": 40,
    "start_time": "2025-05-06T05:23:28.892Z"
   },
   {
    "duration": 2,
    "start_time": "2025-05-06T05:23:28.934Z"
   },
   {
    "duration": 26,
    "start_time": "2025-05-06T05:23:28.937Z"
   },
   {
    "duration": 13,
    "start_time": "2025-05-06T05:23:28.965Z"
   },
   {
    "duration": 20,
    "start_time": "2025-05-06T05:23:28.980Z"
   },
   {
    "duration": 15,
    "start_time": "2025-05-06T05:23:29.002Z"
   },
   {
    "duration": 7,
    "start_time": "2025-05-06T05:23:29.019Z"
   },
   {
    "duration": 35,
    "start_time": "2025-05-06T05:23:29.028Z"
   },
   {
    "duration": 27,
    "start_time": "2025-05-06T05:23:29.065Z"
   },
   {
    "duration": 56,
    "start_time": "2025-05-06T05:23:29.094Z"
   },
   {
    "duration": 27,
    "start_time": "2025-05-06T05:26:48.667Z"
   },
   {
    "duration": 4,
    "start_time": "2025-05-06T05:27:12.374Z"
   },
   {
    "duration": 71,
    "start_time": "2025-05-06T05:31:54.198Z"
   },
   {
    "duration": 28,
    "start_time": "2025-05-06T05:32:00.329Z"
   },
   {
    "duration": 4,
    "start_time": "2025-05-06T05:33:51.627Z"
   },
   {
    "duration": 4,
    "start_time": "2025-05-06T05:37:16.007Z"
   },
   {
    "duration": 29,
    "start_time": "2025-05-06T05:37:18.351Z"
   },
   {
    "duration": 27,
    "start_time": "2025-05-06T05:37:54.407Z"
   },
   {
    "duration": 3,
    "start_time": "2025-05-06T05:38:06.497Z"
   },
   {
    "duration": 5,
    "start_time": "2025-05-06T05:38:10.019Z"
   },
   {
    "duration": 24,
    "start_time": "2025-05-06T05:39:38.959Z"
   },
   {
    "duration": 3,
    "start_time": "2025-05-06T05:41:43.937Z"
   },
   {
    "duration": 105,
    "start_time": "2025-05-06T05:59:20.742Z"
   },
   {
    "duration": 97,
    "start_time": "2025-05-06T05:59:56.060Z"
   },
   {
    "duration": 3,
    "start_time": "2025-05-06T06:01:25.814Z"
   },
   {
    "duration": 365,
    "start_time": "2025-05-06T06:02:33.088Z"
   },
   {
    "duration": 107,
    "start_time": "2025-05-06T06:06:55.362Z"
   },
   {
    "duration": 13,
    "start_time": "2025-05-06T06:08:56.221Z"
   },
   {
    "duration": 5,
    "start_time": "2025-05-06T06:09:05.890Z"
   },
   {
    "duration": 23,
    "start_time": "2025-05-06T06:09:06.362Z"
   },
   {
    "duration": 24,
    "start_time": "2025-05-06T06:09:10.375Z"
   },
   {
    "duration": 2,
    "start_time": "2025-05-06T06:09:10.899Z"
   },
   {
    "duration": 10,
    "start_time": "2025-05-06T06:09:11.781Z"
   },
   {
    "duration": 375,
    "start_time": "2025-05-06T06:09:16.293Z"
   },
   {
    "duration": 88,
    "start_time": "2025-05-06T06:09:16.669Z"
   },
   {
    "duration": 31,
    "start_time": "2025-05-06T06:09:16.758Z"
   },
   {
    "duration": 14,
    "start_time": "2025-05-06T06:09:16.791Z"
   },
   {
    "duration": 2,
    "start_time": "2025-05-06T06:09:16.807Z"
   },
   {
    "duration": 2152,
    "start_time": "2025-05-06T06:09:16.811Z"
   },
   {
    "duration": 2,
    "start_time": "2025-05-06T06:09:18.965Z"
   },
   {
    "duration": 24,
    "start_time": "2025-05-06T06:09:18.968Z"
   },
   {
    "duration": 4,
    "start_time": "2025-05-06T06:09:18.994Z"
   },
   {
    "duration": 5,
    "start_time": "2025-05-06T06:09:19.000Z"
   },
   {
    "duration": 36,
    "start_time": "2025-05-06T06:09:19.007Z"
   },
   {
    "duration": 11,
    "start_time": "2025-05-06T06:09:19.044Z"
   },
   {
    "duration": 2,
    "start_time": "2025-05-06T06:09:19.057Z"
   },
   {
    "duration": 41,
    "start_time": "2025-05-06T06:09:19.060Z"
   },
   {
    "duration": 8,
    "start_time": "2025-05-06T06:09:19.103Z"
   },
   {
    "duration": 15,
    "start_time": "2025-05-06T06:09:19.112Z"
   },
   {
    "duration": 17,
    "start_time": "2025-05-06T06:09:19.128Z"
   },
   {
    "duration": 31,
    "start_time": "2025-05-06T06:09:19.146Z"
   },
   {
    "duration": 52,
    "start_time": "2025-05-06T06:09:19.179Z"
   },
   {
    "duration": 2,
    "start_time": "2025-05-06T06:09:19.233Z"
   },
   {
    "duration": 12,
    "start_time": "2025-05-06T06:09:19.237Z"
   },
   {
    "duration": 19,
    "start_time": "2025-05-06T06:09:19.251Z"
   },
   {
    "duration": 25,
    "start_time": "2025-05-06T06:09:19.272Z"
   },
   {
    "duration": 15,
    "start_time": "2025-05-06T06:09:19.298Z"
   },
   {
    "duration": 18,
    "start_time": "2025-05-06T06:09:19.315Z"
   },
   {
    "duration": 7,
    "start_time": "2025-05-06T06:09:19.335Z"
   },
   {
    "duration": 48,
    "start_time": "2025-05-06T06:09:19.344Z"
   },
   {
    "duration": 5,
    "start_time": "2025-05-06T06:09:19.396Z"
   },
   {
    "duration": 5,
    "start_time": "2025-05-06T06:09:19.403Z"
   },
   {
    "duration": 15,
    "start_time": "2025-05-06T06:09:19.409Z"
   },
   {
    "duration": 27,
    "start_time": "2025-05-06T06:09:19.425Z"
   },
   {
    "duration": 24,
    "start_time": "2025-05-06T06:09:19.454Z"
   },
   {
    "duration": 2,
    "start_time": "2025-05-06T06:09:19.480Z"
   },
   {
    "duration": 78,
    "start_time": "2025-05-06T06:09:19.484Z"
   },
   {
    "duration": 12,
    "start_time": "2025-05-06T06:10:14.526Z"
   },
   {
    "duration": 39,
    "start_time": "2025-05-06T06:16:24.243Z"
   },
   {
    "duration": 10,
    "start_time": "2025-05-06T06:20:08.200Z"
   },
   {
    "duration": 2,
    "start_time": "2025-05-06T06:20:31.739Z"
   },
   {
    "duration": 2,
    "start_time": "2025-05-06T06:20:38.939Z"
   },
   {
    "duration": 22,
    "start_time": "2025-05-06T06:20:42.920Z"
   },
   {
    "duration": 4,
    "start_time": "2025-05-06T06:23:38.452Z"
   },
   {
    "duration": 3,
    "start_time": "2025-05-06T06:23:43.491Z"
   },
   {
    "duration": 26,
    "start_time": "2025-05-06T06:23:46.239Z"
   },
   {
    "duration": 3,
    "start_time": "2025-05-06T06:23:59.004Z"
   },
   {
    "duration": 23,
    "start_time": "2025-05-06T06:24:21.207Z"
   },
   {
    "duration": 363,
    "start_time": "2025-05-06T06:26:28.304Z"
   },
   {
    "duration": 87,
    "start_time": "2025-05-06T06:26:28.670Z"
   },
   {
    "duration": 30,
    "start_time": "2025-05-06T06:26:28.759Z"
   },
   {
    "duration": 14,
    "start_time": "2025-05-06T06:26:28.791Z"
   },
   {
    "duration": 3,
    "start_time": "2025-05-06T06:26:28.807Z"
   },
   {
    "duration": 2120,
    "start_time": "2025-05-06T06:26:28.811Z"
   },
   {
    "duration": 3,
    "start_time": "2025-05-06T06:26:30.932Z"
   },
   {
    "duration": 22,
    "start_time": "2025-05-06T06:26:30.936Z"
   },
   {
    "duration": 21,
    "start_time": "2025-05-06T06:26:30.959Z"
   },
   {
    "duration": 26,
    "start_time": "2025-05-06T06:26:30.982Z"
   },
   {
    "duration": 39,
    "start_time": "2025-05-06T06:26:31.009Z"
   },
   {
    "duration": 11,
    "start_time": "2025-05-06T06:26:31.049Z"
   },
   {
    "duration": 34,
    "start_time": "2025-05-06T06:26:31.062Z"
   },
   {
    "duration": 50,
    "start_time": "2025-05-06T06:26:31.099Z"
   },
   {
    "duration": 8,
    "start_time": "2025-05-06T06:26:31.151Z"
   },
   {
    "duration": 19,
    "start_time": "2025-05-06T06:26:31.160Z"
   },
   {
    "duration": 37,
    "start_time": "2025-05-06T06:26:31.181Z"
   },
   {
    "duration": 22,
    "start_time": "2025-05-06T06:26:31.220Z"
   },
   {
    "duration": 63,
    "start_time": "2025-05-06T06:26:31.244Z"
   },
   {
    "duration": 4,
    "start_time": "2025-05-06T06:26:31.309Z"
   },
   {
    "duration": 19,
    "start_time": "2025-05-06T06:26:31.314Z"
   },
   {
    "duration": 24,
    "start_time": "2025-05-06T06:26:31.335Z"
   },
   {
    "duration": 45,
    "start_time": "2025-05-06T06:26:31.361Z"
   },
   {
    "duration": 23,
    "start_time": "2025-05-06T06:26:31.408Z"
   },
   {
    "duration": 19,
    "start_time": "2025-05-06T06:26:31.433Z"
   },
   {
    "duration": 6,
    "start_time": "2025-05-06T06:26:31.454Z"
   },
   {
    "duration": 56,
    "start_time": "2025-05-06T06:26:31.462Z"
   },
   {
    "duration": 8,
    "start_time": "2025-05-06T06:26:31.520Z"
   },
   {
    "duration": 3,
    "start_time": "2025-05-06T06:26:31.530Z"
   },
   {
    "duration": 8,
    "start_time": "2025-05-06T06:26:31.535Z"
   },
   {
    "duration": 8,
    "start_time": "2025-05-06T06:26:31.544Z"
   },
   {
    "duration": 61,
    "start_time": "2025-05-06T06:26:31.553Z"
   },
   {
    "duration": 12,
    "start_time": "2025-05-06T06:26:31.616Z"
   },
   {
    "duration": 21,
    "start_time": "2025-05-06T06:26:31.630Z"
   },
   {
    "duration": 27,
    "start_time": "2025-05-06T06:26:31.652Z"
   },
   {
    "duration": 6,
    "start_time": "2025-05-06T06:26:31.681Z"
   },
   {
    "duration": 31,
    "start_time": "2025-05-06T06:26:31.690Z"
   },
   {
    "duration": 9,
    "start_time": "2025-05-06T06:26:31.723Z"
   },
   {
    "duration": 428,
    "start_time": "2025-05-06T08:25:22.430Z"
   },
   {
    "duration": 89,
    "start_time": "2025-05-06T08:25:22.863Z"
   },
   {
    "duration": 29,
    "start_time": "2025-05-06T08:25:22.953Z"
   },
   {
    "duration": 18,
    "start_time": "2025-05-06T08:25:22.984Z"
   },
   {
    "duration": 2,
    "start_time": "2025-05-06T08:25:23.004Z"
   },
   {
    "duration": 2096,
    "start_time": "2025-05-06T08:25:23.007Z"
   },
   {
    "duration": 2,
    "start_time": "2025-05-06T08:25:25.105Z"
   },
   {
    "duration": 27,
    "start_time": "2025-05-06T08:25:25.108Z"
   },
   {
    "duration": 6,
    "start_time": "2025-05-06T08:25:25.137Z"
   },
   {
    "duration": 5,
    "start_time": "2025-05-06T08:25:25.146Z"
   },
   {
    "duration": 16,
    "start_time": "2025-05-06T08:25:25.152Z"
   },
   {
    "duration": 17,
    "start_time": "2025-05-06T08:25:25.169Z"
   },
   {
    "duration": 8,
    "start_time": "2025-05-06T08:25:25.187Z"
   },
   {
    "duration": 47,
    "start_time": "2025-05-06T08:25:25.196Z"
   },
   {
    "duration": 8,
    "start_time": "2025-05-06T08:25:25.245Z"
   },
   {
    "duration": 14,
    "start_time": "2025-05-06T08:25:25.254Z"
   },
   {
    "duration": 9,
    "start_time": "2025-05-06T08:25:25.270Z"
   },
   {
    "duration": 19,
    "start_time": "2025-05-06T08:25:25.280Z"
   },
   {
    "duration": 43,
    "start_time": "2025-05-06T08:25:25.300Z"
   },
   {
    "duration": 2,
    "start_time": "2025-05-06T08:25:25.344Z"
   },
   {
    "duration": 11,
    "start_time": "2025-05-06T08:25:25.348Z"
   },
   {
    "duration": 34,
    "start_time": "2025-05-06T08:25:25.361Z"
   },
   {
    "duration": 30,
    "start_time": "2025-05-06T08:25:25.397Z"
   },
   {
    "duration": 32,
    "start_time": "2025-05-06T08:25:25.428Z"
   },
   {
    "duration": 6,
    "start_time": "2025-05-06T08:25:25.462Z"
   },
   {
    "duration": 8,
    "start_time": "2025-05-06T08:25:25.470Z"
   },
   {
    "duration": 31,
    "start_time": "2025-05-06T08:25:25.480Z"
   },
   {
    "duration": 5,
    "start_time": "2025-05-06T08:25:25.514Z"
   },
   {
    "duration": 22,
    "start_time": "2025-05-06T08:25:25.521Z"
   },
   {
    "duration": 6,
    "start_time": "2025-05-06T08:25:25.545Z"
   },
   {
    "duration": 18,
    "start_time": "2025-05-06T08:25:25.552Z"
   },
   {
    "duration": 40,
    "start_time": "2025-05-06T08:25:25.572Z"
   },
   {
    "duration": 5,
    "start_time": "2025-05-06T08:25:25.614Z"
   },
   {
    "duration": 21,
    "start_time": "2025-05-06T08:25:25.620Z"
   },
   {
    "duration": 23,
    "start_time": "2025-05-06T08:25:25.643Z"
   },
   {
    "duration": 4,
    "start_time": "2025-05-06T08:25:25.667Z"
   },
   {
    "duration": 39,
    "start_time": "2025-05-06T08:25:25.672Z"
   },
   {
    "duration": 17,
    "start_time": "2025-05-06T08:25:25.713Z"
   },
   {
    "duration": 5,
    "start_time": "2025-05-06T08:25:49.584Z"
   },
   {
    "duration": 5,
    "start_time": "2025-05-06T08:29:11.120Z"
   },
   {
    "duration": 3,
    "start_time": "2025-05-06T08:37:37.500Z"
   },
   {
    "duration": 13,
    "start_time": "2025-05-06T08:40:36.247Z"
   },
   {
    "duration": 11,
    "start_time": "2025-05-06T08:41:09.162Z"
   },
   {
    "duration": 11,
    "start_time": "2025-05-06T08:41:39.338Z"
   },
   {
    "duration": 5,
    "start_time": "2025-05-06T08:45:49.301Z"
   },
   {
    "duration": 12,
    "start_time": "2025-05-06T08:46:43.696Z"
   },
   {
    "duration": 24,
    "start_time": "2025-05-06T08:47:34.525Z"
   },
   {
    "duration": 25,
    "start_time": "2025-05-06T08:47:41.431Z"
   },
   {
    "duration": 428,
    "start_time": "2025-05-06T08:49:12.475Z"
   },
   {
    "duration": 94,
    "start_time": "2025-05-06T08:49:12.905Z"
   },
   {
    "duration": 33,
    "start_time": "2025-05-06T08:49:13.000Z"
   },
   {
    "duration": 30,
    "start_time": "2025-05-06T08:49:13.034Z"
   },
   {
    "duration": 3,
    "start_time": "2025-05-06T08:49:13.066Z"
   },
   {
    "duration": 2325,
    "start_time": "2025-05-06T08:49:13.070Z"
   },
   {
    "duration": 2,
    "start_time": "2025-05-06T08:49:15.397Z"
   },
   {
    "duration": 19,
    "start_time": "2025-05-06T08:49:15.401Z"
   },
   {
    "duration": 4,
    "start_time": "2025-05-06T08:49:15.421Z"
   },
   {
    "duration": 14,
    "start_time": "2025-05-06T08:49:15.426Z"
   },
   {
    "duration": 19,
    "start_time": "2025-05-06T08:49:15.442Z"
   },
   {
    "duration": 19,
    "start_time": "2025-05-06T08:49:15.463Z"
   },
   {
    "duration": 3,
    "start_time": "2025-05-06T08:49:15.483Z"
   },
   {
    "duration": 52,
    "start_time": "2025-05-06T08:49:15.489Z"
   },
   {
    "duration": 9,
    "start_time": "2025-05-06T08:49:15.543Z"
   },
   {
    "duration": 5,
    "start_time": "2025-05-06T08:49:15.561Z"
   },
   {
    "duration": 18,
    "start_time": "2025-05-06T08:49:15.568Z"
   },
   {
    "duration": 14,
    "start_time": "2025-05-06T08:49:15.587Z"
   },
   {
    "duration": 60,
    "start_time": "2025-05-06T08:49:15.602Z"
   },
   {
    "duration": 3,
    "start_time": "2025-05-06T08:49:15.663Z"
   },
   {
    "duration": 18,
    "start_time": "2025-05-06T08:49:15.668Z"
   },
   {
    "duration": 22,
    "start_time": "2025-05-06T08:49:15.687Z"
   },
   {
    "duration": 35,
    "start_time": "2025-05-06T08:49:15.711Z"
   },
   {
    "duration": 23,
    "start_time": "2025-05-06T08:49:15.748Z"
   },
   {
    "duration": 7,
    "start_time": "2025-05-06T08:49:15.773Z"
   },
   {
    "duration": 17,
    "start_time": "2025-05-06T08:49:15.781Z"
   },
   {
    "duration": 53,
    "start_time": "2025-05-06T08:49:15.799Z"
   },
   {
    "duration": 10,
    "start_time": "2025-05-06T08:49:15.854Z"
   },
   {
    "duration": 19,
    "start_time": "2025-05-06T08:49:15.866Z"
   },
   {
    "duration": 10,
    "start_time": "2025-05-06T08:49:15.886Z"
   },
   {
    "duration": 14,
    "start_time": "2025-05-06T08:49:15.898Z"
   },
   {
    "duration": 35,
    "start_time": "2025-05-06T08:49:15.913Z"
   },
   {
    "duration": 2,
    "start_time": "2025-05-06T08:49:15.950Z"
   },
   {
    "duration": 13,
    "start_time": "2025-05-06T08:49:15.953Z"
   },
   {
    "duration": 23,
    "start_time": "2025-05-06T08:49:15.968Z"
   },
   {
    "duration": 6,
    "start_time": "2025-05-06T08:49:15.993Z"
   },
   {
    "duration": 24,
    "start_time": "2025-05-06T08:49:16.001Z"
   },
   {
    "duration": 5,
    "start_time": "2025-05-06T08:49:16.026Z"
   },
   {
    "duration": 13,
    "start_time": "2025-05-06T08:49:16.032Z"
   },
   {
    "duration": 34,
    "start_time": "2025-05-06T08:49:16.047Z"
   },
   {
    "duration": 3,
    "start_time": "2025-05-06T08:49:16.084Z"
   },
   {
    "duration": 6,
    "start_time": "2025-05-06T08:49:16.088Z"
   },
   {
    "duration": 33,
    "start_time": "2025-05-06T08:49:16.095Z"
   },
   {
    "duration": 1434,
    "start_time": "2025-05-06T09:03:57.396Z"
   },
   {
    "duration": 1343,
    "start_time": "2025-05-06T09:04:28.731Z"
   },
   {
    "duration": 2131,
    "start_time": "2025-05-06T09:05:05.927Z"
   },
   {
    "duration": 1425,
    "start_time": "2025-05-06T09:05:48.739Z"
   },
   {
    "duration": 1535,
    "start_time": "2025-05-06T09:07:25.667Z"
   },
   {
    "duration": 6,
    "start_time": "2025-05-06T09:35:42.124Z"
   },
   {
    "duration": 22,
    "start_time": "2025-05-06T09:37:05.144Z"
   },
   {
    "duration": 22,
    "start_time": "2025-05-06T09:37:27.863Z"
   },
   {
    "duration": 22,
    "start_time": "2025-05-06T09:39:44.414Z"
   },
   {
    "duration": 3,
    "start_time": "2025-05-06T09:43:07.884Z"
   },
   {
    "duration": 21,
    "start_time": "2025-05-06T09:43:24.961Z"
   },
   {
    "duration": 220,
    "start_time": "2025-05-06T09:44:05.411Z"
   },
   {
    "duration": 4,
    "start_time": "2025-05-06T09:47:48.817Z"
   },
   {
    "duration": 14,
    "start_time": "2025-05-06T09:47:49.345Z"
   },
   {
    "duration": 233,
    "start_time": "2025-05-06T09:47:52.051Z"
   },
   {
    "duration": 4,
    "start_time": "2025-05-06T09:48:34.880Z"
   },
   {
    "duration": 13,
    "start_time": "2025-05-06T09:48:35.425Z"
   },
   {
    "duration": 229,
    "start_time": "2025-05-06T09:48:36.648Z"
   },
   {
    "duration": 4,
    "start_time": "2025-05-06T09:49:34.099Z"
   },
   {
    "duration": 13,
    "start_time": "2025-05-06T09:49:34.501Z"
   },
   {
    "duration": 229,
    "start_time": "2025-05-06T09:49:35.197Z"
   },
   {
    "duration": 14,
    "start_time": "2025-05-06T09:49:42.761Z"
   },
   {
    "duration": 221,
    "start_time": "2025-05-06T09:49:46.008Z"
   },
   {
    "duration": 3,
    "start_time": "2025-05-06T09:50:53.629Z"
   },
   {
    "duration": 691,
    "start_time": "2025-05-06T09:51:33.728Z"
   },
   {
    "duration": 14,
    "start_time": "2025-05-06T09:51:44.440Z"
   },
   {
    "duration": 36,
    "start_time": "2025-05-06T09:51:59.584Z"
   },
   {
    "duration": 21,
    "start_time": "2025-05-06T09:52:10.696Z"
   },
   {
    "duration": 2,
    "start_time": "2025-05-06T09:52:20.005Z"
   },
   {
    "duration": 13,
    "start_time": "2025-05-06T09:53:56.562Z"
   },
   {
    "duration": 4,
    "start_time": "2025-05-06T09:53:57.784Z"
   },
   {
    "duration": 235,
    "start_time": "2025-05-06T09:53:58.462Z"
   },
   {
    "duration": 2,
    "start_time": "2025-05-06T09:53:59.304Z"
   },
   {
    "duration": 359,
    "start_time": "2025-05-06T09:54:05.017Z"
   },
   {
    "duration": 90,
    "start_time": "2025-05-06T09:54:05.378Z"
   },
   {
    "duration": 33,
    "start_time": "2025-05-06T09:54:05.470Z"
   },
   {
    "duration": 24,
    "start_time": "2025-05-06T09:54:05.505Z"
   },
   {
    "duration": 7,
    "start_time": "2025-05-06T09:54:05.532Z"
   },
   {
    "duration": 2094,
    "start_time": "2025-05-06T09:54:05.541Z"
   },
   {
    "duration": 3,
    "start_time": "2025-05-06T09:54:07.637Z"
   },
   {
    "duration": 21,
    "start_time": "2025-05-06T09:54:07.641Z"
   },
   {
    "duration": 4,
    "start_time": "2025-05-06T09:54:07.663Z"
   },
   {
    "duration": 20,
    "start_time": "2025-05-06T09:54:07.669Z"
   },
   {
    "duration": 34,
    "start_time": "2025-05-06T09:54:07.691Z"
   },
   {
    "duration": 12,
    "start_time": "2025-05-06T09:54:07.726Z"
   },
   {
    "duration": 3,
    "start_time": "2025-05-06T09:54:07.739Z"
   },
   {
    "duration": 40,
    "start_time": "2025-05-06T09:54:07.745Z"
   },
   {
    "duration": 8,
    "start_time": "2025-05-06T09:54:07.787Z"
   },
   {
    "duration": 29,
    "start_time": "2025-05-06T09:54:07.796Z"
   },
   {
    "duration": 55,
    "start_time": "2025-05-06T09:54:07.827Z"
   },
   {
    "duration": 44,
    "start_time": "2025-05-06T09:54:07.884Z"
   },
   {
    "duration": 53,
    "start_time": "2025-05-06T09:54:07.931Z"
   },
   {
    "duration": 3,
    "start_time": "2025-05-06T09:54:07.986Z"
   },
   {
    "duration": 26,
    "start_time": "2025-05-06T09:54:07.991Z"
   },
   {
    "duration": 31,
    "start_time": "2025-05-06T09:54:08.018Z"
   },
   {
    "duration": 50,
    "start_time": "2025-05-06T09:54:08.050Z"
   },
   {
    "duration": 35,
    "start_time": "2025-05-06T09:54:08.102Z"
   },
   {
    "duration": 16,
    "start_time": "2025-05-06T09:54:08.139Z"
   },
   {
    "duration": 36,
    "start_time": "2025-05-06T09:54:08.157Z"
   },
   {
    "duration": 38,
    "start_time": "2025-05-06T09:54:08.194Z"
   },
   {
    "duration": 46,
    "start_time": "2025-05-06T09:54:08.233Z"
   },
   {
    "duration": 12,
    "start_time": "2025-05-06T09:54:08.281Z"
   },
   {
    "duration": 33,
    "start_time": "2025-05-06T09:54:08.295Z"
   },
   {
    "duration": 29,
    "start_time": "2025-05-06T09:54:08.330Z"
   },
   {
    "duration": 53,
    "start_time": "2025-05-06T09:54:08.361Z"
   },
   {
    "duration": 13,
    "start_time": "2025-05-06T09:54:08.416Z"
   },
   {
    "duration": 41,
    "start_time": "2025-05-06T09:54:08.431Z"
   },
   {
    "duration": 38,
    "start_time": "2025-05-06T09:54:08.474Z"
   },
   {
    "duration": 8,
    "start_time": "2025-05-06T09:54:08.514Z"
   },
   {
    "duration": 20,
    "start_time": "2025-05-06T09:54:08.524Z"
   },
   {
    "duration": 5,
    "start_time": "2025-05-06T09:54:08.545Z"
   },
   {
    "duration": 13,
    "start_time": "2025-05-06T09:54:08.551Z"
   },
   {
    "duration": 29,
    "start_time": "2025-05-06T09:54:08.566Z"
   },
   {
    "duration": 2,
    "start_time": "2025-05-06T09:54:08.599Z"
   },
   {
    "duration": 4,
    "start_time": "2025-05-06T09:54:08.602Z"
   },
   {
    "duration": 15,
    "start_time": "2025-05-06T09:54:08.607Z"
   },
   {
    "duration": 1436,
    "start_time": "2025-05-06T09:54:08.623Z"
   },
   {
    "duration": 22,
    "start_time": "2025-05-06T09:54:10.063Z"
   },
   {
    "duration": 33,
    "start_time": "2025-05-06T09:54:10.087Z"
   },
   {
    "duration": 4,
    "start_time": "2025-05-06T09:54:10.121Z"
   },
   {
    "duration": 243,
    "start_time": "2025-05-06T09:54:10.126Z"
   },
   {
    "duration": 3,
    "start_time": "2025-05-06T09:54:10.370Z"
   },
   {
    "duration": 1342,
    "start_time": "2025-05-06T09:55:35.820Z"
   },
   {
    "duration": 205,
    "start_time": "2025-05-06T09:57:01.122Z"
   },
   {
    "duration": 225,
    "start_time": "2025-05-06T09:59:46.175Z"
   },
   {
    "duration": 22,
    "start_time": "2025-05-06T10:01:58.165Z"
   },
   {
    "duration": 6,
    "start_time": "2025-05-06T10:06:12.675Z"
   },
   {
    "duration": 71,
    "start_time": "2025-05-06T10:06:35.594Z"
   },
   {
    "duration": 5,
    "start_time": "2025-05-06T10:06:41.409Z"
   },
   {
    "duration": 12,
    "start_time": "2025-05-06T10:46:55.456Z"
   },
   {
    "duration": 122,
    "start_time": "2025-05-06T10:53:06.036Z"
   },
   {
    "duration": 23,
    "start_time": "2025-05-06T10:54:42.805Z"
   },
   {
    "duration": 21,
    "start_time": "2025-05-06T10:55:18.362Z"
   },
   {
    "duration": 43,
    "start_time": "2025-05-06T10:55:39.023Z"
   },
   {
    "duration": 410,
    "start_time": "2025-05-06T10:59:46.592Z"
   },
   {
    "duration": 265,
    "start_time": "2025-05-06T11:00:15.218Z"
   },
   {
    "duration": 400,
    "start_time": "2025-05-06T11:02:19.547Z"
   },
   {
    "duration": 605,
    "start_time": "2025-05-06T11:02:36.857Z"
   },
   {
    "duration": 2179,
    "start_time": "2025-05-06T11:02:53.460Z"
   },
   {
    "duration": 2144,
    "start_time": "2025-05-06T11:03:07.082Z"
   },
   {
    "duration": 531,
    "start_time": "2025-05-06T11:03:22.746Z"
   },
   {
    "duration": 255,
    "start_time": "2025-05-06T11:03:55.267Z"
   },
   {
    "duration": 403,
    "start_time": "2025-05-06T11:04:07.996Z"
   },
   {
    "duration": 31,
    "start_time": "2025-05-06T11:04:20.696Z"
   },
   {
    "duration": 397,
    "start_time": "2025-05-07T10:40:50.818Z"
   },
   {
    "duration": 111,
    "start_time": "2025-05-07T10:40:51.217Z"
   },
   {
    "duration": 44,
    "start_time": "2025-05-07T10:40:51.329Z"
   },
   {
    "duration": 18,
    "start_time": "2025-05-07T10:40:51.374Z"
   },
   {
    "duration": 14,
    "start_time": "2025-05-07T10:40:51.395Z"
   },
   {
    "duration": 2646,
    "start_time": "2025-05-07T10:40:51.411Z"
   },
   {
    "duration": 4,
    "start_time": "2025-05-07T10:40:54.059Z"
   },
   {
    "duration": 12,
    "start_time": "2025-05-07T10:40:54.065Z"
   },
   {
    "duration": 4,
    "start_time": "2025-05-07T10:40:54.080Z"
   },
   {
    "duration": 6,
    "start_time": "2025-05-07T10:40:54.086Z"
   },
   {
    "duration": 18,
    "start_time": "2025-05-07T10:40:54.094Z"
   },
   {
    "duration": 52,
    "start_time": "2025-05-07T10:40:54.114Z"
   },
   {
    "duration": 3,
    "start_time": "2025-05-07T10:40:54.168Z"
   },
   {
    "duration": 45,
    "start_time": "2025-05-07T10:40:54.175Z"
   },
   {
    "duration": 38,
    "start_time": "2025-05-07T10:40:54.222Z"
   },
   {
    "duration": 5,
    "start_time": "2025-05-07T10:40:54.263Z"
   },
   {
    "duration": 7,
    "start_time": "2025-05-07T10:40:54.270Z"
   },
   {
    "duration": 13,
    "start_time": "2025-05-07T10:40:54.278Z"
   },
   {
    "duration": 39,
    "start_time": "2025-05-07T10:40:54.293Z"
   },
   {
    "duration": 28,
    "start_time": "2025-05-07T10:40:54.333Z"
   },
   {
    "duration": 11,
    "start_time": "2025-05-07T10:40:54.363Z"
   },
   {
    "duration": 14,
    "start_time": "2025-05-07T10:40:54.375Z"
   },
   {
    "duration": 24,
    "start_time": "2025-05-07T10:40:54.390Z"
   },
   {
    "duration": 15,
    "start_time": "2025-05-07T10:40:54.416Z"
   },
   {
    "duration": 9,
    "start_time": "2025-05-07T10:40:54.460Z"
   },
   {
    "duration": 11,
    "start_time": "2025-05-07T10:40:54.471Z"
   },
   {
    "duration": 29,
    "start_time": "2025-05-07T10:40:54.484Z"
   },
   {
    "duration": 6,
    "start_time": "2025-05-07T10:40:54.515Z"
   },
   {
    "duration": 5,
    "start_time": "2025-05-07T10:40:54.523Z"
   },
   {
    "duration": 6,
    "start_time": "2025-05-07T10:40:54.561Z"
   },
   {
    "duration": 6,
    "start_time": "2025-05-07T10:40:54.568Z"
   },
   {
    "duration": 29,
    "start_time": "2025-05-07T10:40:54.576Z"
   },
   {
    "duration": 3,
    "start_time": "2025-05-07T10:40:54.606Z"
   },
   {
    "duration": 13,
    "start_time": "2025-05-07T10:40:54.610Z"
   },
   {
    "duration": 58,
    "start_time": "2025-05-07T10:40:54.625Z"
   },
   {
    "duration": 4,
    "start_time": "2025-05-07T10:40:54.685Z"
   },
   {
    "duration": 14,
    "start_time": "2025-05-07T10:40:54.691Z"
   },
   {
    "duration": 4,
    "start_time": "2025-05-07T10:40:54.707Z"
   },
   {
    "duration": 14,
    "start_time": "2025-05-07T10:40:54.712Z"
   },
   {
    "duration": 61,
    "start_time": "2025-05-07T10:40:54.728Z"
   },
   {
    "duration": 2,
    "start_time": "2025-05-07T10:40:54.793Z"
   },
   {
    "duration": 7,
    "start_time": "2025-05-07T10:40:54.797Z"
   },
   {
    "duration": 29,
    "start_time": "2025-05-07T10:40:54.806Z"
   },
   {
    "duration": 1664,
    "start_time": "2025-05-07T10:40:54.836Z"
   },
   {
    "duration": 255,
    "start_time": "2025-05-07T10:40:56.502Z"
   },
   {
    "duration": 25,
    "start_time": "2025-05-07T10:40:56.761Z"
   },
   {
    "duration": 24,
    "start_time": "2025-05-07T10:40:56.787Z"
   },
   {
    "duration": 5,
    "start_time": "2025-05-07T10:40:56.813Z"
   },
   {
    "duration": 291,
    "start_time": "2025-05-07T10:40:56.819Z"
   },
   {
    "duration": 3,
    "start_time": "2025-05-07T10:40:57.112Z"
   },
   {
    "duration": 23,
    "start_time": "2025-05-07T10:40:57.116Z"
   },
   {
    "duration": 250,
    "start_time": "2025-05-07T10:40:57.141Z"
   },
   {
    "duration": 26,
    "start_time": "2025-05-07T10:40:57.393Z"
   },
   {
    "duration": 7,
    "start_time": "2025-05-07T10:40:57.421Z"
   },
   {
    "duration": 8,
    "start_time": "2025-05-07T10:40:57.430Z"
   },
   {
    "duration": 21,
    "start_time": "2025-05-07T10:40:57.440Z"
   },
   {
    "duration": 23,
    "start_time": "2025-05-07T10:40:57.464Z"
   },
   {
    "duration": 45,
    "start_time": "2025-05-07T10:40:57.489Z"
   },
   {
    "duration": 39,
    "start_time": "2025-05-07T10:49:19.574Z"
   },
   {
    "duration": 24,
    "start_time": "2025-05-07T10:49:50.888Z"
   },
   {
    "duration": 2,
    "start_time": "2025-05-07T11:00:28.268Z"
   },
   {
    "duration": 23,
    "start_time": "2025-05-07T11:01:10.310Z"
   },
   {
    "duration": 2,
    "start_time": "2025-05-07T11:01:21.572Z"
   },
   {
    "duration": 2,
    "start_time": "2025-05-07T11:02:24.782Z"
   },
   {
    "duration": 10,
    "start_time": "2025-05-07T11:03:13.464Z"
   },
   {
    "duration": 9,
    "start_time": "2025-05-07T11:03:25.690Z"
   },
   {
    "duration": 413,
    "start_time": "2025-05-07T11:03:30.891Z"
   },
   {
    "duration": 100,
    "start_time": "2025-05-07T11:03:31.307Z"
   },
   {
    "duration": 34,
    "start_time": "2025-05-07T11:03:31.409Z"
   },
   {
    "duration": 27,
    "start_time": "2025-05-07T11:03:31.445Z"
   },
   {
    "duration": 3,
    "start_time": "2025-05-07T11:03:31.475Z"
   },
   {
    "duration": 2433,
    "start_time": "2025-05-07T11:03:31.480Z"
   },
   {
    "duration": 3,
    "start_time": "2025-05-07T11:03:33.915Z"
   },
   {
    "duration": 54,
    "start_time": "2025-05-07T11:03:33.920Z"
   },
   {
    "duration": 16,
    "start_time": "2025-05-07T11:03:33.976Z"
   },
   {
    "duration": 23,
    "start_time": "2025-05-07T11:03:33.994Z"
   },
   {
    "duration": 17,
    "start_time": "2025-05-07T11:03:34.019Z"
   },
   {
    "duration": 98,
    "start_time": "2025-05-07T11:03:34.038Z"
   },
   {
    "duration": 4,
    "start_time": "2025-05-07T11:03:34.138Z"
   },
   {
    "duration": 70,
    "start_time": "2025-05-07T11:03:34.147Z"
   },
   {
    "duration": 10,
    "start_time": "2025-05-07T11:03:34.219Z"
   },
   {
    "duration": 7,
    "start_time": "2025-05-07T11:03:34.231Z"
   },
   {
    "duration": 15,
    "start_time": "2025-05-07T11:03:34.240Z"
   },
   {
    "duration": 17,
    "start_time": "2025-05-07T11:03:34.261Z"
   },
   {
    "duration": 57,
    "start_time": "2025-05-07T11:03:34.281Z"
   },
   {
    "duration": 2,
    "start_time": "2025-05-07T11:03:34.341Z"
   },
   {
    "duration": 27,
    "start_time": "2025-05-07T11:03:34.345Z"
   },
   {
    "duration": 17,
    "start_time": "2025-05-07T11:03:34.374Z"
   },
   {
    "duration": 25,
    "start_time": "2025-05-07T11:03:34.393Z"
   },
   {
    "duration": 17,
    "start_time": "2025-05-07T11:03:34.420Z"
   },
   {
    "duration": 28,
    "start_time": "2025-05-07T11:03:34.438Z"
   },
   {
    "duration": 16,
    "start_time": "2025-05-07T11:03:34.468Z"
   },
   {
    "duration": 77,
    "start_time": "2025-05-07T11:03:34.486Z"
   },
   {
    "duration": 9,
    "start_time": "2025-05-07T11:03:34.564Z"
   },
   {
    "duration": 9,
    "start_time": "2025-05-07T11:03:34.575Z"
   },
   {
    "duration": 5,
    "start_time": "2025-05-07T11:03:34.586Z"
   },
   {
    "duration": 15,
    "start_time": "2025-05-07T11:03:34.592Z"
   },
   {
    "duration": 30,
    "start_time": "2025-05-07T11:03:34.609Z"
   },
   {
    "duration": 3,
    "start_time": "2025-05-07T11:03:34.641Z"
   },
   {
    "duration": 111,
    "start_time": "2025-05-07T11:03:34.645Z"
   },
   {
    "duration": 27,
    "start_time": "2025-05-07T11:03:34.758Z"
   },
   {
    "duration": 5,
    "start_time": "2025-05-07T11:03:34.788Z"
   },
   {
    "duration": 14,
    "start_time": "2025-05-07T11:03:34.795Z"
   },
   {
    "duration": 5,
    "start_time": "2025-05-07T11:03:34.811Z"
   },
   {
    "duration": 49,
    "start_time": "2025-05-07T11:03:34.818Z"
   },
   {
    "duration": 42,
    "start_time": "2025-05-07T11:03:34.869Z"
   },
   {
    "duration": 3,
    "start_time": "2025-05-07T11:03:34.915Z"
   },
   {
    "duration": 5,
    "start_time": "2025-05-07T11:03:34.920Z"
   },
   {
    "duration": 20,
    "start_time": "2025-05-07T11:03:34.927Z"
   },
   {
    "duration": 1673,
    "start_time": "2025-05-07T11:03:34.949Z"
   },
   {
    "duration": 256,
    "start_time": "2025-05-07T11:03:36.624Z"
   },
   {
    "duration": 25,
    "start_time": "2025-05-07T11:03:36.882Z"
   },
   {
    "duration": 33,
    "start_time": "2025-05-07T11:03:36.909Z"
   },
   {
    "duration": 18,
    "start_time": "2025-05-07T11:03:36.944Z"
   },
   {
    "duration": 272,
    "start_time": "2025-05-07T11:03:36.964Z"
   },
   {
    "duration": 3,
    "start_time": "2025-05-07T11:03:37.238Z"
   },
   {
    "duration": 19,
    "start_time": "2025-05-07T11:03:37.242Z"
   },
   {
    "duration": 261,
    "start_time": "2025-05-07T11:03:37.263Z"
   },
   {
    "duration": 37,
    "start_time": "2025-05-07T11:03:37.526Z"
   },
   {
    "duration": 3,
    "start_time": "2025-05-07T11:03:37.564Z"
   },
   {
    "duration": 39,
    "start_time": "2025-05-07T11:03:37.568Z"
   },
   {
    "duration": 10,
    "start_time": "2025-05-07T11:03:37.609Z"
   },
   {
    "duration": 17,
    "start_time": "2025-05-07T11:03:37.621Z"
   },
   {
    "duration": 17,
    "start_time": "2025-05-07T11:03:37.640Z"
   },
   {
    "duration": 14,
    "start_time": "2025-05-07T11:03:40.222Z"
   },
   {
    "duration": 20,
    "start_time": "2025-05-07T11:06:31.270Z"
   },
   {
    "duration": 16,
    "start_time": "2025-05-07T11:18:17.174Z"
   },
   {
    "duration": 14,
    "start_time": "2025-05-07T11:18:33.639Z"
   },
   {
    "duration": 16,
    "start_time": "2025-05-07T11:18:36.520Z"
   },
   {
    "duration": 17,
    "start_time": "2025-05-07T11:18:42.874Z"
   },
   {
    "duration": 14,
    "start_time": "2025-05-07T11:18:50.693Z"
   },
   {
    "duration": 19,
    "start_time": "2025-05-07T11:19:35.873Z"
   },
   {
    "duration": 28,
    "start_time": "2025-05-07T11:21:08.861Z"
   },
   {
    "duration": 22,
    "start_time": "2025-05-07T11:21:34.844Z"
   },
   {
    "duration": 4,
    "start_time": "2025-05-07T11:21:38.959Z"
   },
   {
    "duration": 24,
    "start_time": "2025-05-07T11:23:17.978Z"
   },
   {
    "duration": 14,
    "start_time": "2025-05-07T11:27:05.650Z"
   },
   {
    "duration": 3,
    "start_time": "2025-05-07T11:28:45.230Z"
   },
   {
    "duration": 9,
    "start_time": "2025-05-07T11:31:49.447Z"
   },
   {
    "duration": 9,
    "start_time": "2025-05-07T11:33:33.538Z"
   },
   {
    "duration": 8,
    "start_time": "2025-05-07T11:35:21.386Z"
   },
   {
    "duration": 9,
    "start_time": "2025-05-07T11:37:25.192Z"
   },
   {
    "duration": 446,
    "start_time": "2025-05-07T11:46:41.325Z"
   },
   {
    "duration": 100,
    "start_time": "2025-05-07T11:46:41.773Z"
   },
   {
    "duration": 35,
    "start_time": "2025-05-07T11:46:41.875Z"
   },
   {
    "duration": 16,
    "start_time": "2025-05-07T11:46:41.912Z"
   },
   {
    "duration": 4,
    "start_time": "2025-05-07T11:46:41.931Z"
   },
   {
    "duration": 2455,
    "start_time": "2025-05-07T11:46:41.962Z"
   },
   {
    "duration": 3,
    "start_time": "2025-05-07T11:46:44.419Z"
   },
   {
    "duration": 35,
    "start_time": "2025-05-07T11:46:44.423Z"
   },
   {
    "duration": 11,
    "start_time": "2025-05-07T11:46:44.459Z"
   },
   {
    "duration": 10,
    "start_time": "2025-05-07T11:46:44.471Z"
   },
   {
    "duration": 18,
    "start_time": "2025-05-07T11:46:44.483Z"
   },
   {
    "duration": 13,
    "start_time": "2025-05-07T11:46:44.503Z"
   },
   {
    "duration": 26,
    "start_time": "2025-05-07T11:46:44.518Z"
   },
   {
    "duration": 45,
    "start_time": "2025-05-07T11:46:44.548Z"
   },
   {
    "duration": 9,
    "start_time": "2025-05-07T11:46:44.595Z"
   },
   {
    "duration": 6,
    "start_time": "2025-05-07T11:46:44.605Z"
   },
   {
    "duration": 11,
    "start_time": "2025-05-07T11:46:44.613Z"
   },
   {
    "duration": 13,
    "start_time": "2025-05-07T11:46:44.626Z"
   },
   {
    "duration": 40,
    "start_time": "2025-05-07T11:46:44.661Z"
   },
   {
    "duration": 3,
    "start_time": "2025-05-07T11:46:44.703Z"
   },
   {
    "duration": 13,
    "start_time": "2025-05-07T11:46:44.707Z"
   },
   {
    "duration": 38,
    "start_time": "2025-05-07T11:46:44.722Z"
   },
   {
    "duration": 24,
    "start_time": "2025-05-07T11:46:44.762Z"
   },
   {
    "duration": 19,
    "start_time": "2025-05-07T11:46:44.787Z"
   },
   {
    "duration": 8,
    "start_time": "2025-05-07T11:46:44.808Z"
   },
   {
    "duration": 14,
    "start_time": "2025-05-07T11:46:44.818Z"
   },
   {
    "duration": 52,
    "start_time": "2025-05-07T11:46:44.833Z"
   },
   {
    "duration": 134,
    "start_time": "2025-05-07T11:46:44.887Z"
   },
   {
    "duration": 81,
    "start_time": "2025-05-07T11:46:45.023Z"
   },
   {
    "duration": 156,
    "start_time": "2025-05-07T11:46:45.106Z"
   },
   {
    "duration": 29,
    "start_time": "2025-05-07T11:46:45.264Z"
   },
   {
    "duration": 34,
    "start_time": "2025-05-07T11:46:45.295Z"
   },
   {
    "duration": 38,
    "start_time": "2025-05-07T11:46:45.331Z"
   },
   {
    "duration": 25,
    "start_time": "2025-05-07T11:46:45.371Z"
   },
   {
    "duration": 47,
    "start_time": "2025-05-07T11:46:45.397Z"
   },
   {
    "duration": 13,
    "start_time": "2025-05-07T11:46:45.446Z"
   },
   {
    "duration": 33,
    "start_time": "2025-05-07T11:46:45.461Z"
   },
   {
    "duration": 4,
    "start_time": "2025-05-07T11:46:45.496Z"
   },
   {
    "duration": 20,
    "start_time": "2025-05-07T11:46:45.501Z"
   },
   {
    "duration": 33,
    "start_time": "2025-05-07T11:46:45.523Z"
   },
   {
    "duration": 3,
    "start_time": "2025-05-07T11:46:45.560Z"
   },
   {
    "duration": 15,
    "start_time": "2025-05-07T11:46:45.565Z"
   },
   {
    "duration": 14,
    "start_time": "2025-05-07T11:46:45.582Z"
   },
   {
    "duration": 1668,
    "start_time": "2025-05-07T11:46:45.597Z"
   },
   {
    "duration": 247,
    "start_time": "2025-05-07T11:46:47.267Z"
   },
   {
    "duration": 25,
    "start_time": "2025-05-07T11:46:47.515Z"
   },
   {
    "duration": 49,
    "start_time": "2025-05-07T11:46:47.542Z"
   },
   {
    "duration": 4,
    "start_time": "2025-05-07T11:46:47.593Z"
   },
   {
    "duration": 267,
    "start_time": "2025-05-07T11:46:47.599Z"
   },
   {
    "duration": 2,
    "start_time": "2025-05-07T11:46:47.868Z"
   },
   {
    "duration": 9,
    "start_time": "2025-05-07T11:46:47.872Z"
   },
   {
    "duration": 258,
    "start_time": "2025-05-07T11:46:47.883Z"
   },
   {
    "duration": 36,
    "start_time": "2025-05-07T11:46:48.143Z"
   },
   {
    "duration": 67,
    "start_time": "2025-05-07T11:46:48.181Z"
   },
   {
    "duration": 10,
    "start_time": "2025-05-07T11:46:48.250Z"
   },
   {
    "duration": 7,
    "start_time": "2025-05-07T11:46:48.262Z"
   },
   {
    "duration": 17,
    "start_time": "2025-05-07T11:46:48.271Z"
   },
   {
    "duration": 15,
    "start_time": "2025-05-07T11:46:48.289Z"
   },
   {
    "duration": 4,
    "start_time": "2025-05-07T11:46:48.305Z"
   },
   {
    "duration": 19,
    "start_time": "2025-05-07T11:46:48.311Z"
   },
   {
    "duration": 29,
    "start_time": "2025-05-07T11:46:48.332Z"
   },
   {
    "duration": 20,
    "start_time": "2025-05-07T11:46:48.363Z"
   },
   {
    "duration": 2,
    "start_time": "2025-05-07T11:46:48.385Z"
   },
   {
    "duration": 14,
    "start_time": "2025-05-07T11:46:48.389Z"
   },
   {
    "duration": 4,
    "start_time": "2025-05-07T11:46:48.405Z"
   },
   {
    "duration": 9,
    "start_time": "2025-05-07T11:46:48.411Z"
   },
   {
    "duration": 39,
    "start_time": "2025-05-07T11:46:48.422Z"
   },
   {
    "duration": 382,
    "start_time": "2025-05-08T03:47:22.380Z"
   },
   {
    "duration": 103,
    "start_time": "2025-05-08T03:47:22.764Z"
   },
   {
    "duration": 32,
    "start_time": "2025-05-08T03:47:22.869Z"
   },
   {
    "duration": 35,
    "start_time": "2025-05-08T03:47:22.902Z"
   },
   {
    "duration": 20,
    "start_time": "2025-05-08T03:47:22.939Z"
   },
   {
    "duration": 2444,
    "start_time": "2025-05-08T03:47:22.961Z"
   },
   {
    "duration": 3,
    "start_time": "2025-05-08T03:47:25.407Z"
   },
   {
    "duration": 95,
    "start_time": "2025-05-08T03:47:25.411Z"
   },
   {
    "duration": 5,
    "start_time": "2025-05-08T03:47:25.508Z"
   },
   {
    "duration": 19,
    "start_time": "2025-05-08T03:47:25.514Z"
   },
   {
    "duration": 29,
    "start_time": "2025-05-08T03:47:25.535Z"
   },
   {
    "duration": 36,
    "start_time": "2025-05-08T03:47:25.566Z"
   },
   {
    "duration": 38,
    "start_time": "2025-05-08T03:47:25.603Z"
   },
   {
    "duration": 42,
    "start_time": "2025-05-08T03:47:25.644Z"
   },
   {
    "duration": 8,
    "start_time": "2025-05-08T03:47:25.688Z"
   },
   {
    "duration": 43,
    "start_time": "2025-05-08T03:47:25.697Z"
   },
   {
    "duration": 15,
    "start_time": "2025-05-08T03:47:25.742Z"
   },
   {
    "duration": 36,
    "start_time": "2025-05-08T03:47:25.758Z"
   },
   {
    "duration": 79,
    "start_time": "2025-05-08T03:47:25.796Z"
   },
   {
    "duration": 2,
    "start_time": "2025-05-08T03:47:25.877Z"
   },
   {
    "duration": 48,
    "start_time": "2025-05-08T03:47:25.881Z"
   },
   {
    "duration": 32,
    "start_time": "2025-05-08T03:47:25.931Z"
   },
   {
    "duration": 27,
    "start_time": "2025-05-08T03:47:25.964Z"
   },
   {
    "duration": 31,
    "start_time": "2025-05-08T03:47:25.993Z"
   },
   {
    "duration": 10,
    "start_time": "2025-05-08T03:47:26.026Z"
   },
   {
    "duration": 18,
    "start_time": "2025-05-08T03:47:26.038Z"
   },
   {
    "duration": 31,
    "start_time": "2025-05-08T03:47:26.057Z"
   },
   {
    "duration": 16,
    "start_time": "2025-05-08T03:47:26.089Z"
   },
   {
    "duration": 25,
    "start_time": "2025-05-08T03:47:26.106Z"
   },
   {
    "duration": 17,
    "start_time": "2025-05-08T03:47:26.133Z"
   },
   {
    "duration": 12,
    "start_time": "2025-05-08T03:47:26.151Z"
   },
   {
    "duration": 31,
    "start_time": "2025-05-08T03:47:26.165Z"
   },
   {
    "duration": 29,
    "start_time": "2025-05-08T03:47:26.198Z"
   },
   {
    "duration": 32,
    "start_time": "2025-05-08T03:47:26.229Z"
   },
   {
    "duration": 35,
    "start_time": "2025-05-08T03:47:26.264Z"
   },
   {
    "duration": 4,
    "start_time": "2025-05-08T03:47:26.301Z"
   },
   {
    "duration": 12,
    "start_time": "2025-05-08T03:47:26.307Z"
   },
   {
    "duration": 11,
    "start_time": "2025-05-08T03:47:26.321Z"
   },
   {
    "duration": 20,
    "start_time": "2025-05-08T03:47:26.334Z"
   },
   {
    "duration": 24,
    "start_time": "2025-05-08T03:47:26.356Z"
   },
   {
    "duration": 14,
    "start_time": "2025-05-08T03:47:26.384Z"
   },
   {
    "duration": 15,
    "start_time": "2025-05-08T03:47:26.399Z"
   },
   {
    "duration": 17,
    "start_time": "2025-05-08T03:47:26.416Z"
   },
   {
    "duration": 1518,
    "start_time": "2025-05-08T03:47:26.435Z"
   },
   {
    "duration": 243,
    "start_time": "2025-05-08T03:47:27.955Z"
   },
   {
    "duration": 21,
    "start_time": "2025-05-08T03:47:28.200Z"
   },
   {
    "duration": 35,
    "start_time": "2025-05-08T03:47:28.222Z"
   },
   {
    "duration": 4,
    "start_time": "2025-05-08T03:47:28.258Z"
   },
   {
    "duration": 266,
    "start_time": "2025-05-08T03:47:28.264Z"
   },
   {
    "duration": 5,
    "start_time": "2025-05-08T03:47:28.531Z"
   },
   {
    "duration": 28,
    "start_time": "2025-05-08T03:47:28.537Z"
   },
   {
    "duration": 235,
    "start_time": "2025-05-08T03:47:28.566Z"
   },
   {
    "duration": 22,
    "start_time": "2025-05-08T03:47:28.803Z"
   },
   {
    "duration": 63,
    "start_time": "2025-05-08T03:47:28.837Z"
   },
   {
    "duration": 34,
    "start_time": "2025-05-08T03:47:28.901Z"
   },
   {
    "duration": 11,
    "start_time": "2025-05-08T03:47:28.937Z"
   },
   {
    "duration": 17,
    "start_time": "2025-05-08T03:47:28.950Z"
   },
   {
    "duration": 31,
    "start_time": "2025-05-08T03:47:28.969Z"
   },
   {
    "duration": 3,
    "start_time": "2025-05-08T03:47:29.002Z"
   },
   {
    "duration": 37,
    "start_time": "2025-05-08T03:47:29.007Z"
   },
   {
    "duration": 9,
    "start_time": "2025-05-08T03:47:29.046Z"
   },
   {
    "duration": 29,
    "start_time": "2025-05-08T03:47:29.056Z"
   },
   {
    "duration": 3,
    "start_time": "2025-05-08T03:47:29.086Z"
   },
   {
    "duration": 20,
    "start_time": "2025-05-08T03:47:29.090Z"
   },
   {
    "duration": 15,
    "start_time": "2025-05-08T03:47:29.111Z"
   },
   {
    "duration": 9,
    "start_time": "2025-05-08T03:47:29.127Z"
   },
   {
    "duration": 9,
    "start_time": "2025-05-08T03:47:29.138Z"
   },
   {
    "duration": 13,
    "start_time": "2025-05-08T03:49:45.667Z"
   },
   {
    "duration": 13,
    "start_time": "2025-05-08T03:53:43.403Z"
   },
   {
    "duration": 81,
    "start_time": "2025-05-08T03:54:24.082Z"
   },
   {
    "duration": 23,
    "start_time": "2025-05-08T03:54:30.450Z"
   },
   {
    "duration": 24,
    "start_time": "2025-05-08T04:03:43.516Z"
   },
   {
    "duration": 2,
    "start_time": "2025-05-08T04:04:33.646Z"
   },
   {
    "duration": 19,
    "start_time": "2025-05-08T04:05:25.731Z"
   },
   {
    "duration": 15,
    "start_time": "2025-05-08T04:06:52.944Z"
   },
   {
    "duration": 6,
    "start_time": "2025-05-08T04:08:25.422Z"
   },
   {
    "duration": 4,
    "start_time": "2025-05-08T04:09:06.696Z"
   },
   {
    "duration": 5,
    "start_time": "2025-05-08T04:09:07.523Z"
   },
   {
    "duration": 9,
    "start_time": "2025-05-08T04:09:35.234Z"
   },
   {
    "duration": 4,
    "start_time": "2025-05-08T04:09:48.850Z"
   },
   {
    "duration": 6,
    "start_time": "2025-05-08T04:11:07.009Z"
   },
   {
    "duration": 1432,
    "start_time": "2025-05-08T04:15:13.190Z"
   },
   {
    "duration": 4,
    "start_time": "2025-05-08T04:15:30.718Z"
   },
   {
    "duration": 249,
    "start_time": "2025-05-08T04:18:09.224Z"
   },
   {
    "duration": 89,
    "start_time": "2025-05-08T04:18:14.752Z"
   },
   {
    "duration": 96,
    "start_time": "2025-05-08T04:18:58.728Z"
   },
   {
    "duration": 5,
    "start_time": "2025-05-08T04:19:18.289Z"
   },
   {
    "duration": 9,
    "start_time": "2025-05-08T04:20:39.123Z"
   },
   {
    "duration": 6,
    "start_time": "2025-05-08T04:22:35.477Z"
   },
   {
    "duration": 15,
    "start_time": "2025-05-08T04:22:38.683Z"
   },
   {
    "duration": 5,
    "start_time": "2025-05-08T04:22:39.057Z"
   },
   {
    "duration": 9,
    "start_time": "2025-05-08T04:22:39.549Z"
   },
   {
    "duration": 11,
    "start_time": "2025-05-08T04:23:17.912Z"
   },
   {
    "duration": 10,
    "start_time": "2025-05-08T04:23:49.696Z"
   },
   {
    "duration": 5,
    "start_time": "2025-05-08T04:23:58.312Z"
   },
   {
    "duration": 15,
    "start_time": "2025-05-08T04:25:49.603Z"
   },
   {
    "duration": 21,
    "start_time": "2025-05-08T04:29:09.686Z"
   },
   {
    "duration": 18,
    "start_time": "2025-05-08T04:29:10.664Z"
   },
   {
    "duration": 11,
    "start_time": "2025-05-08T04:29:33.646Z"
   },
   {
    "duration": 26,
    "start_time": "2025-05-08T04:29:56.596Z"
   },
   {
    "duration": 84,
    "start_time": "2025-05-08T04:30:21.559Z"
   },
   {
    "duration": 82,
    "start_time": "2025-05-08T04:30:29.597Z"
   },
   {
    "duration": 5,
    "start_time": "2025-05-08T04:30:30.067Z"
   },
   {
    "duration": 89,
    "start_time": "2025-05-08T04:30:47.263Z"
   },
   {
    "duration": 14,
    "start_time": "2025-05-08T04:32:53.334Z"
   },
   {
    "duration": 83,
    "start_time": "2025-05-08T04:32:53.812Z"
   },
   {
    "duration": 7,
    "start_time": "2025-05-08T04:33:12.551Z"
   },
   {
    "duration": 21,
    "start_time": "2025-05-08T04:33:29.534Z"
   },
   {
    "duration": 14,
    "start_time": "2025-05-08T04:33:31.114Z"
   },
   {
    "duration": 91,
    "start_time": "2025-05-08T04:33:39.722Z"
   },
   {
    "duration": 15,
    "start_time": "2025-05-08T04:33:50.788Z"
   },
   {
    "duration": 111,
    "start_time": "2025-05-08T04:33:51.065Z"
   },
   {
    "duration": 7,
    "start_time": "2025-05-08T04:33:57.258Z"
   },
   {
    "duration": 25,
    "start_time": "2025-05-08T04:35:48.292Z"
   },
   {
    "duration": 24,
    "start_time": "2025-05-08T04:36:06.590Z"
   },
   {
    "duration": 24,
    "start_time": "2025-05-08T04:36:20.679Z"
   },
   {
    "duration": 22,
    "start_time": "2025-05-08T04:37:06.858Z"
   },
   {
    "duration": 13,
    "start_time": "2025-05-08T04:38:42.520Z"
   },
   {
    "duration": 19,
    "start_time": "2025-05-08T04:49:52.552Z"
   },
   {
    "duration": 33,
    "start_time": "2025-05-08T04:50:45.536Z"
   },
   {
    "duration": 15,
    "start_time": "2025-05-08T04:50:59.522Z"
   },
   {
    "duration": 6,
    "start_time": "2025-05-08T04:50:59.928Z"
   },
   {
    "duration": 9,
    "start_time": "2025-05-08T04:51:01.717Z"
   },
   {
    "duration": 4,
    "start_time": "2025-05-08T04:51:18.900Z"
   },
   {
    "duration": 5,
    "start_time": "2025-05-08T04:51:28.984Z"
   },
   {
    "duration": 8,
    "start_time": "2025-05-08T04:51:29.416Z"
   },
   {
    "duration": 122,
    "start_time": "2025-05-08T04:51:32.944Z"
   },
   {
    "duration": 11,
    "start_time": "2025-05-08T04:51:33.212Z"
   },
   {
    "duration": 4,
    "start_time": "2025-05-08T04:51:37.286Z"
   },
   {
    "duration": 8,
    "start_time": "2025-05-08T04:51:38.977Z"
   },
   {
    "duration": 5,
    "start_time": "2025-05-08T04:51:41.986Z"
   },
   {
    "duration": 9,
    "start_time": "2025-05-08T04:51:42.327Z"
   },
   {
    "duration": 91,
    "start_time": "2025-05-08T04:51:48.244Z"
   },
   {
    "duration": 8,
    "start_time": "2025-05-08T04:51:48.609Z"
   },
   {
    "duration": 3,
    "start_time": "2025-05-08T04:51:55.578Z"
   },
   {
    "duration": 9,
    "start_time": "2025-05-08T04:51:55.885Z"
   },
   {
    "duration": 21,
    "start_time": "2025-05-08T04:55:24.190Z"
   },
   {
    "duration": 17,
    "start_time": "2025-05-08T04:55:46.321Z"
   },
   {
    "duration": 10,
    "start_time": "2025-05-08T04:55:46.822Z"
   },
   {
    "duration": 8,
    "start_time": "2025-05-08T04:55:52.773Z"
   },
   {
    "duration": 17,
    "start_time": "2025-05-08T04:55:59.556Z"
   },
   {
    "duration": 4,
    "start_time": "2025-05-08T04:55:59.864Z"
   },
   {
    "duration": 8,
    "start_time": "2025-05-08T04:56:00.408Z"
   },
   {
    "duration": 9,
    "start_time": "2025-05-08T05:07:03.560Z"
   },
   {
    "duration": 25,
    "start_time": "2025-05-08T05:07:06.541Z"
   },
   {
    "duration": 6,
    "start_time": "2025-05-08T05:07:06.933Z"
   },
   {
    "duration": 8,
    "start_time": "2025-05-08T05:07:07.713Z"
   },
   {
    "duration": 9,
    "start_time": "2025-05-08T05:07:18.198Z"
   },
   {
    "duration": 386,
    "start_time": "2025-05-08T05:12:24.995Z"
   },
   {
    "duration": 99,
    "start_time": "2025-05-08T05:12:25.383Z"
   },
   {
    "duration": 32,
    "start_time": "2025-05-08T05:12:25.483Z"
   },
   {
    "duration": 61,
    "start_time": "2025-05-08T05:12:25.516Z"
   },
   {
    "duration": 39,
    "start_time": "2025-05-08T05:12:25.580Z"
   },
   {
    "duration": 2296,
    "start_time": "2025-05-08T05:12:25.621Z"
   },
   {
    "duration": 2,
    "start_time": "2025-05-08T05:12:27.919Z"
   },
   {
    "duration": 44,
    "start_time": "2025-05-08T05:12:27.923Z"
   },
   {
    "duration": 8,
    "start_time": "2025-05-08T05:12:27.968Z"
   },
   {
    "duration": 22,
    "start_time": "2025-05-08T05:12:27.977Z"
   },
   {
    "duration": 19,
    "start_time": "2025-05-08T05:12:28.000Z"
   },
   {
    "duration": 13,
    "start_time": "2025-05-08T05:12:28.020Z"
   },
   {
    "duration": 3,
    "start_time": "2025-05-08T05:12:28.034Z"
   },
   {
    "duration": 46,
    "start_time": "2025-05-08T05:12:28.040Z"
   },
   {
    "duration": 9,
    "start_time": "2025-05-08T05:12:28.088Z"
   },
   {
    "duration": 57,
    "start_time": "2025-05-08T05:12:28.098Z"
   },
   {
    "duration": 32,
    "start_time": "2025-05-08T05:12:28.157Z"
   },
   {
    "duration": 30,
    "start_time": "2025-05-08T05:12:28.191Z"
   },
   {
    "duration": 56,
    "start_time": "2025-05-08T05:12:28.223Z"
   },
   {
    "duration": 2,
    "start_time": "2025-05-08T05:12:28.281Z"
   },
   {
    "duration": 23,
    "start_time": "2025-05-08T05:12:28.285Z"
   },
   {
    "duration": 26,
    "start_time": "2025-05-08T05:12:28.310Z"
   },
   {
    "duration": 38,
    "start_time": "2025-05-08T05:12:28.338Z"
   },
   {
    "duration": 34,
    "start_time": "2025-05-08T05:12:28.377Z"
   },
   {
    "duration": 8,
    "start_time": "2025-05-08T05:12:28.413Z"
   },
   {
    "duration": 12,
    "start_time": "2025-05-08T05:12:28.423Z"
   },
   {
    "duration": 36,
    "start_time": "2025-05-08T05:12:28.437Z"
   },
   {
    "duration": 6,
    "start_time": "2025-05-08T05:12:28.475Z"
   },
   {
    "duration": 7,
    "start_time": "2025-05-08T05:12:28.483Z"
   },
   {
    "duration": 15,
    "start_time": "2025-05-08T05:12:28.492Z"
   },
   {
    "duration": 24,
    "start_time": "2025-05-08T05:12:28.508Z"
   },
   {
    "duration": 44,
    "start_time": "2025-05-08T05:12:28.533Z"
   },
   {
    "duration": 3,
    "start_time": "2025-05-08T05:12:28.579Z"
   },
   {
    "duration": 15,
    "start_time": "2025-05-08T05:12:28.583Z"
   },
   {
    "duration": 26,
    "start_time": "2025-05-08T05:12:28.599Z"
   },
   {
    "duration": 15,
    "start_time": "2025-05-08T05:12:28.626Z"
   },
   {
    "duration": 17,
    "start_time": "2025-05-08T05:12:28.642Z"
   },
   {
    "duration": 10,
    "start_time": "2025-05-08T05:12:28.660Z"
   },
   {
    "duration": 24,
    "start_time": "2025-05-08T05:12:28.671Z"
   },
   {
    "duration": 26,
    "start_time": "2025-05-08T05:12:28.697Z"
   },
   {
    "duration": 5,
    "start_time": "2025-05-08T05:12:28.727Z"
   },
   {
    "duration": 33,
    "start_time": "2025-05-08T05:12:28.733Z"
   },
   {
    "duration": 13,
    "start_time": "2025-05-08T05:12:28.768Z"
   },
   {
    "duration": 1485,
    "start_time": "2025-05-08T05:12:28.783Z"
   },
   {
    "duration": 233,
    "start_time": "2025-05-08T05:12:30.269Z"
   },
   {
    "duration": 34,
    "start_time": "2025-05-08T05:12:30.504Z"
   },
   {
    "duration": 47,
    "start_time": "2025-05-08T05:12:30.539Z"
   },
   {
    "duration": 21,
    "start_time": "2025-05-08T05:12:30.588Z"
   },
   {
    "duration": 275,
    "start_time": "2025-05-08T05:12:30.610Z"
   },
   {
    "duration": 2,
    "start_time": "2025-05-08T05:12:30.887Z"
   },
   {
    "duration": 21,
    "start_time": "2025-05-08T05:12:30.890Z"
   },
   {
    "duration": 261,
    "start_time": "2025-05-08T05:12:30.913Z"
   },
   {
    "duration": 21,
    "start_time": "2025-05-08T05:12:31.176Z"
   },
   {
    "duration": 129,
    "start_time": "2025-05-08T05:12:31.198Z"
   },
   {
    "duration": 23,
    "start_time": "2025-05-08T05:12:31.329Z"
   },
   {
    "duration": 8,
    "start_time": "2025-05-08T05:12:31.353Z"
   },
   {
    "duration": 48,
    "start_time": "2025-05-08T05:12:31.363Z"
   },
   {
    "duration": 25,
    "start_time": "2025-05-08T05:12:31.413Z"
   },
   {
    "duration": 2,
    "start_time": "2025-05-08T05:12:31.440Z"
   },
   {
    "duration": 101,
    "start_time": "2025-05-08T05:12:31.444Z"
   },
   {
    "duration": 12,
    "start_time": "2025-05-08T05:12:31.546Z"
   },
   {
    "duration": 27,
    "start_time": "2025-05-08T05:12:31.560Z"
   },
   {
    "duration": 2,
    "start_time": "2025-05-08T05:12:31.589Z"
   },
   {
    "duration": 42,
    "start_time": "2025-05-08T05:12:31.592Z"
   },
   {
    "duration": 31,
    "start_time": "2025-05-08T05:12:31.635Z"
   },
   {
    "duration": 29,
    "start_time": "2025-05-08T05:12:31.668Z"
   },
   {
    "duration": 8,
    "start_time": "2025-05-08T05:12:31.699Z"
   },
   {
    "duration": 6,
    "start_time": "2025-05-08T05:12:31.709Z"
   },
   {
    "duration": 25,
    "start_time": "2025-05-08T05:12:31.717Z"
   },
   {
    "duration": 10,
    "start_time": "2025-05-08T05:12:31.743Z"
   },
   {
    "duration": 10,
    "start_time": "2025-05-08T05:12:31.754Z"
   },
   {
    "duration": 88,
    "start_time": "2025-05-08T05:12:31.766Z"
   },
   {
    "duration": 18,
    "start_time": "2025-05-08T05:25:37.390Z"
   },
   {
    "duration": 237,
    "start_time": "2025-05-08T05:47:25.150Z"
   },
   {
    "duration": 14,
    "start_time": "2025-05-08T05:52:56.936Z"
   },
   {
    "duration": 14,
    "start_time": "2025-05-08T05:53:05.671Z"
   },
   {
    "duration": 15,
    "start_time": "2025-05-08T05:53:40.490Z"
   },
   {
    "duration": 480,
    "start_time": "2025-05-08T05:53:52.622Z"
   },
   {
    "duration": 117,
    "start_time": "2025-05-08T05:53:53.104Z"
   },
   {
    "duration": 45,
    "start_time": "2025-05-08T05:53:53.222Z"
   },
   {
    "duration": 16,
    "start_time": "2025-05-08T05:53:53.269Z"
   },
   {
    "duration": 3,
    "start_time": "2025-05-08T05:53:53.287Z"
   },
   {
    "duration": 2385,
    "start_time": "2025-05-08T05:53:53.292Z"
   },
   {
    "duration": 3,
    "start_time": "2025-05-08T05:53:55.680Z"
   },
   {
    "duration": 11,
    "start_time": "2025-05-08T05:53:55.685Z"
   },
   {
    "duration": 4,
    "start_time": "2025-05-08T05:53:55.698Z"
   },
   {
    "duration": 6,
    "start_time": "2025-05-08T05:53:55.703Z"
   },
   {
    "duration": 33,
    "start_time": "2025-05-08T05:53:55.710Z"
   },
   {
    "duration": 14,
    "start_time": "2025-05-08T05:53:55.746Z"
   },
   {
    "duration": 5,
    "start_time": "2025-05-08T05:53:55.762Z"
   },
   {
    "duration": 68,
    "start_time": "2025-05-08T05:53:55.771Z"
   },
   {
    "duration": 19,
    "start_time": "2025-05-08T05:53:55.841Z"
   },
   {
    "duration": 20,
    "start_time": "2025-05-08T05:53:55.863Z"
   },
   {
    "duration": 16,
    "start_time": "2025-05-08T05:53:55.885Z"
   },
   {
    "duration": 12,
    "start_time": "2025-05-08T05:53:55.903Z"
   },
   {
    "duration": 52,
    "start_time": "2025-05-08T05:53:55.916Z"
   },
   {
    "duration": 3,
    "start_time": "2025-05-08T05:53:55.970Z"
   },
   {
    "duration": 53,
    "start_time": "2025-05-08T05:53:55.975Z"
   },
   {
    "duration": 24,
    "start_time": "2025-05-08T05:53:56.029Z"
   },
   {
    "duration": 22,
    "start_time": "2025-05-08T05:53:56.060Z"
   },
   {
    "duration": 15,
    "start_time": "2025-05-08T05:53:56.083Z"
   },
   {
    "duration": 7,
    "start_time": "2025-05-08T05:53:56.099Z"
   },
   {
    "duration": 31,
    "start_time": "2025-05-08T05:53:56.107Z"
   },
   {
    "duration": 35,
    "start_time": "2025-05-08T05:53:56.141Z"
   },
   {
    "duration": 4,
    "start_time": "2025-05-08T05:53:56.178Z"
   },
   {
    "duration": 4,
    "start_time": "2025-05-08T05:53:56.184Z"
   },
   {
    "duration": 9,
    "start_time": "2025-05-08T05:53:56.189Z"
   },
   {
    "duration": 9,
    "start_time": "2025-05-08T05:53:56.200Z"
   },
   {
    "duration": 48,
    "start_time": "2025-05-08T05:53:56.210Z"
   },
   {
    "duration": 3,
    "start_time": "2025-05-08T05:53:56.260Z"
   },
   {
    "duration": 24,
    "start_time": "2025-05-08T05:53:56.265Z"
   },
   {
    "duration": 42,
    "start_time": "2025-05-08T05:53:56.290Z"
   },
   {
    "duration": 5,
    "start_time": "2025-05-08T05:53:56.333Z"
   },
   {
    "duration": 20,
    "start_time": "2025-05-08T05:53:56.340Z"
   },
   {
    "duration": 4,
    "start_time": "2025-05-08T05:53:56.362Z"
   },
   {
    "duration": 12,
    "start_time": "2025-05-08T05:53:56.368Z"
   },
   {
    "duration": 29,
    "start_time": "2025-05-08T05:53:56.381Z"
   },
   {
    "duration": 3,
    "start_time": "2025-05-08T05:53:56.439Z"
   },
   {
    "duration": 5,
    "start_time": "2025-05-08T05:53:56.444Z"
   },
   {
    "duration": 14,
    "start_time": "2025-05-08T05:53:56.450Z"
   },
   {
    "duration": 1579,
    "start_time": "2025-05-08T05:53:56.466Z"
   },
   {
    "duration": 237,
    "start_time": "2025-05-08T05:53:58.048Z"
   },
   {
    "duration": 23,
    "start_time": "2025-05-08T05:53:58.286Z"
   },
   {
    "duration": 36,
    "start_time": "2025-05-08T05:53:58.310Z"
   },
   {
    "duration": 15,
    "start_time": "2025-05-08T05:53:58.348Z"
   },
   {
    "duration": 271,
    "start_time": "2025-05-08T05:53:58.365Z"
   },
   {
    "duration": 4,
    "start_time": "2025-05-08T05:53:58.639Z"
   },
   {
    "duration": 13,
    "start_time": "2025-05-08T05:53:58.646Z"
   },
   {
    "duration": 268,
    "start_time": "2025-05-08T05:53:58.661Z"
   },
   {
    "duration": 41,
    "start_time": "2025-05-08T05:53:58.931Z"
   },
   {
    "duration": 2,
    "start_time": "2025-05-08T05:53:58.975Z"
   },
   {
    "duration": 7,
    "start_time": "2025-05-08T05:53:58.979Z"
   },
   {
    "duration": 3,
    "start_time": "2025-05-08T05:53:58.987Z"
   },
   {
    "duration": 14,
    "start_time": "2025-05-08T05:53:58.992Z"
   },
   {
    "duration": 20,
    "start_time": "2025-05-08T05:53:59.041Z"
   },
   {
    "duration": 3,
    "start_time": "2025-05-08T05:53:59.062Z"
   },
   {
    "duration": 19,
    "start_time": "2025-05-08T05:53:59.067Z"
   },
   {
    "duration": 2,
    "start_time": "2025-05-08T05:53:59.088Z"
   },
   {
    "duration": 22,
    "start_time": "2025-05-08T05:53:59.091Z"
   },
   {
    "duration": 22,
    "start_time": "2025-05-08T05:53:59.115Z"
   },
   {
    "duration": 15,
    "start_time": "2025-05-08T05:53:59.139Z"
   },
   {
    "duration": 7,
    "start_time": "2025-05-08T05:53:59.156Z"
   },
   {
    "duration": 11,
    "start_time": "2025-05-08T05:53:59.164Z"
   },
   {
    "duration": 4,
    "start_time": "2025-05-08T05:53:59.177Z"
   },
   {
    "duration": 10,
    "start_time": "2025-05-08T05:53:59.182Z"
   },
   {
    "duration": 21,
    "start_time": "2025-05-08T05:53:59.194Z"
   },
   {
    "duration": 5,
    "start_time": "2025-05-08T05:53:59.236Z"
   },
   {
    "duration": 16,
    "start_time": "2025-05-08T05:53:59.244Z"
   },
   {
    "duration": 16,
    "start_time": "2025-05-08T05:53:59.262Z"
   },
   {
    "duration": 15,
    "start_time": "2025-05-08T05:53:59.279Z"
   },
   {
    "duration": 23,
    "start_time": "2025-05-08T05:54:12.480Z"
   },
   {
    "duration": 23,
    "start_time": "2025-05-08T05:55:26.422Z"
   },
   {
    "duration": 28,
    "start_time": "2025-05-08T05:56:01.873Z"
   },
   {
    "duration": 9,
    "start_time": "2025-05-08T05:56:31.538Z"
   },
   {
    "duration": 5,
    "start_time": "2025-05-08T05:56:43.118Z"
   },
   {
    "duration": 37,
    "start_time": "2025-05-08T05:57:37.646Z"
   },
   {
    "duration": 394,
    "start_time": "2025-05-08T05:57:44.597Z"
   },
   {
    "duration": 98,
    "start_time": "2025-05-08T05:57:44.993Z"
   },
   {
    "duration": 32,
    "start_time": "2025-05-08T05:57:45.093Z"
   },
   {
    "duration": 42,
    "start_time": "2025-05-08T05:57:45.126Z"
   },
   {
    "duration": 2,
    "start_time": "2025-05-08T05:57:45.171Z"
   },
   {
    "duration": 2443,
    "start_time": "2025-05-08T05:57:45.174Z"
   },
   {
    "duration": 3,
    "start_time": "2025-05-08T05:57:47.619Z"
   },
   {
    "duration": 34,
    "start_time": "2025-05-08T05:57:47.624Z"
   },
   {
    "duration": 5,
    "start_time": "2025-05-08T05:57:47.661Z"
   },
   {
    "duration": 5,
    "start_time": "2025-05-08T05:57:47.669Z"
   },
   {
    "duration": 21,
    "start_time": "2025-05-08T05:57:47.676Z"
   },
   {
    "duration": 12,
    "start_time": "2025-05-08T05:57:47.699Z"
   },
   {
    "duration": 24,
    "start_time": "2025-05-08T05:57:47.712Z"
   },
   {
    "duration": 49,
    "start_time": "2025-05-08T05:57:47.740Z"
   },
   {
    "duration": 19,
    "start_time": "2025-05-08T05:57:47.791Z"
   },
   {
    "duration": 33,
    "start_time": "2025-05-08T05:57:47.811Z"
   },
   {
    "duration": 9,
    "start_time": "2025-05-08T05:57:47.846Z"
   },
   {
    "duration": 6,
    "start_time": "2025-05-08T05:57:47.857Z"
   },
   {
    "duration": 14,
    "start_time": "2025-05-08T05:57:47.865Z"
   },
   {
    "duration": 72,
    "start_time": "2025-05-08T05:57:47.880Z"
   },
   {
    "duration": 3,
    "start_time": "2025-05-08T05:57:47.955Z"
   },
   {
    "duration": 73,
    "start_time": "2025-05-08T05:57:47.960Z"
   },
   {
    "duration": 19,
    "start_time": "2025-05-08T05:57:48.035Z"
   },
   {
    "duration": 33,
    "start_time": "2025-05-08T05:57:48.056Z"
   },
   {
    "duration": 17,
    "start_time": "2025-05-08T05:57:48.090Z"
   },
   {
    "duration": 7,
    "start_time": "2025-05-08T05:57:48.108Z"
   },
   {
    "duration": 5,
    "start_time": "2025-05-08T05:57:48.117Z"
   },
   {
    "duration": 38,
    "start_time": "2025-05-08T05:57:48.137Z"
   },
   {
    "duration": 13,
    "start_time": "2025-05-08T05:57:48.176Z"
   },
   {
    "duration": 4,
    "start_time": "2025-05-08T05:57:48.190Z"
   },
   {
    "duration": 6,
    "start_time": "2025-05-08T05:57:48.196Z"
   },
   {
    "duration": 16,
    "start_time": "2025-05-08T05:57:48.204Z"
   },
   {
    "duration": 43,
    "start_time": "2025-05-08T05:57:48.221Z"
   },
   {
    "duration": 3,
    "start_time": "2025-05-08T05:57:48.266Z"
   },
   {
    "duration": 12,
    "start_time": "2025-05-08T05:57:48.270Z"
   },
   {
    "duration": 23,
    "start_time": "2025-05-08T05:57:48.284Z"
   },
   {
    "duration": 29,
    "start_time": "2025-05-08T05:57:48.308Z"
   },
   {
    "duration": 20,
    "start_time": "2025-05-08T05:57:48.339Z"
   },
   {
    "duration": 10,
    "start_time": "2025-05-08T05:57:48.362Z"
   },
   {
    "duration": 14,
    "start_time": "2025-05-08T05:57:48.373Z"
   },
   {
    "duration": 46,
    "start_time": "2025-05-08T05:57:48.393Z"
   },
   {
    "duration": 4,
    "start_time": "2025-05-08T05:57:48.442Z"
   },
   {
    "duration": 18,
    "start_time": "2025-05-08T05:57:48.448Z"
   },
   {
    "duration": 15,
    "start_time": "2025-05-08T05:57:48.468Z"
   },
   {
    "duration": 1742,
    "start_time": "2025-05-08T05:57:48.485Z"
   },
   {
    "duration": 272,
    "start_time": "2025-05-08T05:57:50.229Z"
   },
   {
    "duration": 22,
    "start_time": "2025-05-08T05:57:50.503Z"
   },
   {
    "duration": 34,
    "start_time": "2025-05-08T05:57:50.538Z"
   },
   {
    "duration": 6,
    "start_time": "2025-05-08T05:57:50.574Z"
   },
   {
    "duration": 301,
    "start_time": "2025-05-08T05:57:50.581Z"
   },
   {
    "duration": 2,
    "start_time": "2025-05-08T05:57:50.884Z"
   },
   {
    "duration": 11,
    "start_time": "2025-05-08T05:57:50.888Z"
   },
   {
    "duration": 284,
    "start_time": "2025-05-08T05:57:50.901Z"
   },
   {
    "duration": 23,
    "start_time": "2025-05-08T05:57:51.186Z"
   },
   {
    "duration": 13,
    "start_time": "2025-05-08T05:57:51.210Z"
   },
   {
    "duration": 13,
    "start_time": "2025-05-08T05:57:51.225Z"
   },
   {
    "duration": 14,
    "start_time": "2025-05-08T05:57:51.240Z"
   },
   {
    "duration": 16,
    "start_time": "2025-05-08T05:57:51.257Z"
   },
   {
    "duration": 31,
    "start_time": "2025-05-08T05:57:51.275Z"
   },
   {
    "duration": 7,
    "start_time": "2025-05-08T05:57:51.308Z"
   },
   {
    "duration": 32,
    "start_time": "2025-05-08T05:57:51.316Z"
   },
   {
    "duration": 23,
    "start_time": "2025-05-08T05:57:51.351Z"
   },
   {
    "duration": 193,
    "start_time": "2025-05-08T05:57:51.375Z"
   },
   {
    "duration": 10,
    "start_time": "2025-05-08T05:57:51.570Z"
   },
   {
    "duration": 97,
    "start_time": "2025-05-08T05:57:51.581Z"
   },
   {
    "duration": 23,
    "start_time": "2025-05-08T05:57:51.680Z"
   },
   {
    "duration": 31,
    "start_time": "2025-05-08T05:57:51.705Z"
   },
   {
    "duration": 16,
    "start_time": "2025-05-08T05:57:51.738Z"
   },
   {
    "duration": 35,
    "start_time": "2025-05-08T05:57:51.756Z"
   },
   {
    "duration": 18,
    "start_time": "2025-05-08T05:57:51.793Z"
   },
   {
    "duration": 48,
    "start_time": "2025-05-08T05:57:51.813Z"
   },
   {
    "duration": 18,
    "start_time": "2025-05-08T05:57:51.863Z"
   },
   {
    "duration": 10,
    "start_time": "2025-05-08T05:57:51.883Z"
   },
   {
    "duration": 7,
    "start_time": "2025-05-08T05:57:51.895Z"
   },
   {
    "duration": 31,
    "start_time": "2025-05-08T05:57:51.903Z"
   },
   {
    "duration": 17,
    "start_time": "2025-05-08T05:58:12.733Z"
   },
   {
    "duration": 31,
    "start_time": "2025-05-08T05:58:17.375Z"
   },
   {
    "duration": 14,
    "start_time": "2025-05-08T05:58:17.770Z"
   },
   {
    "duration": 14,
    "start_time": "2025-05-08T05:58:28.713Z"
   },
   {
    "duration": 22,
    "start_time": "2025-05-08T05:58:36.513Z"
   },
   {
    "duration": 408,
    "start_time": "2025-05-09T06:41:05.800Z"
   },
   {
    "duration": 112,
    "start_time": "2025-05-09T06:41:06.209Z"
   },
   {
    "duration": 41,
    "start_time": "2025-05-09T06:41:06.323Z"
   },
   {
    "duration": 149,
    "start_time": "2025-05-09T06:41:06.367Z"
   },
   {
    "duration": 131,
    "start_time": "2025-05-09T06:41:06.518Z"
   },
   {
    "duration": 2555,
    "start_time": "2025-05-09T06:41:06.651Z"
   },
   {
    "duration": 2,
    "start_time": "2025-05-09T06:41:09.208Z"
   },
   {
    "duration": 162,
    "start_time": "2025-05-09T06:41:09.212Z"
   },
   {
    "duration": 109,
    "start_time": "2025-05-09T06:41:09.375Z"
   },
   {
    "duration": 121,
    "start_time": "2025-05-09T06:41:09.487Z"
   },
   {
    "duration": 18,
    "start_time": "2025-05-09T06:41:09.610Z"
   },
   {
    "duration": 20,
    "start_time": "2025-05-09T06:41:09.629Z"
   },
   {
    "duration": 2,
    "start_time": "2025-05-09T06:41:09.651Z"
   },
   {
    "duration": 56,
    "start_time": "2025-05-09T06:41:09.655Z"
   },
   {
    "duration": 10,
    "start_time": "2025-05-09T06:41:09.713Z"
   },
   {
    "duration": 6,
    "start_time": "2025-05-09T06:41:09.725Z"
   },
   {
    "duration": 32,
    "start_time": "2025-05-09T06:41:09.733Z"
   },
   {
    "duration": 24,
    "start_time": "2025-05-09T06:41:09.766Z"
   },
   {
    "duration": 76,
    "start_time": "2025-05-09T06:41:09.792Z"
   },
   {
    "duration": 3,
    "start_time": "2025-05-09T06:41:09.869Z"
   },
   {
    "duration": 15,
    "start_time": "2025-05-09T06:41:09.873Z"
   },
   {
    "duration": 23,
    "start_time": "2025-05-09T06:41:09.890Z"
   },
   {
    "duration": 166,
    "start_time": "2025-05-09T06:41:09.914Z"
   },
   {
    "duration": 139,
    "start_time": "2025-05-09T06:41:10.081Z"
   },
   {
    "duration": 13,
    "start_time": "2025-05-09T06:41:10.222Z"
   },
   {
    "duration": 17,
    "start_time": "2025-05-09T06:41:10.237Z"
   },
   {
    "duration": 33,
    "start_time": "2025-05-09T06:41:10.256Z"
   },
   {
    "duration": 5,
    "start_time": "2025-05-09T06:41:10.294Z"
   },
   {
    "duration": 10,
    "start_time": "2025-05-09T06:41:10.301Z"
   },
   {
    "duration": 12,
    "start_time": "2025-05-09T06:41:10.312Z"
   },
   {
    "duration": 37,
    "start_time": "2025-05-09T06:41:10.325Z"
   },
   {
    "duration": 51,
    "start_time": "2025-05-09T06:41:10.364Z"
   },
   {
    "duration": 8,
    "start_time": "2025-05-09T06:41:10.417Z"
   },
   {
    "duration": 192,
    "start_time": "2025-05-09T06:41:10.427Z"
   },
   {
    "duration": 26,
    "start_time": "2025-05-09T06:41:10.621Z"
   },
   {
    "duration": 47,
    "start_time": "2025-05-09T06:41:10.649Z"
   },
   {
    "duration": 71,
    "start_time": "2025-05-09T06:41:10.697Z"
   },
   {
    "duration": 108,
    "start_time": "2025-05-09T06:41:10.770Z"
   },
   {
    "duration": 89,
    "start_time": "2025-05-09T06:41:10.879Z"
   },
   {
    "duration": 47,
    "start_time": "2025-05-09T06:41:10.970Z"
   },
   {
    "duration": 3,
    "start_time": "2025-05-09T06:41:11.019Z"
   },
   {
    "duration": 15,
    "start_time": "2025-05-09T06:41:11.024Z"
   },
   {
    "duration": 19,
    "start_time": "2025-05-09T06:41:11.042Z"
   },
   {
    "duration": 1598,
    "start_time": "2025-05-09T06:41:11.063Z"
   },
   {
    "duration": 247,
    "start_time": "2025-05-09T06:41:12.663Z"
   },
   {
    "duration": 23,
    "start_time": "2025-05-09T06:41:12.912Z"
   },
   {
    "duration": 38,
    "start_time": "2025-05-09T06:41:12.937Z"
   },
   {
    "duration": 11,
    "start_time": "2025-05-09T06:41:12.977Z"
   },
   {
    "duration": 257,
    "start_time": "2025-05-09T06:41:12.990Z"
   },
   {
    "duration": 2,
    "start_time": "2025-05-09T06:41:13.249Z"
   },
   {
    "duration": 16,
    "start_time": "2025-05-09T06:41:13.253Z"
   },
   {
    "duration": 249,
    "start_time": "2025-05-09T06:41:13.270Z"
   },
   {
    "duration": 24,
    "start_time": "2025-05-09T06:41:13.521Z"
   },
   {
    "duration": 25,
    "start_time": "2025-05-09T06:41:13.547Z"
   },
   {
    "duration": 14,
    "start_time": "2025-05-09T06:41:13.574Z"
   },
   {
    "duration": 4,
    "start_time": "2025-05-09T06:41:13.590Z"
   },
   {
    "duration": 14,
    "start_time": "2025-05-09T06:41:13.596Z"
   },
   {
    "duration": 15,
    "start_time": "2025-05-09T06:41:13.612Z"
   },
   {
    "duration": 6,
    "start_time": "2025-05-09T06:41:13.629Z"
   },
   {
    "duration": 37,
    "start_time": "2025-05-09T06:41:13.637Z"
   },
   {
    "duration": 3,
    "start_time": "2025-05-09T06:41:13.676Z"
   },
   {
    "duration": 33,
    "start_time": "2025-05-09T06:41:13.680Z"
   },
   {
    "duration": 3,
    "start_time": "2025-05-09T06:41:13.715Z"
   },
   {
    "duration": 26,
    "start_time": "2025-05-09T06:41:13.720Z"
   },
   {
    "duration": 8,
    "start_time": "2025-05-09T06:41:13.748Z"
   },
   {
    "duration": 9,
    "start_time": "2025-05-09T06:41:13.758Z"
   },
   {
    "duration": 3,
    "start_time": "2025-05-09T06:41:13.769Z"
   },
   {
    "duration": 6,
    "start_time": "2025-05-09T06:41:13.773Z"
   },
   {
    "duration": 17,
    "start_time": "2025-05-09T06:41:13.781Z"
   },
   {
    "duration": 11,
    "start_time": "2025-05-09T06:41:13.800Z"
   },
   {
    "duration": 17,
    "start_time": "2025-05-09T06:41:13.813Z"
   },
   {
    "duration": 30,
    "start_time": "2025-05-09T06:41:13.831Z"
   },
   {
    "duration": 28,
    "start_time": "2025-05-09T06:41:13.863Z"
   },
   {
    "duration": 30,
    "start_time": "2025-05-09T06:44:46.762Z"
   },
   {
    "duration": 8,
    "start_time": "2025-05-09T06:45:06.052Z"
   },
   {
    "duration": 424,
    "start_time": "2025-05-09T06:45:12.982Z"
   },
   {
    "duration": 107,
    "start_time": "2025-05-09T06:45:13.408Z"
   },
   {
    "duration": 33,
    "start_time": "2025-05-09T06:45:13.517Z"
   },
   {
    "duration": 46,
    "start_time": "2025-05-09T06:45:13.561Z"
   },
   {
    "duration": 2,
    "start_time": "2025-05-09T06:45:13.609Z"
   },
   {
    "duration": 2337,
    "start_time": "2025-05-09T06:45:13.612Z"
   },
   {
    "duration": 3,
    "start_time": "2025-05-09T06:45:15.951Z"
   },
   {
    "duration": 108,
    "start_time": "2025-05-09T06:45:15.955Z"
   },
   {
    "duration": 3,
    "start_time": "2025-05-09T06:45:16.065Z"
   },
   {
    "duration": 14,
    "start_time": "2025-05-09T06:45:16.070Z"
   },
   {
    "duration": 32,
    "start_time": "2025-05-09T06:45:16.086Z"
   },
   {
    "duration": 34,
    "start_time": "2025-05-09T06:45:16.120Z"
   },
   {
    "duration": 79,
    "start_time": "2025-05-09T06:45:16.156Z"
   },
   {
    "duration": 48,
    "start_time": "2025-05-09T06:45:16.237Z"
   },
   {
    "duration": 8,
    "start_time": "2025-05-09T06:45:16.287Z"
   },
   {
    "duration": 17,
    "start_time": "2025-05-09T06:45:16.297Z"
   },
   {
    "duration": 46,
    "start_time": "2025-05-09T06:45:16.316Z"
   },
   {
    "duration": 29,
    "start_time": "2025-05-09T06:45:16.364Z"
   },
   {
    "duration": 42,
    "start_time": "2025-05-09T06:45:16.394Z"
   },
   {
    "duration": 9,
    "start_time": "2025-05-09T06:45:16.438Z"
   },
   {
    "duration": 249,
    "start_time": "2025-05-09T06:45:16.448Z"
   },
   {
    "duration": 21,
    "start_time": "2025-05-09T06:45:16.700Z"
   },
   {
    "duration": 30,
    "start_time": "2025-05-09T06:45:16.724Z"
   },
   {
    "duration": 20,
    "start_time": "2025-05-09T06:45:16.755Z"
   },
   {
    "duration": 25,
    "start_time": "2025-05-09T06:45:16.777Z"
   },
   {
    "duration": 20,
    "start_time": "2025-05-09T06:45:16.804Z"
   },
   {
    "duration": 59,
    "start_time": "2025-05-09T06:45:16.826Z"
   },
   {
    "duration": 6,
    "start_time": "2025-05-09T06:45:16.891Z"
   },
   {
    "duration": 7,
    "start_time": "2025-05-09T06:45:16.898Z"
   },
   {
    "duration": 5,
    "start_time": "2025-05-09T06:45:16.906Z"
   },
   {
    "duration": 5,
    "start_time": "2025-05-09T06:45:16.912Z"
   },
   {
    "duration": 52,
    "start_time": "2025-05-09T06:45:16.918Z"
   },
   {
    "duration": 2,
    "start_time": "2025-05-09T06:45:16.972Z"
   },
   {
    "duration": 13,
    "start_time": "2025-05-09T06:45:16.976Z"
   },
   {
    "duration": 29,
    "start_time": "2025-05-09T06:45:16.990Z"
   },
   {
    "duration": 5,
    "start_time": "2025-05-09T06:45:17.020Z"
   },
   {
    "duration": 36,
    "start_time": "2025-05-09T06:45:17.026Z"
   },
   {
    "duration": 5,
    "start_time": "2025-05-09T06:45:17.063Z"
   },
   {
    "duration": 18,
    "start_time": "2025-05-09T06:45:17.069Z"
   },
   {
    "duration": 26,
    "start_time": "2025-05-09T06:45:17.089Z"
   },
   {
    "duration": 19,
    "start_time": "2025-05-09T06:45:17.117Z"
   },
   {
    "duration": 6,
    "start_time": "2025-05-09T06:45:17.138Z"
   },
   {
    "duration": 25,
    "start_time": "2025-05-09T06:45:17.145Z"
   },
   {
    "duration": 1593,
    "start_time": "2025-05-09T06:45:17.172Z"
   },
   {
    "duration": 235,
    "start_time": "2025-05-09T06:45:18.767Z"
   },
   {
    "duration": 24,
    "start_time": "2025-05-09T06:45:19.004Z"
   },
   {
    "duration": 41,
    "start_time": "2025-05-09T06:45:19.030Z"
   },
   {
    "duration": 9,
    "start_time": "2025-05-09T06:45:19.074Z"
   },
   {
    "duration": 252,
    "start_time": "2025-05-09T06:45:19.085Z"
   },
   {
    "duration": 2,
    "start_time": "2025-05-09T06:45:19.339Z"
   },
   {
    "duration": 20,
    "start_time": "2025-05-09T06:45:19.343Z"
   },
   {
    "duration": 236,
    "start_time": "2025-05-09T06:45:19.365Z"
   },
   {
    "duration": 23,
    "start_time": "2025-05-09T06:45:19.602Z"
   },
   {
    "duration": 3,
    "start_time": "2025-05-09T06:45:19.627Z"
   },
   {
    "duration": 5,
    "start_time": "2025-05-09T06:45:19.631Z"
   },
   {
    "duration": 24,
    "start_time": "2025-05-09T06:45:19.638Z"
   },
   {
    "duration": 27,
    "start_time": "2025-05-09T06:45:19.663Z"
   },
   {
    "duration": 28,
    "start_time": "2025-05-09T06:45:19.692Z"
   },
   {
    "duration": 18,
    "start_time": "2025-05-09T06:45:19.721Z"
   },
   {
    "duration": 24,
    "start_time": "2025-05-09T06:45:19.741Z"
   },
   {
    "duration": 3,
    "start_time": "2025-05-09T06:45:19.767Z"
   },
   {
    "duration": 29,
    "start_time": "2025-05-09T06:45:19.771Z"
   },
   {
    "duration": 6,
    "start_time": "2025-05-09T06:45:19.801Z"
   },
   {
    "duration": 15,
    "start_time": "2025-05-09T06:45:19.809Z"
   },
   {
    "duration": 6,
    "start_time": "2025-05-09T06:45:19.826Z"
   },
   {
    "duration": 33,
    "start_time": "2025-05-09T06:45:19.833Z"
   },
   {
    "duration": 3,
    "start_time": "2025-05-09T06:45:19.867Z"
   },
   {
    "duration": 5,
    "start_time": "2025-05-09T06:45:19.872Z"
   },
   {
    "duration": 20,
    "start_time": "2025-05-09T06:45:19.878Z"
   },
   {
    "duration": 6,
    "start_time": "2025-05-09T06:45:19.900Z"
   },
   {
    "duration": 12,
    "start_time": "2025-05-09T06:45:19.907Z"
   },
   {
    "duration": 9,
    "start_time": "2025-05-09T06:45:19.920Z"
   },
   {
    "duration": 147,
    "start_time": "2025-05-09T06:45:19.930Z"
   },
   {
    "duration": 419,
    "start_time": "2025-05-09T06:47:12.382Z"
   },
   {
    "duration": 109,
    "start_time": "2025-05-09T06:47:12.803Z"
   },
   {
    "duration": 33,
    "start_time": "2025-05-09T06:47:12.914Z"
   },
   {
    "duration": 24,
    "start_time": "2025-05-09T06:47:12.949Z"
   },
   {
    "duration": 2,
    "start_time": "2025-05-09T06:47:12.975Z"
   },
   {
    "duration": 2406,
    "start_time": "2025-05-09T06:47:12.980Z"
   },
   {
    "duration": 3,
    "start_time": "2025-05-09T06:47:15.387Z"
   },
   {
    "duration": 299,
    "start_time": "2025-05-09T06:47:15.391Z"
   },
   {
    "duration": 15,
    "start_time": "2025-05-09T06:47:15.691Z"
   },
   {
    "duration": 11,
    "start_time": "2025-05-09T06:47:15.709Z"
   },
   {
    "duration": 22,
    "start_time": "2025-05-09T06:47:15.722Z"
   },
   {
    "duration": 13,
    "start_time": "2025-05-09T06:47:15.746Z"
   },
   {
    "duration": 5,
    "start_time": "2025-05-09T06:47:15.760Z"
   },
   {
    "duration": 50,
    "start_time": "2025-05-09T06:47:15.767Z"
   },
   {
    "duration": 9,
    "start_time": "2025-05-09T06:47:15.818Z"
   },
   {
    "duration": 12,
    "start_time": "2025-05-09T06:47:15.828Z"
   },
   {
    "duration": 16,
    "start_time": "2025-05-09T06:47:15.842Z"
   },
   {
    "duration": 23,
    "start_time": "2025-05-09T06:47:15.861Z"
   },
   {
    "duration": 43,
    "start_time": "2025-05-09T06:47:15.886Z"
   },
   {
    "duration": 10,
    "start_time": "2025-05-09T06:47:15.931Z"
   },
   {
    "duration": 109,
    "start_time": "2025-05-09T06:47:15.942Z"
   },
   {
    "duration": 53,
    "start_time": "2025-05-09T06:47:16.053Z"
   },
   {
    "duration": 39,
    "start_time": "2025-05-09T06:47:16.108Z"
   },
   {
    "duration": 110,
    "start_time": "2025-05-09T06:47:16.149Z"
   },
   {
    "duration": 15,
    "start_time": "2025-05-09T06:47:16.260Z"
   },
   {
    "duration": 10,
    "start_time": "2025-05-09T06:47:16.277Z"
   },
   {
    "duration": 32,
    "start_time": "2025-05-09T06:47:16.289Z"
   },
   {
    "duration": 5,
    "start_time": "2025-05-09T06:47:16.326Z"
   },
   {
    "duration": 31,
    "start_time": "2025-05-09T06:47:16.333Z"
   },
   {
    "duration": 7,
    "start_time": "2025-05-09T06:47:16.366Z"
   },
   {
    "duration": 6,
    "start_time": "2025-05-09T06:47:16.374Z"
   },
   {
    "duration": 29,
    "start_time": "2025-05-09T06:47:16.382Z"
   },
   {
    "duration": 2,
    "start_time": "2025-05-09T06:47:16.413Z"
   },
   {
    "duration": 454,
    "start_time": "2025-05-09T06:47:16.416Z"
   },
   {
    "duration": 26,
    "start_time": "2025-05-09T06:47:16.872Z"
   },
   {
    "duration": 25,
    "start_time": "2025-05-09T06:47:16.900Z"
   },
   {
    "duration": 107,
    "start_time": "2025-05-09T06:47:16.927Z"
   },
   {
    "duration": 4,
    "start_time": "2025-05-09T06:47:17.037Z"
   },
   {
    "duration": 21,
    "start_time": "2025-05-09T06:47:17.043Z"
   },
   {
    "duration": 53,
    "start_time": "2025-05-09T06:47:17.066Z"
   },
   {
    "duration": 336,
    "start_time": "2025-05-09T06:47:17.122Z"
   },
   {
    "duration": 150,
    "start_time": "2025-05-09T06:47:17.461Z"
   },
   {
    "duration": 46,
    "start_time": "2025-05-09T06:47:17.613Z"
   },
   {
    "duration": 1455,
    "start_time": "2025-05-09T06:47:17.660Z"
   },
   {
    "duration": 233,
    "start_time": "2025-05-09T06:47:19.116Z"
   },
   {
    "duration": 45,
    "start_time": "2025-05-09T06:47:19.351Z"
   },
   {
    "duration": 68,
    "start_time": "2025-05-09T06:47:19.398Z"
   },
   {
    "duration": 5,
    "start_time": "2025-05-09T06:47:19.468Z"
   },
   {
    "duration": 262,
    "start_time": "2025-05-09T06:47:19.474Z"
   },
   {
    "duration": 3,
    "start_time": "2025-05-09T06:47:19.738Z"
   },
   {
    "duration": 57,
    "start_time": "2025-05-09T06:47:19.742Z"
   },
   {
    "duration": 275,
    "start_time": "2025-05-09T06:47:19.801Z"
   },
   {
    "duration": 40,
    "start_time": "2025-05-09T06:47:20.078Z"
   },
   {
    "duration": 30,
    "start_time": "2025-05-09T06:47:20.119Z"
   },
   {
    "duration": 102,
    "start_time": "2025-05-09T06:47:20.151Z"
   },
   {
    "duration": 29,
    "start_time": "2025-05-09T06:47:20.255Z"
   },
   {
    "duration": 43,
    "start_time": "2025-05-09T06:47:20.286Z"
   },
   {
    "duration": 35,
    "start_time": "2025-05-09T06:47:20.331Z"
   },
   {
    "duration": 15,
    "start_time": "2025-05-09T06:47:20.368Z"
   },
   {
    "duration": 48,
    "start_time": "2025-05-09T06:47:20.385Z"
   },
   {
    "duration": 90,
    "start_time": "2025-05-09T06:47:20.435Z"
   },
   {
    "duration": 175,
    "start_time": "2025-05-09T06:47:20.527Z"
   },
   {
    "duration": 34,
    "start_time": "2025-05-09T06:47:20.704Z"
   },
   {
    "duration": 117,
    "start_time": "2025-05-09T06:47:20.740Z"
   },
   {
    "duration": 41,
    "start_time": "2025-05-09T06:47:20.859Z"
   },
   {
    "duration": 78,
    "start_time": "2025-05-09T06:47:20.902Z"
   },
   {
    "duration": 30,
    "start_time": "2025-05-09T06:47:20.982Z"
   },
   {
    "duration": 22,
    "start_time": "2025-05-09T06:47:21.014Z"
   },
   {
    "duration": 59,
    "start_time": "2025-05-09T06:47:21.038Z"
   },
   {
    "duration": 4,
    "start_time": "2025-05-09T06:47:21.099Z"
   },
   {
    "duration": 26,
    "start_time": "2025-05-09T06:47:21.105Z"
   },
   {
    "duration": 32,
    "start_time": "2025-05-09T06:47:21.132Z"
   },
   {
    "duration": 59,
    "start_time": "2025-05-09T06:47:21.166Z"
   },
   {
    "duration": 2,
    "start_time": "2025-05-09T06:50:01.486Z"
   },
   {
    "duration": 449,
    "start_time": "2025-05-09T06:53:21.163Z"
   },
   {
    "duration": 108,
    "start_time": "2025-05-09T06:53:21.614Z"
   },
   {
    "duration": 39,
    "start_time": "2025-05-09T06:53:21.724Z"
   },
   {
    "duration": 18,
    "start_time": "2025-05-09T06:53:21.766Z"
   },
   {
    "duration": 3,
    "start_time": "2025-05-09T06:53:21.786Z"
   },
   {
    "duration": 2346,
    "start_time": "2025-05-09T06:53:21.791Z"
   },
   {
    "duration": 3,
    "start_time": "2025-05-09T06:53:24.139Z"
   },
   {
    "duration": 73,
    "start_time": "2025-05-09T06:53:24.143Z"
   },
   {
    "duration": 147,
    "start_time": "2025-05-09T06:53:24.217Z"
   },
   {
    "duration": 9,
    "start_time": "2025-05-09T06:53:24.367Z"
   },
   {
    "duration": 27,
    "start_time": "2025-05-09T06:53:24.378Z"
   },
   {
    "duration": 12,
    "start_time": "2025-05-09T06:53:24.407Z"
   },
   {
    "duration": 28,
    "start_time": "2025-05-09T06:53:24.421Z"
   },
   {
    "duration": 136,
    "start_time": "2025-05-09T06:53:24.451Z"
   },
   {
    "duration": 11,
    "start_time": "2025-05-09T06:53:24.589Z"
   },
   {
    "duration": 152,
    "start_time": "2025-05-09T06:53:24.602Z"
   },
   {
    "duration": 12,
    "start_time": "2025-05-09T06:53:24.756Z"
   },
   {
    "duration": 14,
    "start_time": "2025-05-09T06:53:24.770Z"
   },
   {
    "duration": 42,
    "start_time": "2025-05-09T06:53:24.785Z"
   },
   {
    "duration": 2,
    "start_time": "2025-05-09T06:53:24.829Z"
   },
   {
    "duration": 36,
    "start_time": "2025-05-09T06:53:24.833Z"
   },
   {
    "duration": 18,
    "start_time": "2025-05-09T06:53:24.871Z"
   },
   {
    "duration": 29,
    "start_time": "2025-05-09T06:53:24.891Z"
   },
   {
    "duration": 10,
    "start_time": "2025-05-09T06:53:24.922Z"
   },
   {
    "duration": 22,
    "start_time": "2025-05-09T06:53:24.934Z"
   },
   {
    "duration": 28,
    "start_time": "2025-05-09T06:53:24.957Z"
   },
   {
    "duration": 5,
    "start_time": "2025-05-09T06:53:24.987Z"
   },
   {
    "duration": 9,
    "start_time": "2025-05-09T06:53:24.996Z"
   },
   {
    "duration": 6,
    "start_time": "2025-05-09T06:53:25.006Z"
   },
   {
    "duration": 13,
    "start_time": "2025-05-09T06:53:25.013Z"
   },
   {
    "duration": 63,
    "start_time": "2025-05-09T06:53:25.027Z"
   },
   {
    "duration": 8,
    "start_time": "2025-05-09T06:53:25.091Z"
   },
   {
    "duration": 369,
    "start_time": "2025-05-09T06:53:25.101Z"
   },
   {
    "duration": 25,
    "start_time": "2025-05-09T06:53:25.472Z"
   },
   {
    "duration": 4,
    "start_time": "2025-05-09T06:53:25.498Z"
   },
   {
    "duration": 106,
    "start_time": "2025-05-09T06:53:25.503Z"
   },
   {
    "duration": 12,
    "start_time": "2025-05-09T06:53:25.611Z"
   },
   {
    "duration": 27,
    "start_time": "2025-05-09T06:53:25.624Z"
   },
   {
    "duration": 29,
    "start_time": "2025-05-09T06:53:25.653Z"
   },
   {
    "duration": 14,
    "start_time": "2025-05-09T06:53:25.683Z"
   },
   {
    "duration": 24,
    "start_time": "2025-05-09T06:53:25.698Z"
   },
   {
    "duration": 25,
    "start_time": "2025-05-09T06:53:25.724Z"
   },
   {
    "duration": 1479,
    "start_time": "2025-05-09T06:53:25.751Z"
   },
   {
    "duration": 267,
    "start_time": "2025-05-09T06:53:27.232Z"
   },
   {
    "duration": 62,
    "start_time": "2025-05-09T06:53:27.501Z"
   },
   {
    "duration": 109,
    "start_time": "2025-05-09T06:53:27.565Z"
   },
   {
    "duration": 6,
    "start_time": "2025-05-09T06:53:27.675Z"
   },
   {
    "duration": 273,
    "start_time": "2025-05-09T06:53:27.683Z"
   },
   {
    "duration": 3,
    "start_time": "2025-05-09T06:53:27.958Z"
   },
   {
    "duration": 117,
    "start_time": "2025-05-09T06:53:27.962Z"
   },
   {
    "duration": 261,
    "start_time": "2025-05-09T06:53:28.081Z"
   },
   {
    "duration": 43,
    "start_time": "2025-05-09T06:53:28.344Z"
   },
   {
    "duration": 3,
    "start_time": "2025-05-09T06:53:28.388Z"
   },
   {
    "duration": 10,
    "start_time": "2025-05-09T06:53:28.392Z"
   },
   {
    "duration": 2,
    "start_time": "2025-05-09T06:53:28.404Z"
   },
   {
    "duration": 18,
    "start_time": "2025-05-09T06:53:28.408Z"
   },
   {
    "duration": 39,
    "start_time": "2025-05-09T06:53:28.428Z"
   },
   {
    "duration": 3,
    "start_time": "2025-05-09T06:53:28.469Z"
   },
   {
    "duration": 99,
    "start_time": "2025-05-09T06:53:28.474Z"
   },
   {
    "duration": 2,
    "start_time": "2025-05-09T06:53:28.575Z"
   },
   {
    "duration": 106,
    "start_time": "2025-05-09T06:53:28.579Z"
   },
   {
    "duration": 73,
    "start_time": "2025-05-09T06:53:28.687Z"
   },
   {
    "duration": 30,
    "start_time": "2025-05-09T06:53:28.762Z"
   },
   {
    "duration": 2,
    "start_time": "2025-05-09T06:53:28.793Z"
   },
   {
    "duration": 12,
    "start_time": "2025-05-09T06:53:28.797Z"
   },
   {
    "duration": 2,
    "start_time": "2025-05-09T06:53:28.811Z"
   },
   {
    "duration": 16,
    "start_time": "2025-05-09T06:53:28.815Z"
   },
   {
    "duration": 28,
    "start_time": "2025-05-09T06:53:28.833Z"
   },
   {
    "duration": 4,
    "start_time": "2025-05-09T06:53:28.862Z"
   },
   {
    "duration": 24,
    "start_time": "2025-05-09T06:53:28.868Z"
   },
   {
    "duration": 24,
    "start_time": "2025-05-09T06:53:28.894Z"
   },
   {
    "duration": 97,
    "start_time": "2025-05-09T06:53:28.920Z"
   },
   {
    "duration": 5,
    "start_time": "2025-05-09T06:54:35.616Z"
   },
   {
    "duration": 5,
    "start_time": "2025-05-09T07:59:12.243Z"
   },
   {
    "duration": 38,
    "start_time": "2025-05-09T07:59:13.164Z"
   },
   {
    "duration": 11,
    "start_time": "2025-05-09T08:01:19.104Z"
   },
   {
    "duration": 22,
    "start_time": "2025-05-09T08:03:53.143Z"
   },
   {
    "duration": 12,
    "start_time": "2025-05-09T08:03:55.042Z"
   },
   {
    "duration": 444,
    "start_time": "2025-05-09T08:03:59.934Z"
   },
   {
    "duration": 104,
    "start_time": "2025-05-09T08:04:00.380Z"
   },
   {
    "duration": 180,
    "start_time": "2025-05-09T08:04:00.486Z"
   },
   {
    "duration": 139,
    "start_time": "2025-05-09T08:04:00.668Z"
   },
   {
    "duration": 118,
    "start_time": "2025-05-09T08:04:00.808Z"
   },
   {
    "duration": 2462,
    "start_time": "2025-05-09T08:04:00.928Z"
   },
   {
    "duration": 3,
    "start_time": "2025-05-09T08:04:03.391Z"
   },
   {
    "duration": 54,
    "start_time": "2025-05-09T08:04:03.395Z"
   },
   {
    "duration": 39,
    "start_time": "2025-05-09T08:04:03.451Z"
   },
   {
    "duration": 44,
    "start_time": "2025-05-09T08:04:03.493Z"
   },
   {
    "duration": 34,
    "start_time": "2025-05-09T08:04:03.539Z"
   },
   {
    "duration": 22,
    "start_time": "2025-05-09T08:04:03.575Z"
   },
   {
    "duration": 18,
    "start_time": "2025-05-09T08:04:03.599Z"
   },
   {
    "duration": 25,
    "start_time": "2025-05-09T08:04:03.619Z"
   },
   {
    "duration": 72,
    "start_time": "2025-05-09T08:04:03.646Z"
   },
   {
    "duration": 9,
    "start_time": "2025-05-09T08:04:03.720Z"
   },
   {
    "duration": 12,
    "start_time": "2025-05-09T08:04:03.731Z"
   },
   {
    "duration": 21,
    "start_time": "2025-05-09T08:04:03.745Z"
   },
   {
    "duration": 112,
    "start_time": "2025-05-09T08:04:03.767Z"
   },
   {
    "duration": 50,
    "start_time": "2025-05-09T08:04:03.881Z"
   },
   {
    "duration": 9,
    "start_time": "2025-05-09T08:04:03.933Z"
   },
   {
    "duration": 42,
    "start_time": "2025-05-09T08:04:03.944Z"
   },
   {
    "duration": 65,
    "start_time": "2025-05-09T08:04:03.988Z"
   },
   {
    "duration": 37,
    "start_time": "2025-05-09T08:04:04.055Z"
   },
   {
    "duration": 11,
    "start_time": "2025-05-09T08:04:04.094Z"
   },
   {
    "duration": 37,
    "start_time": "2025-05-09T08:04:04.107Z"
   },
   {
    "duration": 29,
    "start_time": "2025-05-09T08:04:04.146Z"
   },
   {
    "duration": 28,
    "start_time": "2025-05-09T08:04:04.179Z"
   },
   {
    "duration": 34,
    "start_time": "2025-05-09T08:04:04.208Z"
   },
   {
    "duration": 30,
    "start_time": "2025-05-09T08:04:04.244Z"
   },
   {
    "duration": 10,
    "start_time": "2025-05-09T08:04:04.276Z"
   },
   {
    "duration": 5,
    "start_time": "2025-05-09T08:04:04.288Z"
   },
   {
    "duration": 41,
    "start_time": "2025-05-09T08:04:04.295Z"
   },
   {
    "duration": 2,
    "start_time": "2025-05-09T08:04:04.338Z"
   },
   {
    "duration": 487,
    "start_time": "2025-05-09T08:04:04.341Z"
   },
   {
    "duration": 32,
    "start_time": "2025-05-09T08:04:04.830Z"
   },
   {
    "duration": 4,
    "start_time": "2025-05-09T08:04:04.864Z"
   },
   {
    "duration": 20,
    "start_time": "2025-05-09T08:04:04.870Z"
   },
   {
    "duration": 5,
    "start_time": "2025-05-09T08:04:04.892Z"
   },
   {
    "duration": 51,
    "start_time": "2025-05-09T08:04:04.898Z"
   },
   {
    "duration": 48,
    "start_time": "2025-05-09T08:04:04.951Z"
   },
   {
    "duration": 145,
    "start_time": "2025-05-09T08:04:05.001Z"
   },
   {
    "duration": 46,
    "start_time": "2025-05-09T08:04:05.147Z"
   },
   {
    "duration": 24,
    "start_time": "2025-05-09T08:04:05.194Z"
   },
   {
    "duration": 1485,
    "start_time": "2025-05-09T08:04:05.220Z"
   },
   {
    "duration": 268,
    "start_time": "2025-05-09T08:04:06.707Z"
   },
   {
    "duration": 38,
    "start_time": "2025-05-09T08:04:06.977Z"
   },
   {
    "duration": 228,
    "start_time": "2025-05-09T08:04:07.017Z"
   },
   {
    "duration": 4,
    "start_time": "2025-05-09T08:04:07.247Z"
   },
   {
    "duration": 326,
    "start_time": "2025-05-09T08:04:07.253Z"
   },
   {
    "duration": 2,
    "start_time": "2025-05-09T08:04:07.581Z"
   },
   {
    "duration": 150,
    "start_time": "2025-05-09T08:04:07.585Z"
   },
   {
    "duration": 404,
    "start_time": "2025-05-09T08:04:07.736Z"
   },
   {
    "duration": 46,
    "start_time": "2025-05-09T08:04:08.142Z"
   },
   {
    "duration": 3,
    "start_time": "2025-05-09T08:04:08.190Z"
   },
   {
    "duration": 33,
    "start_time": "2025-05-09T08:04:08.194Z"
   },
   {
    "duration": 12,
    "start_time": "2025-05-09T08:04:08.228Z"
   },
   {
    "duration": 32,
    "start_time": "2025-05-09T08:04:08.242Z"
   },
   {
    "duration": 17,
    "start_time": "2025-05-09T08:04:08.276Z"
   },
   {
    "duration": 7,
    "start_time": "2025-05-09T08:04:08.295Z"
   },
   {
    "duration": 46,
    "start_time": "2025-05-09T08:04:08.304Z"
   },
   {
    "duration": 18,
    "start_time": "2025-05-09T08:04:08.352Z"
   },
   {
    "duration": 24,
    "start_time": "2025-05-09T08:04:08.372Z"
   },
   {
    "duration": 3,
    "start_time": "2025-05-09T08:04:08.398Z"
   },
   {
    "duration": 39,
    "start_time": "2025-05-09T08:04:08.402Z"
   },
   {
    "duration": 3,
    "start_time": "2025-05-09T08:04:08.443Z"
   },
   {
    "duration": 36,
    "start_time": "2025-05-09T08:04:08.448Z"
   },
   {
    "duration": 123,
    "start_time": "2025-05-09T08:04:08.487Z"
   },
   {
    "duration": 29,
    "start_time": "2025-05-09T08:04:08.612Z"
   },
   {
    "duration": 39,
    "start_time": "2025-05-09T08:04:08.643Z"
   },
   {
    "duration": 35,
    "start_time": "2025-05-09T08:04:08.684Z"
   },
   {
    "duration": 107,
    "start_time": "2025-05-09T08:04:08.721Z"
   },
   {
    "duration": 10,
    "start_time": "2025-05-09T08:04:08.830Z"
   },
   {
    "duration": 49,
    "start_time": "2025-05-09T08:04:08.842Z"
   },
   {
    "duration": 85,
    "start_time": "2025-05-09T08:08:48.772Z"
   },
   {
    "duration": 9,
    "start_time": "2025-05-09T08:09:52.064Z"
   },
   {
    "duration": 7,
    "start_time": "2025-05-09T08:10:07.654Z"
   },
   {
    "duration": 7,
    "start_time": "2025-05-09T08:10:39.935Z"
   },
   {
    "duration": 7,
    "start_time": "2025-05-09T08:12:06.590Z"
   },
   {
    "duration": 449,
    "start_time": "2025-05-09T08:12:14.052Z"
   },
   {
    "duration": 99,
    "start_time": "2025-05-09T08:12:14.503Z"
   },
   {
    "duration": 54,
    "start_time": "2025-05-09T08:12:14.603Z"
   },
   {
    "duration": 20,
    "start_time": "2025-05-09T08:12:14.659Z"
   },
   {
    "duration": 4,
    "start_time": "2025-05-09T08:12:14.682Z"
   },
   {
    "duration": 2452,
    "start_time": "2025-05-09T08:12:14.689Z"
   },
   {
    "duration": 3,
    "start_time": "2025-05-09T08:12:17.143Z"
   },
   {
    "duration": 106,
    "start_time": "2025-05-09T08:12:17.148Z"
   },
   {
    "duration": 59,
    "start_time": "2025-05-09T08:12:17.256Z"
   },
   {
    "duration": 172,
    "start_time": "2025-05-09T08:12:17.318Z"
   },
   {
    "duration": 195,
    "start_time": "2025-05-09T08:12:17.492Z"
   },
   {
    "duration": 399,
    "start_time": "2025-05-09T08:12:17.689Z"
   },
   {
    "duration": 13,
    "start_time": "2025-05-09T08:12:18.090Z"
   },
   {
    "duration": 3,
    "start_time": "2025-05-09T08:12:18.104Z"
   },
   {
    "duration": 66,
    "start_time": "2025-05-09T08:12:18.108Z"
   },
   {
    "duration": 14,
    "start_time": "2025-05-09T08:12:18.177Z"
   },
   {
    "duration": 18,
    "start_time": "2025-05-09T08:12:18.193Z"
   },
   {
    "duration": 8,
    "start_time": "2025-05-09T08:12:18.212Z"
   },
   {
    "duration": 17,
    "start_time": "2025-05-09T08:12:18.222Z"
   },
   {
    "duration": 62,
    "start_time": "2025-05-09T08:12:18.240Z"
   },
   {
    "duration": 2,
    "start_time": "2025-05-09T08:12:18.304Z"
   },
   {
    "duration": 9,
    "start_time": "2025-05-09T08:12:18.308Z"
   },
   {
    "duration": 14,
    "start_time": "2025-05-09T08:12:18.319Z"
   },
   {
    "duration": 58,
    "start_time": "2025-05-09T08:12:18.335Z"
   },
   {
    "duration": 7,
    "start_time": "2025-05-09T08:12:18.395Z"
   },
   {
    "duration": 18,
    "start_time": "2025-05-09T08:12:18.404Z"
   },
   {
    "duration": 11,
    "start_time": "2025-05-09T08:12:18.424Z"
   },
   {
    "duration": 37,
    "start_time": "2025-05-09T08:12:18.461Z"
   },
   {
    "duration": 6,
    "start_time": "2025-05-09T08:12:18.500Z"
   },
   {
    "duration": 187,
    "start_time": "2025-05-09T08:12:18.507Z"
   },
   {
    "duration": 6,
    "start_time": "2025-05-09T08:12:18.695Z"
   },
   {
    "duration": 5,
    "start_time": "2025-05-09T08:12:18.703Z"
   },
   {
    "duration": 28,
    "start_time": "2025-05-09T08:12:18.710Z"
   },
   {
    "duration": 2,
    "start_time": "2025-05-09T08:12:18.740Z"
   },
   {
    "duration": 512,
    "start_time": "2025-05-09T08:12:18.743Z"
   },
   {
    "duration": 38,
    "start_time": "2025-05-09T08:12:19.257Z"
   },
   {
    "duration": 4,
    "start_time": "2025-05-09T08:12:19.297Z"
   },
   {
    "duration": 20,
    "start_time": "2025-05-09T08:12:19.302Z"
   },
   {
    "duration": 5,
    "start_time": "2025-05-09T08:12:19.323Z"
   },
   {
    "duration": 56,
    "start_time": "2025-05-09T08:12:19.329Z"
   },
   {
    "duration": 26,
    "start_time": "2025-05-09T08:12:19.388Z"
   },
   {
    "duration": 18,
    "start_time": "2025-05-09T08:12:19.415Z"
   },
   {
    "duration": 40,
    "start_time": "2025-05-09T08:12:19.434Z"
   },
   {
    "duration": 125,
    "start_time": "2025-05-09T08:12:19.477Z"
   },
   {
    "duration": 1695,
    "start_time": "2025-05-09T08:12:19.604Z"
   },
   {
    "duration": 262,
    "start_time": "2025-05-09T08:12:21.301Z"
   },
   {
    "duration": 42,
    "start_time": "2025-05-09T08:12:21.565Z"
   },
   {
    "duration": 74,
    "start_time": "2025-05-09T08:12:21.610Z"
   },
   {
    "duration": 5,
    "start_time": "2025-05-09T08:12:21.686Z"
   },
   {
    "duration": 284,
    "start_time": "2025-05-09T08:12:21.692Z"
   },
   {
    "duration": 3,
    "start_time": "2025-05-09T08:12:21.979Z"
   },
   {
    "duration": 37,
    "start_time": "2025-05-09T08:12:21.984Z"
   },
   {
    "duration": 302,
    "start_time": "2025-05-09T08:12:22.023Z"
   },
   {
    "duration": 54,
    "start_time": "2025-05-09T08:12:22.327Z"
   },
   {
    "duration": 2,
    "start_time": "2025-05-09T08:12:22.383Z"
   },
   {
    "duration": 11,
    "start_time": "2025-05-09T08:12:22.387Z"
   },
   {
    "duration": 12,
    "start_time": "2025-05-09T08:12:22.400Z"
   },
   {
    "duration": 40,
    "start_time": "2025-05-09T08:12:22.413Z"
   },
   {
    "duration": 29,
    "start_time": "2025-05-09T08:12:22.455Z"
   },
   {
    "duration": 21,
    "start_time": "2025-05-09T08:12:22.486Z"
   },
   {
    "duration": 189,
    "start_time": "2025-05-09T08:12:22.509Z"
   },
   {
    "duration": 14,
    "start_time": "2025-05-09T08:12:22.700Z"
   },
   {
    "duration": 26,
    "start_time": "2025-05-09T08:12:22.716Z"
   },
   {
    "duration": 103,
    "start_time": "2025-05-09T08:12:22.744Z"
   },
   {
    "duration": 35,
    "start_time": "2025-05-09T08:12:22.849Z"
   },
   {
    "duration": 2,
    "start_time": "2025-05-09T08:12:22.886Z"
   },
   {
    "duration": 54,
    "start_time": "2025-05-09T08:12:22.890Z"
   },
   {
    "duration": 2,
    "start_time": "2025-05-09T08:12:22.946Z"
   },
   {
    "duration": 24,
    "start_time": "2025-05-09T08:12:22.950Z"
   },
   {
    "duration": 41,
    "start_time": "2025-05-09T08:12:22.977Z"
   },
   {
    "duration": 5,
    "start_time": "2025-05-09T08:12:23.019Z"
   },
   {
    "duration": 26,
    "start_time": "2025-05-09T08:12:23.025Z"
   },
   {
    "duration": 52,
    "start_time": "2025-05-09T08:12:23.052Z"
   },
   {
    "duration": 154,
    "start_time": "2025-05-09T08:12:23.106Z"
   },
   {
    "duration": 41,
    "start_time": "2025-05-09T08:13:15.548Z"
   },
   {
    "duration": 7,
    "start_time": "2025-05-09T08:13:16.422Z"
   },
   {
    "duration": 23,
    "start_time": "2025-05-09T08:13:27.224Z"
   },
   {
    "duration": 7,
    "start_time": "2025-05-09T08:13:27.789Z"
   },
   {
    "duration": 21,
    "start_time": "2025-05-09T08:15:22.166Z"
   },
   {
    "duration": 19,
    "start_time": "2025-05-09T08:15:22.369Z"
   },
   {
    "duration": 2,
    "start_time": "2025-05-09T08:15:37.147Z"
   },
   {
    "duration": 13,
    "start_time": "2025-05-09T08:21:53.294Z"
   },
   {
    "duration": 25,
    "start_time": "2025-05-09T08:21:53.707Z"
   },
   {
    "duration": 517,
    "start_time": "2025-05-09T08:26:32.563Z"
   },
   {
    "duration": 279,
    "start_time": "2025-05-09T08:26:33.082Z"
   },
   {
    "duration": 108,
    "start_time": "2025-05-09T08:26:33.364Z"
   },
   {
    "duration": 35,
    "start_time": "2025-05-09T08:26:33.476Z"
   },
   {
    "duration": 16,
    "start_time": "2025-05-09T08:26:33.513Z"
   },
   {
    "duration": 60,
    "start_time": "2025-05-09T08:26:33.530Z"
   },
   {
    "duration": 2326,
    "start_time": "2025-05-09T08:26:33.591Z"
   },
   {
    "duration": 3,
    "start_time": "2025-05-09T08:26:35.919Z"
   },
   {
    "duration": 175,
    "start_time": "2025-05-09T08:26:35.923Z"
   },
   {
    "duration": 86,
    "start_time": "2025-05-09T08:26:36.101Z"
   },
   {
    "duration": 23,
    "start_time": "2025-05-09T08:26:36.189Z"
   },
   {
    "duration": 14,
    "start_time": "2025-05-09T08:26:36.214Z"
   },
   {
    "duration": 35,
    "start_time": "2025-05-09T08:26:36.230Z"
   },
   {
    "duration": 32,
    "start_time": "2025-05-09T08:26:36.267Z"
   },
   {
    "duration": 9,
    "start_time": "2025-05-09T08:26:36.300Z"
   },
   {
    "duration": 109,
    "start_time": "2025-05-09T08:26:36.310Z"
   },
   {
    "duration": 9,
    "start_time": "2025-05-09T08:26:36.421Z"
   },
   {
    "duration": 64,
    "start_time": "2025-05-09T08:26:36.432Z"
   },
   {
    "duration": 29,
    "start_time": "2025-05-09T08:26:36.497Z"
   },
   {
    "duration": 53,
    "start_time": "2025-05-09T08:26:36.527Z"
   },
   {
    "duration": 241,
    "start_time": "2025-05-09T08:26:36.582Z"
   },
   {
    "duration": 108,
    "start_time": "2025-05-09T08:26:36.824Z"
   },
   {
    "duration": 58,
    "start_time": "2025-05-09T08:26:36.933Z"
   },
   {
    "duration": 115,
    "start_time": "2025-05-09T08:26:36.993Z"
   },
   {
    "duration": 65,
    "start_time": "2025-05-09T08:26:37.110Z"
   },
   {
    "duration": 131,
    "start_time": "2025-05-09T08:26:37.178Z"
   },
   {
    "duration": 33,
    "start_time": "2025-05-09T08:26:37.311Z"
   },
   {
    "duration": 33,
    "start_time": "2025-05-09T08:26:37.348Z"
   },
   {
    "duration": 6,
    "start_time": "2025-05-09T08:26:37.383Z"
   },
   {
    "duration": 25,
    "start_time": "2025-05-09T08:26:37.391Z"
   },
   {
    "duration": 28,
    "start_time": "2025-05-09T08:26:37.418Z"
   },
   {
    "duration": 24,
    "start_time": "2025-05-09T08:26:37.448Z"
   },
   {
    "duration": 378,
    "start_time": "2025-05-09T08:26:37.475Z"
   },
   {
    "duration": 31,
    "start_time": "2025-05-09T08:26:37.855Z"
   },
   {
    "duration": 93,
    "start_time": "2025-05-09T08:26:37.888Z"
   },
   {
    "duration": 26,
    "start_time": "2025-05-09T08:26:37.983Z"
   },
   {
    "duration": 20,
    "start_time": "2025-05-09T08:26:38.010Z"
   },
   {
    "duration": 43,
    "start_time": "2025-05-09T08:26:38.032Z"
   },
   {
    "duration": 63,
    "start_time": "2025-05-09T08:26:38.077Z"
   },
   {
    "duration": 20,
    "start_time": "2025-05-09T08:26:38.142Z"
   },
   {
    "duration": 70,
    "start_time": "2025-05-09T08:26:38.165Z"
   },
   {
    "duration": 1609,
    "start_time": "2025-05-09T08:26:38.237Z"
   },
   {
    "duration": 291,
    "start_time": "2025-05-09T08:26:39.848Z"
   },
   {
    "duration": 58,
    "start_time": "2025-05-09T08:26:40.141Z"
   },
   {
    "duration": 67,
    "start_time": "2025-05-09T08:26:40.201Z"
   },
   {
    "duration": 7,
    "start_time": "2025-05-09T08:26:40.271Z"
   },
   {
    "duration": 298,
    "start_time": "2025-05-09T08:26:40.280Z"
   },
   {
    "duration": 4,
    "start_time": "2025-05-09T08:26:40.581Z"
   },
   {
    "duration": 78,
    "start_time": "2025-05-09T08:26:40.588Z"
   },
   {
    "duration": 390,
    "start_time": "2025-05-09T08:26:40.669Z"
   },
   {
    "duration": 47,
    "start_time": "2025-05-09T08:26:41.061Z"
   },
   {
    "duration": 17,
    "start_time": "2025-05-09T08:26:41.110Z"
   },
   {
    "duration": 182,
    "start_time": "2025-05-09T08:26:41.129Z"
   },
   {
    "duration": 16,
    "start_time": "2025-05-09T08:26:41.313Z"
   },
   {
    "duration": 21,
    "start_time": "2025-05-09T08:26:41.331Z"
   },
   {
    "duration": 17,
    "start_time": "2025-05-09T08:26:41.354Z"
   },
   {
    "duration": 5,
    "start_time": "2025-05-09T08:26:41.374Z"
   },
   {
    "duration": 29,
    "start_time": "2025-05-09T08:26:41.383Z"
   },
   {
    "duration": 3,
    "start_time": "2025-05-09T08:26:41.414Z"
   },
   {
    "duration": 44,
    "start_time": "2025-05-09T08:26:41.419Z"
   },
   {
    "duration": 4,
    "start_time": "2025-05-09T08:26:41.466Z"
   },
   {
    "duration": 25,
    "start_time": "2025-05-09T08:26:41.472Z"
   },
   {
    "duration": 7,
    "start_time": "2025-05-09T08:26:41.499Z"
   },
   {
    "duration": 16,
    "start_time": "2025-05-09T08:26:41.507Z"
   },
   {
    "duration": 7,
    "start_time": "2025-05-09T08:26:41.524Z"
   },
   {
    "duration": 16,
    "start_time": "2025-05-09T08:26:41.532Z"
   },
   {
    "duration": 54,
    "start_time": "2025-05-09T08:26:41.550Z"
   },
   {
    "duration": 5,
    "start_time": "2025-05-09T08:26:41.606Z"
   },
   {
    "duration": 45,
    "start_time": "2025-05-09T08:26:41.612Z"
   },
   {
    "duration": 81,
    "start_time": "2025-05-09T08:26:41.658Z"
   },
   {
    "duration": 63,
    "start_time": "2025-05-09T08:26:41.741Z"
   },
   {
    "duration": 2019,
    "start_time": "2025-05-09T08:27:17.217Z"
   },
   {
    "duration": 1800,
    "start_time": "2025-05-09T08:27:28.870Z"
   },
   {
    "duration": 1972,
    "start_time": "2025-05-09T08:27:45.621Z"
   },
   {
    "duration": 1613,
    "start_time": "2025-05-09T08:28:00.672Z"
   },
   {
    "duration": 1813,
    "start_time": "2025-05-09T08:28:09.975Z"
   },
   {
    "duration": 336,
    "start_time": "2025-05-09T08:28:33.584Z"
   },
   {
    "duration": 385,
    "start_time": "2025-05-09T08:28:42.441Z"
   },
   {
    "duration": 362,
    "start_time": "2025-05-09T08:28:50.122Z"
   },
   {
    "duration": 7,
    "start_time": "2025-05-09T08:34:06.109Z"
   },
   {
    "duration": 9,
    "start_time": "2025-05-09T08:34:15.072Z"
   },
   {
    "duration": 41,
    "start_time": "2025-05-09T08:35:39.828Z"
   },
   {
    "duration": 38,
    "start_time": "2025-05-09T08:36:35.817Z"
   },
   {
    "duration": 61,
    "start_time": "2025-05-09T08:37:27.469Z"
   },
   {
    "duration": 40,
    "start_time": "2025-05-09T08:38:13.044Z"
   },
   {
    "duration": 39,
    "start_time": "2025-05-09T08:40:44.024Z"
   },
   {
    "duration": 62,
    "start_time": "2025-05-09T08:43:57.342Z"
   },
   {
    "duration": 37,
    "start_time": "2025-05-09T08:44:59.217Z"
   },
   {
    "duration": 44,
    "start_time": "2025-05-09T08:45:09.223Z"
   },
   {
    "duration": 38,
    "start_time": "2025-05-09T08:46:18.772Z"
   },
   {
    "duration": 760,
    "start_time": "2025-05-09T08:46:37.242Z"
   },
   {
    "duration": 56,
    "start_time": "2025-05-09T08:46:46.698Z"
   },
   {
    "duration": 4,
    "start_time": "2025-05-09T08:50:17.603Z"
   },
   {
    "duration": 16,
    "start_time": "2025-05-09T08:50:28.031Z"
   },
   {
    "duration": 15,
    "start_time": "2025-05-09T08:51:28.800Z"
   },
   {
    "duration": 16,
    "start_time": "2025-05-09T08:52:35.368Z"
   },
   {
    "duration": 420,
    "start_time": "2025-05-09T08:52:51.721Z"
   },
   {
    "duration": 267,
    "start_time": "2025-05-09T08:52:52.143Z"
   },
   {
    "duration": 98,
    "start_time": "2025-05-09T08:52:52.412Z"
   },
   {
    "duration": 31,
    "start_time": "2025-05-09T08:52:52.512Z"
   },
   {
    "duration": 22,
    "start_time": "2025-05-09T08:52:52.544Z"
   },
   {
    "duration": 3,
    "start_time": "2025-05-09T08:52:52.568Z"
   },
   {
    "duration": 2081,
    "start_time": "2025-05-09T08:52:52.572Z"
   },
   {
    "duration": 3,
    "start_time": "2025-05-09T08:52:54.655Z"
   },
   {
    "duration": 16,
    "start_time": "2025-05-09T08:52:54.660Z"
   },
   {
    "duration": 2,
    "start_time": "2025-05-09T08:52:54.679Z"
   },
   {
    "duration": 5,
    "start_time": "2025-05-09T08:52:54.682Z"
   },
   {
    "duration": 6,
    "start_time": "2025-05-09T08:52:54.689Z"
   },
   {
    "duration": 17,
    "start_time": "2025-05-09T08:52:54.696Z"
   },
   {
    "duration": 19,
    "start_time": "2025-05-09T08:52:54.715Z"
   },
   {
    "duration": 2,
    "start_time": "2025-05-09T08:52:54.736Z"
   },
   {
    "duration": 43,
    "start_time": "2025-05-09T08:52:54.760Z"
   },
   {
    "duration": 8,
    "start_time": "2025-05-09T08:52:54.805Z"
   },
   {
    "duration": 7,
    "start_time": "2025-05-09T08:52:54.815Z"
   },
   {
    "duration": 155,
    "start_time": "2025-05-09T08:52:54.824Z"
   },
   {
    "duration": 29,
    "start_time": "2025-05-09T08:52:54.981Z"
   },
   {
    "duration": 52,
    "start_time": "2025-05-09T08:52:55.012Z"
   },
   {
    "duration": 3,
    "start_time": "2025-05-09T08:52:55.066Z"
   },
   {
    "duration": 10,
    "start_time": "2025-05-09T08:52:55.071Z"
   },
   {
    "duration": 17,
    "start_time": "2025-05-09T08:52:55.083Z"
   },
   {
    "duration": 30,
    "start_time": "2025-05-09T08:52:55.101Z"
   },
   {
    "duration": 9,
    "start_time": "2025-05-09T08:52:55.133Z"
   },
   {
    "duration": 3,
    "start_time": "2025-05-09T08:52:55.162Z"
   },
   {
    "duration": 30,
    "start_time": "2025-05-09T08:52:55.170Z"
   },
   {
    "duration": 7,
    "start_time": "2025-05-09T08:52:55.202Z"
   },
   {
    "duration": 22,
    "start_time": "2025-05-09T08:52:55.210Z"
   },
   {
    "duration": 50,
    "start_time": "2025-05-09T08:52:55.234Z"
   },
   {
    "duration": 2,
    "start_time": "2025-05-09T08:52:55.286Z"
   },
   {
    "duration": 477,
    "start_time": "2025-05-09T08:52:55.290Z"
   },
   {
    "duration": 24,
    "start_time": "2025-05-09T08:52:55.769Z"
   },
   {
    "duration": 25,
    "start_time": "2025-05-09T08:52:55.795Z"
   },
   {
    "duration": 18,
    "start_time": "2025-05-09T08:52:55.821Z"
   },
   {
    "duration": 5,
    "start_time": "2025-05-09T08:52:55.840Z"
   },
   {
    "duration": 18,
    "start_time": "2025-05-09T08:52:55.846Z"
   },
   {
    "duration": 26,
    "start_time": "2025-05-09T08:52:55.865Z"
   },
   {
    "duration": 2,
    "start_time": "2025-05-09T08:52:55.893Z"
   },
   {
    "duration": 30,
    "start_time": "2025-05-09T08:52:55.896Z"
   },
   {
    "duration": 1892,
    "start_time": "2025-05-09T08:52:55.927Z"
   },
   {
    "duration": 352,
    "start_time": "2025-05-09T08:52:57.821Z"
   },
   {
    "duration": 41,
    "start_time": "2025-05-09T08:52:58.175Z"
   },
   {
    "duration": 60,
    "start_time": "2025-05-09T08:52:58.218Z"
   },
   {
    "duration": 2,
    "start_time": "2025-05-09T08:52:58.280Z"
   },
   {
    "duration": 110,
    "start_time": "2025-05-09T08:52:58.284Z"
   },
   {
    "duration": 21,
    "start_time": "2025-05-09T08:52:58.395Z"
   },
   {
    "duration": 248,
    "start_time": "2025-05-09T08:52:58.418Z"
   },
   {
    "duration": 2,
    "start_time": "2025-05-09T08:52:58.668Z"
   },
   {
    "duration": 70,
    "start_time": "2025-05-09T08:52:58.671Z"
   },
   {
    "duration": 303,
    "start_time": "2025-05-09T08:52:58.743Z"
   },
   {
    "duration": 43,
    "start_time": "2025-05-09T08:52:59.048Z"
   },
   {
    "duration": 3,
    "start_time": "2025-05-09T08:52:59.093Z"
   },
   {
    "duration": 7,
    "start_time": "2025-05-09T08:52:59.097Z"
   },
   {
    "duration": 11,
    "start_time": "2025-05-09T08:52:59.106Z"
   },
   {
    "duration": 18,
    "start_time": "2025-05-09T08:52:59.119Z"
   },
   {
    "duration": 34,
    "start_time": "2025-05-09T08:52:59.139Z"
   },
   {
    "duration": 7,
    "start_time": "2025-05-09T08:52:59.175Z"
   },
   {
    "duration": 34,
    "start_time": "2025-05-09T08:52:59.184Z"
   },
   {
    "duration": 3,
    "start_time": "2025-05-09T08:52:59.220Z"
   },
   {
    "duration": 40,
    "start_time": "2025-05-09T08:52:59.225Z"
   },
   {
    "duration": 3,
    "start_time": "2025-05-09T08:52:59.267Z"
   },
   {
    "duration": 58,
    "start_time": "2025-05-09T08:52:59.271Z"
   },
   {
    "duration": 115,
    "start_time": "2025-05-09T08:52:59.331Z"
   },
   {
    "duration": 13,
    "start_time": "2025-05-09T08:52:59.448Z"
   },
   {
    "duration": 44,
    "start_time": "2025-05-09T08:52:59.463Z"
   },
   {
    "duration": 6,
    "start_time": "2025-05-09T08:52:59.508Z"
   },
   {
    "duration": 23,
    "start_time": "2025-05-09T08:52:59.516Z"
   },
   {
    "duration": 4,
    "start_time": "2025-05-09T08:52:59.541Z"
   },
   {
    "duration": 14,
    "start_time": "2025-05-09T08:52:59.547Z"
   },
   {
    "duration": 10,
    "start_time": "2025-05-09T08:52:59.563Z"
   },
   {
    "duration": 46,
    "start_time": "2025-05-09T08:52:59.575Z"
   },
   {
    "duration": 17,
    "start_time": "2025-05-09T08:54:46.546Z"
   },
   {
    "duration": 8,
    "start_time": "2025-05-09T08:54:56.372Z"
   },
   {
    "duration": 92,
    "start_time": "2025-05-09T08:55:19.352Z"
   },
   {
    "duration": 9,
    "start_time": "2025-05-09T08:55:41.340Z"
   },
   {
    "duration": 7,
    "start_time": "2025-05-09T08:57:54.006Z"
   },
   {
    "duration": 6,
    "start_time": "2025-05-09T08:58:04.022Z"
   },
   {
    "duration": 16,
    "start_time": "2025-05-09T08:58:12.843Z"
   },
   {
    "duration": 435,
    "start_time": "2025-05-09T08:58:21.466Z"
   },
   {
    "duration": 270,
    "start_time": "2025-05-09T08:58:21.903Z"
   },
   {
    "duration": 100,
    "start_time": "2025-05-09T08:58:22.175Z"
   },
   {
    "duration": 82,
    "start_time": "2025-05-09T08:58:22.277Z"
   },
   {
    "duration": 17,
    "start_time": "2025-05-09T08:58:22.360Z"
   },
   {
    "duration": 2,
    "start_time": "2025-05-09T08:58:22.379Z"
   },
   {
    "duration": 2099,
    "start_time": "2025-05-09T08:58:22.382Z"
   },
   {
    "duration": 3,
    "start_time": "2025-05-09T08:58:24.484Z"
   },
   {
    "duration": 15,
    "start_time": "2025-05-09T08:58:24.489Z"
   },
   {
    "duration": 2,
    "start_time": "2025-05-09T08:58:24.508Z"
   },
   {
    "duration": 7,
    "start_time": "2025-05-09T08:58:24.512Z"
   },
   {
    "duration": 5,
    "start_time": "2025-05-09T08:58:24.520Z"
   },
   {
    "duration": 34,
    "start_time": "2025-05-09T08:58:24.527Z"
   },
   {
    "duration": 14,
    "start_time": "2025-05-09T08:58:24.563Z"
   },
   {
    "duration": 3,
    "start_time": "2025-05-09T08:58:24.579Z"
   },
   {
    "duration": 53,
    "start_time": "2025-05-09T08:58:24.584Z"
   },
   {
    "duration": 25,
    "start_time": "2025-05-09T08:58:24.639Z"
   },
   {
    "duration": 5,
    "start_time": "2025-05-09T08:58:24.666Z"
   },
   {
    "duration": 31,
    "start_time": "2025-05-09T08:58:24.673Z"
   },
   {
    "duration": 118,
    "start_time": "2025-05-09T08:58:24.706Z"
   },
   {
    "duration": 40,
    "start_time": "2025-05-09T08:58:24.826Z"
   },
   {
    "duration": 3,
    "start_time": "2025-05-09T08:58:24.868Z"
   },
   {
    "duration": 150,
    "start_time": "2025-05-09T08:58:24.874Z"
   },
   {
    "duration": 22,
    "start_time": "2025-05-09T08:58:25.026Z"
   },
   {
    "duration": 24,
    "start_time": "2025-05-09T08:58:25.050Z"
   },
   {
    "duration": 8,
    "start_time": "2025-05-09T08:58:25.076Z"
   },
   {
    "duration": 21,
    "start_time": "2025-05-09T08:58:25.086Z"
   },
   {
    "duration": 27,
    "start_time": "2025-05-09T08:58:25.113Z"
   },
   {
    "duration": 7,
    "start_time": "2025-05-09T08:58:25.142Z"
   },
   {
    "duration": 20,
    "start_time": "2025-05-09T08:58:25.151Z"
   },
   {
    "duration": 27,
    "start_time": "2025-05-09T08:58:25.173Z"
   },
   {
    "duration": 20,
    "start_time": "2025-05-09T08:58:25.202Z"
   },
   {
    "duration": 363,
    "start_time": "2025-05-09T08:58:25.224Z"
   },
   {
    "duration": 25,
    "start_time": "2025-05-09T08:58:25.589Z"
   },
   {
    "duration": 5,
    "start_time": "2025-05-09T08:58:25.616Z"
   },
   {
    "duration": 23,
    "start_time": "2025-05-09T08:58:25.622Z"
   },
   {
    "duration": 6,
    "start_time": "2025-05-09T08:58:25.662Z"
   },
   {
    "duration": 18,
    "start_time": "2025-05-09T08:58:25.669Z"
   },
   {
    "duration": 25,
    "start_time": "2025-05-09T08:58:25.690Z"
   },
   {
    "duration": 2,
    "start_time": "2025-05-09T08:58:25.717Z"
   },
   {
    "duration": 45,
    "start_time": "2025-05-09T08:58:25.721Z"
   },
   {
    "duration": 1708,
    "start_time": "2025-05-09T08:58:25.767Z"
   },
   {
    "duration": 355,
    "start_time": "2025-05-09T08:58:27.477Z"
   },
   {
    "duration": 46,
    "start_time": "2025-05-09T08:58:27.834Z"
   },
   {
    "duration": 39,
    "start_time": "2025-05-09T08:58:27.882Z"
   },
   {
    "duration": 2,
    "start_time": "2025-05-09T08:58:27.922Z"
   },
   {
    "duration": 80,
    "start_time": "2025-05-09T08:58:27.926Z"
   },
   {
    "duration": 114,
    "start_time": "2025-05-09T08:58:28.008Z"
   },
   {
    "duration": 242,
    "start_time": "2025-05-09T08:58:28.124Z"
   },
   {
    "duration": 3,
    "start_time": "2025-05-09T08:58:28.369Z"
   },
   {
    "duration": 30,
    "start_time": "2025-05-09T08:58:28.374Z"
   },
   {
    "duration": 262,
    "start_time": "2025-05-09T08:58:28.406Z"
   },
   {
    "duration": 39,
    "start_time": "2025-05-09T08:58:28.670Z"
   },
   {
    "duration": 3,
    "start_time": "2025-05-09T08:58:28.711Z"
   },
   {
    "duration": 102,
    "start_time": "2025-05-09T08:58:28.716Z"
   },
   {
    "duration": 3,
    "start_time": "2025-05-09T08:58:28.820Z"
   },
   {
    "duration": 17,
    "start_time": "2025-05-09T08:58:28.825Z"
   },
   {
    "duration": 17,
    "start_time": "2025-05-09T08:58:28.844Z"
   },
   {
    "duration": 3,
    "start_time": "2025-05-09T08:58:28.863Z"
   },
   {
    "duration": 155,
    "start_time": "2025-05-09T08:58:28.868Z"
   },
   {
    "duration": 3,
    "start_time": "2025-05-09T08:58:29.026Z"
   },
   {
    "duration": 21,
    "start_time": "2025-05-09T08:58:29.031Z"
   },
   {
    "duration": 3,
    "start_time": "2025-05-09T08:58:29.054Z"
   },
   {
    "duration": 22,
    "start_time": "2025-05-09T08:58:29.058Z"
   },
   {
    "duration": 3,
    "start_time": "2025-05-09T08:58:29.081Z"
   },
   {
    "duration": 21,
    "start_time": "2025-05-09T08:58:29.086Z"
   },
   {
    "duration": 2,
    "start_time": "2025-05-09T08:58:29.110Z"
   },
   {
    "duration": 32,
    "start_time": "2025-05-09T08:58:29.114Z"
   },
   {
    "duration": 24,
    "start_time": "2025-05-09T08:58:29.148Z"
   },
   {
    "duration": 4,
    "start_time": "2025-05-09T08:58:29.174Z"
   },
   {
    "duration": 16,
    "start_time": "2025-05-09T08:58:29.180Z"
   },
   {
    "duration": 6,
    "start_time": "2025-05-09T08:58:29.197Z"
   },
   {
    "duration": 61,
    "start_time": "2025-05-09T08:58:29.205Z"
   },
   {
    "duration": 59,
    "start_time": "2025-05-10T01:19:48.115Z"
   },
   {
    "duration": 522,
    "start_time": "2025-05-10T01:19:55.329Z"
   },
   {
    "duration": 416,
    "start_time": "2025-05-10T01:19:55.853Z"
   },
   {
    "duration": 104,
    "start_time": "2025-05-10T01:19:56.272Z"
   },
   {
    "duration": 31,
    "start_time": "2025-05-10T01:19:56.378Z"
   },
   {
    "duration": 29,
    "start_time": "2025-05-10T01:19:56.411Z"
   },
   {
    "duration": 3,
    "start_time": "2025-05-10T01:19:56.442Z"
   },
   {
    "duration": 2030,
    "start_time": "2025-05-10T01:19:56.447Z"
   },
   {
    "duration": 3,
    "start_time": "2025-05-10T01:19:58.480Z"
   },
   {
    "duration": 12,
    "start_time": "2025-05-10T01:19:58.485Z"
   },
   {
    "duration": 2,
    "start_time": "2025-05-10T01:19:58.501Z"
   },
   {
    "duration": 5,
    "start_time": "2025-05-10T01:19:58.504Z"
   },
   {
    "duration": 26,
    "start_time": "2025-05-10T01:19:58.511Z"
   },
   {
    "duration": 27,
    "start_time": "2025-05-10T01:19:58.539Z"
   },
   {
    "duration": 13,
    "start_time": "2025-05-10T01:19:58.568Z"
   },
   {
    "duration": 3,
    "start_time": "2025-05-10T01:19:58.583Z"
   },
   {
    "duration": 58,
    "start_time": "2025-05-10T01:19:58.588Z"
   },
   {
    "duration": 9,
    "start_time": "2025-05-10T01:19:58.647Z"
   },
   {
    "duration": 11,
    "start_time": "2025-05-10T01:19:58.657Z"
   },
   {
    "duration": 5,
    "start_time": "2025-05-10T01:19:58.670Z"
   },
   {
    "duration": 13,
    "start_time": "2025-05-10T01:19:58.676Z"
   },
   {
    "duration": 52,
    "start_time": "2025-05-10T01:19:58.691Z"
   },
   {
    "duration": 2,
    "start_time": "2025-05-10T01:19:58.745Z"
   },
   {
    "duration": 11,
    "start_time": "2025-05-10T01:19:58.750Z"
   },
   {
    "duration": 28,
    "start_time": "2025-05-10T01:19:58.764Z"
   },
   {
    "duration": 42,
    "start_time": "2025-05-10T01:19:58.794Z"
   },
   {
    "duration": 7,
    "start_time": "2025-05-10T01:19:58.838Z"
   },
   {
    "duration": 3,
    "start_time": "2025-05-10T01:19:58.847Z"
   },
   {
    "duration": 27,
    "start_time": "2025-05-10T01:19:58.855Z"
   },
   {
    "duration": 6,
    "start_time": "2025-05-10T01:19:58.884Z"
   },
   {
    "duration": 46,
    "start_time": "2025-05-10T01:19:58.891Z"
   },
   {
    "duration": 32,
    "start_time": "2025-05-10T01:19:58.938Z"
   },
   {
    "duration": 2,
    "start_time": "2025-05-10T01:19:58.972Z"
   },
   {
    "duration": 386,
    "start_time": "2025-05-10T01:19:58.976Z"
   },
   {
    "duration": 29,
    "start_time": "2025-05-10T01:19:59.363Z"
   },
   {
    "duration": 4,
    "start_time": "2025-05-10T01:19:59.393Z"
   },
   {
    "duration": 38,
    "start_time": "2025-05-10T01:19:59.399Z"
   },
   {
    "duration": 5,
    "start_time": "2025-05-10T01:19:59.439Z"
   },
   {
    "duration": 16,
    "start_time": "2025-05-10T01:19:59.445Z"
   },
   {
    "duration": 26,
    "start_time": "2025-05-10T01:19:59.463Z"
   },
   {
    "duration": 3,
    "start_time": "2025-05-10T01:19:59.490Z"
   },
   {
    "duration": 56,
    "start_time": "2025-05-10T01:19:59.495Z"
   },
   {
    "duration": 1669,
    "start_time": "2025-05-10T01:19:59.554Z"
   },
   {
    "duration": 348,
    "start_time": "2025-05-10T01:20:01.225Z"
   },
   {
    "duration": 37,
    "start_time": "2025-05-10T01:20:01.575Z"
   },
   {
    "duration": 56,
    "start_time": "2025-05-10T01:20:01.613Z"
   },
   {
    "duration": 4,
    "start_time": "2025-05-10T01:20:01.671Z"
   },
   {
    "duration": 98,
    "start_time": "2025-05-10T01:20:01.678Z"
   },
   {
    "duration": 65,
    "start_time": "2025-05-10T01:20:01.778Z"
   },
   {
    "duration": 262,
    "start_time": "2025-05-10T01:20:01.845Z"
   },
   {
    "duration": 3,
    "start_time": "2025-05-10T01:20:02.109Z"
   },
   {
    "duration": 15,
    "start_time": "2025-05-10T01:20:02.114Z"
   },
   {
    "duration": 285,
    "start_time": "2025-05-10T01:20:02.130Z"
   },
   {
    "duration": 43,
    "start_time": "2025-05-10T01:20:02.417Z"
   },
   {
    "duration": 3,
    "start_time": "2025-05-10T01:20:02.462Z"
   },
   {
    "duration": 86,
    "start_time": "2025-05-10T01:20:02.466Z"
   },
   {
    "duration": 22,
    "start_time": "2025-05-10T01:20:02.553Z"
   },
   {
    "duration": 55,
    "start_time": "2025-05-10T01:20:02.577Z"
   },
   {
    "duration": 35,
    "start_time": "2025-05-10T01:20:02.634Z"
   },
   {
    "duration": 61,
    "start_time": "2025-05-10T01:20:02.671Z"
   },
   {
    "duration": 56,
    "start_time": "2025-05-10T01:20:02.734Z"
   },
   {
    "duration": 20,
    "start_time": "2025-05-10T01:20:02.793Z"
   },
   {
    "duration": 35,
    "start_time": "2025-05-10T01:20:02.816Z"
   },
   {
    "duration": 22,
    "start_time": "2025-05-10T01:20:02.854Z"
   },
   {
    "duration": 56,
    "start_time": "2025-05-10T01:20:02.878Z"
   },
   {
    "duration": 13,
    "start_time": "2025-05-10T01:20:02.936Z"
   },
   {
    "duration": 60,
    "start_time": "2025-05-10T01:20:02.951Z"
   },
   {
    "duration": 74,
    "start_time": "2025-05-10T01:20:03.013Z"
   },
   {
    "duration": 43,
    "start_time": "2025-05-10T01:20:03.090Z"
   },
   {
    "duration": 55,
    "start_time": "2025-05-10T01:20:03.134Z"
   },
   {
    "duration": 4,
    "start_time": "2025-05-10T01:20:03.192Z"
   },
   {
    "duration": 29,
    "start_time": "2025-05-10T01:20:03.198Z"
   },
   {
    "duration": 5,
    "start_time": "2025-05-10T01:20:03.230Z"
   },
   {
    "duration": 79,
    "start_time": "2025-05-10T01:20:03.237Z"
   },
   {
    "duration": 25,
    "start_time": "2025-05-10T01:20:52.947Z"
   },
   {
    "duration": 40,
    "start_time": "2025-05-10T01:22:55.609Z"
   },
   {
    "duration": 6,
    "start_time": "2025-05-10T01:25:42.104Z"
   },
   {
    "duration": 14,
    "start_time": "2025-05-10T01:25:53.675Z"
   },
   {
    "duration": 30,
    "start_time": "2025-05-10T01:25:58.893Z"
   },
   {
    "duration": 35,
    "start_time": "2025-05-10T01:29:59.340Z"
   },
   {
    "duration": 36,
    "start_time": "2025-05-10T01:30:36.505Z"
   },
   {
    "duration": 57,
    "start_time": "2025-05-10T01:30:46.058Z"
   },
   {
    "duration": 35,
    "start_time": "2025-05-10T01:31:14.155Z"
   },
   {
    "duration": 256,
    "start_time": "2025-05-10T01:32:09.702Z"
   },
   {
    "duration": 5,
    "start_time": "2025-05-10T01:59:53.320Z"
   },
   {
    "duration": 5,
    "start_time": "2025-05-10T02:01:36.126Z"
   },
   {
    "duration": 8,
    "start_time": "2025-05-10T02:02:56.896Z"
   },
   {
    "duration": 4,
    "start_time": "2025-05-10T02:02:59.494Z"
   },
   {
    "duration": 9,
    "start_time": "2025-05-10T02:02:59.903Z"
   },
   {
    "duration": 4,
    "start_time": "2025-05-10T02:03:18.784Z"
   },
   {
    "duration": 9,
    "start_time": "2025-05-10T02:03:19.017Z"
   },
   {
    "duration": 10,
    "start_time": "2025-05-10T02:04:30.456Z"
   },
   {
    "duration": 74,
    "start_time": "2025-05-10T02:10:29.652Z"
   },
   {
    "duration": 431,
    "start_time": "2025-05-10T10:30:55.125Z"
   },
   {
    "duration": 424,
    "start_time": "2025-05-10T10:30:55.558Z"
   },
   {
    "duration": 104,
    "start_time": "2025-05-10T10:30:55.984Z"
   },
   {
    "duration": 29,
    "start_time": "2025-05-10T10:30:56.089Z"
   },
   {
    "duration": 24,
    "start_time": "2025-05-10T10:30:56.120Z"
   },
   {
    "duration": 3,
    "start_time": "2025-05-10T10:30:56.145Z"
   },
   {
    "duration": 2014,
    "start_time": "2025-05-10T10:30:56.150Z"
   },
   {
    "duration": 3,
    "start_time": "2025-05-10T10:30:58.165Z"
   },
   {
    "duration": 18,
    "start_time": "2025-05-10T10:30:58.169Z"
   },
   {
    "duration": 2,
    "start_time": "2025-05-10T10:30:58.189Z"
   },
   {
    "duration": 5,
    "start_time": "2025-05-10T10:30:58.193Z"
   },
   {
    "duration": 7,
    "start_time": "2025-05-10T10:30:58.199Z"
   },
   {
    "duration": 20,
    "start_time": "2025-05-10T10:30:58.207Z"
   },
   {
    "duration": 15,
    "start_time": "2025-05-10T10:30:58.230Z"
   },
   {
    "duration": 2,
    "start_time": "2025-05-10T10:30:58.247Z"
   },
   {
    "duration": 40,
    "start_time": "2025-05-10T10:30:58.250Z"
   },
   {
    "duration": 7,
    "start_time": "2025-05-10T10:30:58.292Z"
   },
   {
    "duration": 35,
    "start_time": "2025-05-10T10:30:58.301Z"
   },
   {
    "duration": 6,
    "start_time": "2025-05-10T10:30:58.337Z"
   },
   {
    "duration": 14,
    "start_time": "2025-05-10T10:30:58.344Z"
   },
   {
    "duration": 37,
    "start_time": "2025-05-10T10:30:58.359Z"
   },
   {
    "duration": 2,
    "start_time": "2025-05-10T10:30:58.398Z"
   },
   {
    "duration": 9,
    "start_time": "2025-05-10T10:30:58.402Z"
   },
   {
    "duration": 34,
    "start_time": "2025-05-10T10:30:58.412Z"
   },
   {
    "duration": 29,
    "start_time": "2025-05-10T10:30:58.448Z"
   },
   {
    "duration": 27,
    "start_time": "2025-05-10T10:30:58.479Z"
   },
   {
    "duration": 6,
    "start_time": "2025-05-10T10:30:58.508Z"
   },
   {
    "duration": 27,
    "start_time": "2025-05-10T10:30:58.516Z"
   },
   {
    "duration": 5,
    "start_time": "2025-05-10T10:30:58.544Z"
   },
   {
    "duration": 19,
    "start_time": "2025-05-10T10:30:58.550Z"
   },
   {
    "duration": 25,
    "start_time": "2025-05-10T10:30:58.571Z"
   },
   {
    "duration": 2,
    "start_time": "2025-05-10T10:30:58.598Z"
   },
   {
    "duration": 355,
    "start_time": "2025-05-10T10:30:58.602Z"
   },
   {
    "duration": 23,
    "start_time": "2025-05-10T10:30:58.959Z"
   },
   {
    "duration": 2,
    "start_time": "2025-05-10T10:30:58.984Z"
   },
   {
    "duration": 5,
    "start_time": "2025-05-10T10:30:58.988Z"
   },
   {
    "duration": 28,
    "start_time": "2025-05-10T10:30:58.995Z"
   },
   {
    "duration": 5,
    "start_time": "2025-05-10T10:30:59.035Z"
   },
   {
    "duration": 17,
    "start_time": "2025-05-10T10:30:59.042Z"
   },
   {
    "duration": 25,
    "start_time": "2025-05-10T10:30:59.060Z"
   },
   {
    "duration": 3,
    "start_time": "2025-05-10T10:30:59.089Z"
   },
   {
    "duration": 43,
    "start_time": "2025-05-10T10:30:59.093Z"
   },
   {
    "duration": 1627,
    "start_time": "2025-05-10T10:30:59.138Z"
   },
   {
    "duration": 332,
    "start_time": "2025-05-10T10:31:00.767Z"
   },
   {
    "duration": 51,
    "start_time": "2025-05-10T10:31:01.101Z"
   },
   {
    "duration": 47,
    "start_time": "2025-05-10T10:31:01.155Z"
   },
   {
    "duration": 3,
    "start_time": "2025-05-10T10:31:01.204Z"
   },
   {
    "duration": 74,
    "start_time": "2025-05-10T10:31:01.208Z"
   },
   {
    "duration": 40,
    "start_time": "2025-05-10T10:31:01.283Z"
   },
   {
    "duration": 12,
    "start_time": "2025-05-10T10:31:01.335Z"
   },
   {
    "duration": 37,
    "start_time": "2025-05-10T10:31:01.349Z"
   },
   {
    "duration": 47,
    "start_time": "2025-05-10T10:31:01.388Z"
   },
   {
    "duration": 242,
    "start_time": "2025-05-10T10:31:01.437Z"
   },
   {
    "duration": 5,
    "start_time": "2025-05-10T10:31:01.681Z"
   },
   {
    "duration": 269,
    "start_time": "2025-05-10T10:31:01.689Z"
   },
   {
    "duration": 38,
    "start_time": "2025-05-10T10:31:01.960Z"
   },
   {
    "duration": 2,
    "start_time": "2025-05-10T10:31:01.999Z"
   },
   {
    "duration": 31,
    "start_time": "2025-05-10T10:31:02.003Z"
   },
   {
    "duration": 3,
    "start_time": "2025-05-10T10:31:02.036Z"
   },
   {
    "duration": 61,
    "start_time": "2025-05-10T10:31:02.041Z"
   },
   {
    "duration": 17,
    "start_time": "2025-05-10T10:31:02.104Z"
   },
   {
    "duration": 9,
    "start_time": "2025-05-10T10:31:02.123Z"
   },
   {
    "duration": 29,
    "start_time": "2025-05-10T10:31:02.133Z"
   },
   {
    "duration": 3,
    "start_time": "2025-05-10T10:31:02.164Z"
   },
   {
    "duration": 31,
    "start_time": "2025-05-10T10:31:02.168Z"
   },
   {
    "duration": 3,
    "start_time": "2025-05-10T10:31:02.201Z"
   },
   {
    "duration": 43,
    "start_time": "2025-05-10T10:31:02.206Z"
   },
   {
    "duration": 3,
    "start_time": "2025-05-10T10:31:02.251Z"
   },
   {
    "duration": 17,
    "start_time": "2025-05-10T10:31:02.256Z"
   },
   {
    "duration": 7,
    "start_time": "2025-05-10T10:31:02.274Z"
   },
   {
    "duration": 18,
    "start_time": "2025-05-10T10:31:02.282Z"
   },
   {
    "duration": 29,
    "start_time": "2025-05-10T10:31:02.302Z"
   },
   {
    "duration": 4,
    "start_time": "2025-05-10T10:31:02.332Z"
   },
   {
    "duration": 23,
    "start_time": "2025-05-10T10:31:02.338Z"
   },
   {
    "duration": 16,
    "start_time": "2025-05-10T10:31:02.362Z"
   },
   {
    "duration": 5,
    "start_time": "2025-05-10T10:31:02.380Z"
   },
   {
    "duration": 8,
    "start_time": "2025-05-10T10:31:02.387Z"
   },
   {
    "duration": 43,
    "start_time": "2025-05-10T10:31:02.396Z"
   },
   {
    "duration": 75,
    "start_time": "2025-05-10T10:31:02.441Z"
   },
   {
    "duration": 43,
    "start_time": "2025-05-10T10:37:15.362Z"
   },
   {
    "duration": 11,
    "start_time": "2025-05-10T10:37:15.742Z"
   },
   {
    "duration": 44,
    "start_time": "2025-05-10T10:37:48.910Z"
   },
   {
    "duration": 45,
    "start_time": "2025-05-10T10:37:53.442Z"
   },
   {
    "duration": 185,
    "start_time": "2025-05-10T10:37:53.802Z"
   },
   {
    "duration": 46,
    "start_time": "2025-05-10T10:48:24.941Z"
   },
   {
    "duration": 165,
    "start_time": "2025-05-10T10:48:25.761Z"
   },
   {
    "duration": 50,
    "start_time": "2025-05-10T10:51:46.442Z"
   },
   {
    "duration": 162,
    "start_time": "2025-05-10T10:51:46.902Z"
   },
   {
    "duration": 76,
    "start_time": "2025-05-10T11:15:51.301Z"
   },
   {
    "duration": 6,
    "start_time": "2025-05-10T11:15:55.081Z"
   },
   {
    "duration": 75,
    "start_time": "2025-05-10T11:15:55.502Z"
   },
   {
    "duration": 5,
    "start_time": "2025-05-10T11:18:18.901Z"
   },
   {
    "duration": 18,
    "start_time": "2025-05-10T11:18:19.301Z"
   },
   {
    "duration": 80,
    "start_time": "2025-05-10T11:18:31.461Z"
   },
   {
    "duration": 6,
    "start_time": "2025-05-10T11:18:34.621Z"
   },
   {
    "duration": 120,
    "start_time": "2025-05-10T11:18:35.065Z"
   },
   {
    "duration": 196,
    "start_time": "2025-05-10T11:19:08.201Z"
   },
   {
    "duration": 290,
    "start_time": "2025-05-10T11:19:48.881Z"
   },
   {
    "duration": 182,
    "start_time": "2025-05-10T11:22:10.352Z"
   },
   {
    "duration": 166,
    "start_time": "2025-05-10T11:23:39.482Z"
   },
   {
    "duration": 189,
    "start_time": "2025-05-10T11:23:47.226Z"
   },
   {
    "duration": 172,
    "start_time": "2025-05-10T11:23:52.146Z"
   },
   {
    "duration": 205,
    "start_time": "2025-05-10T11:23:59.471Z"
   },
   {
    "duration": 1794,
    "start_time": "2025-05-10T11:24:25.392Z"
   },
   {
    "duration": 191,
    "start_time": "2025-05-10T11:24:43.841Z"
   },
   {
    "duration": 200,
    "start_time": "2025-05-10T11:24:53.541Z"
   },
   {
    "duration": 196,
    "start_time": "2025-05-10T11:26:33.462Z"
   },
   {
    "duration": 173,
    "start_time": "2025-05-10T11:28:13.522Z"
   },
   {
    "duration": 180,
    "start_time": "2025-05-10T11:28:20.561Z"
   },
   {
    "duration": 388,
    "start_time": "2025-05-10T11:31:23.174Z"
   },
   {
    "duration": 234,
    "start_time": "2025-05-10T11:31:23.564Z"
   },
   {
    "duration": 104,
    "start_time": "2025-05-10T11:31:23.799Z"
   },
   {
    "duration": 41,
    "start_time": "2025-05-10T11:31:23.905Z"
   },
   {
    "duration": 18,
    "start_time": "2025-05-10T11:31:23.949Z"
   },
   {
    "duration": 2,
    "start_time": "2025-05-10T11:31:23.969Z"
   },
   {
    "duration": 1944,
    "start_time": "2025-05-10T11:31:23.972Z"
   },
   {
    "duration": 3,
    "start_time": "2025-05-10T11:31:25.918Z"
   },
   {
    "duration": 15,
    "start_time": "2025-05-10T11:31:25.922Z"
   },
   {
    "duration": 3,
    "start_time": "2025-05-10T11:31:25.938Z"
   },
   {
    "duration": 9,
    "start_time": "2025-05-10T11:31:25.942Z"
   },
   {
    "duration": 7,
    "start_time": "2025-05-10T11:31:25.952Z"
   },
   {
    "duration": 14,
    "start_time": "2025-05-10T11:31:25.960Z"
   },
   {
    "duration": 11,
    "start_time": "2025-05-10T11:31:25.977Z"
   },
   {
    "duration": 19,
    "start_time": "2025-05-10T11:31:25.989Z"
   },
   {
    "duration": 46,
    "start_time": "2025-05-10T11:31:26.010Z"
   },
   {
    "duration": 7,
    "start_time": "2025-05-10T11:31:26.058Z"
   },
   {
    "duration": 38,
    "start_time": "2025-05-10T11:31:26.066Z"
   },
   {
    "duration": 8,
    "start_time": "2025-05-10T11:31:26.106Z"
   },
   {
    "duration": 16,
    "start_time": "2025-05-10T11:31:26.115Z"
   },
   {
    "duration": 38,
    "start_time": "2025-05-10T11:31:26.133Z"
   },
   {
    "duration": 2,
    "start_time": "2025-05-10T11:31:26.173Z"
   },
   {
    "duration": 6,
    "start_time": "2025-05-10T11:31:26.177Z"
   },
   {
    "duration": 19,
    "start_time": "2025-05-10T11:31:26.184Z"
   },
   {
    "duration": 33,
    "start_time": "2025-05-10T11:31:26.205Z"
   },
   {
    "duration": 7,
    "start_time": "2025-05-10T11:31:26.240Z"
   },
   {
    "duration": 6,
    "start_time": "2025-05-10T11:31:26.248Z"
   },
   {
    "duration": 28,
    "start_time": "2025-05-10T11:31:26.255Z"
   },
   {
    "duration": 5,
    "start_time": "2025-05-10T11:31:26.285Z"
   },
   {
    "duration": 12,
    "start_time": "2025-05-10T11:31:26.291Z"
   },
   {
    "duration": 48,
    "start_time": "2025-05-10T11:31:26.304Z"
   },
   {
    "duration": 2,
    "start_time": "2025-05-10T11:31:26.353Z"
   },
   {
    "duration": 363,
    "start_time": "2025-05-10T11:31:26.356Z"
   },
   {
    "duration": 27,
    "start_time": "2025-05-10T11:31:26.721Z"
   },
   {
    "duration": 2,
    "start_time": "2025-05-10T11:31:26.750Z"
   },
   {
    "duration": 7,
    "start_time": "2025-05-10T11:31:26.753Z"
   },
   {
    "duration": 43,
    "start_time": "2025-05-10T11:31:26.761Z"
   },
   {
    "duration": 50,
    "start_time": "2025-05-10T11:31:26.805Z"
   },
   {
    "duration": 17,
    "start_time": "2025-05-10T11:31:26.857Z"
   },
   {
    "duration": 24,
    "start_time": "2025-05-10T11:31:26.876Z"
   },
   {
    "duration": 2,
    "start_time": "2025-05-10T11:31:26.905Z"
   },
   {
    "duration": 28,
    "start_time": "2025-05-10T11:31:26.909Z"
   },
   {
    "duration": 1727,
    "start_time": "2025-05-10T11:31:26.939Z"
   },
   {
    "duration": 337,
    "start_time": "2025-05-10T11:31:28.668Z"
   },
   {
    "duration": 47,
    "start_time": "2025-05-10T11:31:29.006Z"
   },
   {
    "duration": 39,
    "start_time": "2025-05-10T11:31:29.054Z"
   },
   {
    "duration": 2,
    "start_time": "2025-05-10T11:31:29.094Z"
   },
   {
    "duration": 76,
    "start_time": "2025-05-10T11:31:29.098Z"
   },
   {
    "duration": 40,
    "start_time": "2025-05-10T11:31:29.175Z"
   },
   {
    "duration": 21,
    "start_time": "2025-05-10T11:31:29.217Z"
   },
   {
    "duration": 68,
    "start_time": "2025-05-10T11:31:29.240Z"
   },
   {
    "duration": 11,
    "start_time": "2025-05-10T11:31:29.310Z"
   },
   {
    "duration": 236,
    "start_time": "2025-05-10T11:31:29.323Z"
   },
   {
    "duration": 3,
    "start_time": "2025-05-10T11:31:29.561Z"
   },
   {
    "duration": 265,
    "start_time": "2025-05-10T11:31:29.565Z"
   },
   {
    "duration": 37,
    "start_time": "2025-05-10T11:31:29.835Z"
   },
   {
    "duration": 3,
    "start_time": "2025-05-10T11:31:29.873Z"
   },
   {
    "duration": 24,
    "start_time": "2025-05-10T11:31:29.878Z"
   },
   {
    "duration": 12,
    "start_time": "2025-05-10T11:31:29.903Z"
   },
   {
    "duration": 34,
    "start_time": "2025-05-10T11:31:29.917Z"
   },
   {
    "duration": 16,
    "start_time": "2025-05-10T11:31:29.954Z"
   },
   {
    "duration": 24,
    "start_time": "2025-05-10T11:31:29.973Z"
   },
   {
    "duration": 101,
    "start_time": "2025-05-10T11:31:30.000Z"
   },
   {
    "duration": 51,
    "start_time": "2025-05-10T11:31:30.103Z"
   },
   {
    "duration": 23,
    "start_time": "2025-05-10T11:31:30.155Z"
   },
   {
    "duration": 3,
    "start_time": "2025-05-10T11:31:30.181Z"
   },
   {
    "duration": 23,
    "start_time": "2025-05-10T11:31:30.186Z"
   },
   {
    "duration": 32,
    "start_time": "2025-05-10T11:31:30.211Z"
   },
   {
    "duration": 27,
    "start_time": "2025-05-10T11:31:30.246Z"
   },
   {
    "duration": 10,
    "start_time": "2025-05-10T11:31:30.275Z"
   },
   {
    "duration": 46,
    "start_time": "2025-05-10T11:31:30.287Z"
   },
   {
    "duration": 43,
    "start_time": "2025-05-10T11:31:30.335Z"
   },
   {
    "duration": 11,
    "start_time": "2025-05-10T11:31:30.380Z"
   },
   {
    "duration": 36,
    "start_time": "2025-05-10T11:31:30.393Z"
   },
   {
    "duration": 24,
    "start_time": "2025-05-10T11:31:30.431Z"
   },
   {
    "duration": 37,
    "start_time": "2025-05-10T11:31:30.457Z"
   },
   {
    "duration": 5,
    "start_time": "2025-05-10T11:31:30.496Z"
   },
   {
    "duration": 53,
    "start_time": "2025-05-10T11:31:30.503Z"
   },
   {
    "duration": 7,
    "start_time": "2025-05-10T11:31:30.558Z"
   },
   {
    "duration": 193,
    "start_time": "2025-05-10T11:31:30.567Z"
   },
   {
    "duration": 3,
    "start_time": "2025-05-10T11:31:30.762Z"
   },
   {
    "duration": 186,
    "start_time": "2025-05-10T12:10:00.602Z"
   },
   {
    "duration": 137,
    "start_time": "2025-05-10T12:10:09.801Z"
   },
   {
    "duration": 153,
    "start_time": "2025-05-10T12:10:16.381Z"
   },
   {
    "duration": 326,
    "start_time": "2025-05-10T12:14:17.821Z"
   },
   {
    "duration": 218,
    "start_time": "2025-05-10T12:14:27.261Z"
   },
   {
    "duration": 156,
    "start_time": "2025-05-10T12:14:34.641Z"
   },
   {
    "duration": 128,
    "start_time": "2025-05-10T12:14:50.061Z"
   },
   {
    "duration": 207,
    "start_time": "2025-05-10T12:15:15.361Z"
   },
   {
    "duration": 180,
    "start_time": "2025-05-10T12:15:24.281Z"
   },
   {
    "duration": 179,
    "start_time": "2025-05-10T12:15:29.321Z"
   },
   {
    "duration": 5,
    "start_time": "2025-05-10T12:16:05.921Z"
   },
   {
    "duration": 6,
    "start_time": "2025-05-10T12:16:11.281Z"
   },
   {
    "duration": 14,
    "start_time": "2025-05-10T12:18:35.581Z"
   },
   {
    "duration": 22,
    "start_time": "2025-05-10T12:20:03.900Z"
   },
   {
    "duration": 21,
    "start_time": "2025-05-10T12:20:56.661Z"
   },
   {
    "duration": 12,
    "start_time": "2025-05-10T12:21:38.181Z"
   },
   {
    "duration": 22,
    "start_time": "2025-05-10T12:23:34.626Z"
   },
   {
    "duration": 8,
    "start_time": "2025-05-10T12:24:01.486Z"
   },
   {
    "duration": 4,
    "start_time": "2025-05-10T12:24:04.586Z"
   },
   {
    "duration": 10,
    "start_time": "2025-05-10T12:24:04.966Z"
   },
   {
    "duration": 4,
    "start_time": "2025-05-10T12:24:15.746Z"
   },
   {
    "duration": 8,
    "start_time": "2025-05-10T12:24:16.056Z"
   },
   {
    "duration": 3,
    "start_time": "2025-05-10T12:25:34.907Z"
   },
   {
    "duration": 3,
    "start_time": "2025-05-10T12:25:35.267Z"
   },
   {
    "duration": 42,
    "start_time": "2025-05-10T13:33:54.856Z"
   },
   {
    "duration": 64,
    "start_time": "2025-05-10T13:33:59.597Z"
   },
   {
    "duration": 2,
    "start_time": "2025-05-10T13:34:27.596Z"
   },
   {
    "duration": 6,
    "start_time": "2025-05-10T13:57:43.896Z"
   },
   {
    "duration": 76,
    "start_time": "2025-05-10T13:58:06.975Z"
   },
   {
    "duration": 6,
    "start_time": "2025-05-10T13:58:15.721Z"
   },
   {
    "duration": 423,
    "start_time": "2025-05-10T20:20:52.161Z"
   },
   {
    "duration": 392,
    "start_time": "2025-05-10T20:20:52.586Z"
   },
   {
    "duration": 103,
    "start_time": "2025-05-10T20:20:52.980Z"
   },
   {
    "duration": 397,
    "start_time": "2025-05-10T20:20:55.701Z"
   },
   {
    "duration": 232,
    "start_time": "2025-05-10T20:20:56.100Z"
   },
   {
    "duration": 89,
    "start_time": "2025-05-10T20:20:56.334Z"
   },
   {
    "duration": 29,
    "start_time": "2025-05-10T20:20:56.424Z"
   },
   {
    "duration": 32,
    "start_time": "2025-05-10T20:20:56.455Z"
   },
   {
    "duration": 15,
    "start_time": "2025-05-10T20:20:56.489Z"
   },
   {
    "duration": 1904,
    "start_time": "2025-05-10T20:20:56.505Z"
   },
   {
    "duration": 3,
    "start_time": "2025-05-10T20:20:58.410Z"
   },
   {
    "duration": 15,
    "start_time": "2025-05-10T20:20:58.414Z"
   },
   {
    "duration": 2,
    "start_time": "2025-05-10T20:20:58.430Z"
   },
   {
    "duration": 5,
    "start_time": "2025-05-10T20:20:58.433Z"
   },
   {
    "duration": 34,
    "start_time": "2025-05-10T20:20:58.440Z"
   },
   {
    "duration": 52,
    "start_time": "2025-05-10T20:20:58.475Z"
   },
   {
    "duration": 11,
    "start_time": "2025-05-10T20:20:58.529Z"
   },
   {
    "duration": 5,
    "start_time": "2025-05-10T20:20:58.542Z"
   },
   {
    "duration": 45,
    "start_time": "2025-05-10T20:20:58.548Z"
   },
   {
    "duration": 8,
    "start_time": "2025-05-10T20:20:58.594Z"
   },
   {
    "duration": 138,
    "start_time": "2025-05-10T20:20:58.603Z"
   },
   {
    "duration": 25,
    "start_time": "2025-05-10T20:20:58.742Z"
   },
   {
    "duration": 18,
    "start_time": "2025-05-10T20:20:58.769Z"
   },
   {
    "duration": 47,
    "start_time": "2025-05-10T20:20:58.789Z"
   },
   {
    "duration": 2,
    "start_time": "2025-05-10T20:20:58.837Z"
   },
   {
    "duration": 7,
    "start_time": "2025-05-10T20:20:58.841Z"
   },
   {
    "duration": 21,
    "start_time": "2025-05-10T20:20:58.849Z"
   },
   {
    "duration": 22,
    "start_time": "2025-05-10T20:20:58.871Z"
   },
   {
    "duration": 7,
    "start_time": "2025-05-10T20:20:58.895Z"
   },
   {
    "duration": 10,
    "start_time": "2025-05-10T20:20:58.903Z"
   },
   {
    "duration": 27,
    "start_time": "2025-05-10T20:20:58.915Z"
   },
   {
    "duration": 5,
    "start_time": "2025-05-10T20:20:58.944Z"
   },
   {
    "duration": 26,
    "start_time": "2025-05-10T20:20:58.950Z"
   },
   {
    "duration": 25,
    "start_time": "2025-05-10T20:20:58.978Z"
   },
   {
    "duration": 2,
    "start_time": "2025-05-10T20:20:59.005Z"
   },
   {
    "duration": 333,
    "start_time": "2025-05-10T20:20:59.008Z"
   },
   {
    "duration": 22,
    "start_time": "2025-05-10T20:20:59.343Z"
   },
   {
    "duration": 11,
    "start_time": "2025-05-10T20:20:59.366Z"
   },
   {
    "duration": 19,
    "start_time": "2025-05-10T20:20:59.378Z"
   },
   {
    "duration": 21,
    "start_time": "2025-05-10T20:20:59.399Z"
   },
   {
    "duration": 4,
    "start_time": "2025-05-10T20:20:59.421Z"
   },
   {
    "duration": 26,
    "start_time": "2025-05-10T20:20:59.426Z"
   },
   {
    "duration": 22,
    "start_time": "2025-05-10T20:20:59.454Z"
   },
   {
    "duration": 37,
    "start_time": "2025-05-10T20:20:59.480Z"
   },
   {
    "duration": 40,
    "start_time": "2025-05-10T20:20:59.519Z"
   },
   {
    "duration": 1621,
    "start_time": "2025-05-10T20:20:59.560Z"
   },
   {
    "duration": 149,
    "start_time": "2025-05-10T20:21:01.183Z"
   },
   {
    "duration": 2,
    "start_time": "2025-05-10T20:21:01.334Z"
   },
   {
    "duration": 55,
    "start_time": "2025-05-10T20:21:01.337Z"
   },
   {
    "duration": 34,
    "start_time": "2025-05-10T20:21:01.393Z"
   },
   {
    "duration": 4,
    "start_time": "2025-05-10T20:21:01.428Z"
   },
   {
    "duration": 108,
    "start_time": "2025-05-10T20:21:01.433Z"
   },
   {
    "duration": 43,
    "start_time": "2025-05-10T20:21:01.543Z"
   },
   {
    "duration": 13,
    "start_time": "2025-05-10T20:21:01.587Z"
   },
   {
    "duration": 63,
    "start_time": "2025-05-10T20:21:01.601Z"
   },
   {
    "duration": 8,
    "start_time": "2025-05-10T20:21:01.665Z"
   },
   {
    "duration": 250,
    "start_time": "2025-05-10T20:21:01.674Z"
   },
   {
    "duration": 2,
    "start_time": "2025-05-10T20:21:01.925Z"
   },
   {
    "duration": 204,
    "start_time": "2025-05-10T20:21:01.929Z"
   },
   {
    "duration": 44,
    "start_time": "2025-05-10T20:21:02.135Z"
   },
   {
    "duration": 2,
    "start_time": "2025-05-10T20:21:02.181Z"
   },
   {
    "duration": 16,
    "start_time": "2025-05-10T20:21:02.185Z"
   },
   {
    "duration": 134,
    "start_time": "2025-05-10T20:21:02.203Z"
   },
   {
    "duration": 43,
    "start_time": "2025-05-10T20:21:02.339Z"
   },
   {
    "duration": 14,
    "start_time": "2025-05-10T20:21:02.383Z"
   },
   {
    "duration": 74,
    "start_time": "2025-05-10T20:21:02.399Z"
   },
   {
    "duration": 26,
    "start_time": "2025-05-10T20:21:02.475Z"
   },
   {
    "duration": 78,
    "start_time": "2025-05-10T20:21:02.502Z"
   },
   {
    "duration": 7,
    "start_time": "2025-05-10T20:21:02.581Z"
   },
   {
    "duration": 174,
    "start_time": "2025-05-10T20:21:02.589Z"
   },
   {
    "duration": 18,
    "start_time": "2025-05-10T20:21:02.764Z"
   },
   {
    "duration": 51,
    "start_time": "2025-05-10T20:21:02.784Z"
   },
   {
    "duration": 32,
    "start_time": "2025-05-10T20:21:02.836Z"
   },
   {
    "duration": 36,
    "start_time": "2025-05-10T20:21:02.870Z"
   },
   {
    "duration": 38,
    "start_time": "2025-05-10T20:21:02.908Z"
   },
   {
    "duration": 20,
    "start_time": "2025-05-10T20:21:02.948Z"
   },
   {
    "duration": 57,
    "start_time": "2025-05-10T20:21:02.969Z"
   },
   {
    "duration": 129,
    "start_time": "2025-05-10T20:21:03.027Z"
   },
   {
    "duration": 109,
    "start_time": "2025-05-10T20:21:03.158Z"
   },
   {
    "duration": 50,
    "start_time": "2025-05-10T20:21:03.268Z"
   },
   {
    "duration": 50,
    "start_time": "2025-05-10T20:21:03.320Z"
   },
   {
    "duration": 93,
    "start_time": "2025-05-10T20:21:03.372Z"
   },
   {
    "duration": 41,
    "start_time": "2025-05-10T20:21:03.466Z"
   },
   {
    "duration": 236,
    "start_time": "2025-05-10T20:21:03.509Z"
   },
   {
    "duration": 66,
    "start_time": "2025-05-10T20:21:03.746Z"
   },
   {
    "duration": 191,
    "start_time": "2025-05-10T20:21:03.813Z"
   },
   {
    "duration": 2,
    "start_time": "2025-05-10T20:21:04.006Z"
   },
   {
    "duration": 378,
    "start_time": "2025-05-10T20:22:25.921Z"
   },
   {
    "duration": 238,
    "start_time": "2025-05-10T20:22:26.301Z"
   },
   {
    "duration": 98,
    "start_time": "2025-05-10T20:22:26.540Z"
   },
   {
    "duration": 32,
    "start_time": "2025-05-10T20:22:26.639Z"
   },
   {
    "duration": 112,
    "start_time": "2025-05-10T20:22:26.678Z"
   },
   {
    "duration": 3,
    "start_time": "2025-05-10T20:22:26.792Z"
   },
   {
    "duration": 2064,
    "start_time": "2025-05-10T20:22:26.797Z"
   },
   {
    "duration": 3,
    "start_time": "2025-05-10T20:22:28.863Z"
   },
   {
    "duration": 17,
    "start_time": "2025-05-10T20:22:28.867Z"
   },
   {
    "duration": 3,
    "start_time": "2025-05-10T20:22:28.885Z"
   },
   {
    "duration": 13,
    "start_time": "2025-05-10T20:22:28.889Z"
   },
   {
    "duration": 18,
    "start_time": "2025-05-10T20:22:28.904Z"
   },
   {
    "duration": 17,
    "start_time": "2025-05-10T20:22:28.924Z"
   },
   {
    "duration": 14,
    "start_time": "2025-05-10T20:22:28.945Z"
   },
   {
    "duration": 3,
    "start_time": "2025-05-10T20:22:28.960Z"
   },
   {
    "duration": 63,
    "start_time": "2025-05-10T20:22:28.964Z"
   },
   {
    "duration": 9,
    "start_time": "2025-05-10T20:22:29.028Z"
   },
   {
    "duration": 15,
    "start_time": "2025-05-10T20:22:29.039Z"
   },
   {
    "duration": 36,
    "start_time": "2025-05-10T20:22:29.056Z"
   },
   {
    "duration": 93,
    "start_time": "2025-05-10T20:22:29.094Z"
   },
   {
    "duration": 130,
    "start_time": "2025-05-10T20:22:29.189Z"
   },
   {
    "duration": 3,
    "start_time": "2025-05-10T20:22:29.321Z"
   },
   {
    "duration": 14,
    "start_time": "2025-05-10T20:22:29.325Z"
   },
   {
    "duration": 51,
    "start_time": "2025-05-10T20:22:29.341Z"
   },
   {
    "duration": 58,
    "start_time": "2025-05-10T20:22:29.394Z"
   },
   {
    "duration": 9,
    "start_time": "2025-05-10T20:22:29.453Z"
   },
   {
    "duration": 22,
    "start_time": "2025-05-10T20:22:29.463Z"
   },
   {
    "duration": 45,
    "start_time": "2025-05-10T20:22:29.487Z"
   },
   {
    "duration": 5,
    "start_time": "2025-05-10T20:22:29.534Z"
   },
   {
    "duration": 36,
    "start_time": "2025-05-10T20:22:29.541Z"
   },
   {
    "duration": 27,
    "start_time": "2025-05-10T20:22:29.579Z"
   },
   {
    "duration": 17,
    "start_time": "2025-05-10T20:22:29.607Z"
   },
   {
    "duration": 338,
    "start_time": "2025-05-10T20:22:29.626Z"
   },
   {
    "duration": 27,
    "start_time": "2025-05-10T20:22:29.966Z"
   },
   {
    "duration": 3,
    "start_time": "2025-05-10T20:22:29.995Z"
   },
   {
    "duration": 28,
    "start_time": "2025-05-10T20:22:29.999Z"
   },
   {
    "duration": 77,
    "start_time": "2025-05-10T20:22:30.028Z"
   },
   {
    "duration": 81,
    "start_time": "2025-05-10T20:22:30.107Z"
   },
   {
    "duration": 57,
    "start_time": "2025-05-10T20:22:30.189Z"
   },
   {
    "duration": 147,
    "start_time": "2025-05-10T20:22:30.248Z"
   },
   {
    "duration": 25,
    "start_time": "2025-05-10T20:22:30.400Z"
   },
   {
    "duration": 79,
    "start_time": "2025-05-10T20:22:30.426Z"
   },
   {
    "duration": 1733,
    "start_time": "2025-05-10T20:22:30.507Z"
   },
   {
    "duration": 152,
    "start_time": "2025-05-10T20:22:32.242Z"
   },
   {
    "duration": 3,
    "start_time": "2025-05-10T20:22:32.396Z"
   },
   {
    "duration": 60,
    "start_time": "2025-05-10T20:22:32.401Z"
   },
   {
    "duration": 35,
    "start_time": "2025-05-10T20:22:32.463Z"
   },
   {
    "duration": 27,
    "start_time": "2025-05-10T20:22:32.500Z"
   },
   {
    "duration": 82,
    "start_time": "2025-05-10T20:22:32.529Z"
   },
   {
    "duration": 38,
    "start_time": "2025-05-10T20:22:32.613Z"
   },
   {
    "duration": 134,
    "start_time": "2025-05-10T20:22:32.653Z"
   },
   {
    "duration": 33,
    "start_time": "2025-05-10T20:22:32.789Z"
   },
   {
    "duration": 2,
    "start_time": "2025-05-10T20:22:32.824Z"
   },
   {
    "duration": 139,
    "start_time": "2025-05-10T20:22:32.828Z"
   },
   {
    "duration": 2,
    "start_time": "2025-05-10T20:22:32.976Z"
   },
   {
    "duration": 163,
    "start_time": "2025-05-10T20:22:32.980Z"
   },
   {
    "duration": 46,
    "start_time": "2025-05-10T20:22:33.144Z"
   },
   {
    "duration": 2,
    "start_time": "2025-05-10T20:22:33.192Z"
   },
   {
    "duration": 83,
    "start_time": "2025-05-10T20:22:33.196Z"
   },
   {
    "duration": 5,
    "start_time": "2025-05-10T20:22:33.281Z"
   },
   {
    "duration": 26,
    "start_time": "2025-05-10T20:22:33.287Z"
   },
   {
    "duration": 18,
    "start_time": "2025-05-10T20:22:33.315Z"
   },
   {
    "duration": 46,
    "start_time": "2025-05-10T20:22:33.335Z"
   },
   {
    "duration": 16,
    "start_time": "2025-05-10T20:22:33.383Z"
   },
   {
    "duration": 66,
    "start_time": "2025-05-10T20:22:33.400Z"
   },
   {
    "duration": 3,
    "start_time": "2025-05-10T20:22:33.468Z"
   },
   {
    "duration": 28,
    "start_time": "2025-05-10T20:22:33.473Z"
   },
   {
    "duration": 23,
    "start_time": "2025-05-10T20:22:33.503Z"
   },
   {
    "duration": 39,
    "start_time": "2025-05-10T20:22:33.527Z"
   },
   {
    "duration": 2,
    "start_time": "2025-05-10T20:22:33.568Z"
   },
   {
    "duration": 132,
    "start_time": "2025-05-10T20:22:33.572Z"
   },
   {
    "duration": 139,
    "start_time": "2025-05-10T20:22:33.706Z"
   },
   {
    "duration": 21,
    "start_time": "2025-05-10T20:22:33.846Z"
   },
   {
    "duration": 54,
    "start_time": "2025-05-10T20:22:33.869Z"
   },
   {
    "duration": 25,
    "start_time": "2025-05-10T20:22:33.925Z"
   },
   {
    "duration": 16,
    "start_time": "2025-05-10T20:22:33.952Z"
   },
   {
    "duration": 17,
    "start_time": "2025-05-10T20:22:33.969Z"
   },
   {
    "duration": 13,
    "start_time": "2025-05-10T20:22:33.988Z"
   },
   {
    "duration": 36,
    "start_time": "2025-05-10T20:22:34.003Z"
   },
   {
    "duration": 20,
    "start_time": "2025-05-10T20:22:34.041Z"
   },
   {
    "duration": 56,
    "start_time": "2025-05-10T20:22:34.062Z"
   },
   {
    "duration": 4,
    "start_time": "2025-05-10T20:22:34.120Z"
   },
   {
    "duration": 189,
    "start_time": "2025-05-10T20:22:34.126Z"
   },
   {
    "duration": 2,
    "start_time": "2025-05-10T20:22:34.317Z"
   },
   {
    "duration": 18,
    "start_time": "2025-05-10T20:31:32.469Z"
   },
   {
    "duration": 100,
    "start_time": "2025-05-12T03:31:55.015Z"
   },
   {
    "duration": 79,
    "start_time": "2025-05-12T03:32:19.775Z"
   },
   {
    "duration": 0,
    "start_time": "2025-05-12T03:32:19.858Z"
   },
   {
    "duration": 0,
    "start_time": "2025-05-12T03:32:19.859Z"
   },
   {
    "duration": 0,
    "start_time": "2025-05-12T03:32:19.860Z"
   },
   {
    "duration": 0,
    "start_time": "2025-05-12T03:32:19.861Z"
   },
   {
    "duration": 0,
    "start_time": "2025-05-12T03:32:19.862Z"
   },
   {
    "duration": 0,
    "start_time": "2025-05-12T03:32:19.863Z"
   },
   {
    "duration": 0,
    "start_time": "2025-05-12T03:32:19.864Z"
   },
   {
    "duration": 0,
    "start_time": "2025-05-12T03:32:19.865Z"
   },
   {
    "duration": 0,
    "start_time": "2025-05-12T03:32:19.866Z"
   },
   {
    "duration": 0,
    "start_time": "2025-05-12T03:32:19.867Z"
   },
   {
    "duration": 0,
    "start_time": "2025-05-12T03:32:19.868Z"
   },
   {
    "duration": 0,
    "start_time": "2025-05-12T03:32:19.869Z"
   },
   {
    "duration": 0,
    "start_time": "2025-05-12T03:32:19.870Z"
   },
   {
    "duration": 0,
    "start_time": "2025-05-12T03:32:19.871Z"
   },
   {
    "duration": 0,
    "start_time": "2025-05-12T03:32:19.872Z"
   },
   {
    "duration": 0,
    "start_time": "2025-05-12T03:32:19.873Z"
   },
   {
    "duration": 0,
    "start_time": "2025-05-12T03:32:19.874Z"
   },
   {
    "duration": 0,
    "start_time": "2025-05-12T03:32:19.875Z"
   },
   {
    "duration": 0,
    "start_time": "2025-05-12T03:32:19.876Z"
   },
   {
    "duration": 0,
    "start_time": "2025-05-12T03:32:19.877Z"
   },
   {
    "duration": 0,
    "start_time": "2025-05-12T03:32:19.878Z"
   },
   {
    "duration": 0,
    "start_time": "2025-05-12T03:32:19.879Z"
   },
   {
    "duration": 0,
    "start_time": "2025-05-12T03:32:19.880Z"
   },
   {
    "duration": 0,
    "start_time": "2025-05-12T03:32:19.881Z"
   },
   {
    "duration": 0,
    "start_time": "2025-05-12T03:32:19.882Z"
   },
   {
    "duration": 0,
    "start_time": "2025-05-12T03:32:19.883Z"
   },
   {
    "duration": 0,
    "start_time": "2025-05-12T03:32:19.884Z"
   },
   {
    "duration": 0,
    "start_time": "2025-05-12T03:32:19.885Z"
   },
   {
    "duration": 0,
    "start_time": "2025-05-12T03:32:19.886Z"
   },
   {
    "duration": 0,
    "start_time": "2025-05-12T03:32:19.887Z"
   },
   {
    "duration": 0,
    "start_time": "2025-05-12T03:32:19.888Z"
   },
   {
    "duration": 0,
    "start_time": "2025-05-12T03:32:19.905Z"
   },
   {
    "duration": 0,
    "start_time": "2025-05-12T03:32:19.906Z"
   },
   {
    "duration": 0,
    "start_time": "2025-05-12T03:32:19.907Z"
   },
   {
    "duration": 0,
    "start_time": "2025-05-12T03:32:19.908Z"
   },
   {
    "duration": 0,
    "start_time": "2025-05-12T03:32:19.909Z"
   },
   {
    "duration": 0,
    "start_time": "2025-05-12T03:32:19.910Z"
   },
   {
    "duration": 0,
    "start_time": "2025-05-12T03:32:19.911Z"
   },
   {
    "duration": 0,
    "start_time": "2025-05-12T03:32:19.912Z"
   },
   {
    "duration": 0,
    "start_time": "2025-05-12T03:32:19.913Z"
   },
   {
    "duration": 0,
    "start_time": "2025-05-12T03:32:19.914Z"
   },
   {
    "duration": 0,
    "start_time": "2025-05-12T03:32:19.915Z"
   },
   {
    "duration": 0,
    "start_time": "2025-05-12T03:32:19.916Z"
   },
   {
    "duration": 0,
    "start_time": "2025-05-12T03:32:19.917Z"
   },
   {
    "duration": 0,
    "start_time": "2025-05-12T03:32:19.918Z"
   },
   {
    "duration": 0,
    "start_time": "2025-05-12T03:32:19.919Z"
   },
   {
    "duration": 0,
    "start_time": "2025-05-12T03:32:19.920Z"
   },
   {
    "duration": 0,
    "start_time": "2025-05-12T03:32:19.921Z"
   },
   {
    "duration": 0,
    "start_time": "2025-05-12T03:32:19.922Z"
   },
   {
    "duration": 0,
    "start_time": "2025-05-12T03:32:19.923Z"
   },
   {
    "duration": 0,
    "start_time": "2025-05-12T03:32:19.925Z"
   },
   {
    "duration": 0,
    "start_time": "2025-05-12T03:32:19.926Z"
   },
   {
    "duration": 0,
    "start_time": "2025-05-12T03:32:19.927Z"
   },
   {
    "duration": 0,
    "start_time": "2025-05-12T03:32:19.928Z"
   },
   {
    "duration": 0,
    "start_time": "2025-05-12T03:32:19.929Z"
   },
   {
    "duration": 0,
    "start_time": "2025-05-12T03:32:19.930Z"
   },
   {
    "duration": 1,
    "start_time": "2025-05-12T03:32:19.931Z"
   },
   {
    "duration": 0,
    "start_time": "2025-05-12T03:32:19.933Z"
   },
   {
    "duration": 0,
    "start_time": "2025-05-12T03:32:19.933Z"
   },
   {
    "duration": 0,
    "start_time": "2025-05-12T03:32:19.935Z"
   },
   {
    "duration": 0,
    "start_time": "2025-05-12T03:32:19.936Z"
   },
   {
    "duration": 0,
    "start_time": "2025-05-12T03:32:19.937Z"
   },
   {
    "duration": 0,
    "start_time": "2025-05-12T03:32:19.938Z"
   },
   {
    "duration": 0,
    "start_time": "2025-05-12T03:32:19.939Z"
   },
   {
    "duration": 0,
    "start_time": "2025-05-12T03:32:19.940Z"
   },
   {
    "duration": 0,
    "start_time": "2025-05-12T03:32:19.941Z"
   },
   {
    "duration": 0,
    "start_time": "2025-05-12T03:32:19.942Z"
   },
   {
    "duration": 0,
    "start_time": "2025-05-12T03:32:19.943Z"
   },
   {
    "duration": 100,
    "start_time": "2025-05-12T03:32:20.008Z"
   },
   {
    "duration": 0,
    "start_time": "2025-05-12T03:32:20.109Z"
   },
   {
    "duration": 0,
    "start_time": "2025-05-12T03:32:20.111Z"
   },
   {
    "duration": 0,
    "start_time": "2025-05-12T03:32:20.112Z"
   },
   {
    "duration": 0,
    "start_time": "2025-05-12T03:32:20.113Z"
   },
   {
    "duration": 0,
    "start_time": "2025-05-12T03:32:20.114Z"
   },
   {
    "duration": 0,
    "start_time": "2025-05-12T03:32:20.115Z"
   },
   {
    "duration": 0,
    "start_time": "2025-05-12T03:32:20.116Z"
   },
   {
    "duration": 0,
    "start_time": "2025-05-12T03:32:20.117Z"
   },
   {
    "duration": 0,
    "start_time": "2025-05-12T03:32:20.118Z"
   },
   {
    "duration": 0,
    "start_time": "2025-05-12T03:32:20.119Z"
   },
   {
    "duration": 0,
    "start_time": "2025-05-12T03:32:20.121Z"
   },
   {
    "duration": 0,
    "start_time": "2025-05-12T03:32:20.122Z"
   },
   {
    "duration": 0,
    "start_time": "2025-05-12T03:32:20.123Z"
   },
   {
    "duration": 0,
    "start_time": "2025-05-12T03:32:20.125Z"
   },
   {
    "duration": 0,
    "start_time": "2025-05-12T03:32:20.125Z"
   },
   {
    "duration": 375,
    "start_time": "2025-05-12T03:32:35.463Z"
   },
   {
    "duration": 471,
    "start_time": "2025-05-12T03:32:35.843Z"
   },
   {
    "duration": 71,
    "start_time": "2025-05-12T03:32:40.364Z"
   },
   {
    "duration": 76,
    "start_time": "2025-05-12T03:33:11.367Z"
   },
   {
    "duration": 78,
    "start_time": "2025-05-12T03:33:29.791Z"
   },
   {
    "duration": 83,
    "start_time": "2025-05-12T03:33:46.041Z"
   },
   {
    "duration": 435,
    "start_time": "2025-05-12T03:42:36.101Z"
   },
   {
    "duration": 247,
    "start_time": "2025-05-12T03:42:36.538Z"
   },
   {
    "duration": 97,
    "start_time": "2025-05-12T03:42:36.787Z"
   },
   {
    "duration": 31,
    "start_time": "2025-05-12T03:42:36.885Z"
   },
   {
    "duration": 21,
    "start_time": "2025-05-12T03:42:36.918Z"
   },
   {
    "duration": 2201,
    "start_time": "2025-05-12T03:42:36.941Z"
   },
   {
    "duration": 10,
    "start_time": "2025-05-12T03:42:39.143Z"
   },
   {
    "duration": 21,
    "start_time": "2025-05-12T03:42:39.155Z"
   },
   {
    "duration": 18,
    "start_time": "2025-05-12T03:42:39.178Z"
   },
   {
    "duration": 17,
    "start_time": "2025-05-12T03:42:39.197Z"
   },
   {
    "duration": 33,
    "start_time": "2025-05-12T03:42:39.216Z"
   },
   {
    "duration": 35,
    "start_time": "2025-05-12T03:42:39.250Z"
   },
   {
    "duration": 26,
    "start_time": "2025-05-12T03:42:39.287Z"
   },
   {
    "duration": 60,
    "start_time": "2025-05-12T03:42:39.317Z"
   },
   {
    "duration": 9,
    "start_time": "2025-05-12T03:42:39.378Z"
   },
   {
    "duration": 96,
    "start_time": "2025-05-12T03:42:39.389Z"
   },
   {
    "duration": 43,
    "start_time": "2025-05-12T03:42:39.487Z"
   },
   {
    "duration": 17,
    "start_time": "2025-05-12T03:42:39.532Z"
   },
   {
    "duration": 72,
    "start_time": "2025-05-12T03:42:39.551Z"
   },
   {
    "duration": 3,
    "start_time": "2025-05-12T03:42:39.625Z"
   },
   {
    "duration": 26,
    "start_time": "2025-05-12T03:42:39.630Z"
   },
   {
    "duration": 15,
    "start_time": "2025-05-12T03:42:39.658Z"
   },
   {
    "duration": 33,
    "start_time": "2025-05-12T03:42:39.675Z"
   },
   {
    "duration": 10,
    "start_time": "2025-05-12T03:42:39.710Z"
   },
   {
    "duration": 14,
    "start_time": "2025-05-12T03:42:39.722Z"
   },
   {
    "duration": 51,
    "start_time": "2025-05-12T03:42:39.738Z"
   },
   {
    "duration": 23,
    "start_time": "2025-05-12T03:42:39.791Z"
   },
   {
    "duration": 31,
    "start_time": "2025-05-12T03:42:39.816Z"
   },
   {
    "duration": 28,
    "start_time": "2025-05-12T03:42:39.849Z"
   },
   {
    "duration": 3,
    "start_time": "2025-05-12T03:42:39.880Z"
   },
   {
    "duration": 376,
    "start_time": "2025-05-12T03:42:39.885Z"
   },
   {
    "duration": 24,
    "start_time": "2025-05-12T03:42:40.262Z"
   },
   {
    "duration": 17,
    "start_time": "2025-05-12T03:42:40.288Z"
   },
   {
    "duration": 131,
    "start_time": "2025-05-12T03:42:40.308Z"
   },
   {
    "duration": 145,
    "start_time": "2025-05-12T03:42:40.440Z"
   },
   {
    "duration": 19,
    "start_time": "2025-05-12T03:42:40.587Z"
   },
   {
    "duration": 21,
    "start_time": "2025-05-12T03:42:40.608Z"
   },
   {
    "duration": 27,
    "start_time": "2025-05-12T03:42:40.631Z"
   },
   {
    "duration": 2,
    "start_time": "2025-05-12T03:42:40.661Z"
   },
   {
    "duration": 24,
    "start_time": "2025-05-12T03:42:40.665Z"
   },
   {
    "duration": 1743,
    "start_time": "2025-05-12T03:42:40.694Z"
   },
   {
    "duration": 163,
    "start_time": "2025-05-12T03:42:42.439Z"
   },
   {
    "duration": 3,
    "start_time": "2025-05-12T03:42:42.603Z"
   },
   {
    "duration": 56,
    "start_time": "2025-05-12T03:42:42.607Z"
   },
   {
    "duration": 42,
    "start_time": "2025-05-12T03:42:42.664Z"
   },
   {
    "duration": 2,
    "start_time": "2025-05-12T03:42:42.708Z"
   },
   {
    "duration": 54,
    "start_time": "2025-05-12T03:42:42.712Z"
   },
   {
    "duration": 63,
    "start_time": "2025-05-12T03:42:42.767Z"
   },
   {
    "duration": 5,
    "start_time": "2025-05-12T03:42:42.831Z"
   },
   {
    "duration": 65,
    "start_time": "2025-05-12T03:42:42.838Z"
   },
   {
    "duration": 3,
    "start_time": "2025-05-12T03:42:42.904Z"
   },
   {
    "duration": 146,
    "start_time": "2025-05-12T03:42:42.908Z"
   },
   {
    "duration": 3,
    "start_time": "2025-05-12T03:42:43.055Z"
   },
   {
    "duration": 175,
    "start_time": "2025-05-12T03:42:43.059Z"
   },
   {
    "duration": 40,
    "start_time": "2025-05-12T03:42:43.236Z"
   },
   {
    "duration": 3,
    "start_time": "2025-05-12T03:42:43.278Z"
   },
   {
    "duration": 27,
    "start_time": "2025-05-12T03:42:43.282Z"
   },
   {
    "duration": 22,
    "start_time": "2025-05-12T03:42:43.310Z"
   },
   {
    "duration": 22,
    "start_time": "2025-05-12T03:42:43.334Z"
   },
   {
    "duration": 3,
    "start_time": "2025-05-12T03:42:43.358Z"
   },
   {
    "duration": 17,
    "start_time": "2025-05-12T03:42:43.363Z"
   },
   {
    "duration": 68,
    "start_time": "2025-05-12T03:42:43.382Z"
   },
   {
    "duration": 42,
    "start_time": "2025-05-12T03:42:43.452Z"
   },
   {
    "duration": 3,
    "start_time": "2025-05-12T03:42:43.495Z"
   },
   {
    "duration": 38,
    "start_time": "2025-05-12T03:42:43.500Z"
   },
   {
    "duration": 3,
    "start_time": "2025-05-12T03:42:43.539Z"
   },
   {
    "duration": 25,
    "start_time": "2025-05-12T03:42:43.543Z"
   },
   {
    "duration": 3,
    "start_time": "2025-05-12T03:42:43.569Z"
   },
   {
    "duration": 13,
    "start_time": "2025-05-12T03:42:43.573Z"
   },
   {
    "duration": 3,
    "start_time": "2025-05-12T03:42:43.587Z"
   },
   {
    "duration": 4,
    "start_time": "2025-05-12T03:42:43.592Z"
   },
   {
    "duration": 23,
    "start_time": "2025-05-12T03:42:43.604Z"
   },
   {
    "duration": 4,
    "start_time": "2025-05-12T03:42:43.629Z"
   },
   {
    "duration": 12,
    "start_time": "2025-05-12T03:42:43.635Z"
   },
   {
    "duration": 12,
    "start_time": "2025-05-12T03:42:43.649Z"
   },
   {
    "duration": 12,
    "start_time": "2025-05-12T03:42:43.663Z"
   },
   {
    "duration": 5,
    "start_time": "2025-05-12T03:42:43.677Z"
   },
   {
    "duration": 3,
    "start_time": "2025-05-12T03:42:43.683Z"
   },
   {
    "duration": 49,
    "start_time": "2025-05-12T03:42:43.706Z"
   },
   {
    "duration": 5,
    "start_time": "2025-05-12T03:42:43.756Z"
   },
   {
    "duration": 207,
    "start_time": "2025-05-12T03:42:43.763Z"
   },
   {
    "duration": 2,
    "start_time": "2025-05-12T03:42:43.972Z"
   },
   {
    "duration": 78,
    "start_time": "2025-05-12T03:43:53.035Z"
   },
   {
    "duration": 96,
    "start_time": "2025-05-12T03:46:47.725Z"
   },
   {
    "duration": 75,
    "start_time": "2025-05-12T03:46:51.458Z"
   },
   {
    "duration": 159,
    "start_time": "2025-05-12T04:00:55.148Z"
   },
   {
    "duration": 121,
    "start_time": "2025-05-12T04:04:26.785Z"
   },
   {
    "duration": 3,
    "start_time": "2025-05-12T04:05:10.425Z"
   },
   {
    "duration": 440,
    "start_time": "2025-05-12T04:08:56.434Z"
   },
   {
    "duration": 270,
    "start_time": "2025-05-12T04:08:56.877Z"
   },
   {
    "duration": 99,
    "start_time": "2025-05-12T04:08:57.149Z"
   },
   {
    "duration": 31,
    "start_time": "2025-05-12T04:08:57.250Z"
   },
   {
    "duration": 29,
    "start_time": "2025-05-12T04:08:57.285Z"
   },
   {
    "duration": 2091,
    "start_time": "2025-05-12T04:08:57.315Z"
   },
   {
    "duration": 10,
    "start_time": "2025-05-12T04:08:59.408Z"
   },
   {
    "duration": 4,
    "start_time": "2025-05-12T04:08:59.420Z"
   },
   {
    "duration": 5,
    "start_time": "2025-05-12T04:08:59.425Z"
   },
   {
    "duration": 17,
    "start_time": "2025-05-12T04:08:59.432Z"
   },
   {
    "duration": 13,
    "start_time": "2025-05-12T04:08:59.450Z"
   },
   {
    "duration": 104,
    "start_time": "2025-05-12T04:08:59.464Z"
   },
   {
    "duration": 9,
    "start_time": "2025-05-12T04:08:59.569Z"
   },
   {
    "duration": 13,
    "start_time": "2025-05-12T04:08:59.581Z"
   },
   {
    "duration": 6,
    "start_time": "2025-05-12T04:08:59.595Z"
   },
   {
    "duration": 13,
    "start_time": "2025-05-12T04:08:59.603Z"
   },
   {
    "duration": 44,
    "start_time": "2025-05-12T04:08:59.618Z"
   },
   {
    "duration": 5,
    "start_time": "2025-05-12T04:08:59.664Z"
   },
   {
    "duration": 15,
    "start_time": "2025-05-12T04:08:59.670Z"
   },
   {
    "duration": 37,
    "start_time": "2025-05-12T04:08:59.686Z"
   },
   {
    "duration": 7,
    "start_time": "2025-05-12T04:08:59.725Z"
   },
   {
    "duration": 28,
    "start_time": "2025-05-12T04:08:59.733Z"
   },
   {
    "duration": 13,
    "start_time": "2025-05-12T04:08:59.762Z"
   },
   {
    "duration": 30,
    "start_time": "2025-05-12T04:08:59.777Z"
   },
   {
    "duration": 25,
    "start_time": "2025-05-12T04:08:59.809Z"
   },
   {
    "duration": 378,
    "start_time": "2025-05-12T04:08:59.836Z"
   },
   {
    "duration": 26,
    "start_time": "2025-05-12T04:09:00.215Z"
   },
   {
    "duration": 82,
    "start_time": "2025-05-12T04:09:00.242Z"
   },
   {
    "duration": 46,
    "start_time": "2025-05-12T04:09:00.326Z"
   },
   {
    "duration": 44,
    "start_time": "2025-05-12T04:09:00.373Z"
   },
   {
    "duration": 170,
    "start_time": "2025-05-12T04:09:00.418Z"
   },
   {
    "duration": 105,
    "start_time": "2025-05-12T04:09:00.589Z"
   },
   {
    "duration": 101,
    "start_time": "2025-05-12T04:09:00.696Z"
   },
   {
    "duration": 2,
    "start_time": "2025-05-12T04:09:00.799Z"
   },
   {
    "duration": 41,
    "start_time": "2025-05-12T04:09:00.803Z"
   },
   {
    "duration": 1803,
    "start_time": "2025-05-12T04:09:00.846Z"
   },
   {
    "duration": 169,
    "start_time": "2025-05-12T04:09:02.650Z"
   },
   {
    "duration": 3,
    "start_time": "2025-05-12T04:09:02.820Z"
   },
   {
    "duration": 59,
    "start_time": "2025-05-12T04:09:02.824Z"
   },
   {
    "duration": 45,
    "start_time": "2025-05-12T04:09:02.884Z"
   },
   {
    "duration": 3,
    "start_time": "2025-05-12T04:09:02.933Z"
   },
   {
    "duration": 70,
    "start_time": "2025-05-12T04:09:02.938Z"
   },
   {
    "duration": 45,
    "start_time": "2025-05-12T04:09:03.010Z"
   },
   {
    "duration": 76,
    "start_time": "2025-05-12T04:09:03.057Z"
   },
   {
    "duration": 66,
    "start_time": "2025-05-12T04:09:03.135Z"
   },
   {
    "duration": 3,
    "start_time": "2025-05-12T04:09:03.202Z"
   },
   {
    "duration": 145,
    "start_time": "2025-05-12T04:09:03.206Z"
   },
   {
    "duration": 2,
    "start_time": "2025-05-12T04:09:03.353Z"
   },
   {
    "duration": 176,
    "start_time": "2025-05-12T04:09:03.356Z"
   },
   {
    "duration": 48,
    "start_time": "2025-05-12T04:09:03.534Z"
   },
   {
    "duration": 21,
    "start_time": "2025-05-12T04:09:03.584Z"
   },
   {
    "duration": 15,
    "start_time": "2025-05-12T04:09:03.607Z"
   },
   {
    "duration": 16,
    "start_time": "2025-05-12T04:09:03.623Z"
   },
   {
    "duration": 24,
    "start_time": "2025-05-12T04:09:03.641Z"
   },
   {
    "duration": 3,
    "start_time": "2025-05-12T04:09:03.667Z"
   },
   {
    "duration": 33,
    "start_time": "2025-05-12T04:09:03.671Z"
   },
   {
    "duration": 28,
    "start_time": "2025-05-12T04:09:03.706Z"
   },
   {
    "duration": 37,
    "start_time": "2025-05-12T04:09:03.736Z"
   },
   {
    "duration": 3,
    "start_time": "2025-05-12T04:09:03.776Z"
   },
   {
    "duration": 27,
    "start_time": "2025-05-12T04:09:03.781Z"
   },
   {
    "duration": 3,
    "start_time": "2025-05-12T04:09:03.810Z"
   },
   {
    "duration": 24,
    "start_time": "2025-05-12T04:09:03.815Z"
   },
   {
    "duration": 18,
    "start_time": "2025-05-12T04:09:03.841Z"
   },
   {
    "duration": 16,
    "start_time": "2025-05-12T04:09:03.861Z"
   },
   {
    "duration": 5,
    "start_time": "2025-05-12T04:09:03.879Z"
   },
   {
    "duration": 25,
    "start_time": "2025-05-12T04:09:03.886Z"
   },
   {
    "duration": 28,
    "start_time": "2025-05-12T04:09:03.913Z"
   },
   {
    "duration": 4,
    "start_time": "2025-05-12T04:09:03.943Z"
   },
   {
    "duration": 28,
    "start_time": "2025-05-12T04:09:03.949Z"
   },
   {
    "duration": 49,
    "start_time": "2025-05-12T04:09:03.979Z"
   },
   {
    "duration": 29,
    "start_time": "2025-05-12T04:09:04.030Z"
   },
   {
    "duration": 29,
    "start_time": "2025-05-12T04:09:04.061Z"
   },
   {
    "duration": 44,
    "start_time": "2025-05-12T04:09:04.092Z"
   },
   {
    "duration": 177,
    "start_time": "2025-05-12T04:09:04.138Z"
   },
   {
    "duration": 5,
    "start_time": "2025-05-12T04:09:04.317Z"
   },
   {
    "duration": 235,
    "start_time": "2025-05-12T04:09:04.324Z"
   },
   {
    "duration": 2,
    "start_time": "2025-05-12T04:09:04.561Z"
   },
   {
    "duration": 4,
    "start_time": "2025-05-12T04:18:47.400Z"
   },
   {
    "duration": 71,
    "start_time": "2025-05-12T04:19:10.324Z"
   },
   {
    "duration": 74,
    "start_time": "2025-05-12T04:19:13.819Z"
   },
   {
    "duration": 27,
    "start_time": "2025-05-12T04:19:21.250Z"
   },
   {
    "duration": 3,
    "start_time": "2025-05-12T04:24:42.850Z"
   },
   {
    "duration": 75,
    "start_time": "2025-05-12T04:28:50.829Z"
   },
   {
    "duration": 129,
    "start_time": "2025-05-12T04:42:11.197Z"
   },
   {
    "duration": 75,
    "start_time": "2025-05-12T04:48:24.003Z"
   },
   {
    "duration": 331,
    "start_time": "2025-05-12T04:49:25.329Z"
   },
   {
    "duration": 87,
    "start_time": "2025-05-12T04:52:41.644Z"
   },
   {
    "duration": 238,
    "start_time": "2025-05-12T04:52:48.462Z"
   },
   {
    "duration": 218,
    "start_time": "2025-05-12T04:53:06.777Z"
   },
   {
    "duration": 322,
    "start_time": "2025-05-12T04:54:10.571Z"
   },
   {
    "duration": 228,
    "start_time": "2025-05-12T04:54:53.677Z"
   },
   {
    "duration": 232,
    "start_time": "2025-05-12T04:54:59.259Z"
   },
   {
    "duration": 229,
    "start_time": "2025-05-12T04:55:05.127Z"
   },
   {
    "duration": 241,
    "start_time": "2025-05-12T05:02:56.043Z"
   },
   {
    "duration": 239,
    "start_time": "2025-05-12T05:03:29.506Z"
   },
   {
    "duration": 384,
    "start_time": "2025-05-12T05:06:44.991Z"
   },
   {
    "duration": 232,
    "start_time": "2025-05-12T05:07:24.021Z"
   },
   {
    "duration": 214,
    "start_time": "2025-05-12T05:08:23.651Z"
   },
   {
    "duration": 219,
    "start_time": "2025-05-12T05:10:13.541Z"
   },
   {
    "duration": 217,
    "start_time": "2025-05-12T05:11:51.380Z"
   },
   {
    "duration": 238,
    "start_time": "2025-05-12T05:12:00.067Z"
   },
   {
    "duration": 237,
    "start_time": "2025-05-12T05:14:09.663Z"
   },
   {
    "duration": 4,
    "start_time": "2025-05-12T05:15:27.006Z"
   },
   {
    "duration": 17,
    "start_time": "2025-05-12T05:15:39.914Z"
   },
   {
    "duration": 3,
    "start_time": "2025-05-12T05:16:11.995Z"
   },
   {
    "duration": 236,
    "start_time": "2025-05-12T05:17:06.912Z"
   },
   {
    "duration": 230,
    "start_time": "2025-05-12T05:17:47.083Z"
   },
   {
    "duration": 220,
    "start_time": "2025-05-12T05:18:09.316Z"
   },
   {
    "duration": 189,
    "start_time": "2025-05-12T05:18:23.133Z"
   },
   {
    "duration": 417,
    "start_time": "2025-05-12T05:18:31.333Z"
   },
   {
    "duration": 254,
    "start_time": "2025-05-12T05:18:31.752Z"
   },
   {
    "duration": 101,
    "start_time": "2025-05-12T05:18:32.008Z"
   },
   {
    "duration": 31,
    "start_time": "2025-05-12T05:18:32.111Z"
   },
   {
    "duration": 17,
    "start_time": "2025-05-12T05:18:32.145Z"
   },
   {
    "duration": 2152,
    "start_time": "2025-05-12T05:18:32.163Z"
   },
   {
    "duration": 10,
    "start_time": "2025-05-12T05:18:34.317Z"
   },
   {
    "duration": 17,
    "start_time": "2025-05-12T05:18:34.329Z"
   },
   {
    "duration": 18,
    "start_time": "2025-05-12T05:18:34.348Z"
   },
   {
    "duration": 18,
    "start_time": "2025-05-12T05:18:34.368Z"
   },
   {
    "duration": 30,
    "start_time": "2025-05-12T05:18:34.388Z"
   },
   {
    "duration": 140,
    "start_time": "2025-05-12T05:18:34.419Z"
   },
   {
    "duration": 8,
    "start_time": "2025-05-12T05:18:34.561Z"
   },
   {
    "duration": 24,
    "start_time": "2025-05-12T05:18:34.572Z"
   },
   {
    "duration": 17,
    "start_time": "2025-05-12T05:18:34.598Z"
   },
   {
    "duration": 22,
    "start_time": "2025-05-12T05:18:34.617Z"
   },
   {
    "duration": 48,
    "start_time": "2025-05-12T05:18:34.641Z"
   },
   {
    "duration": 6,
    "start_time": "2025-05-12T05:18:34.691Z"
   },
   {
    "duration": 18,
    "start_time": "2025-05-12T05:18:34.699Z"
   },
   {
    "duration": 34,
    "start_time": "2025-05-12T05:18:34.719Z"
   },
   {
    "duration": 105,
    "start_time": "2025-05-12T05:18:34.754Z"
   },
   {
    "duration": 36,
    "start_time": "2025-05-12T05:18:34.860Z"
   },
   {
    "duration": 6,
    "start_time": "2025-05-12T05:18:34.898Z"
   },
   {
    "duration": 37,
    "start_time": "2025-05-12T05:18:34.906Z"
   },
   {
    "duration": 69,
    "start_time": "2025-05-12T05:18:34.945Z"
   },
   {
    "duration": 369,
    "start_time": "2025-05-12T05:18:35.015Z"
   },
   {
    "duration": 30,
    "start_time": "2025-05-12T05:18:35.386Z"
   },
   {
    "duration": 25,
    "start_time": "2025-05-12T05:18:35.418Z"
   },
   {
    "duration": 30,
    "start_time": "2025-05-12T05:18:35.445Z"
   },
   {
    "duration": 5,
    "start_time": "2025-05-12T05:18:35.477Z"
   },
   {
    "duration": 26,
    "start_time": "2025-05-12T05:18:35.484Z"
   },
   {
    "duration": 50,
    "start_time": "2025-05-12T05:18:35.512Z"
   },
   {
    "duration": 20,
    "start_time": "2025-05-12T05:18:35.564Z"
   },
   {
    "duration": 16,
    "start_time": "2025-05-12T05:18:35.586Z"
   },
   {
    "duration": 240,
    "start_time": "2025-05-12T05:18:35.604Z"
   },
   {
    "duration": 252,
    "start_time": "2025-05-12T05:18:35.845Z"
   },
   {
    "duration": 326,
    "start_time": "2025-05-12T05:18:36.099Z"
   },
   {
    "duration": 208,
    "start_time": "2025-05-12T05:18:36.427Z"
   },
   {
    "duration": 160,
    "start_time": "2025-05-12T05:18:36.636Z"
   },
   {
    "duration": 7,
    "start_time": "2025-05-12T05:18:36.798Z"
   },
   {
    "duration": 72,
    "start_time": "2025-05-12T05:18:36.810Z"
   },
   {
    "duration": 38,
    "start_time": "2025-05-12T05:18:36.884Z"
   },
   {
    "duration": 3,
    "start_time": "2025-05-12T05:18:36.924Z"
   },
   {
    "duration": 95,
    "start_time": "2025-05-12T05:18:36.929Z"
   },
   {
    "duration": 44,
    "start_time": "2025-05-12T05:18:37.027Z"
   },
   {
    "duration": 32,
    "start_time": "2025-05-12T05:18:37.073Z"
   },
   {
    "duration": 36,
    "start_time": "2025-05-12T05:18:37.108Z"
   },
   {
    "duration": 3,
    "start_time": "2025-05-12T05:18:37.146Z"
   },
   {
    "duration": 209,
    "start_time": "2025-05-12T05:18:37.151Z"
   },
   {
    "duration": 2,
    "start_time": "2025-05-12T05:18:37.363Z"
   },
   {
    "duration": 177,
    "start_time": "2025-05-12T05:18:37.366Z"
   },
   {
    "duration": 38,
    "start_time": "2025-05-12T05:18:37.545Z"
   },
   {
    "duration": 3,
    "start_time": "2025-05-12T05:18:37.584Z"
   },
   {
    "duration": 33,
    "start_time": "2025-05-12T05:18:37.605Z"
   },
   {
    "duration": 4,
    "start_time": "2025-05-12T05:18:37.640Z"
   },
   {
    "duration": 23,
    "start_time": "2025-05-12T05:18:37.646Z"
   },
   {
    "duration": 4,
    "start_time": "2025-05-12T05:18:37.671Z"
   },
   {
    "duration": 91,
    "start_time": "2025-05-12T05:18:37.677Z"
   },
   {
    "duration": 49,
    "start_time": "2025-05-12T05:18:37.770Z"
   },
   {
    "duration": 31,
    "start_time": "2025-05-12T05:18:37.820Z"
   },
   {
    "duration": 3,
    "start_time": "2025-05-12T05:18:37.853Z"
   },
   {
    "duration": 22,
    "start_time": "2025-05-12T05:18:37.858Z"
   },
   {
    "duration": 2,
    "start_time": "2025-05-12T05:18:37.882Z"
   },
   {
    "duration": 21,
    "start_time": "2025-05-12T05:18:37.886Z"
   },
   {
    "duration": 36,
    "start_time": "2025-05-12T05:18:37.909Z"
   },
   {
    "duration": 21,
    "start_time": "2025-05-12T05:18:37.946Z"
   },
   {
    "duration": 2,
    "start_time": "2025-05-12T05:18:37.969Z"
   },
   {
    "duration": 21,
    "start_time": "2025-05-12T05:18:37.973Z"
   },
   {
    "duration": 25,
    "start_time": "2025-05-12T05:18:37.996Z"
   },
   {
    "duration": 4,
    "start_time": "2025-05-12T05:18:38.023Z"
   },
   {
    "duration": 36,
    "start_time": "2025-05-12T05:18:38.028Z"
   },
   {
    "duration": 12,
    "start_time": "2025-05-12T05:18:38.066Z"
   },
   {
    "duration": 8,
    "start_time": "2025-05-12T05:18:38.080Z"
   },
   {
    "duration": 6,
    "start_time": "2025-05-12T05:18:38.089Z"
   },
   {
    "duration": 10,
    "start_time": "2025-05-12T05:18:38.096Z"
   },
   {
    "duration": 69,
    "start_time": "2025-05-12T05:18:38.108Z"
   },
   {
    "duration": 6,
    "start_time": "2025-05-12T05:18:38.179Z"
   },
   {
    "duration": 187,
    "start_time": "2025-05-12T05:18:38.186Z"
   },
   {
    "duration": 2,
    "start_time": "2025-05-12T05:18:38.375Z"
   },
   {
    "duration": 380,
    "start_time": "2025-05-12T05:19:16.111Z"
   },
   {
    "duration": 162,
    "start_time": "2025-05-12T05:22:04.501Z"
   },
   {
    "duration": 213,
    "start_time": "2025-05-12T05:22:28.755Z"
   },
   {
    "duration": 204,
    "start_time": "2025-05-12T05:22:41.646Z"
   },
   {
    "duration": 412,
    "start_time": "2025-05-12T05:24:35.812Z"
   },
   {
    "duration": 302,
    "start_time": "2025-05-12T05:25:16.054Z"
   },
   {
    "duration": 288,
    "start_time": "2025-05-12T05:25:37.291Z"
   },
   {
    "duration": 297,
    "start_time": "2025-05-12T05:25:59.400Z"
   },
   {
    "duration": 283,
    "start_time": "2025-05-12T05:26:08.190Z"
   },
   {
    "duration": 293,
    "start_time": "2025-05-12T05:26:16.925Z"
   },
   {
    "duration": 439,
    "start_time": "2025-05-12T05:26:21.994Z"
   },
   {
    "duration": 324,
    "start_time": "2025-05-12T05:26:50.568Z"
   },
   {
    "duration": 224,
    "start_time": "2025-05-12T05:27:03.915Z"
   },
   {
    "duration": 270,
    "start_time": "2025-05-12T05:27:10.533Z"
   },
   {
    "duration": 192,
    "start_time": "2025-05-12T05:32:19.615Z"
   },
   {
    "duration": 210,
    "start_time": "2025-05-12T05:32:38.993Z"
   },
   {
    "duration": 229,
    "start_time": "2025-05-12T05:33:03.991Z"
   },
   {
    "duration": 212,
    "start_time": "2025-05-12T05:33:11.395Z"
   },
   {
    "duration": 263,
    "start_time": "2025-05-12T05:33:19.822Z"
   },
   {
    "duration": 282,
    "start_time": "2025-05-12T05:33:28.326Z"
   },
   {
    "duration": 180,
    "start_time": "2025-05-12T05:34:20.111Z"
   },
   {
    "duration": 346,
    "start_time": "2025-05-12T05:35:16.911Z"
   },
   {
    "duration": 169,
    "start_time": "2025-05-12T05:35:33.545Z"
   },
   {
    "duration": 168,
    "start_time": "2025-05-12T05:35:42.233Z"
   },
   {
    "duration": 240,
    "start_time": "2025-05-12T05:37:23.314Z"
   },
   {
    "duration": 199,
    "start_time": "2025-05-12T05:37:40.882Z"
   },
   {
    "duration": 221,
    "start_time": "2025-05-12T05:37:56.318Z"
   },
   {
    "duration": 235,
    "start_time": "2025-05-12T05:38:02.807Z"
   },
   {
    "duration": 290,
    "start_time": "2025-05-12T05:38:09.491Z"
   },
   {
    "duration": 294,
    "start_time": "2025-05-12T05:38:33.926Z"
   },
   {
    "duration": 281,
    "start_time": "2025-05-12T05:39:33.985Z"
   },
   {
    "duration": 286,
    "start_time": "2025-05-12T05:39:49.787Z"
   },
   {
    "duration": 436,
    "start_time": "2025-05-12T05:40:07.734Z"
   },
   {
    "duration": 193,
    "start_time": "2025-05-12T05:40:12.669Z"
   },
   {
    "duration": 156,
    "start_time": "2025-05-12T05:40:22.495Z"
   },
   {
    "duration": 150,
    "start_time": "2025-05-12T05:40:30.025Z"
   },
   {
    "duration": 161,
    "start_time": "2025-05-12T05:40:33.704Z"
   },
   {
    "duration": 173,
    "start_time": "2025-05-12T05:41:13.769Z"
   },
   {
    "duration": 148,
    "start_time": "2025-05-12T05:44:31.955Z"
   },
   {
    "duration": 152,
    "start_time": "2025-05-12T05:45:07.905Z"
   },
   {
    "duration": 172,
    "start_time": "2025-05-12T05:46:56.517Z"
   },
   {
    "duration": 221,
    "start_time": "2025-05-12T05:47:17.202Z"
   },
   {
    "duration": 217,
    "start_time": "2025-05-12T05:47:23.424Z"
   },
   {
    "duration": 171,
    "start_time": "2025-05-12T05:47:35.136Z"
   },
   {
    "duration": 175,
    "start_time": "2025-05-12T05:48:41.758Z"
   },
   {
    "duration": 162,
    "start_time": "2025-05-12T05:54:53.623Z"
   },
   {
    "duration": 277,
    "start_time": "2025-05-12T05:55:12.247Z"
   },
   {
    "duration": 272,
    "start_time": "2025-05-12T05:55:24.633Z"
   },
   {
    "duration": 239,
    "start_time": "2025-05-12T05:55:38.330Z"
   },
   {
    "duration": 275,
    "start_time": "2025-05-12T05:55:45.281Z"
   },
   {
    "duration": 318,
    "start_time": "2025-05-12T05:55:54.435Z"
   },
   {
    "duration": 554,
    "start_time": "2025-05-12T05:56:17.180Z"
   },
   {
    "duration": 313,
    "start_time": "2025-05-12T05:56:23.270Z"
   },
   {
    "duration": 254,
    "start_time": "2025-05-12T05:56:35.093Z"
   },
   {
    "duration": 252,
    "start_time": "2025-05-12T05:56:56.122Z"
   },
   {
    "duration": 250,
    "start_time": "2025-05-12T05:57:18.694Z"
   },
   {
    "duration": 251,
    "start_time": "2025-05-12T05:58:40.565Z"
   },
   {
    "duration": 92,
    "start_time": "2025-05-12T05:59:42.178Z"
   },
   {
    "duration": 257,
    "start_time": "2025-05-12T06:00:19.254Z"
   },
   {
    "duration": 293,
    "start_time": "2025-05-12T06:00:27.519Z"
   },
   {
    "duration": 311,
    "start_time": "2025-05-12T06:00:36.328Z"
   },
   {
    "duration": 344,
    "start_time": "2025-05-12T06:00:44.635Z"
   },
   {
    "duration": 337,
    "start_time": "2025-05-12T06:02:40.972Z"
   },
   {
    "duration": 165,
    "start_time": "2025-05-12T06:03:39.865Z"
   },
   {
    "duration": 220,
    "start_time": "2025-05-12T06:05:03.339Z"
   },
   {
    "duration": 133,
    "start_time": "2025-05-12T06:07:20.009Z"
   },
   {
    "duration": 135,
    "start_time": "2025-05-12T06:07:27.744Z"
   },
   {
    "duration": 175,
    "start_time": "2025-05-12T06:08:18.973Z"
   },
   {
    "duration": 230,
    "start_time": "2025-05-12T06:09:48.071Z"
   },
   {
    "duration": 190,
    "start_time": "2025-05-12T06:12:16.537Z"
   },
   {
    "duration": 316,
    "start_time": "2025-05-12T06:12:34.899Z"
   },
   {
    "duration": 243,
    "start_time": "2025-05-12T06:12:49.064Z"
   },
   {
    "duration": 582,
    "start_time": "2025-05-12T06:15:18.099Z"
   },
   {
    "duration": 87,
    "start_time": "2025-05-12T06:15:50.513Z"
   },
   {
    "duration": 293,
    "start_time": "2025-05-12T06:16:15.085Z"
   },
   {
    "duration": 3,
    "start_time": "2025-05-12T06:19:17.320Z"
   },
   {
    "duration": 86,
    "start_time": "2025-05-12T06:24:15.686Z"
   },
   {
    "duration": 77,
    "start_time": "2025-05-12T06:29:16.579Z"
   },
   {
    "duration": 105,
    "start_time": "2025-05-12T06:31:18.550Z"
   },
   {
    "duration": 3,
    "start_time": "2025-05-12T06:32:25.640Z"
   },
   {
    "duration": 3,
    "start_time": "2025-05-12T06:34:54.208Z"
   },
   {
    "duration": 324,
    "start_time": "2025-05-12T06:37:17.219Z"
   },
   {
    "duration": 313,
    "start_time": "2025-05-12T06:37:22.692Z"
   },
   {
    "duration": 6,
    "start_time": "2025-05-12T06:37:30.017Z"
   },
   {
    "duration": 311,
    "start_time": "2025-05-12T06:37:31.043Z"
   },
   {
    "duration": 196,
    "start_time": "2025-05-12T06:37:46.378Z"
   },
   {
    "duration": 96,
    "start_time": "2025-05-12T06:38:20.533Z"
   },
   {
    "duration": 468,
    "start_time": "2025-05-12T06:39:06.096Z"
   },
   {
    "duration": 279,
    "start_time": "2025-05-12T06:39:06.566Z"
   },
   {
    "duration": 109,
    "start_time": "2025-05-12T06:39:06.846Z"
   },
   {
    "duration": 30,
    "start_time": "2025-05-12T06:39:06.957Z"
   },
   {
    "duration": 29,
    "start_time": "2025-05-12T06:39:06.989Z"
   },
   {
    "duration": 2118,
    "start_time": "2025-05-12T06:39:07.020Z"
   },
   {
    "duration": 11,
    "start_time": "2025-05-12T06:39:09.139Z"
   },
   {
    "duration": 40,
    "start_time": "2025-05-12T06:39:09.151Z"
   },
   {
    "duration": 15,
    "start_time": "2025-05-12T06:39:09.192Z"
   },
   {
    "duration": 16,
    "start_time": "2025-05-12T06:39:09.210Z"
   },
   {
    "duration": 14,
    "start_time": "2025-05-12T06:39:09.228Z"
   },
   {
    "duration": 42,
    "start_time": "2025-05-12T06:39:09.243Z"
   },
   {
    "duration": 21,
    "start_time": "2025-05-12T06:39:09.287Z"
   },
   {
    "duration": 20,
    "start_time": "2025-05-12T06:39:09.310Z"
   },
   {
    "duration": 9,
    "start_time": "2025-05-12T06:39:09.332Z"
   },
   {
    "duration": 21,
    "start_time": "2025-05-12T06:39:09.343Z"
   },
   {
    "duration": 58,
    "start_time": "2025-05-12T06:39:09.366Z"
   },
   {
    "duration": 5,
    "start_time": "2025-05-12T06:39:09.426Z"
   },
   {
    "duration": 17,
    "start_time": "2025-05-12T06:39:09.433Z"
   },
   {
    "duration": 43,
    "start_time": "2025-05-12T06:39:09.452Z"
   },
   {
    "duration": 15,
    "start_time": "2025-05-12T06:39:09.497Z"
   },
   {
    "duration": 43,
    "start_time": "2025-05-12T06:39:09.514Z"
   },
   {
    "duration": 86,
    "start_time": "2025-05-12T06:39:09.559Z"
   },
   {
    "duration": 34,
    "start_time": "2025-05-12T06:39:09.647Z"
   },
   {
    "duration": 26,
    "start_time": "2025-05-12T06:39:09.683Z"
   },
   {
    "duration": 359,
    "start_time": "2025-05-12T06:39:09.711Z"
   },
   {
    "duration": 24,
    "start_time": "2025-05-12T06:39:10.072Z"
   },
   {
    "duration": 65,
    "start_time": "2025-05-12T06:39:10.108Z"
   },
   {
    "duration": 29,
    "start_time": "2025-05-12T06:39:10.175Z"
   },
   {
    "duration": 4,
    "start_time": "2025-05-12T06:39:10.206Z"
   },
   {
    "duration": 28,
    "start_time": "2025-05-12T06:39:10.211Z"
   },
   {
    "duration": 26,
    "start_time": "2025-05-12T06:39:10.241Z"
   },
   {
    "duration": 19,
    "start_time": "2025-05-12T06:39:10.269Z"
   },
   {
    "duration": 1725,
    "start_time": "2025-05-12T06:39:10.289Z"
   },
   {
    "duration": 249,
    "start_time": "2025-05-12T06:39:12.016Z"
   },
   {
    "duration": 230,
    "start_time": "2025-05-12T06:39:12.267Z"
   },
   {
    "duration": 238,
    "start_time": "2025-05-12T06:39:12.499Z"
   },
   {
    "duration": 292,
    "start_time": "2025-05-12T06:39:12.739Z"
   },
   {
    "duration": 190,
    "start_time": "2025-05-12T06:39:13.034Z"
   },
   {
    "duration": 172,
    "start_time": "2025-05-12T06:39:13.227Z"
   },
   {
    "duration": 267,
    "start_time": "2025-05-12T06:39:13.405Z"
   },
   {
    "duration": 193,
    "start_time": "2025-05-12T06:39:13.675Z"
   },
   {
    "duration": 269,
    "start_time": "2025-05-12T06:39:13.870Z"
   },
   {
    "duration": 338,
    "start_time": "2025-05-12T06:39:14.141Z"
   },
   {
    "duration": 49,
    "start_time": "2025-05-12T06:39:14.481Z"
   },
   {
    "duration": 38,
    "start_time": "2025-05-12T06:39:14.531Z"
   },
   {
    "duration": 71,
    "start_time": "2025-05-12T06:39:14.571Z"
   },
   {
    "duration": 41,
    "start_time": "2025-05-12T06:39:14.644Z"
   },
   {
    "duration": 21,
    "start_time": "2025-05-12T06:39:14.687Z"
   },
   {
    "duration": 87,
    "start_time": "2025-05-12T06:39:14.710Z"
   },
   {
    "duration": 207,
    "start_time": "2025-05-12T06:39:14.798Z"
   },
   {
    "duration": 298,
    "start_time": "2025-05-12T06:39:15.009Z"
   },
   {
    "duration": 37,
    "start_time": "2025-05-12T06:39:15.309Z"
   },
   {
    "duration": 19,
    "start_time": "2025-05-12T06:39:15.348Z"
   },
   {
    "duration": 41,
    "start_time": "2025-05-12T06:39:15.368Z"
   },
   {
    "duration": 49,
    "start_time": "2025-05-12T06:39:15.410Z"
   },
   {
    "duration": 34,
    "start_time": "2025-05-12T06:39:15.460Z"
   },
   {
    "duration": 16,
    "start_time": "2025-05-12T06:39:15.496Z"
   },
   {
    "duration": 14,
    "start_time": "2025-05-12T06:39:15.514Z"
   },
   {
    "duration": 11,
    "start_time": "2025-05-12T06:39:15.529Z"
   },
   {
    "duration": 108,
    "start_time": "2025-05-12T06:39:15.542Z"
   },
   {
    "duration": 9,
    "start_time": "2025-05-12T06:39:15.652Z"
   },
   {
    "duration": 19,
    "start_time": "2025-05-12T06:39:15.663Z"
   },
   {
    "duration": 8,
    "start_time": "2025-05-12T06:39:15.684Z"
   },
   {
    "duration": 15,
    "start_time": "2025-05-12T06:39:15.694Z"
   },
   {
    "duration": 48,
    "start_time": "2025-05-12T06:39:15.711Z"
   },
   {
    "duration": 5,
    "start_time": "2025-05-12T06:39:15.761Z"
   },
   {
    "duration": 299,
    "start_time": "2025-05-12T06:39:15.768Z"
   },
   {
    "duration": 3,
    "start_time": "2025-05-12T06:41:02.834Z"
   },
   {
    "duration": 448,
    "start_time": "2025-05-12T19:30:48.342Z"
   },
   {
    "duration": 246,
    "start_time": "2025-05-12T19:30:48.792Z"
   },
   {
    "duration": 125,
    "start_time": "2025-05-12T19:30:49.040Z"
   },
   {
    "duration": 25,
    "start_time": "2025-05-12T19:30:49.167Z"
   },
   {
    "duration": 13,
    "start_time": "2025-05-12T19:30:49.194Z"
   },
   {
    "duration": 1715,
    "start_time": "2025-05-12T19:30:49.209Z"
   },
   {
    "duration": 10,
    "start_time": "2025-05-12T19:30:50.925Z"
   },
   {
    "duration": 8,
    "start_time": "2025-05-12T19:30:50.936Z"
   },
   {
    "duration": 4,
    "start_time": "2025-05-12T19:30:50.945Z"
   },
   {
    "duration": 30,
    "start_time": "2025-05-12T19:30:50.952Z"
   },
   {
    "duration": 10,
    "start_time": "2025-05-12T19:30:50.984Z"
   },
   {
    "duration": 35,
    "start_time": "2025-05-12T19:30:50.995Z"
   },
   {
    "duration": 39,
    "start_time": "2025-05-12T19:30:51.032Z"
   },
   {
    "duration": 6,
    "start_time": "2025-05-12T19:30:51.072Z"
   },
   {
    "duration": 7,
    "start_time": "2025-05-12T19:30:51.079Z"
   },
   {
    "duration": 17,
    "start_time": "2025-05-12T19:30:51.088Z"
   },
   {
    "duration": 64,
    "start_time": "2025-05-12T19:30:51.107Z"
   },
   {
    "duration": 6,
    "start_time": "2025-05-12T19:30:51.172Z"
   },
   {
    "duration": 13,
    "start_time": "2025-05-12T19:30:51.179Z"
   },
   {
    "duration": 20,
    "start_time": "2025-05-12T19:30:51.193Z"
   },
   {
    "duration": 6,
    "start_time": "2025-05-12T19:30:51.214Z"
   },
   {
    "duration": 49,
    "start_time": "2025-05-12T19:30:51.222Z"
   },
   {
    "duration": 4,
    "start_time": "2025-05-12T19:30:51.273Z"
   },
   {
    "duration": 11,
    "start_time": "2025-05-12T19:30:51.278Z"
   },
   {
    "duration": 21,
    "start_time": "2025-05-12T19:30:51.290Z"
   },
   {
    "duration": 331,
    "start_time": "2025-05-12T19:30:51.312Z"
   },
   {
    "duration": 30,
    "start_time": "2025-05-12T19:30:51.645Z"
   },
   {
    "duration": 4,
    "start_time": "2025-05-12T19:30:51.678Z"
   },
   {
    "duration": 17,
    "start_time": "2025-05-12T19:30:51.683Z"
   },
   {
    "duration": 4,
    "start_time": "2025-05-12T19:30:51.701Z"
   },
   {
    "duration": 21,
    "start_time": "2025-05-12T19:30:51.706Z"
   },
   {
    "duration": 21,
    "start_time": "2025-05-12T19:30:51.729Z"
   },
   {
    "duration": 13,
    "start_time": "2025-05-12T19:30:51.770Z"
   },
   {
    "duration": 3,
    "start_time": "2025-05-12T19:30:51.784Z"
   },
   {
    "duration": 205,
    "start_time": "2025-05-12T19:30:51.788Z"
   },
   {
    "duration": 194,
    "start_time": "2025-05-12T19:30:51.994Z"
   },
   {
    "duration": 280,
    "start_time": "2025-05-12T19:30:52.190Z"
   },
   {
    "duration": 235,
    "start_time": "2025-05-12T19:30:52.472Z"
   },
   {
    "duration": 155,
    "start_time": "2025-05-12T19:30:52.709Z"
   },
   {
    "duration": 155,
    "start_time": "2025-05-12T19:30:52.865Z"
   },
   {
    "duration": 131,
    "start_time": "2025-05-12T19:30:53.022Z"
   },
   {
    "duration": 168,
    "start_time": "2025-05-12T19:30:53.155Z"
   },
   {
    "duration": 219,
    "start_time": "2025-05-12T19:30:53.324Z"
   },
   {
    "duration": 289,
    "start_time": "2025-05-12T19:30:53.544Z"
   },
   {
    "duration": 47,
    "start_time": "2025-05-12T19:30:53.835Z"
   },
   {
    "duration": 33,
    "start_time": "2025-05-12T19:30:53.884Z"
   },
   {
    "duration": 56,
    "start_time": "2025-05-12T19:30:53.919Z"
   },
   {
    "duration": 46,
    "start_time": "2025-05-12T19:30:53.976Z"
   },
   {
    "duration": 59,
    "start_time": "2025-05-12T19:30:54.023Z"
   },
   {
    "duration": 31,
    "start_time": "2025-05-12T19:30:54.084Z"
   },
   {
    "duration": 158,
    "start_time": "2025-05-12T19:30:54.116Z"
   },
   {
    "duration": 333,
    "start_time": "2025-05-12T19:30:54.276Z"
   },
   {
    "duration": 34,
    "start_time": "2025-05-12T19:30:54.611Z"
   },
   {
    "duration": 23,
    "start_time": "2025-05-12T19:30:54.647Z"
   },
   {
    "duration": 51,
    "start_time": "2025-05-12T19:30:54.672Z"
   },
   {
    "duration": 38,
    "start_time": "2025-05-12T19:30:54.724Z"
   },
   {
    "duration": 21,
    "start_time": "2025-05-12T19:30:54.763Z"
   },
   {
    "duration": 16,
    "start_time": "2025-05-12T19:30:54.786Z"
   },
   {
    "duration": 13,
    "start_time": "2025-05-12T19:30:54.803Z"
   },
   {
    "duration": 12,
    "start_time": "2025-05-12T19:30:54.818Z"
   },
   {
    "duration": 57,
    "start_time": "2025-05-12T19:30:54.831Z"
   },
   {
    "duration": 41,
    "start_time": "2025-05-12T19:30:54.889Z"
   },
   {
    "duration": 13,
    "start_time": "2025-05-12T19:30:54.932Z"
   },
   {
    "duration": 5,
    "start_time": "2025-05-12T19:30:54.946Z"
   },
   {
    "duration": 4,
    "start_time": "2025-05-12T19:30:54.952Z"
   },
   {
    "duration": 39,
    "start_time": "2025-05-12T19:30:54.957Z"
   },
   {
    "duration": 4,
    "start_time": "2025-05-12T19:30:54.998Z"
   },
   {
    "duration": 184,
    "start_time": "2025-05-12T19:30:55.004Z"
   },
   {
    "duration": 292,
    "start_time": "2025-05-12T19:38:26.090Z"
   },
   {
    "duration": 340,
    "start_time": "2025-05-12T19:41:14.433Z"
   }
  ],
  "colab": {
   "provenance": []
  },
  "kernelspec": {
   "display_name": "Python 3 (ipykernel)",
   "language": "python",
   "name": "python3"
  },
  "language_info": {
   "codemirror_mode": {
    "name": "ipython",
    "version": 3
   },
   "file_extension": ".py",
   "mimetype": "text/x-python",
   "name": "python",
   "nbconvert_exporter": "python",
   "pygments_lexer": "ipython3",
   "version": "3.9.5"
  },
  "toc": {
   "base_numbering": 1,
   "nav_menu": {},
   "number_sections": true,
   "sideBar": true,
   "skip_h1_title": true,
   "title_cell": "Table of Contents",
   "title_sidebar": "Contents",
   "toc_cell": false,
   "toc_position": {},
   "toc_section_display": true,
   "toc_window_display": false
  }
 },
 "nbformat": 4,
 "nbformat_minor": 1
}
